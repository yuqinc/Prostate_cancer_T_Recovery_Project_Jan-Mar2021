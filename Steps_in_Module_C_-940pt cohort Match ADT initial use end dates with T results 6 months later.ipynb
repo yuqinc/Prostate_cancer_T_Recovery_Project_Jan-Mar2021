{
 "cells": [
  {
   "cell_type": "markdown",
   "metadata": {},
   "source": [
    "# README.md\n",
    "\n",
    "###For each pt with an ADT ending date, find its T date and T value around 6months later"
   ]
  },
  {
   "cell_type": "markdown",
   "metadata": {},
   "source": [
    "# Step1, read from spreadsheet, clean up, and get statistics"
   ]
  },
  {
   "cell_type": "code",
   "execution_count": 2,
   "metadata": {},
   "outputs": [],
   "source": [
    "import numpy as np\n",
    "import pandas as pd\n",
    "import sys, getopt\n",
    "import csv\n",
    "from datetime import datetime\n",
    "from datetime import timedelta, date\n",
    "import itertools\n",
    "\n",
    "from matplotlib import pyplot\n",
    "from pylab import *\n",
    "import matplotlib.pyplot as plt\n",
    "\n",
    "%matplotlib inline  \n",
    "import seaborn as sns"
   ]
  },
  {
   "cell_type": "code",
   "execution_count": 3,
   "metadata": {},
   "outputs": [],
   "source": [
    "df1=pd.read_csv(\"Pt_with_ADT_window_940.csv\", header=0)\n",
    "df1.fillna('', inplace=True)\n",
    "df1['inital_ADT_end_date'] = pd.to_datetime(df1['inital_ADT_end_date'])\n",
    "\n",
    "df2=pd.read_excel(\"pca_tresults_20210119_BP.xlsx\", header=0)\n",
    "#df3=pd.read_csv(\"just_start_empty.csv\", header=0)"
   ]
  },
  {
   "cell_type": "code",
   "execution_count": 10,
   "metadata": {},
   "outputs": [
    {
     "data": {
      "text/html": [
       "<div>\n",
       "<style scoped>\n",
       "    .dataframe tbody tr th:only-of-type {\n",
       "        vertical-align: middle;\n",
       "    }\n",
       "\n",
       "    .dataframe tbody tr th {\n",
       "        vertical-align: top;\n",
       "    }\n",
       "\n",
       "    .dataframe thead th {\n",
       "        text-align: right;\n",
       "    }\n",
       "</style>\n",
       "<table border=\"1\" class=\"dataframe\">\n",
       "  <thead>\n",
       "    <tr style=\"text-align: right;\">\n",
       "      <th></th>\n",
       "      <th>person_id</th>\n",
       "      <th>inital_ADT_start_date</th>\n",
       "      <th>inital_ADT_end_date</th>\n",
       "      <th>Inital_ADT_timewindow</th>\n",
       "      <th>Inital_ADT_time_window_days</th>\n",
       "      <th>index1</th>\n",
       "    </tr>\n",
       "  </thead>\n",
       "  <tbody>\n",
       "    <tr>\n",
       "      <td>0</td>\n",
       "      <td>2</td>\n",
       "      <td>2009-02-26</td>\n",
       "      <td>2017-02-01</td>\n",
       "      <td>2897 days 00:00:00.000000000</td>\n",
       "      <td>2897</td>\n",
       "      <td>0</td>\n",
       "    </tr>\n",
       "  </tbody>\n",
       "</table>\n",
       "</div>"
      ],
      "text/plain": [
       "   person_id inital_ADT_start_date inital_ADT_end_date  \\\n",
       "0          2            2009-02-26          2017-02-01   \n",
       "\n",
       "          Inital_ADT_timewindow Inital_ADT_time_window_days  index1  \n",
       "0  2897 days 00:00:00.000000000                        2897       0  "
      ]
     },
     "execution_count": 10,
     "metadata": {},
     "output_type": "execute_result"
    }
   ],
   "source": [
    "df1[:1]"
   ]
  },
  {
   "cell_type": "code",
   "execution_count": 11,
   "metadata": {},
   "outputs": [
    {
     "data": {
      "text/html": [
       "<div>\n",
       "<style scoped>\n",
       "    .dataframe tbody tr th:only-of-type {\n",
       "        vertical-align: middle;\n",
       "    }\n",
       "\n",
       "    .dataframe tbody tr th {\n",
       "        vertical-align: top;\n",
       "    }\n",
       "\n",
       "    .dataframe thead th {\n",
       "        text-align: right;\n",
       "    }\n",
       "</style>\n",
       "<table border=\"1\" class=\"dataframe\">\n",
       "  <thead>\n",
       "    <tr style=\"text-align: right;\">\n",
       "      <th></th>\n",
       "      <th>person_id</th>\n",
       "      <th>cancer_type_id</th>\n",
       "      <th>year_of_diagnosis</th>\n",
       "      <th>month_of_diagnosis</th>\n",
       "      <th>day_of_diagnosis</th>\n",
       "      <th>dx_date</th>\n",
       "      <th>result_date</th>\n",
       "      <th>loinc_code</th>\n",
       "      <th>source_test_name</th>\n",
       "      <th>test_results</th>\n",
       "    </tr>\n",
       "  </thead>\n",
       "  <tbody>\n",
       "    <tr>\n",
       "      <td>0</td>\n",
       "      <td>2</td>\n",
       "      <td>2</td>\n",
       "      <td>2003</td>\n",
       "      <td>1.0</td>\n",
       "      <td>7.0</td>\n",
       "      <td>2003-01-07</td>\n",
       "      <td>2006-09-05</td>\n",
       "      <td>49041-7</td>\n",
       "      <td>TESTOSTERONE</td>\n",
       "      <td>351</td>\n",
       "    </tr>\n",
       "  </tbody>\n",
       "</table>\n",
       "</div>"
      ],
      "text/plain": [
       "   person_id  cancer_type_id  year_of_diagnosis  month_of_diagnosis  \\\n",
       "0          2               2               2003                 1.0   \n",
       "\n",
       "   day_of_diagnosis    dx_date result_date loinc_code source_test_name  \\\n",
       "0               7.0 2003-01-07  2006-09-05    49041-7     TESTOSTERONE   \n",
       "\n",
       "  test_results  \n",
       "0          351  "
      ]
     },
     "execution_count": 11,
     "metadata": {},
     "output_type": "execute_result"
    }
   ],
   "source": [
    "df2[:1]"
   ]
  },
  {
   "cell_type": "code",
   "execution_count": 12,
   "metadata": {},
   "outputs": [],
   "source": [
    "list_pts_adt_table=df1[\"person_id\"].to_list()\n",
    "list_pts_tvalue_table=df2[\"person_id\"].to_list()"
   ]
  },
  {
   "cell_type": "code",
   "execution_count": 13,
   "metadata": {},
   "outputs": [
    {
     "name": "stdout",
     "output_type": "stream",
     "text": [
      "pt number in adt table is:\n",
      "1514\n",
      "\n",
      "pt number in t value table is:\n",
      "18643\n"
     ]
    }
   ],
   "source": [
    "print(\"pt number in adt table is:\")\n",
    "print(len(list_pts_adt_table))\n",
    "print(\"\")\n",
    "print(\"pt number in t value table is:\")\n",
    "print(len(list_pts_tvalue_table))"
   ]
  },
  {
   "cell_type": "code",
   "execution_count": null,
   "metadata": {},
   "outputs": [],
   "source": [
    "index_list=df2.columns\n",
    "index_list"
   ]
  },
  {
   "cell_type": "code",
   "execution_count": null,
   "metadata": {},
   "outputs": [],
   "source": [
    "print(df2.shape)\n",
    "#delete some useless columns\n",
    "del_col=['cancer_type_id', 'year_of_diagnosis', 'month_of_diagnosis', 'day_of_diagnosis', 'dx_date','loinc_code', 'source_test_name']\n",
    "\n",
    "for col in del_col:\n",
    "    del df2[col]\n",
    "print(df2.shape)"
   ]
  },
  {
   "cell_type": "code",
   "execution_count": null,
   "metadata": {},
   "outputs": [],
   "source": [
    "y=2\n",
    "\n",
    "df1_pt=df1[(df1[\"person_id\"] == y)]\n",
    "df2_pt=df2[(df2[\"person_id\"] == y)]"
   ]
  },
  {
   "cell_type": "code",
   "execution_count": null,
   "metadata": {},
   "outputs": [],
   "source": [
    "df1_pt"
   ]
  },
  {
   "cell_type": "code",
   "execution_count": null,
   "metadata": {},
   "outputs": [],
   "source": [
    "df2_pt"
   ]
  },
  {
   "cell_type": "code",
   "execution_count": null,
   "metadata": {},
   "outputs": [],
   "source": [
    "tvalue=df2_pt.loc[df2_pt['result_date'] == ('2017-02-01 00:00:00')]"
   ]
  },
  {
   "cell_type": "code",
   "execution_count": null,
   "metadata": {},
   "outputs": [],
   "source": [
    "test=df2_pt[:1].test_results.values[0]\n",
    "test"
   ]
  },
  {
   "cell_type": "code",
   "execution_count": null,
   "metadata": {},
   "outputs": [],
   "source": [
    "def closest(lst, K): \n",
    "      return lst[min(range(len(lst)), key = lambda i: abs(lst[i] - K))] "
   ]
  },
  {
   "cell_type": "code",
   "execution_count": null,
   "metadata": {},
   "outputs": [],
   "source": [
    "y=2\n",
    "df1_pt=df1[(df1[\"person_id\"] == y)]\n",
    "a=df1_pt['inital_ADT_end_date'].to_list()[0]\n",
    "a"
   ]
  },
  {
   "cell_type": "code",
   "execution_count": null,
   "metadata": {},
   "outputs": [],
   "source": [
    "a_plus_6mons=a + timedelta(days=180)"
   ]
  },
  {
   "cell_type": "code",
   "execution_count": null,
   "metadata": {},
   "outputs": [],
   "source": [
    "a_plus_6mons"
   ]
  },
  {
   "cell_type": "code",
   "execution_count": null,
   "metadata": {},
   "outputs": [],
   "source": [
    "df2_pt=df2[(df2[\"person_id\"] == 2)]    \n",
    "each_pt_tdates = df2_pt['result_date'].to_list()\n",
    "#each_pt_tdates"
   ]
  },
  {
   "cell_type": "code",
   "execution_count": null,
   "metadata": {},
   "outputs": [],
   "source": [
    "result_list=[]\n",
    "\n",
    "#for y in list_pts:      \n",
    "for y in [2]:\n",
    "    \n",
    "    df1_pt=df1[(df1[\"person_id\"] == y)]\n",
    "    a=df1_pt['inital_ADT_end_date'].to_list()[0]\n",
    "    #add 6 months to the inital ADT end date\n",
    "    a_plus_6mons=a + timedelta(days=180)\n",
    "    #pick up initial ADT window \n",
    "    gap=df1_pt['Inital_ADT_time_window_days'].to_list()[0] \n",
    "    \n",
    "    df2_pt=df2[(df2[\"person_id\"] == y)]    \n",
    "    each_pt_tdates = df2_pt['result_date'].to_list()\n",
    "\n",
    "    ##get rid of nan\n",
    "    cleaned_a=[]\n",
    "    cleaned_a= [x for x in each_pt_tdates if str(x) != 'NaN']\n",
    "    cleaned_aa= [x for x in cleaned_a if str(x) != 'nan']\n",
    "    cleaned_aaa= [x for x in cleaned_aa if str(x) != 'NaT']\n",
    "    \n",
    "    start_sorted_bin=sorted(cleaned_aaa)\n",
    "    \n",
    "    if(len(start_sorted_bin)==0):\n",
    "        tdate='NaN'  \n",
    "\n",
    "    if(len(start_sorted_bin)>0):\n",
    "        #apply the closet function\n",
    "        tdate=closest(start_sorted_bin,a_plus_6mons)\n",
    "        #tvalue=df2_pt.loc[df['result_date'] == tdate].test_result\n",
    "    \n",
    "    #pick up T-value for T-date\n",
    "    df2_pt_pick=df2_pt[(df2_pt['result_date']==tdate)]\n",
    "    tvalue=df2_pt_pick.test_results.values[0]\n",
    "    \n",
    "    print(y, a, gap, a_plus_6mons, tdate, tvalue)\n",
    "    result_per_pt=[y, a, gap, a_plus_6mons, tdate, tvalue]\n",
    "    result_list.append(result_per_pt)"
   ]
  },
  {
   "cell_type": "code",
   "execution_count": null,
   "metadata": {},
   "outputs": [],
   "source": [
    "#do it for all pts in the list\n",
    "#get t values as well\n",
    "#only keep those within 5-7 months"
   ]
  },
  {
   "cell_type": "code",
   "execution_count": null,
   "metadata": {},
   "outputs": [],
   "source": [
    "result_list=[]\n",
    "\n",
    "#for y in list_pts:      \n",
    "for y in list_pts_adt_table:\n",
    "    \n",
    "    df1_pt=df1[(df1[\"person_id\"] == y)]\n",
    "    a=df1_pt['inital_ADT_end_date'].to_list()[0]\n",
    "    #add 6 months to the inital ADT end date\n",
    "    a_plus_6mons=a + timedelta(days=180)\n",
    "    #pick up initial ADT window \n",
    "    gap=df1_pt['Inital_ADT_time_window_days'].to_list()[0] \n",
    "    \n",
    "    df2_pt=df2[(df2[\"person_id\"] == y)]    \n",
    "    each_pt_tdates = df2_pt['result_date'].to_list()\n",
    "\n",
    "    ##get rid of nan\n",
    "    cleaned_a=[]\n",
    "    cleaned_a= [x for x in each_pt_tdates if str(x) != 'NaN']\n",
    "    cleaned_aa= [x for x in cleaned_a if str(x) != 'nan']\n",
    "    cleaned_aaa= [x for x in cleaned_aa if str(x) != 'NaT']\n",
    "    \n",
    "    start_sorted_bin=sorted(cleaned_aaa)\n",
    "    \n",
    "    if(len(start_sorted_bin)==0):\n",
    "        tdate='NaN'  \n",
    "\n",
    "    if(len(start_sorted_bin)>0):\n",
    "        #apply the closet function\n",
    "        tdate=closest(start_sorted_bin,a_plus_6mons)\n",
    "    \n",
    "    #pick up Tvalue for Tdate\n",
    "    df2_pt_pick=df2_pt[(df2_pt['result_date']==tdate)]\n",
    "    tvalue=df2_pt_pick.test_results.values[0]\n",
    "\n",
    "    #print(y, a, gap, a_plus_6mons, tdate, tvalue)\n",
    "    result_per_pt=[y, a, gap, a_plus_6mons, tdate,  tvalue]\n",
    "    result_list.append(result_per_pt)"
   ]
  },
  {
   "cell_type": "code",
   "execution_count": null,
   "metadata": {},
   "outputs": [],
   "source": [
    "result_list"
   ]
  },
  {
   "cell_type": "code",
   "execution_count": null,
   "metadata": {},
   "outputs": [],
   "source": [
    "df_results=pd.DataFrame(result_list)\n",
    "df_results.columns=(['person_id', 'inital_ADT_end_date', 'Inital_ADT_time_window_days', '6 mons after ADT', 'Tdate closest to 6 mons after ADT', \"Tvalue\"])"
   ]
  },
  {
   "cell_type": "code",
   "execution_count": null,
   "metadata": {},
   "outputs": [],
   "source": [
    "#create a column for the time gap to screen the ones outside the 5mons to 7 mons window  \n",
    "df_results['Tvalue_ADT+6mons_gap'] = df_results['Tdate closest to 6 mons after ADT'] - df_results['6 mons after ADT']\n",
    "#create a column for the inital adt use window as days\n",
    "df_results['Tvalue_ADT+6mons_gap_days']=df_results['Tvalue_ADT+6mons_gap'].dt.days"
   ]
  },
  {
   "cell_type": "code",
   "execution_count": null,
   "metadata": {},
   "outputs": [],
   "source": [
    "df_results"
   ]
  },
  {
   "cell_type": "code",
   "execution_count": null,
   "metadata": {},
   "outputs": [],
   "source": [
    "df_results.to_csv(\"Tdate_Tvalue_ADTwindow_closest_to_6mons_after_ADT_ends.csv\", encoding='utf-8', index=False)"
   ]
  },
  {
   "cell_type": "code",
   "execution_count": null,
   "metadata": {},
   "outputs": [],
   "source": [
    "df_results_select1=df_results[(df_results[\"Tvalue_ADT+6mons_gap_days\"] <= 30)]\n",
    "df_results_select2=df_results_select1[(df_results_select1[\"Tvalue_ADT+6mons_gap_days\"] >= -30)]\n",
    "print(len(df_results))\n",
    "print(len(df_results_select1))\n",
    "print(len(df_results_select2))"
   ]
  },
  {
   "cell_type": "code",
   "execution_count": null,
   "metadata": {},
   "outputs": [],
   "source": [
    "df_results"
   ]
  },
  {
   "cell_type": "code",
   "execution_count": null,
   "metadata": {},
   "outputs": [],
   "source": [
    "#pts cohort with T date and values within the window of 5 mons to 7 mons after inital ADT ends\n",
    "df_results_select2"
   ]
  },
  {
   "cell_type": "code",
   "execution_count": null,
   "metadata": {},
   "outputs": [],
   "source": [
    "#Fix the T values that contain <; plot the histograms and make the presentation slides"
   ]
  },
  {
   "cell_type": "code",
   "execution_count": null,
   "metadata": {},
   "outputs": [],
   "source": [
    "###Need to fix this later\n",
    "\n",
    "#df_results_select3=df_results_select2\n",
    "#df_results_select3['Tvalue'][ind].str[1:]\n",
    "#fixed_string_list=[]\n",
    "#for ind in df_results_select2.index:\n",
    " \n",
    "#    if (df_results_select3['Tvalue'][ind].str.contains('<')): \n",
    "#        fixed_string_list.append(ind)  \n",
    "#        df_results_select3['Tvalue'][ind]=df_results_select3['Tvalue'][ind].str[1:]\n",
    "\n",
    "#df_results_select3.loc[df_results_select3['Tvalue'].str.contains('<'), '<']=\"\"\n",
    "#s[1:]"
   ]
  },
  {
   "cell_type": "code",
   "execution_count": null,
   "metadata": {},
   "outputs": [],
   "source": [
    "#plot the histograms and make the slides; 30 mins for each\n",
    "#statistics\n",
    "#logic #results #crosscheck "
   ]
  },
  {
   "cell_type": "code",
   "execution_count": null,
   "metadata": {},
   "outputs": [],
   "source": [
    "df4=pd.read_excel(\"Pca_Tdate_Tvalue_ADTwindow_clean_results_113_pts.xls\", header=0)"
   ]
  },
  {
   "cell_type": "code",
   "execution_count": null,
   "metadata": {},
   "outputs": [],
   "source": []
  },
  {
   "cell_type": "code",
   "execution_count": null,
   "metadata": {},
   "outputs": [],
   "source": [
    "index_list=df4.columns\n",
    "index_list"
   ]
  },
  {
   "cell_type": "code",
   "execution_count": null,
   "metadata": {},
   "outputs": [],
   "source": [
    "#delete some columns\n",
    "print(df4.shape)    \n",
    "del_col=['6 mons after ADT','Tvalue_ADT+6mons_gap', 'Tvalue_ADT+6mons_gap_days']\n",
    "for col in del_col:\n",
    "    del df4[col]\n",
    "print(df4.shape)"
   ]
  },
  {
   "cell_type": "code",
   "execution_count": null,
   "metadata": {},
   "outputs": [],
   "source": [
    "df4[:5]"
   ]
  },
  {
   "cell_type": "code",
   "execution_count": null,
   "metadata": {},
   "outputs": [],
   "source": [
    "gap = df4[[\"Inital_ADT_time_window_days\"]].reset_index()\n",
    "ax=gap.plot.scatter(x= \"index\", y=\"Inital_ADT_time_window_days\", c='DarkBlue')\n",
    "print(gap.max())\n",
    "print(gap.min())"
   ]
  },
  {
   "cell_type": "code",
   "execution_count": null,
   "metadata": {},
   "outputs": [],
   "source": [
    "###plot the ADT window histogram\n",
    "\n",
    "sns.set_style(\"darkgrid\")\n",
    "sns.set_context(\"poster\", font_scale=0.6, rc={\"lines.linewidth\": 2})\n",
    "binsize=180\n",
    "\n",
    "bins=np.arange(0, 4000, binsize)\n",
    "fig, ax = plt.subplots(figsize = (8,5))\n",
    "\n",
    "#n=df_results['Inital_ADT_time_window_days'].plot(kind = \"hist\", bins=bins, color=\"purple\", alpha=0.5)\n",
    "(n, bins, patches) = plt.hist(gap[\"Inital_ADT_time_window_days\"], bins=bins,color=\"green\", alpha=0.4)\n",
    "\n",
    "#decorate\n",
    "\n",
    "plt.title(\"Bin Size=\"+ str(int(binsize/30)) +\" months\")\n",
    "plt.xlabel(\"Months\", fontsize=16, fontweight=\"bold\",color=\"gray\")\n",
    "plt.ylabel(\"Population\", fontsize=16,fontweight=\"bold\", color=\"gray\")\n",
    "\n",
    "ax.set_xticks(np.arange(0, 4000, 360))\n",
    "ax.set_xticklabels(np.arange(0, 133, 12))\n",
    "\n",
    "\n",
    "# plot the label/text to each bin\n",
    "for i in range(0, len(n)):\n",
    "    x_pos = (bins[i + 1] - bins[i])/4 + bins[i]\n",
    "    y_pos = n[i] + 0.5\n",
    "    label = str(int(n[i])) # relative frequency of each bin\n",
    "    ax.text(x_pos, y_pos, label,fontsize=16,fontweight=\"bold\",color=\"gray\" )\n",
    "    ax.xaxis.tick_bottom()\n"
   ]
  },
  {
   "cell_type": "code",
   "execution_count": null,
   "metadata": {},
   "outputs": [],
   "source": [
    "Tvalue = df4[[\"Tvalue\"]].reset_index()\n",
    "ax=Tvalue.plot.scatter(x= \"index\", y=\"Tvalue\", c='Magenta')\n",
    "print(Tvalue.max())\n",
    "print(Tvalue.min())"
   ]
  },
  {
   "cell_type": "code",
   "execution_count": null,
   "metadata": {},
   "outputs": [],
   "source": [
    "###plot the T value histogram\n",
    "\n",
    "sns.set_style(\"darkgrid\")\n",
    "sns.set_context(\"poster\", font_scale=0.6, rc={\"lines.linewidth\": 2})\n",
    "binsize=75\n",
    "\n",
    "bins=np.arange(0, 1100, binsize)\n",
    "fig, ax = plt.subplots(figsize = (8,5))\n",
    "\n",
    "#n=df_results['Inital_ADT_time_window_days'].plot(kind = \"hist\", bins=bins, color=\"purple\", alpha=0.5)\n",
    "(n, bins, patches) = plt.hist(Tvalue[\"Tvalue\"], bins=bins,color=\"green\", alpha=0.4)\n",
    "\n",
    "#decorate\n",
    "\n",
    "plt.title(\"Bin Size=\"+ str(int(binsize)))\n",
    "plt.xlabel(\"T-value\", fontsize=16, fontweight=\"bold\",color=\"gray\")\n",
    "plt.ylabel(\"Population\", fontsize=16,fontweight=\"bold\", color=\"gray\")\n",
    "\n",
    "ax.set_xticks(np.arange(0, 1100, 300))\n",
    "ax.set_xticklabels(np.arange(0, 1100, 300))\n",
    "\n",
    "# plot the label/text to each bin\n",
    "for i in range(0, len(n)):\n",
    "    x_pos = (bins[i + 1] - bins[i])/4 + bins[i]\n",
    "    y_pos = n[i] + 0.5\n",
    "    label = str(int(n[i])) # relative frequency of each bin\n",
    "    ax.text(x_pos, y_pos, label,fontsize=16,fontweight=\"bold\",color=\"gray\" )\n",
    "    ax.xaxis.tick_bottom()\n",
    "\n"
   ]
  },
  {
   "cell_type": "code",
   "execution_count": null,
   "metadata": {},
   "outputs": [],
   "source": [
    "###plot the T value histogram\n",
    "\n",
    "sns.set_style(\"darkgrid\")\n",
    "sns.set_context(\"poster\", font_scale=0.6, rc={\"lines.linewidth\": 2})\n",
    "binsize=70\n",
    "\n",
    "bins=np.arange(0, 1100, binsize)\n",
    "fig, ax = plt.subplots(figsize = (8,5))\n",
    "\n",
    "#n=df_results['Inital_ADT_time_window_days'].plot(kind = \"hist\", bins=bins, color=\"purple\", alpha=0.5)\n",
    "(n, bins, patches) = plt.hist(Tvalue[\"Tvalue\"], bins=bins,color=\"green\", alpha=0.4)\n",
    "\n",
    "#decorate\n",
    "\n",
    "plt.title(\"Bin Size=\"+ str(int(binsize)))\n",
    "plt.xlabel(\"T-value\", fontsize=16, fontweight=\"bold\",color=\"gray\")\n",
    "plt.ylabel(\"Population\", fontsize=16,fontweight=\"bold\", color=\"gray\")\n",
    "\n",
    "ax.set_xticks(np.arange(0, 1100, 280))\n",
    "ax.set_xticklabels(np.arange(0, 1100, 280))\n",
    "\n",
    "\n",
    "# plot the label/text to each bin\n",
    "for i in range(0, len(n)):\n",
    "    x_pos = (bins[i + 1] - bins[i])/4 + bins[i]\n",
    "    y_pos = n[i] + 0.5\n",
    "    label = str(int(n[i])) # relative frequency of each bin\n",
    "    ax.text(x_pos, y_pos, label,fontsize=16,fontweight=\"bold\",color=\"gray\" )\n",
    "    ax.xaxis.tick_bottom()"
   ]
  },
  {
   "cell_type": "code",
   "execution_count": null,
   "metadata": {},
   "outputs": [],
   "source": [
    "Correlation = df4[[\"Inital_ADT_time_window_days\",\"Tvalue\"]].reset_index()\n",
    "plt.matshow(Correlation.corr())"
   ]
  },
  {
   "cell_type": "code",
   "execution_count": null,
   "metadata": {},
   "outputs": [],
   "source": [
    "ax=Correlation.plot.scatter(x= \"Inital_ADT_time_window_days\", y=\"Tvalue\", c='green')\n",
    "plt.axhline(y=75, color='r', linestyle='-')\n"
   ]
  },
  {
   "cell_type": "code",
   "execution_count": null,
   "metadata": {},
   "outputs": [],
   "source": []
  }
 ],
 "metadata": {
  "kernelspec": {
   "display_name": "Python 3",
   "language": "python",
   "name": "python3"
  },
  "language_info": {
   "codemirror_mode": {
    "name": "ipython",
    "version": 3
   },
   "file_extension": ".py",
   "mimetype": "text/x-python",
   "name": "python",
   "nbconvert_exporter": "python",
   "pygments_lexer": "ipython3",
   "version": "3.7.4"
  }
 },
 "nbformat": 4,
 "nbformat_minor": 2
}
