{
 "cells": [
  {
   "cell_type": "markdown",
   "metadata": {},
   "source": [
    "# README.md\n",
    "Build some initial statistics\n",
    "\n",
    "1) What are the enrichments from the notes? \n",
    "2) How many pts don’t have a start date? End date? How many are overlapped? And for each drug?\n",
    "3) Run through the pipeline to get the start and end date distribution, and duration\n",
    "4) Validate by manual chart reviews for 15 random pts (computational vs manual)"
   ]
  },
  {
   "cell_type": "markdown",
   "metadata": {},
   "source": [
    "# Step1, read from spreadsheet, clean up, and get statistics"
   ]
  },
  {
   "cell_type": "code",
   "execution_count": 44,
   "metadata": {},
   "outputs": [],
   "source": [
    "import numpy as np\n",
    "import pandas as pd\n",
    "import sys, getopt\n",
    "import csv\n",
    "from datetime import datetime\n",
    "import itertools\n",
    "\n",
    "from matplotlib import pyplot\n",
    "from pylab import *\n",
    "import matplotlib.pyplot as plt\n",
    "\n",
    "%matplotlib inline  \n",
    "import seaborn as sns"
   ]
  },
  {
   "cell_type": "code",
   "execution_count": 45,
   "metadata": {
    "scrolled": true
   },
   "outputs": [],
   "source": [
    "df1=pd.read_excel(\"large_tableA.xls\", header=0)\n",
    "df1.fillna('', inplace=True)"
   ]
  },
  {
   "cell_type": "code",
   "execution_count": 46,
   "metadata": {
    "scrolled": true
   },
   "outputs": [
    {
     "data": {
      "text/plain": [
       "Index(['person_id', 'cancer_drug', 'category', 'start_date_source',\n",
       "       'start_date_note_id', 'start_date_note_date', 'start_date_sent_id',\n",
       "       'start_date_evidence', 'start_date_matched_text', 'start_date_year',\n",
       "       'start_date_month', 'start_date_day', 'end_date_source',\n",
       "       'end_date_note_id', 'end_date_note_date', 'end_date_sent_id',\n",
       "       'end_date_evidence', 'end_date_matched_text', 'end_date_year',\n",
       "       'end_date_month', 'end_date_day', 'first_mentioned_note_id',\n",
       "       'first_mentioned_note_date', 'first_mentioned_evidence',\n",
       "       'first_mentioned_matched_text', 'last_mentioned_note_id',\n",
       "       'last_mentioned_note_date', 'last_mentioned_evidence',\n",
       "       'last_mentioned_text'],\n",
       "      dtype='object')"
      ]
     },
     "execution_count": 46,
     "metadata": {},
     "output_type": "execute_result"
    }
   ],
   "source": [
    "index_list=df1.columns\n",
    "index_list"
   ]
  },
  {
   "cell_type": "code",
   "execution_count": 47,
   "metadata": {},
   "outputs": [
    {
     "name": "stdout",
     "output_type": "stream",
     "text": [
      "(2015, 29)\n",
      "(2015, 10)\n"
     ]
    }
   ],
   "source": [
    "#delete empty columns\n",
    "\n",
    "print(df1.shape)\n",
    "del_col=['category',\n",
    "       'start_date_note_id', 'start_date_note_date', 'start_date_sent_id',\n",
    "       'start_date_evidence', 'start_date_matched_text', \n",
    "       'end_date_note_id', 'end_date_note_date', 'end_date_sent_id',\n",
    "       'end_date_evidence', 'end_date_matched_text', 'first_mentioned_note_id',\n",
    "       'first_mentioned_note_date', 'first_mentioned_evidence',\n",
    "       'first_mentioned_matched_text', 'last_mentioned_note_id',\n",
    "       'last_mentioned_note_date', 'last_mentioned_evidence',\n",
    "       'last_mentioned_text']\n",
    "\n",
    "for col in del_col:\n",
    "    del df1[col]\n",
    "print(df1.shape)"
   ]
  },
  {
   "cell_type": "code",
   "execution_count": 48,
   "metadata": {
    "scrolled": true
   },
   "outputs": [
    {
     "data": {
      "text/html": [
       "<div>\n",
       "<style scoped>\n",
       "    .dataframe tbody tr th:only-of-type {\n",
       "        vertical-align: middle;\n",
       "    }\n",
       "\n",
       "    .dataframe tbody tr th {\n",
       "        vertical-align: top;\n",
       "    }\n",
       "\n",
       "    .dataframe thead th {\n",
       "        text-align: right;\n",
       "    }\n",
       "</style>\n",
       "<table border=\"1\" class=\"dataframe\">\n",
       "  <thead>\n",
       "    <tr style=\"text-align: right;\">\n",
       "      <th></th>\n",
       "      <th>person_id</th>\n",
       "      <th>cancer_drug</th>\n",
       "      <th>start_date_source</th>\n",
       "      <th>start_date_year</th>\n",
       "      <th>start_date_month</th>\n",
       "      <th>start_date_day</th>\n",
       "      <th>end_date_source</th>\n",
       "      <th>end_date_year</th>\n",
       "      <th>end_date_month</th>\n",
       "      <th>end_date_day</th>\n",
       "    </tr>\n",
       "  </thead>\n",
       "  <tbody>\n",
       "    <tr>\n",
       "      <td>0</td>\n",
       "      <td>2</td>\n",
       "      <td>Leuprolide</td>\n",
       "      <td>Notes</td>\n",
       "      <td>2009</td>\n",
       "      <td>2</td>\n",
       "      <td>26</td>\n",
       "      <td>MedTable</td>\n",
       "      <td>2017</td>\n",
       "      <td>2</td>\n",
       "      <td>1</td>\n",
       "    </tr>\n",
       "    <tr>\n",
       "      <td>1</td>\n",
       "      <td>12</td>\n",
       "      <td>Leuprolide</td>\n",
       "      <td>MedTable</td>\n",
       "      <td>2013</td>\n",
       "      <td>5</td>\n",
       "      <td>6</td>\n",
       "      <td></td>\n",
       "      <td></td>\n",
       "      <td></td>\n",
       "      <td></td>\n",
       "    </tr>\n",
       "    <tr>\n",
       "      <td>2</td>\n",
       "      <td>13</td>\n",
       "      <td>Leuprolide</td>\n",
       "      <td>MedTable</td>\n",
       "      <td>2010</td>\n",
       "      <td>9</td>\n",
       "      <td>9</td>\n",
       "      <td>MedTable</td>\n",
       "      <td>2018</td>\n",
       "      <td>5</td>\n",
       "      <td>17</td>\n",
       "    </tr>\n",
       "    <tr>\n",
       "      <td>3</td>\n",
       "      <td>13</td>\n",
       "      <td>Degarelix</td>\n",
       "      <td></td>\n",
       "      <td></td>\n",
       "      <td></td>\n",
       "      <td></td>\n",
       "      <td></td>\n",
       "      <td></td>\n",
       "      <td></td>\n",
       "      <td></td>\n",
       "    </tr>\n",
       "    <tr>\n",
       "      <td>4</td>\n",
       "      <td>13</td>\n",
       "      <td>Goserelin</td>\n",
       "      <td>MedTable</td>\n",
       "      <td>2010</td>\n",
       "      <td>6</td>\n",
       "      <td>17</td>\n",
       "      <td>MedTable</td>\n",
       "      <td>2012</td>\n",
       "      <td>8</td>\n",
       "      <td>30</td>\n",
       "    </tr>\n",
       "    <tr>\n",
       "      <td>5</td>\n",
       "      <td>18</td>\n",
       "      <td>Goserelin</td>\n",
       "      <td>MedTable</td>\n",
       "      <td>2013</td>\n",
       "      <td>12</td>\n",
       "      <td>9</td>\n",
       "      <td>MedTable</td>\n",
       "      <td>2014</td>\n",
       "      <td>3</td>\n",
       "      <td>13</td>\n",
       "    </tr>\n",
       "    <tr>\n",
       "      <td>6</td>\n",
       "      <td>18</td>\n",
       "      <td>Degarelix</td>\n",
       "      <td>MedTable</td>\n",
       "      <td>2013</td>\n",
       "      <td>11</td>\n",
       "      <td>12</td>\n",
       "      <td></td>\n",
       "      <td></td>\n",
       "      <td></td>\n",
       "      <td></td>\n",
       "    </tr>\n",
       "    <tr>\n",
       "      <td>7</td>\n",
       "      <td>22</td>\n",
       "      <td>Leuprolide</td>\n",
       "      <td>Notes</td>\n",
       "      <td>2010</td>\n",
       "      <td>9</td>\n",
       "      <td>27</td>\n",
       "      <td>MedTable</td>\n",
       "      <td>2017</td>\n",
       "      <td>4</td>\n",
       "      <td>24</td>\n",
       "    </tr>\n",
       "    <tr>\n",
       "      <td>8</td>\n",
       "      <td>25</td>\n",
       "      <td>Leuprolide</td>\n",
       "      <td>MedTable</td>\n",
       "      <td>2013</td>\n",
       "      <td>11</td>\n",
       "      <td>12</td>\n",
       "      <td>MedTable</td>\n",
       "      <td>2014</td>\n",
       "      <td>2</td>\n",
       "      <td>18</td>\n",
       "    </tr>\n",
       "    <tr>\n",
       "      <td>9</td>\n",
       "      <td>26</td>\n",
       "      <td>Leuprolide</td>\n",
       "      <td>Notes</td>\n",
       "      <td>2014</td>\n",
       "      <td>11</td>\n",
       "      <td>26</td>\n",
       "      <td>Notes</td>\n",
       "      <td>2016</td>\n",
       "      <td>6</td>\n",
       "      <td></td>\n",
       "    </tr>\n",
       "    <tr>\n",
       "      <td>10</td>\n",
       "      <td>37</td>\n",
       "      <td>Leuprolide</td>\n",
       "      <td>MedTable</td>\n",
       "      <td>2010</td>\n",
       "      <td>9</td>\n",
       "      <td>29</td>\n",
       "      <td>Notes</td>\n",
       "      <td>2016</td>\n",
       "      <td>9</td>\n",
       "      <td>2</td>\n",
       "    </tr>\n",
       "    <tr>\n",
       "      <td>11</td>\n",
       "      <td>38</td>\n",
       "      <td>Leuprolide</td>\n",
       "      <td>Notes</td>\n",
       "      <td>2015</td>\n",
       "      <td>11</td>\n",
       "      <td>18</td>\n",
       "      <td>MedTable</td>\n",
       "      <td>2016</td>\n",
       "      <td>7</td>\n",
       "      <td>18</td>\n",
       "    </tr>\n",
       "    <tr>\n",
       "      <td>12</td>\n",
       "      <td>53</td>\n",
       "      <td>Leuprolide</td>\n",
       "      <td>MedTable</td>\n",
       "      <td>2013</td>\n",
       "      <td>2</td>\n",
       "      <td>25</td>\n",
       "      <td>Notes</td>\n",
       "      <td>2016</td>\n",
       "      <td></td>\n",
       "      <td></td>\n",
       "    </tr>\n",
       "    <tr>\n",
       "      <td>13</td>\n",
       "      <td>81</td>\n",
       "      <td>Degarelix</td>\n",
       "      <td>MedTable</td>\n",
       "      <td>2014</td>\n",
       "      <td>4</td>\n",
       "      <td>15</td>\n",
       "      <td>Notes</td>\n",
       "      <td>2014</td>\n",
       "      <td>4</td>\n",
       "      <td></td>\n",
       "    </tr>\n",
       "    <tr>\n",
       "      <td>14</td>\n",
       "      <td>81</td>\n",
       "      <td>Leuprolide</td>\n",
       "      <td>Notes</td>\n",
       "      <td>2013</td>\n",
       "      <td>9</td>\n",
       "      <td>25</td>\n",
       "      <td>MedTable</td>\n",
       "      <td>2016</td>\n",
       "      <td>6</td>\n",
       "      <td>9</td>\n",
       "    </tr>\n",
       "  </tbody>\n",
       "</table>\n",
       "</div>"
      ],
      "text/plain": [
       "    person_id cancer_drug start_date_source start_date_year start_date_month  \\\n",
       "0           2  Leuprolide             Notes            2009                2   \n",
       "1          12  Leuprolide          MedTable            2013                5   \n",
       "2          13  Leuprolide          MedTable            2010                9   \n",
       "3          13   Degarelix                                                      \n",
       "4          13   Goserelin          MedTable            2010                6   \n",
       "5          18   Goserelin          MedTable            2013               12   \n",
       "6          18   Degarelix          MedTable            2013               11   \n",
       "7          22  Leuprolide             Notes            2010                9   \n",
       "8          25  Leuprolide          MedTable            2013               11   \n",
       "9          26  Leuprolide             Notes            2014               11   \n",
       "10         37  Leuprolide          MedTable            2010                9   \n",
       "11         38  Leuprolide             Notes            2015               11   \n",
       "12         53  Leuprolide          MedTable            2013                2   \n",
       "13         81   Degarelix          MedTable            2014                4   \n",
       "14         81  Leuprolide             Notes            2013                9   \n",
       "\n",
       "   start_date_day end_date_source end_date_year end_date_month end_date_day  \n",
       "0              26        MedTable          2017              2            1  \n",
       "1               6                                                            \n",
       "2               9        MedTable          2018              5           17  \n",
       "3                                                                            \n",
       "4              17        MedTable          2012              8           30  \n",
       "5               9        MedTable          2014              3           13  \n",
       "6              12                                                            \n",
       "7              27        MedTable          2017              4           24  \n",
       "8              12        MedTable          2014              2           18  \n",
       "9              26           Notes          2016              6               \n",
       "10             29           Notes          2016              9            2  \n",
       "11             18        MedTable          2016              7           18  \n",
       "12             25           Notes          2016                              \n",
       "13             15           Notes          2014              4               \n",
       "14             25        MedTable          2016              6            9  "
      ]
     },
     "execution_count": 48,
     "metadata": {},
     "output_type": "execute_result"
    }
   ],
   "source": [
    "df1[:15]"
   ]
  },
  {
   "cell_type": "code",
   "execution_count": 49,
   "metadata": {},
   "outputs": [],
   "source": [
    "df2=df1"
   ]
  },
  {
   "cell_type": "markdown",
   "metadata": {},
   "source": [
    "# Research question: What's the enrichment to MedTable from the Notes for each drug? \n",
    "For the start and end date? How many have missing values?     "
   ]
  },
  {
   "cell_type": "code",
   "execution_count": 50,
   "metadata": {},
   "outputs": [
    {
     "name": "stdout",
     "output_type": "stream",
     "text": [
      "start_note  877\n",
      "start_med  681\n",
      "start_nan  0\n",
      "total_start 1558\n",
      " \n",
      "end_note  307\n",
      "end_med  879\n",
      "end_nan  0\n",
      "total_end 1186\n"
     ]
    }
   ],
   "source": [
    "start_note_list=[]\n",
    "start_med_list=[]\n",
    "\n",
    "end_note_list=[]\n",
    "end_med_list=[]\n",
    "\n",
    "for ind in df1.index:\n",
    " \n",
    "    if (df1['start_date_source'][ind]=='Notes'): \n",
    "        start_note_list.append(ind)  \n",
    "    if (df1['start_date_source'][ind]=='MedTable'): \n",
    "        start_med_list.append(ind)     \n",
    "        \n",
    "    if (df1['end_date_source'][ind]=='Notes'): \n",
    "        end_note_list.append(ind)  \n",
    "    if (df1['end_date_source'][ind]=='MedTable'): \n",
    "        end_med_list.append(ind)     \n",
    "\n",
    "print(\"start_note \", len(start_note_list))\n",
    "print(\"start_med \", len(start_med_list))\n",
    "print(\"start_nan \", df1['start_date_source'].isnull().sum())\n",
    "print(\"total_start\", len(start_note_list)+len(start_med_list)+df1['start_date_source'].isnull().sum())\n",
    "print(\" \")\n",
    "print(\"end_note \", len(end_note_list))\n",
    "print(\"end_med \", len(end_med_list))\n",
    "print(\"end_nan \", df1['end_date_source'].isnull().sum())\n",
    "print(\"total_end\", len(end_note_list)+len(end_med_list)+df1['end_date_source'].isnull().sum())"
   ]
  },
  {
   "cell_type": "code",
   "execution_count": 51,
   "metadata": {},
   "outputs": [
    {
     "data": {
      "image/png": "[encoded data removed]",
      "text/plain": [
       "<Figure size 432x288 with 1 Axes>"
      ]
     },
     "metadata": {},
     "output_type": "display_data"
    }
   ],
   "source": [
    "labels = ['Notes', 'MedTable', 'NaN']\n",
    "start_counts = [877, 681, 457]\n",
    "end_counts = [307, 879, 829]\n",
    "\n",
    "x = np.arange(len(labels))  # the label locations\n",
    "width = 0.35  # the width of the bars\n",
    "sns.set_context(\"poster\", font_scale=0.5, rc={\"lines.linewidth\": 2})\n",
    "sns.set_style(\"darkgrid\")\n",
    "fig, ax = plt.subplots()\n",
    "rects1 = ax.bar(x - width/2, start_counts, width, label='Start Date', alpha=0.6)\n",
    "rects2 = ax.bar(x + width/2, end_counts, width, label='End Date', alpha=0.6)\n",
    "\n",
    "# Add some text for labels, title and custom x-axis tick labels, etc.\n",
    "ax.set_ylabel('Counts')\n",
    "ax.set_title('Counts by source')\n",
    "ax.set_xticks(x)\n",
    "ax.set_xticklabels(labels)\n",
    "ax.legend(ncol=1, bbox_to_anchor=(1.2, 0.5),loc='lower center', fontsize='small')\n",
    "\n",
    "def autolabel(rects):\n",
    "    \"\"\"Attach a text label above each bar in *rects*, displaying its height.\"\"\"\n",
    "    for rect in rects:\n",
    "        height = rect.get_height()\n",
    "        ax.annotate('{}'.format(height),\n",
    "                    xy=(rect.get_x() + rect.get_width() / 2, height),\n",
    "                    xytext=(0, 3),  # 3 points vertical offset\n",
    "                    textcoords=\"offset points\",\n",
    "                    ha='center', va='bottom')\n",
    "\n",
    "\n",
    "autolabel(rects1)\n",
    "autolabel(rects2)\n",
    "\n",
    "fig.tight_layout()"
   ]
  },
  {
   "cell_type": "code",
   "execution_count": 52,
   "metadata": {},
   "outputs": [],
   "source": [
    "#how many lines that have both start and end date as nan?\n",
    "#these correspond to how many patients?\n",
    "\n",
    "df1_start_null=df1[df1['start_date_source'].isnull()]\n",
    "df1_end_null=df1[df1['end_date_source'].isnull()]\n",
    "\n",
    "#group to pt level\n",
    "df2_start=df1_start_null.groupby([\"person_id\"]).size().reset_index(name='counts')\n",
    "df2_end=df1_end_null.groupby([\"person_id\"]).size().reset_index(name='counts')"
   ]
  },
  {
   "cell_type": "code",
   "execution_count": 53,
   "metadata": {},
   "outputs": [
    {
     "data": {
      "text/html": [
       "<div>\n",
       "<style scoped>\n",
       "    .dataframe tbody tr th:only-of-type {\n",
       "        vertical-align: middle;\n",
       "    }\n",
       "\n",
       "    .dataframe tbody tr th {\n",
       "        vertical-align: top;\n",
       "    }\n",
       "\n",
       "    .dataframe thead th {\n",
       "        text-align: right;\n",
       "    }\n",
       "</style>\n",
       "<table border=\"1\" class=\"dataframe\">\n",
       "  <thead>\n",
       "    <tr style=\"text-align: right;\">\n",
       "      <th></th>\n",
       "      <th>person_id</th>\n",
       "      <th>cancer_drug</th>\n",
       "      <th>start_date_source</th>\n",
       "      <th>start_date_year</th>\n",
       "      <th>start_date_month</th>\n",
       "      <th>start_date_day</th>\n",
       "      <th>end_date_source</th>\n",
       "      <th>end_date_year</th>\n",
       "      <th>end_date_month</th>\n",
       "      <th>end_date_day</th>\n",
       "    </tr>\n",
       "  </thead>\n",
       "  <tbody>\n",
       "  </tbody>\n",
       "</table>\n",
       "</div>"
      ],
      "text/plain": [
       "Empty DataFrame\n",
       "Columns: [person_id, cancer_drug, start_date_source, start_date_year, start_date_month, start_date_day, end_date_source, end_date_year, end_date_month, end_date_day]\n",
       "Index: []"
      ]
     },
     "execution_count": 53,
     "metadata": {},
     "output_type": "execute_result"
    }
   ],
   "source": [
    "df1_start_null"
   ]
  },
  {
   "cell_type": "code",
   "execution_count": null,
   "metadata": {},
   "outputs": [],
   "source": []
  },
  {
   "cell_type": "code",
   "execution_count": 54,
   "metadata": {},
   "outputs": [
    {
     "data": {
      "text/html": [
       "<div>\n",
       "<style scoped>\n",
       "    .dataframe tbody tr th:only-of-type {\n",
       "        vertical-align: middle;\n",
       "    }\n",
       "\n",
       "    .dataframe tbody tr th {\n",
       "        vertical-align: top;\n",
       "    }\n",
       "\n",
       "    .dataframe thead th {\n",
       "        text-align: right;\n",
       "    }\n",
       "</style>\n",
       "<table border=\"1\" class=\"dataframe\">\n",
       "  <thead>\n",
       "    <tr style=\"text-align: right;\">\n",
       "      <th></th>\n",
       "      <th>person_id</th>\n",
       "      <th>counts</th>\n",
       "    </tr>\n",
       "  </thead>\n",
       "  <tbody>\n",
       "  </tbody>\n",
       "</table>\n",
       "</div>"
      ],
      "text/plain": [
       "Empty DataFrame\n",
       "Columns: [person_id, counts]\n",
       "Index: []"
      ]
     },
     "execution_count": 54,
     "metadata": {},
     "output_type": "execute_result"
    }
   ],
   "source": [
    "df2_start"
   ]
  },
  {
   "cell_type": "code",
   "execution_count": 55,
   "metadata": {},
   "outputs": [
    {
     "data": {
      "text/html": [
       "<div>\n",
       "<style scoped>\n",
       "    .dataframe tbody tr th:only-of-type {\n",
       "        vertical-align: middle;\n",
       "    }\n",
       "\n",
       "    .dataframe tbody tr th {\n",
       "        vertical-align: top;\n",
       "    }\n",
       "\n",
       "    .dataframe thead th {\n",
       "        text-align: right;\n",
       "    }\n",
       "</style>\n",
       "<table border=\"1\" class=\"dataframe\">\n",
       "  <thead>\n",
       "    <tr style=\"text-align: right;\">\n",
       "      <th></th>\n",
       "      <th>person_id</th>\n",
       "      <th>counts</th>\n",
       "    </tr>\n",
       "  </thead>\n",
       "  <tbody>\n",
       "  </tbody>\n",
       "</table>\n",
       "</div>"
      ],
      "text/plain": [
       "Empty DataFrame\n",
       "Columns: [person_id, counts]\n",
       "Index: []"
      ]
     },
     "execution_count": 55,
     "metadata": {},
     "output_type": "execute_result"
    }
   ],
   "source": [
    "df2_start"
   ]
  },
  {
   "cell_type": "code",
   "execution_count": 56,
   "metadata": {},
   "outputs": [
    {
     "name": "stdout",
     "output_type": "stream",
     "text": [
      "# of lines with start date empty:  0\n",
      "# of lines with end date empty:  0\n"
     ]
    }
   ],
   "source": [
    "print(\"# of lines with start date empty: \", shape(df1_start_null)[0])\n",
    "print(\"# of lines with end date empty: \", shape(df1_end_null)[0])"
   ]
  },
  {
   "cell_type": "code",
   "execution_count": 57,
   "metadata": {},
   "outputs": [
    {
     "name": "stdout",
     "output_type": "stream",
     "text": [
      "0\n",
      "0\n"
     ]
    }
   ],
   "source": [
    "list_pts_start_empty=df2_start[\"person_id\"].to_list()\n",
    "print(len(list_pts_start_empty))\n",
    "list_pts_end_empty=df2_end[\"person_id\"].to_list()\n",
    "print(len(list_pts_end_empty))"
   ]
  },
  {
   "cell_type": "code",
   "execution_count": null,
   "metadata": {},
   "outputs": [],
   "source": []
  },
  {
   "cell_type": "code",
   "execution_count": 58,
   "metadata": {},
   "outputs": [
    {
     "name": "stdout",
     "output_type": "stream",
     "text": [
      "# of pts that have no start nor end : 0\n",
      "# of pts that no start but with end : 0\n",
      "# of pts that have start but not end : 0\n"
     ]
    }
   ],
   "source": [
    "test1=[x for x in list_pts_start_empty if x in list_pts_end_empty]\n",
    "print(\"# of pts that have no start nor end :\",len(test1))\n",
    "test2=[x for x in list_pts_start_empty if x not in list_pts_end_empty]\n",
    "print(\"# of pts that no start but with end :\",len(test2))\n",
    "test3=[x for x in list_pts_end_empty if x not in list_pts_start_empty]\n",
    "print(\"# of pts that have start but not end :\",len(test3))\n",
    "\n",
    "#list_pts_bothdates_empty=set(list_pts_start_empty).intersection(list_pts_end_empty)\n",
    "#print(\"number of pts with both start and end empty: \", len(list_pts_bothdates_empty))"
   ]
  },
  {
   "cell_type": "code",
   "execution_count": 59,
   "metadata": {},
   "outputs": [],
   "source": [
    "ADT_lib=[\"Leuprolide\",\"Degarelix\",\"Goserelin\",\"Triptorelin\",\"Histrelin\"]"
   ]
  },
  {
   "cell_type": "code",
   "execution_count": 60,
   "metadata": {},
   "outputs": [
    {
     "data": {
      "text/plain": [
       "cancer_drug  start_date_source\n",
       "Degarelix                         100\n",
       "             MedTable              97\n",
       "             Notes                245\n",
       "Goserelin                          41\n",
       "             MedTable              87\n",
       "             Notes                 41\n",
       "Histrelin                           6\n",
       "             MedTable               1\n",
       "             Notes                  1\n",
       "Leuprolide                        289\n",
       "             MedTable             486\n",
       "             Notes                576\n",
       "Triptorelin                        21\n",
       "             MedTable              10\n",
       "             Notes                 14\n",
       "dtype: int64"
      ]
     },
     "execution_count": 60,
     "metadata": {},
     "output_type": "execute_result"
    }
   ],
   "source": [
    "df_startmed_group=df1.groupby([\"cancer_drug\",\"start_date_source\"]).size() \n",
    "df_startmed_group"
   ]
  },
  {
   "cell_type": "code",
   "execution_count": 61,
   "metadata": {},
   "outputs": [
    {
     "data": {
      "image/png": "[encoded data removed]",
      "text/plain": [
       "<Figure size 432x288 with 1 Axes>"
      ]
     },
     "metadata": {},
     "output_type": "display_data"
    }
   ],
   "source": [
    "labels =[\"Degarelix\",\"Goserelin\",\"Histrelin\",\"Leuprolide\",\"Triporelin\"]\n",
    "start_med = [97,87,1,486,10]\n",
    "start_note = [245,41,1,576,14]\n",
    "\n",
    "x = np.arange(len(labels))  # the label locations\n",
    "width = 0.35  # the width of the bars\n",
    "sns.set_context(\"poster\", font_scale=0.5, rc={\"font.size\":8,\"axes.titlesize\":8,\"axes.labelsize\":5,\"lines.linewidth\": 2})\n",
    "sns.set_style(\"darkgrid\")\n",
    "fig, ax = plt.subplots()\n",
    "\n",
    "rects1 = ax.bar(x - width/2, start_med, width, label='MedTable', alpha=0.6)\n",
    "rects2 = ax.bar(x + width/2, start_note, width, label='Notes', alpha=0.6)\n",
    "\n",
    "# Add some text for labels, title and custom x-axis tick labels, etc.\n",
    "ax.set_ylabel('Counts')\n",
    "ax.set_title('Row counts by source for start dates')\n",
    "ax.set_xticks(x)\n",
    "ax.set_xticklabels(labels,rotation=45)\n",
    "ax.legend(ncol=1, bbox_to_anchor=(1.2, 0.5),loc='lower center', fontsize='small')\n",
    "\n",
    "def autolabel(rects):\n",
    "    \"\"\"Attach a text label above each bar in *rects*, displaying its height.\"\"\"\n",
    "    for rect in rects:\n",
    "        height = rect.get_height()\n",
    "        ax.annotate('{}'.format(height),\n",
    "                    xy=(rect.get_x() + rect.get_width() / 2, height),\n",
    "                    xytext=(0, 3),  # 3 points vertical offset\n",
    "                    textcoords=\"offset points\",\n",
    "                    ha='center', va='bottom')\n",
    "\n",
    "\n",
    "autolabel(rects1)\n",
    "autolabel(rects2)\n",
    "\n",
    "fig.tight_layout()"
   ]
  },
  {
   "cell_type": "code",
   "execution_count": 62,
   "metadata": {},
   "outputs": [
    {
     "data": {
      "text/plain": [
       "(<Figure size 662.4x360 with 1 Axes>,\n",
       " <matplotlib.axes._subplots.AxesSubplot at 0x7fca80cbb550>)"
      ]
     },
     "execution_count": 62,
     "metadata": {},
     "output_type": "execute_result"
    },
    {
     "data": {
      "image/png": "[encoded data removed]",
      "text/plain": [
       "<Figure size 662.4x360 with 1 Axes>"
      ]
     },
     "metadata": {},
     "output_type": "display_data"
    }
   ],
   "source": [
    "category_names = ['MedTable', 'Notes']\n",
    "results = {\n",
    "    \"Leuprolide\": [486,576],\n",
    "    \"Degarelix\": [97, 245],\n",
    "    \"Goserelin\": [87,41],\n",
    "    \"Triporelin\": [10,14],\n",
    "    \"Histrelin\": [1,1]\n",
    "}\n",
    "\n",
    "\n",
    "def survey(results, category_names):\n",
    "    \"\"\"\n",
    "    Parameters\n",
    "    ----------\n",
    "    results : dict\n",
    "        A mapping from question labels to a list of answers per category.\n",
    "        It is assumed all lists contain the same number of entries and that\n",
    "        it matches the length of *category_names*.\n",
    "    category_names : list of str\n",
    "        The category labels.\n",
    "    \"\"\"\n",
    "    labels = list(results.keys())\n",
    "    data = np.array(list(results.values()))\n",
    "    data_cum = data.cumsum(axis=1)\n",
    "    category_colors = plt.get_cmap('plasma')(\n",
    "        np.linspace(0.15, 0.85, data.shape[1]))\n",
    "\n",
    "    sns.set_context(\"poster\", font_scale=0.6, rc={\"lines.linewidth\": 2})\n",
    "    fig, ax = plt.subplots(figsize=(9.2, 5))\n",
    "    ax.invert_yaxis()\n",
    "    ax.xaxis.set_visible(False)\n",
    "    ax.set_xlim(0, np.sum(data, axis=1).max())\n",
    "    ax.set_title('Patient counts by source for start dates')\n",
    "    \n",
    "    for i, (colname, color) in enumerate(zip(category_names, category_colors)):\n",
    "        widths = data[:, i]\n",
    "        starts = data_cum[:, i] - widths\n",
    "        ax.barh(labels, widths, left=starts, height=0.5,\n",
    "                label=colname, color=color)\n",
    "        xcenters = starts + widths / 2\n",
    "\n",
    "        r, g, b, _ = color\n",
    "        text_color = 'white' if r * g * b < 0.5 else 'darkgrey'\n",
    "        for y, (x, c) in enumerate(zip(xcenters, widths)):\n",
    "            ax.text(x, y, str(int(c)), ha='center', va='center',\n",
    "                    color=text_color)\n",
    "    ax.legend(ncol=len(category_names), bbox_to_anchor=(0.4, 0),\n",
    "              loc='lower left', fontsize='medium')\n",
    "\n",
    "    return fig, ax\n",
    "\n",
    "\n",
    "survey(results, category_names)"
   ]
  },
  {
   "cell_type": "code",
   "execution_count": 63,
   "metadata": {},
   "outputs": [
    {
     "data": {
      "text/plain": [
       "cancer_drug  end_date_source\n",
       "Degarelix                       242\n",
       "             MedTable           112\n",
       "             Notes               88\n",
       "Goserelin                        65\n",
       "             MedTable            79\n",
       "             Notes               25\n",
       "Histrelin                         8\n",
       "Leuprolide                      483\n",
       "             MedTable           682\n",
       "             Notes              186\n",
       "Triptorelin                      31\n",
       "             MedTable             6\n",
       "             Notes                8\n",
       "dtype: int64"
      ]
     },
     "execution_count": 63,
     "metadata": {},
     "output_type": "execute_result"
    }
   ],
   "source": [
    "df_endmed_group=df1.groupby([\"cancer_drug\",\"end_date_source\"]).size() \n",
    "#.reset_index(name='counts')\n",
    "df_endmed_group"
   ]
  },
  {
   "cell_type": "code",
   "execution_count": 64,
   "metadata": {},
   "outputs": [
    {
     "data": {
      "text/plain": [
       "end_date_source\n",
       "            829\n",
       "MedTable    879\n",
       "Notes       307\n",
       "dtype: int64"
      ]
     },
     "execution_count": 64,
     "metadata": {},
     "output_type": "execute_result"
    }
   ],
   "source": [
    "df_endmed_group=df1.groupby([\"end_date_source\"]).size() \n",
    "#.reset_index(name='counts')\n",
    "df_endmed_group"
   ]
  },
  {
   "cell_type": "code",
   "execution_count": 65,
   "metadata": {},
   "outputs": [
    {
     "name": "stdout",
     "output_type": "stream",
     "text": [
      "813\n",
      "291\n"
     ]
    }
   ],
   "source": [
    "dfend_med=df1[(df1[\"end_date_source\"] == \"MedTable\")]\n",
    "dfend_pt_med=dfend_med.groupby([\"person_id\"]).size().reset_index(name='counts')\n",
    "print(len(dfend_pt_med))\n",
    "\n",
    "dfend_notes=df1[(df1[\"end_date_source\"] == \"Notes\")]\n",
    "dfend_pt_notes=dfend_notes.groupby([\"person_id\"]).size().reset_index(name='counts')\n",
    "print(len(dfend_pt_notes))"
   ]
  },
  {
   "cell_type": "code",
   "execution_count": 66,
   "metadata": {},
   "outputs": [
    {
     "name": "stdout",
     "output_type": "stream",
     "text": [
      "614\n",
      "733\n"
     ]
    }
   ],
   "source": [
    "dfstart_med=df1[(df1[\"start_date_source\"] == \"MedTable\")]\n",
    "dfstart_pt_med=dfstart_med.groupby([\"person_id\"]).size().reset_index(name='counts')\n",
    "print(len(dfstart_pt_med))\n",
    "\n",
    "dfstart_notes=df1[(df1[\"start_date_source\"] == \"Notes\")]\n",
    "dfstart_pt_notes=dfstart_notes.groupby([\"person_id\"]).size().reset_index(name='counts')\n",
    "print(len(dfstart_pt_notes))"
   ]
  },
  {
   "cell_type": "code",
   "execution_count": 67,
   "metadata": {},
   "outputs": [
    {
     "name": "stdout",
     "output_type": "stream",
     "text": [
      "614\n",
      "733\n"
     ]
    }
   ],
   "source": [
    "#for the end date:\n",
    "#patient count for the end dates \n",
    "\n",
    "list_start_med_pts=dfstart_pt_med[\"person_id\"].to_list()\n",
    "print(len(list_start_med_pts))\n",
    "\n",
    "list_start_notes_pts=dfstart_pt_notes[\"person_id\"].to_list()\n",
    "print(len(list_start_notes_pts))"
   ]
  },
  {
   "cell_type": "code",
   "execution_count": 68,
   "metadata": {},
   "outputs": [
    {
     "ename": "NameError",
     "evalue": "name 'list_med_pts' is not defined",
     "output_type": "error",
     "traceback": [
      "\u001b[0;31m---------------------------------------------------------------------------\u001b[0m",
      "\u001b[0;31mNameError\u001b[0m                                 Traceback (most recent call last)",
      "\u001b[0;32m<ipython-input-68-a79fa5ba8806>\u001b[0m in \u001b[0;36m<module>\u001b[0;34m\u001b[0m\n\u001b[0;32m----> 1\u001b[0;31m \u001b[0mtemp1\u001b[0m \u001b[0;34m=\u001b[0m \u001b[0;34m[\u001b[0m\u001b[0mitem\u001b[0m \u001b[0;32mfor\u001b[0m \u001b[0mitem\u001b[0m \u001b[0;32min\u001b[0m \u001b[0mlist_med_pts\u001b[0m \u001b[0;32mif\u001b[0m \u001b[0mitem\u001b[0m \u001b[0;32mnot\u001b[0m \u001b[0;32min\u001b[0m \u001b[0mlist_notes_pts\u001b[0m\u001b[0;34m]\u001b[0m\u001b[0;34m\u001b[0m\u001b[0;34m\u001b[0m\u001b[0m\n\u001b[0m\u001b[1;32m      2\u001b[0m \u001b[0mprint\u001b[0m\u001b[0;34m(\u001b[0m\u001b[0mlen\u001b[0m\u001b[0;34m(\u001b[0m\u001b[0mtemp1\u001b[0m\u001b[0;34m)\u001b[0m\u001b[0;34m)\u001b[0m\u001b[0;34m\u001b[0m\u001b[0;34m\u001b[0m\u001b[0m\n\u001b[1;32m      3\u001b[0m \u001b[0mtemp2\u001b[0m \u001b[0;34m=\u001b[0m \u001b[0;34m[\u001b[0m\u001b[0mitem\u001b[0m \u001b[0;32mfor\u001b[0m \u001b[0mitem\u001b[0m \u001b[0;32min\u001b[0m \u001b[0mlist_notes_pts\u001b[0m \u001b[0;32mif\u001b[0m \u001b[0mitem\u001b[0m \u001b[0;32mnot\u001b[0m \u001b[0;32min\u001b[0m \u001b[0mlist_med_pts\u001b[0m\u001b[0;34m]\u001b[0m\u001b[0;34m\u001b[0m\u001b[0;34m\u001b[0m\u001b[0m\n\u001b[1;32m      4\u001b[0m \u001b[0mprint\u001b[0m\u001b[0;34m(\u001b[0m\u001b[0mlen\u001b[0m\u001b[0;34m(\u001b[0m\u001b[0mtemp2\u001b[0m\u001b[0;34m)\u001b[0m\u001b[0;34m)\u001b[0m\u001b[0;34m\u001b[0m\u001b[0;34m\u001b[0m\u001b[0m\n\u001b[1;32m      5\u001b[0m \u001b[0;34m\u001b[0m\u001b[0m\n",
      "\u001b[0;31mNameError\u001b[0m: name 'list_med_pts' is not defined"
     ]
    }
   ],
   "source": [
    "temp1 = [item for item in list_med_pts if item not in list_notes_pts]\n",
    "print(len(temp1))\n",
    "temp2 = [item for item in list_notes_pts if item not in list_med_pts]\n",
    "print(len(temp2))\n",
    "\n",
    "temp3 = [item for item in list_notes_pts if item in  list_med_pts]\n",
    "print(len(temp3))\n",
    "temp4 = [item for item in list_med_pts if item in list_notes_pts ]\n",
    "print(len(temp4))"
   ]
  },
  {
   "cell_type": "code",
   "execution_count": null,
   "metadata": {},
   "outputs": [],
   "source": [
    "list_med_pts=df_med[\"person_id\"].to_list()\n",
    "print(len(list_med_pts))\n",
    "\n",
    "list_notes_pts=df_notes[\"person_id\"].to_list()\n",
    "print(len(list_notes_pts))"
   ]
  },
  {
   "cell_type": "code",
   "execution_count": null,
   "metadata": {},
   "outputs": [],
   "source": [
    "#build sub dataframe to get the infor on the pt level\n",
    "df_med=df1[(df1[\"end_date_source\"] == \"MedTable\")]\n",
    "\n",
    "df_med1=df_med[(df_med[\"cancer_drug\"]==\"Degarelix\")]\n",
    "df_med2=df_med[(df_med[\"cancer_drug\"]==\"Goserelin\")]\n",
    "df_med3=df_med[(df_med[\"cancer_drug\"]==\"Histrelin\")]\n",
    "df_med4=df_med[(df_med[\"cancer_drug\"]==\"Leuprolide\")]\n",
    "df_med5=df_med[(df_med[\"cancer_drug\"]==\"Triptorelin\")]"
   ]
  },
  {
   "cell_type": "code",
   "execution_count": null,
   "metadata": {},
   "outputs": [],
   "source": [
    "df_pt_med1=df_med1.groupby([\"person_id\"]).size().reset_index(name='counts')\n",
    "print(len(df_pt_med1))\n",
    "df_pt_med2=df_med2.groupby([\"person_id\"]).size().reset_index(name='counts')\n",
    "print(len(df_pt_med2))\n",
    "df_pt_med3=df_med3.groupby([\"person_id\"]).size().reset_index(name='counts')\n",
    "print(len(df_pt_med3))\n",
    "df_pt_med4=df_med4.groupby([\"person_id\"]).size().reset_index(name='counts')\n",
    "print(len(df_pt_med4))\n",
    "df_pt_med5=df_med5.groupby([\"person_id\"]).size().reset_index(name='counts')\n",
    "print(len(df_pt_med5))"
   ]
  },
  {
   "cell_type": "code",
   "execution_count": null,
   "metadata": {},
   "outputs": [],
   "source": [
    "df_pt_med2=df_med2.groupby([\"person_id\"]).size().reset_index(name='counts')\n",
    "print(df_pt_med1[\"counts\"].max())\n",
    "print(df_pt_med2[\"counts\"].max())\n",
    "print(df_pt_med3[\"counts\"].max())\n",
    "print(df_pt_med4[\"counts\"].max())\n",
    "print(df_pt_med5[\"counts\"].max())"
   ]
  },
  {
   "cell_type": "code",
   "execution_count": null,
   "metadata": {},
   "outputs": [],
   "source": [
    "#build sub dataframe to get the infor on the pt level\n",
    "df_notes=df1[(df1[\"end_date_source\"] == \"Notes\")]\n",
    "\n",
    "df_notes1=df_notes[(df_notes[\"cancer_drug\"]==\"Degarelix\")]\n",
    "df_notes2=df_notes[(df_notes[\"cancer_drug\"]==\"Goserelin\")]\n",
    "df_notes3=df_notes[(df_notes[\"cancer_drug\"]==\"Histrelin\")]\n",
    "df_notes4=df_notes[(df_notes[\"cancer_drug\"]==\"Leuprolide\")]\n",
    "df_notes5=df_notes[(df_notes[\"cancer_drug\"]==\"Triptorelin\")]\n",
    "\n",
    "df_pt_notes1=df_notes1.groupby([\"person_id\"]).size().reset_index(name='counts')\n",
    "print(len(df_pt_notes1))\n",
    "df_pt_notes2=df_notes2.groupby([\"person_id\"]).size().reset_index(name='counts')\n",
    "print(len(df_pt_notes2))\n",
    "df_pt_notes3=df_notes3.groupby([\"person_id\"]).size().reset_index(name='counts')\n",
    "print(len(df_pt_notes3))\n",
    "df_pt_notes4=df_notes4.groupby([\"person_id\"]).size().reset_index(name='counts')\n",
    "print(len(df_pt_notes4))\n",
    "df_pt_notes5=df_notes5.groupby([\"person_id\"]).size().reset_index(name='counts')\n",
    "print(len(df_pt_notes5))\n",
    "print(\"\")\n",
    "print(df_pt_notes1[\"counts\"].max())\n",
    "print(df_pt_notes2[\"counts\"].max())\n",
    "print(df_pt_notes3[\"counts\"].max())\n",
    "print(df_pt_notes4[\"counts\"].max())\n",
    "print(df_pt_notes5[\"counts\"].max())"
   ]
  },
  {
   "cell_type": "code",
   "execution_count": null,
   "metadata": {},
   "outputs": [],
   "source": [
    "df_notes=df1[(df1[\"end_date_source\"] == \"Notes\")]"
   ]
  },
  {
   "cell_type": "code",
   "execution_count": null,
   "metadata": {},
   "outputs": [],
   "source": [
    "df_endmed_group=df_med.groupby([\"cancer_drug\",\"person_id\"]).size()"
   ]
  },
  {
   "cell_type": "code",
   "execution_count": null,
   "metadata": {},
   "outputs": [],
   "source": [
    "df_endmed_group"
   ]
  },
  {
   "cell_type": "code",
   "execution_count": null,
   "metadata": {},
   "outputs": [],
   "source": [
    "#plot row counts chart for end date grouped by drugs\n",
    "\n",
    "labels =[\"Degarelix\",\"Goserelin\",\"Histrelin\",\"Leuprolide\",\"Triporelin\"]\n",
    "end_med = [112,79,0,682,6]\n",
    "end_note = [88,25,0,186,8]\n",
    "\n",
    "x = np.arange(len(labels))  # the label locations\n",
    "width = 0.35  # the width of the bars\n",
    "sns.set_context(\"poster\", font_scale=0.6, rc={\"lines.linewidth\": 2})\n",
    "sns.set_style(\"darkgrid\")\n",
    "fig, ax = plt.subplots()\n",
    "\n",
    "rects1 = ax.bar(x - width/2, end_med, width, label='MedTable', alpha=0.6)\n",
    "rects2 = ax.bar(x + width/2, end_note, width, label='Notes', alpha=0.6)\n",
    "\n",
    "# Add some text for labels, title and custom x-axis tick labels, etc.\n",
    "ax.set_ylabel('Counts')\n",
    "ax.set_title('Row counts by source for end dates')\n",
    "ax.set_xticks(x)\n",
    "ax.set_xticklabels(labels, rotation=45)\n",
    "ax.legend(ncol=1, bbox_to_anchor=(1.2, 0.5),loc='lower center', fontsize='small')\n",
    "\n",
    "def autolabel(rects):\n",
    "    \"\"\"Attach a text label above each bar in *rects*, displaying its height.\"\"\"\n",
    "    for rect in rects:\n",
    "        height = rect.get_height()\n",
    "        ax.annotate('{}'.format(height),\n",
    "                    xy=(rect.get_x() + rect.get_width() / 2, height),\n",
    "                    xytext=(0, 3),  # 3 points vertical offset\n",
    "                    textcoords=\"offset points\",\n",
    "                    ha='center', va='bottom')\n",
    "\n",
    "\n",
    "autolabel(rects1)\n",
    "autolabel(rects2)\n",
    "\n",
    "fig.tight_layout()"
   ]
  },
  {
   "cell_type": "code",
   "execution_count": null,
   "metadata": {},
   "outputs": [],
   "source": [
    "category_names = ['MedTable', 'Notes']\n",
    "results = {\n",
    "    \"Leuprolide\": [682,186],\n",
    "    \"Degarelix\": [112,88],\n",
    "    \"Goserelin\": [79,25],\n",
    "    \"Triporelin\": [6,8],\n",
    "    \"Histrelin\": [0,0]\n",
    "}\n",
    "\n",
    "def survey(results, category_names):\n",
    "    \"\"\"\n",
    "    Parameters\n",
    "    ----------\n",
    "    results : dict\n",
    "        A mapping from question labels to a list of answers per category.\n",
    "        It is assumed all lists contain the same number of entries and that\n",
    "        it matches the length of *category_names*.\n",
    "    category_names : list of str\n",
    "        The category labels.\n",
    "    \"\"\"\n",
    "    labels = list(results.keys())\n",
    "    data = np.array(list(results.values()))\n",
    "    data_cum = data.cumsum(axis=1)\n",
    "    category_colors = plt.get_cmap('plasma')(\n",
    "        np.linspace(0.15, 0.85, data.shape[1]))\n",
    "\n",
    "    sns.set_context(\"poster\", font_scale=0.6, rc={\"lines.linewidth\": 2})\n",
    "    fig, ax = plt.subplots(figsize=(9.2, 5))\n",
    "    ax.invert_yaxis()\n",
    "    ax.xaxis.set_visible(False)\n",
    "    ax.set_xlim(0, np.sum(data, axis=1).max())\n",
    "    ax.set_title('Patient counts by source for end dates')\n",
    "\n",
    "    for i, (colname, color) in enumerate(zip(category_names, category_colors)):\n",
    "        widths = data[:, i]\n",
    "        starts = data_cum[:, i] - widths\n",
    "        ax.barh(labels, widths, left=starts, height=0.5,\n",
    "                label=colname, color=color)\n",
    "        xcenters = starts + widths / 2\n",
    "\n",
    "        r, g, b, _ = color\n",
    "        text_color = 'white' if r * g * b < 0.5 else 'darkgrey'\n",
    "        for y, (x, c) in enumerate(zip(xcenters, widths)):\n",
    "            ax.text(x, y, str(int(c)), ha='center', va='center',\n",
    "                    color=text_color)\n",
    "    ax.legend(ncol=len(category_names), bbox_to_anchor=(0.4, 0),\n",
    "              loc='lower left', fontsize='medium')\n",
    "\n",
    "    return fig, ax\n",
    "\n",
    "\n",
    "survey(results, category_names)"
   ]
  },
  {
   "cell_type": "markdown",
   "metadata": {},
   "source": [
    "# Get data into shape and run through the Step B pipeline"
   ]
  },
  {
   "cell_type": "code",
   "execution_count": null,
   "metadata": {},
   "outputs": [],
   "source": [
    "##step 3.1. combine year, month and day into date and convert into python datetime format\n",
    "## step 3.2. make sure they take nan or blank lines\n",
    "## step 3.3. groupby person id\n",
    "df2[:5]"
   ]
  },
  {
   "cell_type": "code",
   "execution_count": null,
   "metadata": {},
   "outputs": [],
   "source": [
    "df2['start_date_source'].replace('', np.nan, inplace=True)\n",
    "df2['start_date_year'].replace('', np.nan, inplace=True)\n",
    "df2['start_date_month'].replace('', np.nan, inplace=True)\n",
    "df2['start_date_day'].replace('', np.nan, inplace=True)\n",
    "\n",
    "df2['end_date_source'].replace('', np.nan, inplace=True)\n",
    "df2['end_date_year'].replace('', np.nan, inplace=True)\n",
    "df2['end_date_month'].replace('', np.nan, inplace=True)\n",
    "df2['end_date_day'].replace('', np.nan, inplace=True)"
   ]
  },
  {
   "cell_type": "code",
   "execution_count": null,
   "metadata": {},
   "outputs": [],
   "source": [
    "dftest=df2"
   ]
  },
  {
   "cell_type": "code",
   "execution_count": null,
   "metadata": {
    "scrolled": false
   },
   "outputs": [],
   "source": [
    "dftest=df2\n",
    "dftest[\"start_date\"]=pd.to_datetime((dftest.start_date_year*10000 + dftest.start_date_month*100+dftest.start_date_day).apply(str),format='%Y%m%d')\n",
    "dftest[\"end_date\"]=pd.to_datetime((dftest.end_date_year*10000 + dftest.end_date_month*100+dftest.end_date_day).apply(str),format='%Y%m%d')"
   ]
  },
  {
   "cell_type": "code",
   "execution_count": null,
   "metadata": {},
   "outputs": [],
   "source": [
    "#define a subtable \n",
    "df3=dftest[['person_id', 'cancer_drug', 'start_date', 'end_date']]"
   ]
  },
  {
   "cell_type": "code",
   "execution_count": null,
   "metadata": {},
   "outputs": [],
   "source": [
    "y=13\n",
    "df_pt=df3[(dftest_sel[\"person_id\"] == y)]\n",
    "df_pt"
   ]
  },
  {
   "cell_type": "code",
   "execution_count": null,
   "metadata": {},
   "outputs": [],
   "source": [
    "#df4 is a groupby person_id table\n",
    "df4=df3.groupby([\"person_id\"]).size().reset_index(name='counts')"
   ]
  },
  {
   "cell_type": "code",
   "execution_count": null,
   "metadata": {},
   "outputs": [],
   "source": [
    "df4[\"counts\"].max()\n",
    "df4[(df4[\"counts\"] == 4)]"
   ]
  },
  {
   "cell_type": "code",
   "execution_count": null,
   "metadata": {},
   "outputs": [],
   "source": [
    "df4"
   ]
  },
  {
   "cell_type": "code",
   "execution_count": null,
   "metadata": {},
   "outputs": [],
   "source": [
    "#get the list of pt ids\n",
    "list_pts=df4[\"person_id\"].to_list()\n",
    "list_pts\n",
    "print(\"number of patients is:\")\n",
    "len(list_pts)"
   ]
  },
  {
   "cell_type": "code",
   "execution_count": null,
   "metadata": {},
   "outputs": [],
   "source": [
    "df3[:10]"
   ]
  },
  {
   "cell_type": "code",
   "execution_count": null,
   "metadata": {},
   "outputs": [],
   "source": [
    "df_ptcheck=df3[(df3[\"person_id\"] == 9533)]\n",
    "df_ptcheck"
   ]
  },
  {
   "cell_type": "code",
   "execution_count": null,
   "metadata": {},
   "outputs": [],
   "source": [
    "list_pts"
   ]
  },
  {
   "cell_type": "code",
   "execution_count": null,
   "metadata": {},
   "outputs": [],
   "source": [
    "result_list=[]\n",
    "\n",
    "for y in list_pts:      \n",
    "#for y in [2,12,13,18,22]:\n",
    "#for y in [12,13]:\n",
    "\n",
    "    #subset the dataframe to each pt\n",
    "    #get start dates and end dates to lists\n",
    "    df_pt=df3[(df3[\"person_id\"] == y)]\n",
    "    \n",
    "    each_pt_drug_start = df_pt['start_date'].to_list()\n",
    "    each_pt_drug_end = df_pt['end_date'].to_list()\n",
    "\n",
    "    ##get rid of nan\n",
    "    cleaned_a=[]\n",
    "    cleaned_a= [x for x in each_pt_drug_start if str(x) != 'NaN']\n",
    "    cleaned_aa= [x for x in cleaned_a if str(x) != 'nan']\n",
    "    cleaned_aaa= [x for x in cleaned_aa if str(x) != 'NaT']\n",
    "    cleaned_b=[]\n",
    "    cleaned_b= [x for x in each_pt_drug_end if str(x) != 'NaN']\n",
    "    cleaned_bb= [x for x in cleaned_b if str(x) != 'nan']\n",
    "    cleaned_bbb= [x for x in cleaned_bb if str(x) != 'NaT']\n",
    "\n",
    "    ##get the date format right\n",
    "    #startdatebin=[datetime.fromisoformat(str(x)) for x in cleaned_aa]\n",
    "    #enddatebin=[datetime.fromisoformat(str(x)) for x in cleaned_bb]\n",
    "\n",
    "    #sort \n",
    "    start_sorted_bin=sorted(cleaned_aaa)\n",
    "    end_sorted_bin=sorted(cleaned_bbb)\n",
    "    \n",
    "    start_with_2round=[]\n",
    "    start_with_1round=[]\n",
    "    \n",
    "    if(len(start_sorted_bin)==0):\n",
    "        startdate='NaN'  \n",
    "        \n",
    "    if(len(start_sorted_bin)>0):\n",
    "        a=start_sorted_bin[0]\n",
    "        \n",
    "        for b in start_sorted_bin:\n",
    "        #find all adt starting dates after 6months of inital starting    \n",
    "            if float(abs(a-b).days)>182.5:\n",
    "                start_with_2round.append(a)\n",
    "                start_with_2round.append(b)\n",
    "            else:\n",
    "                start_with_1round.append(a) \n",
    "        #cleanup \n",
    "        start_with_2round=start_with_2round[:2]\n",
    "\n",
    "        #get rid of repeated capturing for one round\n",
    "        cleanlist = []\n",
    "        for i in start_with_1round:\n",
    "            if i not in cleanlist:\n",
    "                cleanlist.append(i)\n",
    "        start_with_1round=cleanlist\n",
    "        #print(cleanlist)\n",
    "        enddateall=[]\n",
    "\n",
    "    if len(end_sorted_bin)==0:\n",
    "        enddate='NaN'\n",
    "        if(len(start_sorted_bin)==0):\n",
    "            startdate='NaN' \n",
    "        if(len(start_sorted_bin)>0):    \n",
    "            startdate=start_with_1round[0]\n",
    "        \n",
    "    if len(end_sorted_bin)>0:\n",
    "        for i in end_sorted_bin:\n",
    "        #at least two rounds of ADTs\n",
    "            if len(start_with_2round)==2:\n",
    "                if(i>=sorted(start_with_2round)[0]) and (i<=sorted(start_with_2round)[1]):\n",
    "                    startdate=sorted(start_with_2round)[0]\n",
    "                    enddateall.append(i)\n",
    "                    #print(enddateall)\n",
    "                #pick the one that is most close to the 2nd adt starting date\n",
    "                    if len(enddateall) == 0:\n",
    "                        enddate='NaN' \n",
    "                    else:\n",
    "                        enddate=enddateall[-1]\n",
    "\n",
    "                if(i>sorted(start_with_2round)[0]) and (i>sorted(start_with_2round)[1]) and (len(enddateall) == 0):\n",
    "                    startdate=sorted(start_with_2round)[0]\n",
    "                    enddate='NaN'\n",
    "                    #leave it as empty\n",
    "        \n",
    "        #only one round           \n",
    "            if (len(start_with_2round)<2) and (len(start_with_1round)==1):\n",
    "                if(i>=sorted(start_with_1round)[0]):\n",
    "                    startdate=start_with_1round[0]\n",
    "                    enddateall.append(i)\n",
    "                    if len(enddateall) == 0:\n",
    "                        enddate='NaN' \n",
    "                    else:\n",
    "                        enddate=enddateall[-1]\n",
    "                           \n",
    "    print(y, startdate, enddate)\n",
    "    result_per_pt=[y,startdate, enddate]\n",
    "    result_list.append(result_per_pt)"
   ]
  },
  {
   "cell_type": "code",
   "execution_count": null,
   "metadata": {},
   "outputs": [],
   "source": [
    "df_results=pd.DataFrame(result_list)\n",
    "df_results.columns=(['person_id', 'inital_ADT_start_date', 'inital_ADT_end_date'])\n",
    "#create a column for the time window \n",
    "df_results['Inital_ADT_timewindow'] = df_results['inital_ADT_end_date'] - df_results['inital_ADT_start_date']\n",
    "#create a column for the inital adt use window as days\n",
    "df_results['Inital_ADT_time_window_days']=df_results['Inital_ADT_timewindow'].dt.days"
   ]
  },
  {
   "cell_type": "code",
   "execution_count": null,
   "metadata": {},
   "outputs": [],
   "source": [
    "df_results\n",
    "df_results['index1'] = df_results.index\n",
    "df_results"
   ]
  },
  {
   "cell_type": "code",
   "execution_count": null,
   "metadata": {},
   "outputs": [],
   "source": [
    "## sns.set_style(\"darkgrid\")\n",
    "sns.set_context(\"poster\", font_scale=0.8, rc={\"lines.linewidth\": 2})\n",
    "binsize=180\n",
    "\n",
    "bins=np.arange(0, 1500, binsize)\n",
    "fig, ax = plt.subplots(figsize = (8,5))\n",
    "\n",
    "#n=df_results['Inital_ADT_time_window_days'].plot(kind = \"hist\", bins=bins, color=\"purple\", alpha=0.5)\n",
    "(n, bins, patches) = plt.hist(df_results['Inital_ADT_time_window_days'], bins=bins,color=\"green\", alpha=0.4)\n",
    "\n",
    "#decorate\n",
    "plt.title(\"Bin Size=\"+ str(binsize) +\" days\")\n",
    "plt.xlabel(\"Days\", fontsize=20, fontweight=\"bold\",color=\"gray\")\n",
    "plt.ylabel(\"Population\", fontsize=20,fontweight=\"bold\", color=\"gray\")\n",
    "\n",
    "ax.set_xticks(np.arange(0, 1501, 180))\n",
    "ax.set_xticklabels(np.arange(0, 1501, 180))\n",
    "\n",
    "# plot the label/text to each bin\n",
    "for i in range(0, len(n)):\n",
    "    x_pos = (bins[i + 1] - bins[i])/4 + bins[i]\n",
    "    y_pos = n[i] + 0.5\n",
    "    label = str(int(n[i])) # relative frequency of each bin\n",
    "    ax.text(x_pos, y_pos, label,fontsize=16,fontweight=\"bold\",color=\"gray\" )\n",
    "    ax.xaxis.tick_bottom()"
   ]
  },
  {
   "cell_type": "code",
   "execution_count": null,
   "metadata": {},
   "outputs": [],
   "source": [
    "## sns.set_style(\"darkgrid\")\n",
    "sns.set_context(\"poster\", font_scale=0.8, rc={\"lines.linewidth\": 2})\n",
    "binsize=180\n",
    "\n",
    "bins=np.arange(0, 1500, binsize)\n",
    "fig, ax = plt.subplots(figsize = (8,5))\n",
    "\n",
    "#n=df_results['Inital_ADT_time_window_days'].plot(kind = \"hist\", bins=bins, color=\"purple\", alpha=0.5)\n",
    "(n, bins, patches) = plt.hist(df_results['Inital_ADT_time_window_days'], bins=bins,color=\"green\", alpha=0.4)\n",
    "\n",
    "#decorate\n",
    "plt.title(\"Bin Size=\"+ str(int(binsize/30)) +\" months\")\n",
    "plt.xlabel(\"Months\", fontsize=20, fontweight=\"bold\",color=\"gray\")\n",
    "plt.ylabel(\"Population\", fontsize=20,fontweight=\"bold\", color=\"gray\")\n",
    "\n",
    "ax.set_xticks(np.arange(0, 1501, 180))\n",
    "ax.set_xticklabels(np.arange(0, 50, 6))\n",
    "\n",
    "# plot the label/text to each bin\n",
    "for i in range(0, len(n)):\n",
    "    x_pos = (bins[i + 1] - bins[i])/4 + bins[i]\n",
    "    y_pos = n[i] + 0.5\n",
    "    label = str(int(n[i])) # relative frequency of each bin\n",
    "    ax.text(x_pos, y_pos, label,fontsize=16,fontweight=\"bold\",color=\"gray\" )\n",
    "    ax.xaxis.tick_bottom()"
   ]
  },
  {
   "cell_type": "code",
   "execution_count": null,
   "metadata": {},
   "outputs": [],
   "source": [
    "#pt statistics\n",
    "\n",
    "df_start_empty=df_results[df_results.inital_ADT_start_date.isnull()]\n",
    "df_end_empty=df_results[df_results.inital_ADT_end_date.isnull()]\n",
    "df_both_empty1=df_results[df_results.inital_ADT_end_date.isnull()][df_results.inital_ADT_start_date.isnull()]\n",
    "#df_onlystartempty=df_results[df_results.inital_ADT_start_date.isnull()][df_results.inital_ADT_end_date.notnull()]\n",
    "#df_onlyendempty=df_results[df_results.inital_ADT_end_date.isnull()][df_results.inital_ADT_start_date.notnull()]\n",
    "df_both=df_results[df_results.inital_ADT_end_date.notnull()][df_results.inital_ADT_start_date.notnull()]\n",
    "#df_ADT_window_zero=df_results[df_results.Inital_ADT_time_window_days==0]\n",
    "\n",
    "print(\"Number of pts with start dates empty is: \" + str(len(df_start_empty)))\n",
    "print(\"Number of pts with end dates empty is: \" + str(len(df_end_empty)))  \n",
    "print(\"Number of pts with both dates empty is: \" + str(len(df_both_empty1)))\n",
    "print(\"Number of pts with both dates: \" + str(len(df_both)))"
   ]
  },
  {
   "cell_type": "code",
   "execution_count": null,
   "metadata": {},
   "outputs": [],
   "source": [
    "1514-1376"
   ]
  },
  {
   "cell_type": "code",
   "execution_count": null,
   "metadata": {},
   "outputs": [],
   "source": [
    "df_pt_zero_adt_window=df_results[(df_results[\"Inital_ADT_time_window_days\"] <= 90)]"
   ]
  },
  {
   "cell_type": "code",
   "execution_count": null,
   "metadata": {},
   "outputs": [],
   "source": [
    "len(df_pt_zero_adt_window)"
   ]
  },
  {
   "cell_type": "code",
   "execution_count": null,
   "metadata": {},
   "outputs": [],
   "source": [
    "#df_results[:50]"
   ]
  },
  {
   "cell_type": "code",
   "execution_count": null,
   "metadata": {},
   "outputs": [],
   "source": [
    "679+431-388"
   ]
  },
  {
   "cell_type": "code",
   "execution_count": null,
   "metadata": {},
   "outputs": [],
   "source": [
    "1514-1419"
   ]
  },
  {
   "cell_type": "code",
   "execution_count": null,
   "metadata": {},
   "outputs": [],
   "source": [
    "792-697"
   ]
  },
  {
   "cell_type": "code",
   "execution_count": null,
   "metadata": {},
   "outputs": [],
   "source": []
  }
 ],
 "metadata": {
  "kernelspec": {
   "display_name": "Python 3",
   "language": "python",
   "name": "python3"
  },
  "language_info": {
   "codemirror_mode": {
    "name": "ipython",
    "version": 3
   },
   "file_extension": ".py",
   "mimetype": "text/x-python",
   "name": "python",
   "nbconvert_exporter": "python",
   "pygments_lexer": "ipython3",
   "version": "3.7.4"
  }
 },
 "nbformat": 4,
 "nbformat_minor": 2
}
