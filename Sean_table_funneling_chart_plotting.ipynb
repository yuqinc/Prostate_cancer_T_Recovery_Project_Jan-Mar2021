{
 "cells": [
  {
   "cell_type": "code",
   "execution_count": null,
   "metadata": {},
   "outputs": [],
   "source": [
    "import matplotlib.pyplot as plt\n",
    "import matplotlib as mpl\n",
    "from matplotlib import font_manager as fm"
   ]
  },
  {
   "cell_type": "code",
   "execution_count": null,
   "metadata": {},
   "outputs": [],
   "source": [
    "#path = '/usr/share/fonts/truetype/msttcorefonts/Comic_Sans_MS.ttf'\n",
    "#prop = font_manager.FontProperties(fname=path)\n",
    "#mpl.rcParams['font.family'] = prop.get_name()\n",
    "\n",
    "\n",
    "# funnel chart\n",
    "y = [6,5,4,3,2,1]\n",
    "x = [4391,2450,1783,561,337,118]\n",
    "labels = ['Total pts from abbstraction', 'with at least one ADT dates', 'with an ADT use window', 'with a T baseline', \"with T tests after ADT\", \"with T recovery\"]\n",
    "x_max = 4500\n",
    "x_min = 0\n",
    "x_range = x_max - x_min\n",
    "#fpath = \"fonts/NotoSans-Regular.ttf\"\n",
    "#font = fm.FontProperties(fname=fpath)\n",
    "\n",
    "fig, ax = plt.subplots(1, figsize=(12,6))\n",
    "for idx, val in enumerate(x):\n",
    "    left = (x_range - val)/2\n",
    "    ax.barh(y[idx], x[idx], left = left, \n",
    "             color='#808B96', height=.8)\n",
    "    # label\n",
    "    ax.text(800, y[idx]+0.1, labels[idx], ha='center', fontsize=16, color='#2A2A2A')\n",
    "    # value\n",
    "    ax.text(800, y[idx]-0.3, str(x[idx])+ \" pts\", ha='center', fontsize=16, color='#2A2A2A')\n",
    "    \n",
    "    if idx != len(x)-1:\n",
    "        next_left = (x_range - x[idx+1])/2\n",
    "        shadow_x = [left, next_left, \n",
    "                    1600-next_left, 1600-left, left]\n",
    "        \n",
    "        shadow_y = [y[idx]-0.4, y[idx+1]+0.4, \n",
    "                    y[idx+1]+0.4, y[idx]-0.4, y[idx]-0.4]\n",
    "        plt.fill(shadow_x, shadow_y, color='grey', alpha=0.6)\n",
    "        \n",
    "plt.xlim(x_min, x_max)\n",
    "plt.axis('off')\n",
    "plt.title('Abstraction Patient Cohort Patient', loc='center', fontsize=24, color='#2A2A2A')\n",
    "plt.show()"
   ]
  }
 ],
 "metadata": {
  "kernelspec": {
   "display_name": "Python 3",
   "language": "python",
   "name": "python3"
  }
 },
 "nbformat": 4,
 "nbformat_minor": 2
}
