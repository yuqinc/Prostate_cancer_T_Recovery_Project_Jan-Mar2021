{
 "cells": [
  {
   "cell_type": "markdown",
   "metadata": {},
   "source": [
    "# README.md\n",
    "Build some initial statistics\n",
    "\n",
    "1) What are the enrichments from the notes? \n",
    "2) How many pts don’t have a start date? End date? How many are overlapped? And for each drug?\n",
    "3) Run through the inital ADT use pipeline to get the start and end date distribution, and duration\n",
    "4) Validate by manual chart reviews for 15 random pts (computational vs manual)"
   ]
  },
  {
   "cell_type": "markdown",
   "metadata": {},
   "source": [
    "# Step1, read from spreadsheet, clean up, and get statistics"
   ]
  },
  {
   "cell_type": "code",
   "execution_count": 1,
   "metadata": {},
   "outputs": [],
   "source": [
    "import numpy as np\n",
    "import pandas as pd\n",
    "import sys, getopt\n",
    "import csv\n",
    "from datetime import datetime\n",
    "import itertools\n",
    "\n",
    "from matplotlib import pyplot\n",
    "from pylab import *\n",
    "import matplotlib.pyplot as plt\n",
    "\n",
    "%matplotlib inline  \n",
    "import seaborn as sns"
   ]
  },
  {
   "cell_type": "code",
   "execution_count": 46,
   "metadata": {
    "scrolled": true
   },
   "outputs": [],
   "source": [
    "df1=pd.read_excel(\"large_tableA.xls\", header=0)\n",
    "df1.fillna('', inplace=True)"
   ]
  },
  {
   "cell_type": "code",
   "execution_count": 47,
   "metadata": {
    "scrolled": true
   },
   "outputs": [
    {
     "data": {
      "text/plain": [
       "Index(['person_id', 'cancer_drug', 'category', 'start_date_source',\n",
       "       'start_date_note_id', 'start_date_note_date', 'start_date_sent_id',\n",
       "       'start_date_evidence', 'start_date_matched_text', 'start_date_year',\n",
       "       'start_date_month', 'start_date_day', 'end_date_source',\n",
       "       'end_date_note_id', 'end_date_note_date', 'end_date_sent_id',\n",
       "       'end_date_evidence', 'end_date_matched_text', 'end_date_year',\n",
       "       'end_date_month', 'end_date_day', 'first_mentioned_note_id',\n",
       "       'first_mentioned_note_date', 'first_mentioned_evidence',\n",
       "       'first_mentioned_matched_text', 'last_mentioned_note_id',\n",
       "       'last_mentioned_note_date', 'last_mentioned_evidence',\n",
       "       'last_mentioned_text'],\n",
       "      dtype='object')"
      ]
     },
     "execution_count": 47,
     "metadata": {},
     "output_type": "execute_result"
    }
   ],
   "source": [
    "index_list=df1.columns\n",
    "index_list"
   ]
  },
  {
   "cell_type": "code",
   "execution_count": 48,
   "metadata": {},
   "outputs": [
    {
     "name": "stdout",
     "output_type": "stream",
     "text": [
      "(2015, 29)\n",
      "(2015, 10)\n"
     ]
    }
   ],
   "source": [
    "#delete empty columns\n",
    "\n",
    "print(df1.shape)\n",
    "del_col=['category',\n",
    "       'start_date_note_id', 'start_date_note_date', 'start_date_sent_id',\n",
    "       'start_date_evidence', 'start_date_matched_text', \n",
    "       'end_date_note_id', 'end_date_note_date', 'end_date_sent_id',\n",
    "       'end_date_evidence', 'end_date_matched_text', 'first_mentioned_note_id',\n",
    "       'first_mentioned_note_date', 'first_mentioned_evidence',\n",
    "       'first_mentioned_matched_text', 'last_mentioned_note_id',\n",
    "       'last_mentioned_note_date', 'last_mentioned_evidence',\n",
    "       'last_mentioned_text']\n",
    "\n",
    "for col in del_col:\n",
    "    del df1[col]\n",
    "print(df1.shape)"
   ]
  },
  {
   "cell_type": "code",
   "execution_count": 49,
   "metadata": {
    "scrolled": true
   },
   "outputs": [
    {
     "data": {
      "text/html": [
       "<div>\n",
       "<style scoped>\n",
       "    .dataframe tbody tr th:only-of-type {\n",
       "        vertical-align: middle;\n",
       "    }\n",
       "\n",
       "    .dataframe tbody tr th {\n",
       "        vertical-align: top;\n",
       "    }\n",
       "\n",
       "    .dataframe thead th {\n",
       "        text-align: right;\n",
       "    }\n",
       "</style>\n",
       "<table border=\"1\" class=\"dataframe\">\n",
       "  <thead>\n",
       "    <tr style=\"text-align: right;\">\n",
       "      <th></th>\n",
       "      <th>person_id</th>\n",
       "      <th>cancer_drug</th>\n",
       "      <th>start_date_source</th>\n",
       "      <th>start_date_year</th>\n",
       "      <th>start_date_month</th>\n",
       "      <th>start_date_day</th>\n",
       "      <th>end_date_source</th>\n",
       "      <th>end_date_year</th>\n",
       "      <th>end_date_month</th>\n",
       "      <th>end_date_day</th>\n",
       "    </tr>\n",
       "  </thead>\n",
       "  <tbody>\n",
       "    <tr>\n",
       "      <td>0</td>\n",
       "      <td>2</td>\n",
       "      <td>Leuprolide</td>\n",
       "      <td>Notes</td>\n",
       "      <td>2009</td>\n",
       "      <td>2</td>\n",
       "      <td>26</td>\n",
       "      <td>MedTable</td>\n",
       "      <td>2017</td>\n",
       "      <td>2</td>\n",
       "      <td>1</td>\n",
       "    </tr>\n",
       "    <tr>\n",
       "      <td>1</td>\n",
       "      <td>12</td>\n",
       "      <td>Leuprolide</td>\n",
       "      <td>MedTable</td>\n",
       "      <td>2013</td>\n",
       "      <td>5</td>\n",
       "      <td>6</td>\n",
       "      <td></td>\n",
       "      <td></td>\n",
       "      <td></td>\n",
       "      <td></td>\n",
       "    </tr>\n",
       "    <tr>\n",
       "      <td>2</td>\n",
       "      <td>13</td>\n",
       "      <td>Leuprolide</td>\n",
       "      <td>MedTable</td>\n",
       "      <td>2010</td>\n",
       "      <td>9</td>\n",
       "      <td>9</td>\n",
       "      <td>MedTable</td>\n",
       "      <td>2018</td>\n",
       "      <td>5</td>\n",
       "      <td>17</td>\n",
       "    </tr>\n",
       "    <tr>\n",
       "      <td>3</td>\n",
       "      <td>13</td>\n",
       "      <td>Degarelix</td>\n",
       "      <td></td>\n",
       "      <td></td>\n",
       "      <td></td>\n",
       "      <td></td>\n",
       "      <td></td>\n",
       "      <td></td>\n",
       "      <td></td>\n",
       "      <td></td>\n",
       "    </tr>\n",
       "    <tr>\n",
       "      <td>4</td>\n",
       "      <td>13</td>\n",
       "      <td>Goserelin</td>\n",
       "      <td>MedTable</td>\n",
       "      <td>2010</td>\n",
       "      <td>6</td>\n",
       "      <td>17</td>\n",
       "      <td>MedTable</td>\n",
       "      <td>2012</td>\n",
       "      <td>8</td>\n",
       "      <td>30</td>\n",
       "    </tr>\n",
       "    <tr>\n",
       "      <td>5</td>\n",
       "      <td>18</td>\n",
       "      <td>Goserelin</td>\n",
       "      <td>MedTable</td>\n",
       "      <td>2013</td>\n",
       "      <td>12</td>\n",
       "      <td>9</td>\n",
       "      <td>MedTable</td>\n",
       "      <td>2014</td>\n",
       "      <td>3</td>\n",
       "      <td>13</td>\n",
       "    </tr>\n",
       "    <tr>\n",
       "      <td>6</td>\n",
       "      <td>18</td>\n",
       "      <td>Degarelix</td>\n",
       "      <td>MedTable</td>\n",
       "      <td>2013</td>\n",
       "      <td>11</td>\n",
       "      <td>12</td>\n",
       "      <td></td>\n",
       "      <td></td>\n",
       "      <td></td>\n",
       "      <td></td>\n",
       "    </tr>\n",
       "    <tr>\n",
       "      <td>7</td>\n",
       "      <td>22</td>\n",
       "      <td>Leuprolide</td>\n",
       "      <td>Notes</td>\n",
       "      <td>2010</td>\n",
       "      <td>9</td>\n",
       "      <td>27</td>\n",
       "      <td>MedTable</td>\n",
       "      <td>2017</td>\n",
       "      <td>4</td>\n",
       "      <td>24</td>\n",
       "    </tr>\n",
       "    <tr>\n",
       "      <td>8</td>\n",
       "      <td>25</td>\n",
       "      <td>Leuprolide</td>\n",
       "      <td>MedTable</td>\n",
       "      <td>2013</td>\n",
       "      <td>11</td>\n",
       "      <td>12</td>\n",
       "      <td>MedTable</td>\n",
       "      <td>2014</td>\n",
       "      <td>2</td>\n",
       "      <td>18</td>\n",
       "    </tr>\n",
       "    <tr>\n",
       "      <td>9</td>\n",
       "      <td>26</td>\n",
       "      <td>Leuprolide</td>\n",
       "      <td>Notes</td>\n",
       "      <td>2014</td>\n",
       "      <td>11</td>\n",
       "      <td>26</td>\n",
       "      <td>Notes</td>\n",
       "      <td>2016</td>\n",
       "      <td>6</td>\n",
       "      <td></td>\n",
       "    </tr>\n",
       "    <tr>\n",
       "      <td>10</td>\n",
       "      <td>37</td>\n",
       "      <td>Leuprolide</td>\n",
       "      <td>MedTable</td>\n",
       "      <td>2010</td>\n",
       "      <td>9</td>\n",
       "      <td>29</td>\n",
       "      <td>Notes</td>\n",
       "      <td>2016</td>\n",
       "      <td>9</td>\n",
       "      <td>2</td>\n",
       "    </tr>\n",
       "    <tr>\n",
       "      <td>11</td>\n",
       "      <td>38</td>\n",
       "      <td>Leuprolide</td>\n",
       "      <td>Notes</td>\n",
       "      <td>2015</td>\n",
       "      <td>11</td>\n",
       "      <td>18</td>\n",
       "      <td>MedTable</td>\n",
       "      <td>2016</td>\n",
       "      <td>7</td>\n",
       "      <td>18</td>\n",
       "    </tr>\n",
       "    <tr>\n",
       "      <td>12</td>\n",
       "      <td>53</td>\n",
       "      <td>Leuprolide</td>\n",
       "      <td>MedTable</td>\n",
       "      <td>2013</td>\n",
       "      <td>2</td>\n",
       "      <td>25</td>\n",
       "      <td>Notes</td>\n",
       "      <td>2016</td>\n",
       "      <td></td>\n",
       "      <td></td>\n",
       "    </tr>\n",
       "    <tr>\n",
       "      <td>13</td>\n",
       "      <td>81</td>\n",
       "      <td>Degarelix</td>\n",
       "      <td>MedTable</td>\n",
       "      <td>2014</td>\n",
       "      <td>4</td>\n",
       "      <td>15</td>\n",
       "      <td>Notes</td>\n",
       "      <td>2014</td>\n",
       "      <td>4</td>\n",
       "      <td></td>\n",
       "    </tr>\n",
       "    <tr>\n",
       "      <td>14</td>\n",
       "      <td>81</td>\n",
       "      <td>Leuprolide</td>\n",
       "      <td>Notes</td>\n",
       "      <td>2013</td>\n",
       "      <td>9</td>\n",
       "      <td>25</td>\n",
       "      <td>MedTable</td>\n",
       "      <td>2016</td>\n",
       "      <td>6</td>\n",
       "      <td>9</td>\n",
       "    </tr>\n",
       "  </tbody>\n",
       "</table>\n",
       "</div>"
      ],
      "text/plain": [
       "    person_id cancer_drug start_date_source start_date_year start_date_month  \\\n",
       "0           2  Leuprolide             Notes            2009                2   \n",
       "1          12  Leuprolide          MedTable            2013                5   \n",
       "2          13  Leuprolide          MedTable            2010                9   \n",
       "3          13   Degarelix                                                      \n",
       "4          13   Goserelin          MedTable            2010                6   \n",
       "5          18   Goserelin          MedTable            2013               12   \n",
       "6          18   Degarelix          MedTable            2013               11   \n",
       "7          22  Leuprolide             Notes            2010                9   \n",
       "8          25  Leuprolide          MedTable            2013               11   \n",
       "9          26  Leuprolide             Notes            2014               11   \n",
       "10         37  Leuprolide          MedTable            2010                9   \n",
       "11         38  Leuprolide             Notes            2015               11   \n",
       "12         53  Leuprolide          MedTable            2013                2   \n",
       "13         81   Degarelix          MedTable            2014                4   \n",
       "14         81  Leuprolide             Notes            2013                9   \n",
       "\n",
       "   start_date_day end_date_source end_date_year end_date_month end_date_day  \n",
       "0              26        MedTable          2017              2            1  \n",
       "1               6                                                            \n",
       "2               9        MedTable          2018              5           17  \n",
       "3                                                                            \n",
       "4              17        MedTable          2012              8           30  \n",
       "5               9        MedTable          2014              3           13  \n",
       "6              12                                                            \n",
       "7              27        MedTable          2017              4           24  \n",
       "8              12        MedTable          2014              2           18  \n",
       "9              26           Notes          2016              6               \n",
       "10             29           Notes          2016              9            2  \n",
       "11             18        MedTable          2016              7           18  \n",
       "12             25           Notes          2016                              \n",
       "13             15           Notes          2014              4               \n",
       "14             25        MedTable          2016              6            9  "
      ]
     },
     "execution_count": 49,
     "metadata": {},
     "output_type": "execute_result"
    }
   ],
   "source": [
    "df1[:15]"
   ]
  },
  {
   "cell_type": "code",
   "execution_count": 6,
   "metadata": {},
   "outputs": [],
   "source": [
    "df2=df1"
   ]
  },
  {
   "cell_type": "markdown",
   "metadata": {},
   "source": [
    "# Research question: What's the enrichment to MedTable from the Notes for each drug? \n",
    "For the start and end date? How many have missing values?     "
   ]
  },
  {
   "cell_type": "code",
   "execution_count": 7,
   "metadata": {},
   "outputs": [
    {
     "name": "stdout",
     "output_type": "stream",
     "text": [
      "start_note  877\n",
      "start_med  681\n",
      "start_nan  0\n",
      "total_start 1558\n",
      " \n",
      "end_note  307\n",
      "end_med  879\n",
      "end_nan  0\n",
      "total_end 1186\n"
     ]
    }
   ],
   "source": [
    "start_note_list=[]\n",
    "start_med_list=[]\n",
    "\n",
    "end_note_list=[]\n",
    "end_med_list=[]\n",
    "\n",
    "for ind in df1.index:\n",
    " \n",
    "    if (df1['start_date_source'][ind]=='Notes'): \n",
    "        start_note_list.append(ind)  \n",
    "    if (df1['start_date_source'][ind]=='MedTable'): \n",
    "        start_med_list.append(ind)     \n",
    "        \n",
    "    if (df1['end_date_source'][ind]=='Notes'): \n",
    "        end_note_list.append(ind)  \n",
    "    if (df1['end_date_source'][ind]=='MedTable'): \n",
    "        end_med_list.append(ind)     \n",
    "\n",
    "print(\"start_note \", len(start_note_list))\n",
    "print(\"start_med \", len(start_med_list))\n",
    "print(\"start_nan \", df1['start_date_source'].isnull().sum())\n",
    "print(\"total_start\", len(start_note_list)+len(start_med_list)+df1['start_date_source'].isnull().sum())\n",
    "print(\" \")\n",
    "print(\"end_note \", len(end_note_list))\n",
    "print(\"end_med \", len(end_med_list))\n",
    "print(\"end_nan \", df1['end_date_source'].isnull().sum())\n",
    "print(\"total_end\", len(end_note_list)+len(end_med_list)+df1['end_date_source'].isnull().sum())"
   ]
  },
  {
   "cell_type": "code",
   "execution_count": 8,
   "metadata": {},
   "outputs": [
    {
     "data": {
      "image/png": "[encoded data removed]",
      "text/plain": [
       "<Figure size 432x288 with 1 Axes>"
      ]
     },
     "metadata": {},
     "output_type": "display_data"
    }
   ],
   "source": [
    "labels = ['Notes', 'MedTable', 'NaN']\n",
    "start_counts = [877, 681, 457]\n",
    "end_counts = [307, 879, 829]\n",
    "\n",
    "x = np.arange(len(labels))  # the label locations\n",
    "width = 0.35  # the width of the bars\n",
    "sns.set_context(\"poster\", font_scale=0.5, rc={\"lines.linewidth\": 2})\n",
    "sns.set_style(\"darkgrid\")\n",
    "fig, ax = plt.subplots()\n",
    "rects1 = ax.bar(x - width/2, start_counts, width, label='Start Date', alpha=0.6)\n",
    "rects2 = ax.bar(x + width/2, end_counts, width, label='End Date', alpha=0.6)\n",
    "\n",
    "# Add some text for labels, title and custom x-axis tick labels, etc.\n",
    "ax.set_ylabel('Counts')\n",
    "ax.set_title('Row counts by source')\n",
    "ax.set_xticks(x)\n",
    "ax.set_xticklabels(labels)\n",
    "ax.legend(ncol=1, bbox_to_anchor=(1.2, 0.5),loc='lower center', fontsize='small')\n",
    "\n",
    "def autolabel(rects):\n",
    "    \"\"\"Attach a text label above each bar in *rects*, displaying its height.\"\"\"\n",
    "    for rect in rects:\n",
    "        height = rect.get_height()\n",
    "        ax.annotate('{}'.format(height),\n",
    "                    xy=(rect.get_x() + rect.get_width() / 2, height),\n",
    "                    xytext=(0, 3),  # 3 points vertical offset\n",
    "                    textcoords=\"offset points\",\n",
    "                    ha='center', va='bottom')\n",
    "\n",
    "\n",
    "autolabel(rects1)\n",
    "autolabel(rects2)\n",
    "\n",
    "fig.tight_layout()"
   ]
  },
  {
   "cell_type": "code",
   "execution_count": 9,
   "metadata": {},
   "outputs": [],
   "source": [
    "#how many lines that have both start and end date as nan?\n",
    "#these correspond to how many patients?\n",
    "\n",
    "df1_start_null=df1[df1['start_date_year'].isnull()]\n",
    "df1_end_null=df1[df1['end_date_source'].isnull()]"
   ]
  },
  {
   "cell_type": "code",
   "execution_count": 10,
   "metadata": {},
   "outputs": [],
   "source": [
    "start_empty_list=df1[df1['start_date_year'] == ''].index.to_list()\n",
    "end_empty_list=df1[df1['end_date_year'] == ''].index.to_list()"
   ]
  },
  {
   "cell_type": "code",
   "execution_count": 11,
   "metadata": {},
   "outputs": [
    {
     "name": "stdout",
     "output_type": "stream",
     "text": [
      "# of pts that have no start nor end : 457\n",
      "# of pts that no start but with an end date: 0\n",
      "# of pts that have a start but no end date: 372\n"
     ]
    }
   ],
   "source": [
    "test1=[x for x in start_empty_list if x in end_empty_list]\n",
    "print(\"# of pts that have no start nor end :\",len(test1))\n",
    "test2=[x for x in start_empty_list  if x not in end_empty_list]\n",
    "print(\"# of pts that no start but with an end date:\",len(test2))\n",
    "test3=[x for x in end_empty_list if x not in start_empty_list ]\n",
    "print(\"# of pts that have a start but no end date:\",len(test3))\n",
    "\n",
    "#list_pts_bothdates_empty=set(list_pts_start_empty).intersection(list_pts_end_empty)\n",
    "#print(\"number of pts with both start and end empty: \", len(list_pts_bothdates_empty))"
   ]
  },
  {
   "cell_type": "code",
   "execution_count": 12,
   "metadata": {},
   "outputs": [
    {
     "data": {
      "text/plain": [
       "0"
      ]
     },
     "execution_count": 12,
     "metadata": {},
     "output_type": "execute_result"
    }
   ],
   "source": [
    "len(df1_start_null)"
   ]
  },
  {
   "cell_type": "code",
   "execution_count": 13,
   "metadata": {},
   "outputs": [],
   "source": [
    "#group to pt level\n",
    "df2_start=df1_start_null.groupby([\"person_id\"]).size().reset_index(name='counts')\n",
    "df2_end=df1_end_null.groupby([\"person_id\"]).size().reset_index(name='counts')"
   ]
  },
  {
   "cell_type": "code",
   "execution_count": 14,
   "metadata": {},
   "outputs": [
    {
     "name": "stdout",
     "output_type": "stream",
     "text": [
      "0\n",
      "0\n"
     ]
    }
   ],
   "source": [
    "list_pts_start_empty=df2_start[\"person_id\"].to_list()\n",
    "print(len(list_pts_start_empty))\n",
    "\n",
    "list_pts_end_empty=df2_end[\"person_id\"].to_list()\n",
    "print(len(list_pts_end_empty))"
   ]
  },
  {
   "cell_type": "code",
   "execution_count": 15,
   "metadata": {},
   "outputs": [
    {
     "name": "stdout",
     "output_type": "stream",
     "text": [
      "# of pts that have no start nor end : 0\n",
      "# of pts that no start but with an end date: 0\n",
      "# of pts that have a start but no end date: 0\n"
     ]
    }
   ],
   "source": [
    "test1=[x for x in list_pts_start_empty if x in list_pts_end_empty]\n",
    "print(\"# of pts that have no start nor end :\",len(test1))\n",
    "test2=[x for x in list_pts_start_empty if x not in list_pts_end_empty]\n",
    "print(\"# of pts that no start but with an end date:\",len(test2))\n",
    "test3=[x for x in list_pts_end_empty if x not in list_pts_start_empty]\n",
    "print(\"# of pts that have a start but no end date:\",len(test3))\n",
    "\n",
    "#list_pts_bothdates_empty=set(list_pts_start_empty).intersection(list_pts_end_empty)\n",
    "#print(\"number of pts with both start and end empty: \", len(list_pts_bothdates_empty))"
   ]
  },
  {
   "cell_type": "code",
   "execution_count": 16,
   "metadata": {},
   "outputs": [],
   "source": [
    "Notes_start_row_list=df1[df1['start_date_source'] == 'Notes']"
   ]
  },
  {
   "cell_type": "code",
   "execution_count": 17,
   "metadata": {},
   "outputs": [],
   "source": [
    "#pt id list in only in Notes, only in Medtable and in both for start date, and end date (6 lists)\n",
    "#group by drug names \n",
    "\n",
    "Notes_start_byrow=df1[df1['start_date_source'] == 'Notes']"
   ]
  },
  {
   "cell_type": "code",
   "execution_count": 18,
   "metadata": {},
   "outputs": [
    {
     "data": {
      "text/plain": [
       "<pandas.core.groupby.generic.DataFrameGroupBy object at 0x7ff511d8fc50>"
      ]
     },
     "execution_count": 18,
     "metadata": {},
     "output_type": "execute_result"
    }
   ],
   "source": [
    "df1[df1['start_date_source'] == 'Notes'].groupby([\"person_id\"])"
   ]
  },
  {
   "cell_type": "code",
   "execution_count": 19,
   "metadata": {},
   "outputs": [],
   "source": [
    "ADT_lib=[\"Leuprolide\",\"Degarelix\",\"Goserelin\",\"Triptorelin\",\"Histrelin\"]"
   ]
  },
  {
   "cell_type": "code",
   "execution_count": 20,
   "metadata": {},
   "outputs": [
    {
     "data": {
      "text/plain": [
       "cancer_drug  start_date_source\n",
       "Degarelix                         100\n",
       "             MedTable              97\n",
       "             Notes                245\n",
       "Goserelin                          41\n",
       "             MedTable              87\n",
       "             Notes                 41\n",
       "Histrelin                           6\n",
       "             MedTable               1\n",
       "             Notes                  1\n",
       "Leuprolide                        289\n",
       "             MedTable             486\n",
       "             Notes                576\n",
       "Triptorelin                        21\n",
       "             MedTable              10\n",
       "             Notes                 14\n",
       "dtype: int64"
      ]
     },
     "execution_count": 20,
     "metadata": {},
     "output_type": "execute_result"
    }
   ],
   "source": [
    "df_start_group=df1.groupby([\"cancer_drug\",\"start_date_source\"]).size() \n",
    "df_start_group"
   ]
  },
  {
   "cell_type": "code",
   "execution_count": 21,
   "metadata": {},
   "outputs": [
    {
     "data": {
      "image/png": "[encoded data removed]",
      "text/plain": [
       "<Figure size 432x288 with 1 Axes>"
      ]
     },
     "metadata": {},
     "output_type": "display_data"
    }
   ],
   "source": [
    "labels =[\"Degarelix\",\"Goserelin\",\"Histrelin\",\"Leuprolide\",\"Triptorelin\"]\n",
    "start_med = [97,87,1,486,10]\n",
    "start_note = [245,41,1,576,14]\n",
    "\n",
    "x = np.arange(len(labels))  # the label locations\n",
    "width = 0.35  # the width of the bars\n",
    "sns.set_context(\"poster\", font_scale=0.5, rc={\"font.size\":8,\"axes.titlesize\":8,\"axes.labelsize\":5,\"lines.linewidth\": 2})\n",
    "sns.set_style(\"darkgrid\")\n",
    "fig, ax = plt.subplots()\n",
    "\n",
    "rects1 = ax.bar(x - width/2, start_med, width, label='MedTable', alpha=0.6)\n",
    "rects2 = ax.bar(x + width/2, start_note, width, label='Notes', alpha=0.6)\n",
    "\n",
    "# Add some text for labels, title and custom x-axis tick labels, etc.\n",
    "ax.set_ylabel('Counts')\n",
    "ax.set_title('Row counts by source for start dates')\n",
    "ax.set_xticks(x)\n",
    "ax.set_xticklabels(labels,rotation=45)\n",
    "ax.legend(ncol=1, bbox_to_anchor=(1.2, 0.5),loc='lower center', fontsize='small')\n",
    "\n",
    "def autolabel(rects):\n",
    "    \"\"\"Attach a text label above each bar in *rects*, displaying its height.\"\"\"\n",
    "    for rect in rects:\n",
    "        height = rect.get_height()\n",
    "        ax.annotate('{}'.format(height),\n",
    "                    xy=(rect.get_x() + rect.get_width() / 2, height),\n",
    "                    xytext=(0, 3),  # 3 points vertical offset\n",
    "                    textcoords=\"offset points\",\n",
    "                    ha='center', va='bottom')\n",
    "\n",
    "\n",
    "autolabel(rects1)\n",
    "autolabel(rects2)\n",
    "\n",
    "fig.tight_layout()"
   ]
  },
  {
   "cell_type": "code",
   "execution_count": 69,
   "metadata": {
    "scrolled": true
   },
   "outputs": [
    {
     "data": {
      "text/plain": [
       "(<Figure size 1080x360 with 1 Axes>,\n",
       " <matplotlib.axes._subplots.AxesSubplot at 0x7ff4d0fa1310>)"
      ]
     },
     "execution_count": 69,
     "metadata": {},
     "output_type": "execute_result"
    },
    {
     "data": {
      "image/png": "[encoded data removed]",
      "text/plain": [
       "<Figure size 1080x360 with 1 Axes>"
      ]
     },
     "metadata": {},
     "output_type": "display_data"
    }
   ],
   "source": [
    "category_names = ['MedTable', 'Notes', 'NaN']\n",
    "results = {\n",
    "    \"Leuprolide\": [486,576,289],\n",
    "    \"Degarelix\": [97, 245,100],\n",
    "    \"Goserelin\": [87,41,41],\n",
    "    \"Triptorelin\": [10,14,21],\n",
    "    \"Histrelin\": [1,1,8]\n",
    "}\n",
    "\n",
    "\n",
    "def survey(results, category_names):\n",
    "    \"\"\"\n",
    "    Parameters\n",
    "    ----------\n",
    "    results : dict\n",
    "        A mapping from question labels to a list of answers per category.\n",
    "        It is assumed all lists contain the same number of entries and that\n",
    "        it matches the length of *category_names*.\n",
    "    category_names : list of str\n",
    "        The category labels.\n",
    "    \"\"\"\n",
    "    labels = list(results.keys())\n",
    "    data = np.array(list(results.values()))\n",
    "    data_cum = data.cumsum(axis=1)\n",
    "    category_colors = plt.get_cmap('plasma')(\n",
    "        np.linspace(0.15, 0.85, data.shape[1]))\n",
    "\n",
    "    sns.set_context(\"poster\", font_scale=0.6, rc={\"lines.linewidth\": 2})\n",
    "    fig, ax = plt.subplots(figsize=(15, 5))\n",
    "    ax.invert_yaxis()\n",
    "    ax.xaxis.set_visible(False)\n",
    "    ax.set_xlim(0, np.sum(data, axis=1).max())\n",
    "    ax.set_title('Patient counts by source for start dates')\n",
    "    \n",
    "    for i, (colname, color) in enumerate(zip(category_names, category_colors)):\n",
    "        widths = data[:, i]\n",
    "        starts = data_cum[:, i] - widths\n",
    "        ax.barh(labels, widths, left=starts, height=0.5,\n",
    "                label=colname, color=color)\n",
    "        xcenters = starts + widths / 2\n",
    "\n",
    "        r, g, b, _ = color\n",
    "        text_color = 'white' if r * g * b < 0.5 else 'darkgrey'\n",
    "        for y, (x, c) in enumerate(zip(xcenters, widths)):\n",
    "            ax.text(x, y, str(int(c)), ha='center', va='center',\n",
    "                    color=text_color,fontweight='bold')\n",
    "    ax.legend(ncol=len(category_names), bbox_to_anchor=(0.4, 0),\n",
    "              loc='lower left', fontsize='medium')\n",
    "\n",
    "    return fig, ax\n",
    "\n",
    "\n",
    "survey(results, category_names)"
   ]
  },
  {
   "cell_type": "code",
   "execution_count": 68,
   "metadata": {},
   "outputs": [
    {
     "data": {
      "text/plain": [
       "(<Figure size 1080x360 with 1 Axes>,\n",
       " <matplotlib.axes._subplots.AxesSubplot at 0x7ff4f06946d0>)"
      ]
     },
     "execution_count": 68,
     "metadata": {},
     "output_type": "execute_result"
    },
    {
     "data": {
      "image/png": "[encoded data removed]",
      "text/plain": [
       "<Figure size 1080x360 with 1 Axes>"
      ]
     },
     "metadata": {},
     "output_type": "display_data"
    }
   ],
   "source": [
    "category_names = ['MedTable', 'Notes', 'NaN']\n",
    "results = {\n",
    "    \"Leuprolide\": [682,186,483],\n",
    "    \"Degarelix\": [112,88,242],\n",
    "    \"Goserelin\": [79,25,65],\n",
    "    \"Triptorelin\": [6,8,31],\n",
    "    \"Histrelin\": [0,0,8]\n",
    "}\n",
    "\n",
    "\n",
    "def survey(results, category_names):\n",
    "    \"\"\"\n",
    "    Parameters\n",
    "    ----------\n",
    "    results : dict\n",
    "        A mapping from question labels to a list of answers per category.\n",
    "        It is assumed all lists contain the same number of entries and that\n",
    "        it matches the length of *category_names*.\n",
    "    category_names : list of str\n",
    "        The category labels.\n",
    "    \"\"\"\n",
    "    labels = list(results.keys())\n",
    "    data = np.array(list(results.values()))\n",
    "    data_cum = data.cumsum(axis=1)\n",
    "    category_colors = plt.get_cmap('plasma')(\n",
    "        np.linspace(0.15, 0.85, data.shape[1]))\n",
    "\n",
    "    sns.set_context(\"poster\", font_scale=0.6, rc={\"lines.linewidth\": 2})\n",
    "    fig, ax = plt.subplots(figsize=(15, 5))\n",
    "    ax.invert_yaxis()\n",
    "    ax.xaxis.set_visible(False)\n",
    "    ax.set_xlim(0, np.sum(data, axis=1).max())\n",
    "    ax.set_title('Patient counts by source for end dates')\n",
    "    \n",
    "    for i, (colname, color) in enumerate(zip(category_names, category_colors)):\n",
    "        widths = data[:, i]\n",
    "        starts = data_cum[:, i] - widths\n",
    "        ax.barh(labels, widths, left=starts, height=0.5,\n",
    "                label=colname, color=color)\n",
    "        xcenters = starts + widths / 2\n",
    "\n",
    "        r, g, b, _ = color\n",
    "        text_color = 'white' if r * g * b < 0.5 else 'darkgrey'\n",
    "        for y, (x, c) in enumerate(zip(xcenters, widths)):\n",
    "            ax.text(x, y, str(int(c)), ha='center', va='center',\n",
    "                    color=text_color, fontweight='bold')\n",
    "    ax.legend(ncol=len(category_names), bbox_to_anchor=(0.4, 0),\n",
    "              loc='lower left', fontsize='medium')\n",
    "\n",
    "    return fig, ax\n",
    "\n",
    "\n",
    "survey(results, category_names)"
   ]
  },
  {
   "cell_type": "code",
   "execution_count": 23,
   "metadata": {},
   "outputs": [
    {
     "data": {
      "text/plain": [
       "cancer_drug  end_date_source\n",
       "Degarelix                       242\n",
       "             MedTable           112\n",
       "             Notes               88\n",
       "Goserelin                        65\n",
       "             MedTable            79\n",
       "             Notes               25\n",
       "Histrelin                         8\n",
       "Leuprolide                      483\n",
       "             MedTable           682\n",
       "             Notes              186\n",
       "Triptorelin                      31\n",
       "             MedTable             6\n",
       "             Notes                8\n",
       "dtype: int64"
      ]
     },
     "execution_count": 23,
     "metadata": {},
     "output_type": "execute_result"
    }
   ],
   "source": [
    "df_endmed_group=df1.groupby([\"cancer_drug\",\"end_date_source\"]).size() \n",
    "#.reset_index(name='counts')\n",
    "df_endmed_group"
   ]
  },
  {
   "cell_type": "code",
   "execution_count": 24,
   "metadata": {},
   "outputs": [
    {
     "data": {
      "text/plain": [
       "end_date_source\n",
       "            829\n",
       "MedTable    879\n",
       "Notes       307\n",
       "dtype: int64"
      ]
     },
     "execution_count": 24,
     "metadata": {},
     "output_type": "execute_result"
    }
   ],
   "source": [
    "df_endmed_group=df1.groupby([\"end_date_source\"]).size() \n",
    "#.reset_index(name='counts')\n",
    "df_endmed_group"
   ]
  },
  {
   "cell_type": "code",
   "execution_count": 25,
   "metadata": {},
   "outputs": [
    {
     "name": "stdout",
     "output_type": "stream",
     "text": [
      "start med row #: 681\n"
     ]
    }
   ],
   "source": [
    "#subgroup by row\n",
    "#further grouped by pt\n",
    "#get stat\n",
    "#get the list of pt ids\n",
    "\n",
    "dfstart_med=df1[(df1[\"start_date_source\"] == \"MedTable\")]\n",
    "A=dfstart_med\n",
    "dfstart_pt_med=A.groupby([\"person_id\"]).size().reset_index(name='counts')\n",
    "print(\"start med row #: \" +str(len(A)))\n",
    "list_start_pt_med=A.groupby([\"person_id\"]).size().reset_index(name='counts')[\"person_id\"].to_list()"
   ]
  },
  {
   "cell_type": "code",
   "execution_count": 45,
   "metadata": {},
   "outputs": [
    {
     "data": {
      "text/html": [
       "<div>\n",
       "<style scoped>\n",
       "    .dataframe tbody tr th:only-of-type {\n",
       "        vertical-align: middle;\n",
       "    }\n",
       "\n",
       "    .dataframe tbody tr th {\n",
       "        vertical-align: top;\n",
       "    }\n",
       "\n",
       "    .dataframe thead th {\n",
       "        text-align: right;\n",
       "    }\n",
       "</style>\n",
       "<table border=\"1\" class=\"dataframe\">\n",
       "  <thead>\n",
       "    <tr style=\"text-align: right;\">\n",
       "      <th></th>\n",
       "      <th>person_id</th>\n",
       "      <th>cancer_drug</th>\n",
       "      <th>start_date_source</th>\n",
       "      <th>start_date_year</th>\n",
       "      <th>start_date_month</th>\n",
       "      <th>start_date_day</th>\n",
       "      <th>end_date_source</th>\n",
       "      <th>end_date_year</th>\n",
       "      <th>end_date_month</th>\n",
       "      <th>end_date_day</th>\n",
       "    </tr>\n",
       "  </thead>\n",
       "  <tbody>\n",
       "    <tr>\n",
       "      <td>0</td>\n",
       "      <td>2</td>\n",
       "      <td>Leuprolide</td>\n",
       "      <td>Notes</td>\n",
       "      <td>2009</td>\n",
       "      <td>2</td>\n",
       "      <td>26</td>\n",
       "      <td>MedTable</td>\n",
       "      <td>2017</td>\n",
       "      <td>2</td>\n",
       "      <td>1</td>\n",
       "    </tr>\n",
       "    <tr>\n",
       "      <td>1</td>\n",
       "      <td>12</td>\n",
       "      <td>Leuprolide</td>\n",
       "      <td>MedTable</td>\n",
       "      <td>2013</td>\n",
       "      <td>5</td>\n",
       "      <td>6</td>\n",
       "      <td></td>\n",
       "      <td></td>\n",
       "      <td></td>\n",
       "      <td></td>\n",
       "    </tr>\n",
       "    <tr>\n",
       "      <td>2</td>\n",
       "      <td>13</td>\n",
       "      <td>Leuprolide</td>\n",
       "      <td>MedTable</td>\n",
       "      <td>2010</td>\n",
       "      <td>9</td>\n",
       "      <td>9</td>\n",
       "      <td>MedTable</td>\n",
       "      <td>2018</td>\n",
       "      <td>5</td>\n",
       "      <td>17</td>\n",
       "    </tr>\n",
       "    <tr>\n",
       "      <td>3</td>\n",
       "      <td>13</td>\n",
       "      <td>Degarelix</td>\n",
       "      <td></td>\n",
       "      <td></td>\n",
       "      <td></td>\n",
       "      <td></td>\n",
       "      <td></td>\n",
       "      <td></td>\n",
       "      <td></td>\n",
       "      <td></td>\n",
       "    </tr>\n",
       "    <tr>\n",
       "      <td>4</td>\n",
       "      <td>13</td>\n",
       "      <td>Goserelin</td>\n",
       "      <td>MedTable</td>\n",
       "      <td>2010</td>\n",
       "      <td>6</td>\n",
       "      <td>17</td>\n",
       "      <td>MedTable</td>\n",
       "      <td>2012</td>\n",
       "      <td>8</td>\n",
       "      <td>30</td>\n",
       "    </tr>\n",
       "    <tr>\n",
       "      <td>...</td>\n",
       "      <td>...</td>\n",
       "      <td>...</td>\n",
       "      <td>...</td>\n",
       "      <td>...</td>\n",
       "      <td>...</td>\n",
       "      <td>...</td>\n",
       "      <td>...</td>\n",
       "      <td>...</td>\n",
       "      <td>...</td>\n",
       "      <td>...</td>\n",
       "    </tr>\n",
       "    <tr>\n",
       "      <td>2010</td>\n",
       "      <td>203736</td>\n",
       "      <td>Leuprolide</td>\n",
       "      <td>Notes</td>\n",
       "      <td>2020</td>\n",
       "      <td>7</td>\n",
       "      <td>7</td>\n",
       "      <td>MedTable</td>\n",
       "      <td>2020</td>\n",
       "      <td>10</td>\n",
       "      <td>14</td>\n",
       "    </tr>\n",
       "    <tr>\n",
       "      <td>2011</td>\n",
       "      <td>203796</td>\n",
       "      <td>Leuprolide</td>\n",
       "      <td>MedTable</td>\n",
       "      <td>2020</td>\n",
       "      <td>10</td>\n",
       "      <td>6</td>\n",
       "      <td></td>\n",
       "      <td></td>\n",
       "      <td></td>\n",
       "      <td></td>\n",
       "    </tr>\n",
       "    <tr>\n",
       "      <td>2012</td>\n",
       "      <td>204648</td>\n",
       "      <td>Leuprolide</td>\n",
       "      <td>MedTable</td>\n",
       "      <td>2020</td>\n",
       "      <td>11</td>\n",
       "      <td>3</td>\n",
       "      <td></td>\n",
       "      <td></td>\n",
       "      <td></td>\n",
       "      <td></td>\n",
       "    </tr>\n",
       "    <tr>\n",
       "      <td>2013</td>\n",
       "      <td>205144</td>\n",
       "      <td>Leuprolide</td>\n",
       "      <td>Notes</td>\n",
       "      <td>2020</td>\n",
       "      <td>7</td>\n",
       "      <td>13</td>\n",
       "      <td>MedTable</td>\n",
       "      <td>2020</td>\n",
       "      <td>10</td>\n",
       "      <td>12</td>\n",
       "    </tr>\n",
       "    <tr>\n",
       "      <td>2014</td>\n",
       "      <td>209416</td>\n",
       "      <td>Leuprolide</td>\n",
       "      <td></td>\n",
       "      <td></td>\n",
       "      <td></td>\n",
       "      <td></td>\n",
       "      <td></td>\n",
       "      <td></td>\n",
       "      <td></td>\n",
       "      <td></td>\n",
       "    </tr>\n",
       "  </tbody>\n",
       "</table>\n",
       "<p>2015 rows × 10 columns</p>\n",
       "</div>"
      ],
      "text/plain": [
       "      person_id cancer_drug start_date_source start_date_year  \\\n",
       "0             2  Leuprolide             Notes            2009   \n",
       "1            12  Leuprolide          MedTable            2013   \n",
       "2            13  Leuprolide          MedTable            2010   \n",
       "3            13   Degarelix                                     \n",
       "4            13   Goserelin          MedTable            2010   \n",
       "...         ...         ...               ...             ...   \n",
       "2010     203736  Leuprolide             Notes            2020   \n",
       "2011     203796  Leuprolide          MedTable            2020   \n",
       "2012     204648  Leuprolide          MedTable            2020   \n",
       "2013     205144  Leuprolide             Notes            2020   \n",
       "2014     209416  Leuprolide                                     \n",
       "\n",
       "     start_date_month start_date_day end_date_source end_date_year  \\\n",
       "0                   2             26        MedTable          2017   \n",
       "1                   5              6                                 \n",
       "2                   9              9        MedTable          2018   \n",
       "3                                                                    \n",
       "4                   6             17        MedTable          2012   \n",
       "...               ...            ...             ...           ...   \n",
       "2010                7              7        MedTable          2020   \n",
       "2011               10              6                                 \n",
       "2012               11              3                                 \n",
       "2013                7             13        MedTable          2020   \n",
       "2014                                                                 \n",
       "\n",
       "     end_date_month end_date_day  \n",
       "0                 2            1  \n",
       "1                                 \n",
       "2                 5           17  \n",
       "3                                 \n",
       "4                 8           30  \n",
       "...             ...          ...  \n",
       "2010             10           14  \n",
       "2011                              \n",
       "2012                              \n",
       "2013             10           12  \n",
       "2014                              \n",
       "\n",
       "[2015 rows x 10 columns]"
      ]
     },
     "execution_count": 45,
     "metadata": {},
     "output_type": "execute_result"
    }
   ],
   "source": [
    "df1"
   ]
  },
  {
   "cell_type": "code",
   "execution_count": 58,
   "metadata": {},
   "outputs": [
    {
     "name": "stdout",
     "output_type": "stream",
     "text": [
      "start_leu pt #: 486\n"
     ]
    },
    {
     "name": "stderr",
     "output_type": "stream",
     "text": [
      "/Users/yuqincai/opt/anaconda3/lib/python3.7/site-packages/ipykernel_launcher.py:2: UserWarning: Boolean Series key will be reindexed to match DataFrame index.\n",
      "  \n"
     ]
    }
   ],
   "source": [
    "#Leuprolide\n",
    "df_start_leu=df1[(df1[\"cancer_drug\"] == \"Leuprolide\")][(df1[\"start_date_source\"] == \"MedTable\")]\n",
    "dfstart_leu_pt=df_start_leu.groupby([\"person_id\"]).size().reset_index(name='counts')\n",
    "list_start_leu_pt=dfstart_leu_pt[\"person_id\"].to_list()\n",
    "print(\"start_leu pt #: \" +str(len(list_start_leu_pt)))"
   ]
  },
  {
   "cell_type": "code",
   "execution_count": 57,
   "metadata": {},
   "outputs": [
    {
     "data": {
      "text/html": [
       "<div>\n",
       "<style scoped>\n",
       "    .dataframe tbody tr th:only-of-type {\n",
       "        vertical-align: middle;\n",
       "    }\n",
       "\n",
       "    .dataframe tbody tr th {\n",
       "        vertical-align: top;\n",
       "    }\n",
       "\n",
       "    .dataframe thead th {\n",
       "        text-align: right;\n",
       "    }\n",
       "</style>\n",
       "<table border=\"1\" class=\"dataframe\">\n",
       "  <thead>\n",
       "    <tr style=\"text-align: right;\">\n",
       "      <th></th>\n",
       "      <th>person_id</th>\n",
       "      <th>cancer_drug</th>\n",
       "      <th>start_date_source</th>\n",
       "      <th>start_date_year</th>\n",
       "      <th>start_date_month</th>\n",
       "      <th>start_date_day</th>\n",
       "      <th>end_date_source</th>\n",
       "      <th>end_date_year</th>\n",
       "      <th>end_date_month</th>\n",
       "      <th>end_date_day</th>\n",
       "    </tr>\n",
       "  </thead>\n",
       "  <tbody>\n",
       "    <tr>\n",
       "      <td>1</td>\n",
       "      <td>12</td>\n",
       "      <td>Leuprolide</td>\n",
       "      <td>MedTable</td>\n",
       "      <td>2013</td>\n",
       "      <td>5</td>\n",
       "      <td>6</td>\n",
       "      <td></td>\n",
       "      <td></td>\n",
       "      <td></td>\n",
       "      <td></td>\n",
       "    </tr>\n",
       "    <tr>\n",
       "      <td>2</td>\n",
       "      <td>13</td>\n",
       "      <td>Leuprolide</td>\n",
       "      <td>MedTable</td>\n",
       "      <td>2010</td>\n",
       "      <td>9</td>\n",
       "      <td>9</td>\n",
       "      <td>MedTable</td>\n",
       "      <td>2018</td>\n",
       "      <td>5</td>\n",
       "      <td>17</td>\n",
       "    </tr>\n",
       "    <tr>\n",
       "      <td>8</td>\n",
       "      <td>25</td>\n",
       "      <td>Leuprolide</td>\n",
       "      <td>MedTable</td>\n",
       "      <td>2013</td>\n",
       "      <td>11</td>\n",
       "      <td>12</td>\n",
       "      <td>MedTable</td>\n",
       "      <td>2014</td>\n",
       "      <td>2</td>\n",
       "      <td>18</td>\n",
       "    </tr>\n",
       "    <tr>\n",
       "      <td>10</td>\n",
       "      <td>37</td>\n",
       "      <td>Leuprolide</td>\n",
       "      <td>MedTable</td>\n",
       "      <td>2010</td>\n",
       "      <td>9</td>\n",
       "      <td>29</td>\n",
       "      <td>Notes</td>\n",
       "      <td>2016</td>\n",
       "      <td>9</td>\n",
       "      <td>2</td>\n",
       "    </tr>\n",
       "    <tr>\n",
       "      <td>12</td>\n",
       "      <td>53</td>\n",
       "      <td>Leuprolide</td>\n",
       "      <td>MedTable</td>\n",
       "      <td>2013</td>\n",
       "      <td>2</td>\n",
       "      <td>25</td>\n",
       "      <td>Notes</td>\n",
       "      <td>2016</td>\n",
       "      <td></td>\n",
       "      <td></td>\n",
       "    </tr>\n",
       "    <tr>\n",
       "      <td>...</td>\n",
       "      <td>...</td>\n",
       "      <td>...</td>\n",
       "      <td>...</td>\n",
       "      <td>...</td>\n",
       "      <td>...</td>\n",
       "      <td>...</td>\n",
       "      <td>...</td>\n",
       "      <td>...</td>\n",
       "      <td>...</td>\n",
       "      <td>...</td>\n",
       "    </tr>\n",
       "    <tr>\n",
       "      <td>2004</td>\n",
       "      <td>201343</td>\n",
       "      <td>Leuprolide</td>\n",
       "      <td>MedTable</td>\n",
       "      <td>2020</td>\n",
       "      <td>9</td>\n",
       "      <td>1</td>\n",
       "      <td></td>\n",
       "      <td></td>\n",
       "      <td></td>\n",
       "      <td></td>\n",
       "    </tr>\n",
       "    <tr>\n",
       "      <td>2006</td>\n",
       "      <td>203582</td>\n",
       "      <td>Leuprolide</td>\n",
       "      <td>MedTable</td>\n",
       "      <td>2020</td>\n",
       "      <td>8</td>\n",
       "      <td>24</td>\n",
       "      <td></td>\n",
       "      <td></td>\n",
       "      <td></td>\n",
       "      <td></td>\n",
       "    </tr>\n",
       "    <tr>\n",
       "      <td>2007</td>\n",
       "      <td>203609</td>\n",
       "      <td>Leuprolide</td>\n",
       "      <td>MedTable</td>\n",
       "      <td>2020</td>\n",
       "      <td>9</td>\n",
       "      <td>10</td>\n",
       "      <td></td>\n",
       "      <td></td>\n",
       "      <td></td>\n",
       "      <td></td>\n",
       "    </tr>\n",
       "    <tr>\n",
       "      <td>2011</td>\n",
       "      <td>203796</td>\n",
       "      <td>Leuprolide</td>\n",
       "      <td>MedTable</td>\n",
       "      <td>2020</td>\n",
       "      <td>10</td>\n",
       "      <td>6</td>\n",
       "      <td></td>\n",
       "      <td></td>\n",
       "      <td></td>\n",
       "      <td></td>\n",
       "    </tr>\n",
       "    <tr>\n",
       "      <td>2012</td>\n",
       "      <td>204648</td>\n",
       "      <td>Leuprolide</td>\n",
       "      <td>MedTable</td>\n",
       "      <td>2020</td>\n",
       "      <td>11</td>\n",
       "      <td>3</td>\n",
       "      <td></td>\n",
       "      <td></td>\n",
       "      <td></td>\n",
       "      <td></td>\n",
       "    </tr>\n",
       "  </tbody>\n",
       "</table>\n",
       "<p>486 rows × 10 columns</p>\n",
       "</div>"
      ],
      "text/plain": [
       "      person_id cancer_drug start_date_source start_date_year  \\\n",
       "1            12  Leuprolide          MedTable            2013   \n",
       "2            13  Leuprolide          MedTable            2010   \n",
       "8            25  Leuprolide          MedTable            2013   \n",
       "10           37  Leuprolide          MedTable            2010   \n",
       "12           53  Leuprolide          MedTable            2013   \n",
       "...         ...         ...               ...             ...   \n",
       "2004     201343  Leuprolide          MedTable            2020   \n",
       "2006     203582  Leuprolide          MedTable            2020   \n",
       "2007     203609  Leuprolide          MedTable            2020   \n",
       "2011     203796  Leuprolide          MedTable            2020   \n",
       "2012     204648  Leuprolide          MedTable            2020   \n",
       "\n",
       "     start_date_month start_date_day end_date_source end_date_year  \\\n",
       "1                   5              6                                 \n",
       "2                   9              9        MedTable          2018   \n",
       "8                  11             12        MedTable          2014   \n",
       "10                  9             29           Notes          2016   \n",
       "12                  2             25           Notes          2016   \n",
       "...               ...            ...             ...           ...   \n",
       "2004                9              1                                 \n",
       "2006                8             24                                 \n",
       "2007                9             10                                 \n",
       "2011               10              6                                 \n",
       "2012               11              3                                 \n",
       "\n",
       "     end_date_month end_date_day  \n",
       "1                                 \n",
       "2                 5           17  \n",
       "8                 2           18  \n",
       "10                9            2  \n",
       "12                                \n",
       "...             ...          ...  \n",
       "2004                              \n",
       "2006                              \n",
       "2007                              \n",
       "2011                              \n",
       "2012                              \n",
       "\n",
       "[486 rows x 10 columns]"
      ]
     },
     "execution_count": 57,
     "metadata": {},
     "output_type": "execute_result"
    }
   ],
   "source": [
    "df_start_leu"
   ]
  },
  {
   "cell_type": "code",
   "execution_count": 53,
   "metadata": {},
   "outputs": [
    {
     "name": "stdout",
     "output_type": "stream",
     "text": [
      "start_leu pt #: 1351\n",
      "start_med_leu pt #: 486\n",
      "start_notes_leu pt #: 576\n",
      "start leu just med pt #: 486\n",
      "start leu just notes pt #: 576\n",
      "start leu overlap pt #: 0\n"
     ]
    }
   ],
   "source": [
    "#Leuprolide\n",
    "df_start_leu=df1[(df1[\"cancer_drug\"] == \"Leuprolide\")]\n",
    "dfstart_leu_pt=dfstart_leu.groupby([\"person_id\"]).size().reset_index(name='counts')\n",
    "list_start_leu_pt=dfstart_leu_pt[\"person_id\"].to_list()\n",
    "print(\"start_leu pt #: \" +str(len(list_start_leu_pt)))\n",
    "\n",
    "#start medtable\n",
    "dfstart_med=df1[(df1[\"start_date_source\"] == \"MedTable\")]\n",
    "A=dfstart_med\n",
    "dfstart_med_leu=A[(A.cancer_drug ==\"Leuprolide\")]\n",
    "dfstart_med_leu_pt=dfstart_med_leu.groupby([\"person_id\"]).size().reset_index(name='counts')\n",
    "list_start_med_leu_pt=dfstart_med_leu_pt[\"person_id\"].to_list()\n",
    "print(\"start_med_leu pt #: \" +str(len(list_start_med_leu_pt)))\n",
    "\n",
    "#start notes\n",
    "dfstart_notes=df1[(df1[\"start_date_source\"] == \"Notes\")]\n",
    "B=dfstart_notes\n",
    "#Leuprolide\n",
    "dfstart_notes_leu=B[(B.cancer_drug ==\"Leuprolide\")]\n",
    "dfstart_notes_leu_pt=dfstart_notes_leu.groupby([\"person_id\"]).size().reset_index(name='counts')\n",
    "list_start_notes_leu_pt=dfstart_notes_leu_pt[\"person_id\"].to_list()\n",
    "print(\"start_notes_leu pt #: \" +str(len(list_start_notes_leu_pt)))\n",
    "\n",
    "#overlaps\n",
    "start_leu_just_med=[x for x in list_start_med_leu_pt if x not in list_start_notes_leu_pt]\n",
    "start_leu_just_notes=[x for x in list_start_notes_leu_pt if x not in list_start_med_leu_pt]\n",
    "overlap_start_med_notes_leu=[x for x in list_start_med_leu_pt if x in list_start_notes_leu_pt]\n",
    "\n",
    "print(\"start leu just med pt #: \" +str(len(start_leu_just_med)))\n",
    "print(\"start leu just notes pt #: \" +str(len(start_leu_just_notes)))\n",
    "print(\"start leu overlap pt #: \" +str(len(overlap_start_med_notes_leu)))"
   ]
  },
  {
   "cell_type": "code",
   "execution_count": null,
   "metadata": {},
   "outputs": [],
   "source": [
    "#Leuprolide\n",
    "df_start_leu=df1[(df1[\"cancer_drug\"] == \"Leuprolide\")]\n",
    "dfstart_leu_pt=dfstart_leu.groupby([\"person_id\"]).size().reset_index(name='counts')\n",
    "list_start_leu_pt=dfstart_leu_pt[\"person_id\"].to_list()\n",
    "print(\"start_leu pt #: \" +str(len(list_start_leu_pt)))\n",
    "\n",
    "#start medtable\n",
    "df_all_notes=df1[(df1[\"start_date_source\"] == \"Notes\")][(df1[\"end_date_source\"] == \"Notes\")]\n",
    "A=dfstart_med\n",
    "dfstart_med_leu=A[(A.cancer_drug ==\"Leuprolide\")]\n",
    "dfstart_med_leu_pt=dfstart_med_leu.groupby([\"person_id\"]).size().reset_index(name='counts')\n",
    "list_start_med_leu_pt=dfstart_med_leu_pt[\"person_id\"].to_list()\n",
    "print(\"start_med_leu pt #: \" +str(len(list_start_med_leu_pt)))\n",
    "\n",
    "#start notes\n",
    "dfstart_notes=df1[(df1[\"start_date_source\"] == \"Notes\")]\n",
    "B=dfstart_notes\n",
    "#Leuprolide\n",
    "dfstart_notes_leu=B[(B.cancer_drug ==\"Leuprolide\")]\n",
    "dfstart_notes_leu_pt=dfstart_notes_leu.groupby([\"person_id\"]).size().reset_index(name='counts')\n",
    "list_start_notes_leu_pt=dfstart_notes_leu_pt[\"person_id\"].to_list()\n",
    "print(\"start_notes_leu pt #: \" +str(len(list_start_notes_leu_pt)))\n",
    "\n",
    "#overlaps\n",
    "start_leu_just_med=[x for x in list_start_med_leu_pt if x not in list_start_notes_leu_pt]\n",
    "start_leu_just_notes=[x for x in list_start_notes_leu_pt if x not in list_start_med_leu_pt]\n",
    "overlap_start_med_notes_leu=[x for x in list_start_med_leu_pt if x in list_start_notes_leu_pt]\n",
    "\n",
    "print(\"start leu just med pt #: \" +str(len(start_leu_just_med)))\n",
    "print(\"start leu just notes pt #: \" +str(len(start_leu_just_notes)))\n",
    "print(\"start leu overlap pt #: \" +str(len(overlap_start_med_notes_leu)))"
   ]
  },
  {
   "cell_type": "code",
   "execution_count": 72,
   "metadata": {},
   "outputs": [
    {
     "name": "stdout",
     "output_type": "stream",
     "text": [
      "all notes pt #: 213\n"
     ]
    },
    {
     "name": "stderr",
     "output_type": "stream",
     "text": [
      "/Users/yuqincai/opt/anaconda3/lib/python3.7/site-packages/ipykernel_launcher.py:1: UserWarning: Boolean Series key will be reindexed to match DataFrame index.\n",
      "  \"\"\"Entry point for launching an IPython kernel.\n"
     ]
    }
   ],
   "source": [
    "df_all_notes=df1[(df1[\"start_date_source\"] == \"Notes\")][(df1[\"end_date_source\"] == \"Notes\")]\n",
    "df_all_notes_pt=df_all_notes.groupby([\"person_id\"]).size().reset_index(name='counts')\n",
    "list_df_all_notes_pt=df_all_notes_pt[\"person_id\"].to_list()\n",
    "print(\"all notes pt #: \" +str(len(list_df_all_notes_pt)))"
   ]
  },
  {
   "cell_type": "code",
   "execution_count": null,
   "metadata": {},
   "outputs": [],
   "source": [
    "df_all_notes=df1[(df1[\"start_date_source\"] == \"Notes\")][(df1[\"end_date_source\"] == \"Notes\")]\n",
    "df_all_notes_pt=df_all_notes.groupby([\"person_id\"]).size().reset_index(name='counts')\n",
    "list_df_all_notes_pt=df_all_notes_pt[\"person_id\"].to_list()\n",
    "print(\"all notes pt #: \" +str(len(list_df_all_notes_pt)))"
   ]
  },
  {
   "cell_type": "code",
   "execution_count": 77,
   "metadata": {},
   "outputs": [
    {
     "name": "stdout",
     "output_type": "stream",
     "text": [
      "leu exclusively notes pt #: 0\n"
     ]
    },
    {
     "name": "stderr",
     "output_type": "stream",
     "text": [
      "/Users/yuqincai/opt/anaconda3/lib/python3.7/site-packages/ipykernel_launcher.py:2: UserWarning: Boolean Series key will be reindexed to match DataFrame index.\n",
      "  \n"
     ]
    }
   ],
   "source": [
    "df_leu=df1[(df1[\"cancer_drug\"] == \"Histrelin\")]\n",
    "df_leu_all_notes=df_leu[(df_leu[\"start_date_source\"] == \"Notes\")][(df_leu[\"end_date_source\"] == \"Notes\")]\n",
    "df_leu_all_notes_pt=df_leu_all_notes.groupby([\"person_id\"]).size().reset_index(name='counts')\n",
    "list_df_leu_all_notes_pt=df_leu_all_notes_pt[\"person_id\"].to_list()\n",
    "print(\"leu exclusively notes pt #: \" +str(len(list_df_leu_all_notes_pt)))"
   ]
  },
  {
   "cell_type": "code",
   "execution_count": null,
   "metadata": {},
   "outputs": [],
   "source": [
    "ADT_lib=[\"Leuprolide\",\"Degarelix\",\"Goserelin\",\"Triptorelin\",\"Histrelin\"]"
   ]
  },
  {
   "cell_type": "code",
   "execution_count": null,
   "metadata": {},
   "outputs": [],
   "source": [
    "df_leu=df1[(df1[\"cancer_drug\"] == \"Leuprolide\")]\n",
    "df_leu_all_notes=df_leu[(df_leu[\"start_date_source\"] == \"Notes\")][(df_leu[\"end_date_source\"] == \"Notes\")]\n",
    "df_leu_all_notes_pt=df_leu_all_notes.groupby([\"person_id\"]).size().reset_index(name='counts')\n",
    "list_df_leu_all_notes_pt=df_leu_all_notes_pt[\"person_id\"].to_list()\n",
    "print(\"leu exclusively notes pt #: \" +str(len(list_df_leu_all_notes_pt)))"
   ]
  },
  {
   "cell_type": "code",
   "execution_count": 71,
   "metadata": {},
   "outputs": [
    {
     "data": {
      "text/plain": [
       "(222, 10)"
      ]
     },
     "execution_count": 71,
     "metadata": {},
     "output_type": "execute_result"
    }
   ],
   "source": [
    "shape(df_all_notes)"
   ]
  },
  {
   "cell_type": "code",
   "execution_count": null,
   "metadata": {},
   "outputs": [],
   "source": []
  },
  {
   "cell_type": "code",
   "execution_count": 64,
   "metadata": {},
   "outputs": [
    {
     "name": "stdout",
     "output_type": "stream",
     "text": [
      "start_leu pt #: 1351\n",
      "start_deg pt #: 442\n",
      "start_gos pt #: 169\n",
      "start_tri pt #: 45\n",
      "start_his pt #: 8\n"
     ]
    }
   ],
   "source": [
    "#Leuprolide\n",
    "ADT_lib=[\"Leuprolide\",\"Degarelix\",\"Goserelin\",\"Triptorelin\",\"Histrelin\"]\n",
    "\n",
    "#Leuprolide\n",
    "\n",
    "df_start_leu=df1[(df1[\"cancer_drug\"] == \"Leuprolide\")]\n",
    "dfstart_leu_pt=dfstart_leu.groupby([\"person_id\"]).size().reset_index(name='counts')\n",
    "list_start_leu_pt=dfstart_leu_pt[\"person_id\"].to_list()\n",
    "print(\"start_leu pt #: \" +str(len(list_start_leu_pt)))\n",
    "\n",
    "df_start_deg=df1[(df1[\"cancer_drug\"] == \"Degarelix\")]\n",
    "dfstart_deg_pt=df_start_deg.groupby([\"person_id\"]).size().reset_index(name='counts')\n",
    "list_start_deg_pt=dfstart_deg_pt[\"person_id\"].to_list()\n",
    "print(\"start_deg pt #: \" +str(len(list_start_deg_pt)))\n",
    "\n",
    "df_start_gos=df1[(df1[\"cancer_drug\"] == \"Goserelin\")]\n",
    "dfstart_gos_pt=df_start_gos.groupby([\"person_id\"]).size().reset_index(name='counts')\n",
    "list_start_gos_pt=dfstart_gos_pt[\"person_id\"].to_list()\n",
    "print(\"start_gos pt #: \" +str(len(list_start_gos_pt)))\n",
    "\n",
    "df_start_tri=df1[(df1[\"cancer_drug\"] == \"Triptorelin\")]\n",
    "dfstart_tri_pt=df_start_tri.groupby([\"person_id\"]).size().reset_index(name='counts')\n",
    "list_start_tri_pt=dfstart_tri_pt[\"person_id\"].to_list()\n",
    "print(\"start_tri pt #: \" +str(len(list_start_tri_pt)))\n",
    "\n",
    "df_start_his=df1[(df1[\"cancer_drug\"] == \"Histrelin\")]\n",
    "dfstart_his_pt=df_start_his.groupby([\"person_id\"]).size().reset_index(name='counts')\n",
    "list_start_his_pt=dfstart_his_pt[\"person_id\"].to_list()\n",
    "print(\"start_his pt #: \" +str(len(list_start_his_pt)))"
   ]
  },
  {
   "cell_type": "code",
   "execution_count": null,
   "metadata": {},
   "outputs": [],
   "source": [
    "#how many pts are exclusively from notes for each drug???\n",
    "dfstart_notes=df1[(df1[\"start_date_source\"] == \"Notes\")]\n"
   ]
  },
  {
   "cell_type": "code",
   "execution_count": 51,
   "metadata": {},
   "outputs": [
    {
     "name": "stdout",
     "output_type": "stream",
     "text": [
      "end_med_leu pt #: 682\n",
      "end_notes_leu pt #: 186\n",
      "end leu just med pt #: 682\n",
      "end leu just notes pt #: 186\n",
      "end leu overlap pt #: 0\n"
     ]
    }
   ],
   "source": [
    "#Leuprolide\n",
    "\n",
    "#end medtable\n",
    "dfend_med=df1[(df1[\"end_date_source\"] == \"MedTable\")]\n",
    "A=dfend_med\n",
    "dfend_med_leu=A[(A.cancer_drug ==\"Leuprolide\")]\n",
    "dfend_med_leu_pt=dfend_med_leu.groupby([\"person_id\"]).size().reset_index(name='counts')\n",
    "list_end_med_leu_pt=dfend_med_leu_pt[\"person_id\"].to_list()\n",
    "print(\"end_med_leu pt #: \" +str(len(dfend_med_leu_pt)))\n",
    "\n",
    "#end notes\n",
    "dfend_notes=df1[(df1[\"end_date_source\"] == \"Notes\")]\n",
    "B=dfend_notes\n",
    "#Leuprolide\n",
    "dfend_notes_leu=B[(B.cancer_drug ==\"Leuprolide\")]\n",
    "dfend_notes_leu_pt=dfend_notes_leu.groupby([\"person_id\"]).size().reset_index(name='counts')\n",
    "list_end_notes_leu_pt=dfend_notes_leu_pt[\"person_id\"].to_list()\n",
    "print(\"end_notes_leu pt #: \" +str(len(dfend_notes_leu_pt)))\n",
    "\n",
    "#overlaps\n",
    "end_leu_just_med=[x for x in list_end_med_leu_pt if x not in list_end_notes_leu_pt]\n",
    "end_leu_just_notes=[x for x in list_end_notes_leu_pt if x not in list_end_med_leu_pt]\n",
    "overlap_end_med_notes_leu=[x for x in list_end_med_leu_pt if x in list_end_notes_leu_pt]\n",
    "\n",
    "print(\"end leu just med pt #: \" +str(len(end_leu_just_med)))\n",
    "print(\"end leu just notes pt #: \" +str(len(end_leu_just_notes)))\n",
    "print(\"end leu overlap pt #: \" +str(len(overlap_end_med_notes_leu)))"
   ]
  },
  {
   "cell_type": "code",
   "execution_count": 27,
   "metadata": {},
   "outputs": [
    {
     "name": "stdout",
     "output_type": "stream",
     "text": [
      "start med stat\n",
      "row #: 681\n",
      "pt #: 614\n",
      "end med stat\n",
      "row #: 879\n",
      "pt #: 813\n",
      "start notes stat\n",
      "row #: 877\n",
      "pt #: 733\n",
      "end notes stat\n",
      "row #: 307\n",
      "pt #: 291\n",
      "start nan stat\n",
      "row #: 457\n",
      "pt #: 427\n",
      "end nan stat\n",
      "row #: 829\n",
      "pt #: 732\n",
      "# of pts that have overlap in Medtable and Notes in start dates: 108\n",
      "# of pts that have overlap in Medtable and NAN in start dates: 72\n",
      "# of pts that have overlap in Notes and NAN in start dates: 89\n",
      "# of pts that have overlap in Medtable, Notes and NAN in start dates: 9\n",
      "\n",
      "# of pts that have overlap in Medtable and Notes in end dates: 74\n",
      "# of pts that have overlap in Medtable and NAN in end dates: 185\n",
      "# of pts that have overlap in MAN and Notes in end dates: 68\n",
      "# of pts that have overlap in Medtable, Notes and NAN in end dates: 5\n"
     ]
    }
   ],
   "source": [
    "#start medtable\n",
    "print(\"start med stat\")\n",
    "dfstart_med=df1[(df1[\"start_date_source\"] == \"MedTable\")]\n",
    "A=dfstart_med\n",
    "\n",
    "A_pt=A.groupby([\"person_id\"]).size().reset_index(name='counts')\n",
    "print(\"row #: \" +str(len(A)))\n",
    "print(\"pt #: \" +str(len(A_pt)))\n",
    "list_A_pt=A.groupby([\"person_id\"]).size().reset_index(name='counts')[\"person_id\"].to_list()\n",
    "\n",
    "#end medtable \n",
    "print(\"end med stat\")\n",
    "dfend_med=df1[(df1[\"end_date_source\"] == \"MedTable\")]\n",
    "B=dfend_med\n",
    "B_pt=B.groupby([\"person_id\"]).size().reset_index(name='counts')\n",
    "print(\"row #: \" +str(len(B)))\n",
    "print(\"pt #: \" +str(len(B_pt)))\n",
    "list_B_pt=B.groupby([\"person_id\"]).size().reset_index(name='counts')[\"person_id\"].to_list()\n",
    "\n",
    "#start notes\n",
    "print(\"start notes stat\")\n",
    "dfstart_notes=df1[(df1[\"start_date_source\"] == \"Notes\")]\n",
    "C=dfstart_notes\n",
    "C_pt=C.groupby([\"person_id\"]).size().reset_index(name='counts')\n",
    "print(\"row #: \" +str(len(C)))\n",
    "print(\"pt #: \" +str(len(C_pt)))\n",
    "list_C_pt=C.groupby([\"person_id\"]).size().reset_index(name='counts')[\"person_id\"].to_list()\n",
    "\n",
    "#end notes\n",
    "print(\"end notes stat\")\n",
    "dfend_notes=df1[(df1[\"end_date_source\"] == \"Notes\")]\n",
    "D=dfend_notes\n",
    "D_pt=D.groupby([\"person_id\"]).size().reset_index(name='counts')\n",
    "print(\"row #: \" +str(len(D)))\n",
    "print(\"pt #: \" +str(len(D_pt)))\n",
    "list_D_pt=D.groupby([\"person_id\"]).size().reset_index(name='counts')[\"person_id\"].to_list()\n",
    "\n",
    "\n",
    "#start nan\n",
    "print(\"start nan stat\")\n",
    "dfstart_nan=df1[(df1[\"start_date_source\"] == \"\")]\n",
    "E=dfstart_nan\n",
    "E_pt=E.groupby([\"person_id\"]).size().reset_index(name='counts')\n",
    "print(\"row #: \" +str(len(E)))\n",
    "print(\"pt #: \" +str(len(E_pt)))\n",
    "list_E_pt=E.groupby([\"person_id\"]).size().reset_index(name='counts')[\"person_id\"].to_list()\n",
    "\n",
    "#end nan\n",
    "print(\"end nan stat\")\n",
    "dfend_nan=df1[(df1[\"end_date_source\"] == \"\")]\n",
    "F=dfend_nan\n",
    "F_pt=F.groupby([\"person_id\"]).size().reset_index(name='counts')\n",
    "print(\"row #: \" +str(len(F)))\n",
    "print(\"pt #: \" +str(len(F_pt)))\n",
    "list_F_pt=F.groupby([\"person_id\"]).size().reset_index(name='counts')[\"person_id\"].to_list()\n",
    "\n",
    "\n",
    "##note that a pt could have mulitple drug rows, each could have a different source or nan; \n",
    "#so the three groups med, notes, and nan could have overlaps \n",
    "\n",
    "#overlaps\n",
    "overlap_start_med_notes=[x for x in list_A_pt if x in list_C_pt]\n",
    "overlap_start_med_nan=[x for x in list_A_pt if x in list_E_pt]\n",
    "overlap_start_notes_nan=[x for x in list_C_pt if x in list_E_pt]\n",
    "overlap_start_three=[x for x in list_A_pt if x in overlap_start_notes_nan] \n",
    "\n",
    "overlap_end_med_notes=[x for x in list_B_pt if x in list_D_pt]\n",
    "overlap_end_med_nan=[x for x in list_B_pt if x in list_F_pt]\n",
    "overlap_end_notes_nan=[x for x in list_D_pt if x in list_F_pt]\n",
    "overlap_end_three=[x for x in list_B_pt if x in overlap_end_notes_nan] \n",
    "\n",
    "print(\"# of pts that have overlap in Medtable and Notes in start dates:\",len(overlap_start_med_notes))\n",
    "print(\"# of pts that have overlap in Medtable and NAN in start dates:\",len(overlap_start_med_nan))\n",
    "print(\"# of pts that have overlap in Notes and NAN in start dates:\",len(overlap_start_notes_nan))\n",
    "print(\"# of pts that have overlap in Medtable, Notes and NAN in start dates:\",len(overlap_start_three))\n",
    "print(\"\")\n",
    "\n",
    "print(\"# of pts that have overlap in Medtable and Notes in end dates:\",len(overlap_end_med_notes))\n",
    "print(\"# of pts that have overlap in Medtable and NAN in end dates:\",len(overlap_end_med_nan))\n",
    "print(\"# of pts that have overlap in MAN and Notes in end dates:\",len(overlap_end_notes_nan))\n",
    "print(\"# of pts that have overlap in Medtable, Notes and NAN in end dates:\",len(overlap_end_three))\n"
   ]
  },
  {
   "cell_type": "code",
   "execution_count": 28,
   "metadata": {},
   "outputs": [
    {
     "name": "stdout",
     "output_type": "stream",
     "text": [
      "1514\n",
      "813\n",
      "291\n",
      "732\n"
     ]
    }
   ],
   "source": [
    "#len(dfend_notes)+len(dfend_med)+len(dfend_nan)\n",
    "#empty list could also have overlaps with the med and the notes\n",
    "#len(list_A_pt)+len(list_C_pt)+len(list_E_pt)-108-72-89+9\n",
    "print(len(list_B_pt)+len(list_D_pt)+len(list_F_pt)-74-185-68+5)\n",
    "print(len(list_B_pt))\n",
    "print(len(list_D_pt))\n",
    "print(len(list_F_pt))"
   ]
  },
  {
   "cell_type": "code",
   "execution_count": 29,
   "metadata": {},
   "outputs": [
    {
     "name": "stdout",
     "output_type": "stream",
     "text": [
      "614\n",
      "733\n",
      "427\n"
     ]
    }
   ],
   "source": [
    "print(len(list_A_pt))\n",
    "print(len(list_C_pt))\n",
    "print(len(list_E_pt))\n",
    "#614-108;108;733-108;422-\n",
    "\n",
    "#74,185,68,5, "
   ]
  },
  {
   "cell_type": "code",
   "execution_count": 30,
   "metadata": {},
   "outputs": [
    {
     "name": "stdout",
     "output_type": "stream",
     "text": [
      "start nan stat\n",
      "row #: 457\n",
      "pt #: 427\n"
     ]
    }
   ],
   "source": [
    "#start nan\n",
    "print(\"start nan stat\")\n",
    "dfstart_nan=df1[(df1[\"start_date_source\"] == \"\")]\n",
    "E=dfstart_nan\n",
    "E_pt=E.groupby([\"person_id\"]).size().reset_index(name='counts')\n",
    "print(\"row #: \" +str(len(E)))\n",
    "print(\"pt #: \" +str(len(E_pt)))\n",
    "list_E_pt=E.groupby([\"person_id\"]).size().reset_index(name='counts')[\"person_id\"].to_list()"
   ]
  },
  {
   "cell_type": "code",
   "execution_count": 31,
   "metadata": {},
   "outputs": [
    {
     "name": "stdout",
     "output_type": "stream",
     "text": [
      "end nan stat\n",
      "row #: 829\n",
      "pt #: 732\n"
     ]
    }
   ],
   "source": [
    "#end nan\n",
    "print(\"end nan stat\")\n",
    "dfend_nan=df1[(df1[\"end_date_source\"] == \"\")]\n",
    "F=dfend_nan\n",
    "F_pt=F.groupby([\"person_id\"]).size().reset_index(name='counts')\n",
    "print(\"row #: \" +str(len(F)))\n",
    "print(\"pt #: \" +str(len(F_pt)))\n",
    "list_F_pt=F.groupby([\"person_id\"]).size().reset_index(name='counts')[\"person_id\"].to_list()"
   ]
  },
  {
   "cell_type": "code",
   "execution_count": 32,
   "metadata": {},
   "outputs": [
    {
     "data": {
      "text/plain": [
       "(<Figure size 576x144 with 1 Axes>,\n",
       " <matplotlib.axes._subplots.AxesSubplot at 0x7ff51160bc90>)"
      ]
     },
     "execution_count": 32,
     "metadata": {},
     "output_type": "execute_result"
    },
    {
     "data": {
      "image/png": "[encoded data removed]",
      "text/plain": [
       "<Figure size 576x144 with 1 Axes>"
      ]
     },
     "metadata": {},
     "output_type": "display_data"
    }
   ],
   "source": [
    "category_names = ['MedTable', 'Overlap','Notes', 'NaN']\n",
    "results = {\n",
    "    \"Start dates\": [506,108,625,275],\n",
    "    \"End dates\": [739,74,217,484]\n",
    "}\n",
    "\n",
    "###this include medtable, overlap, notes, and nan \n",
    "\n",
    "def survey(results, category_names):\n",
    "    \"\"\"\n",
    "    Parameters\n",
    "    ----------\n",
    "    results : dict\n",
    "        A mapping from question labels to a list of answers per category.\n",
    "        It is assumed all lists contain the same number of entries and that\n",
    "        it matches the length of *category_names*.\n",
    "    category_names : list of str\n",
    "        The category labels.\n",
    "    \"\"\"\n",
    "    labels = list(results.keys())\n",
    "    data = np.array(list(results.values()))\n",
    "    data_cum = data.cumsum(axis=1)\n",
    "    category_colors = plt.get_cmap('winter')(\n",
    "        np.linspace(0.15, 0.85, data.shape[1]))\n",
    "\n",
    "    sns.set_context(\"poster\", font_scale=0.6, rc={\"lines.linewidth\": 2,\"font.weight\": 900})\n",
    "    fig, ax = plt.subplots(figsize=(8, 2))\n",
    "    ax.invert_yaxis()\n",
    "    ax.xaxis.set_visible(False)\n",
    "    ax.set_xlim(0, np.sum(data, axis=1).max())\n",
    "    ax.set_title('Patient counts')\n",
    "    \n",
    "    for i, (colname, color) in enumerate(zip(category_names, category_colors)):\n",
    "        widths = data[:, i]\n",
    "        starts = data_cum[:, i] - widths\n",
    "        ax.barh(labels, widths, left=starts, height=0.5,\n",
    "                label=colname, color=color)\n",
    "        xcenters = starts + widths / 2\n",
    "\n",
    "        r, g, b, _ = color\n",
    "        text_color = 'white' if r * g * b < 0.5 else 'darkgrey'\n",
    "        for y, (x, c) in enumerate(zip(xcenters, widths)):\n",
    "            ax.text(x, y, str(int(c)), ha='center', va='center',\n",
    "                    color=text_color)\n",
    "    ax.legend(ncol=len(category_names), bbox_to_anchor=(0.1, -0.4),\n",
    "              loc='lower left', fontsize='medium')\n",
    "\n",
    "    return fig, ax\n",
    "\n",
    "\n",
    "survey(results, category_names)"
   ]
  },
  {
   "cell_type": "code",
   "execution_count": 33,
   "metadata": {},
   "outputs": [],
   "source": [
    "#do it for each drug \n",
    "ADT_lib=[\"Leuprolide\",\"Degarelix\",\"Goserelin\",\"Triptorelin\",\"Histrelin\"]"
   ]
  },
  {
   "cell_type": "code",
   "execution_count": 34,
   "metadata": {},
   "outputs": [
    {
     "name": "stdout",
     "output_type": "stream",
     "text": [
      "Leuprolide\n",
      "start med stat\n",
      "row #: 486\n",
      "pt #: 486\n",
      "end med stat\n",
      "row #: 682\n",
      "pt #: 682\n",
      "start notes stat\n",
      "row #: 576\n",
      "pt #: 576\n",
      "end notes stat\n",
      "row #: 186\n",
      "pt #: 186\n",
      "# of pts that have overlap in Medtable and Notes in start dates: 0\n",
      "# of pts that have overlap in Medtable and Notes in end dates: 0\n"
     ]
    }
   ],
   "source": [
    "#do it for each drug \n",
    "adt=ADT_lib[0]\n",
    "dftemp=df1[(df1[\"cancer_drug\"]==adt)]\n",
    "\n",
    "print (adt)\n",
    "#start medtable\n",
    "print(\"start med stat\")\n",
    "dfstart_med=dftemp[(dftemp[\"start_date_source\"] == \"MedTable\")]\n",
    "A=dfstart_med\n",
    "\n",
    "A_pt=A.groupby([\"person_id\"]).size().reset_index(name='counts')\n",
    "print(\"row #: \" +str(len(A)))\n",
    "print(\"pt #: \" +str(len(A_pt)))\n",
    "list_A_pt=A.groupby([\"person_id\"]).size().reset_index(name='counts')[\"person_id\"].to_list()\n",
    "\n",
    "#end medtable \n",
    "print(\"end med stat\")\n",
    "dfend_med=dftemp[(dftemp[\"end_date_source\"] == \"MedTable\")]\n",
    "B=dfend_med\n",
    "B_pt=B.groupby([\"person_id\"]).size().reset_index(name='counts')\n",
    "print(\"row #: \" +str(len(B)))\n",
    "print(\"pt #: \" +str(len(B_pt)))\n",
    "list_B_pt=B.groupby([\"person_id\"]).size().reset_index(name='counts')[\"person_id\"].to_list()\n",
    "\n",
    "#start notes\n",
    "print(\"start notes stat\")\n",
    "dfstart_notes=dftemp[(dftemp[\"start_date_source\"] == \"Notes\")]\n",
    "C=dfstart_notes\n",
    "C_pt=C.groupby([\"person_id\"]).size().reset_index(name='counts')\n",
    "print(\"row #: \" +str(len(C)))\n",
    "print(\"pt #: \" +str(len(C_pt)))\n",
    "list_C_pt=C.groupby([\"person_id\"]).size().reset_index(name='counts')[\"person_id\"].to_list()\n",
    "\n",
    "#end notes\n",
    "print(\"end notes stat\")\n",
    "dfend_notes=dftemp[(dftemp[\"end_date_source\"] == \"Notes\")]\n",
    "D=dfend_notes\n",
    "D_pt=D.groupby([\"person_id\"]).size().reset_index(name='counts')\n",
    "print(\"row #: \" +str(len(D)))\n",
    "print(\"pt #: \" +str(len(D_pt)))\n",
    "list_D_pt=D.groupby([\"person_id\"]).size().reset_index(name='counts')[\"person_id\"].to_list()\n",
    "\n",
    "#overlap\n",
    "overlap_start=[x for x in list_A_pt if x in list_C_pt]\n",
    "overlap_end=[x for x in list_B_pt if x in list_D_pt]\n",
    "\n",
    "print(\"# of pts that have overlap in Medtable and Notes in start dates:\",len(overlap_start))\n",
    "print(\"# of pts that have overlap in Medtable and Notes in end dates:\",len(overlap_end))"
   ]
  },
  {
   "cell_type": "code",
   "execution_count": 35,
   "metadata": {},
   "outputs": [
    {
     "ename": "SyntaxError",
     "evalue": "invalid syntax (<ipython-input-35-d45c56960cd2>, line 2)",
     "output_type": "error",
     "traceback": [
      "\u001b[0;36m  File \u001b[0;32m\"<ipython-input-35-d45c56960cd2>\"\u001b[0;36m, line \u001b[0;32m2\u001b[0m\n\u001b[0;31m    start med stat\u001b[0m\n\u001b[0m            ^\u001b[0m\n\u001b[0;31mSyntaxError\u001b[0m\u001b[0;31m:\u001b[0m invalid syntax\n"
     ]
    }
   ],
   "source": [
    "# Leuprolide\n",
    "start med stat\n",
    "row #: 486\n",
    "pt #: 486\n",
    "end med stat\n",
    "row #: 682\n",
    "pt #: 682\n",
    "start notes stat\n",
    "row #: 576\n",
    "pt #: 576\n",
    "start notes stat\n",
    "row #: 186\n",
    "pt #: 186\n",
    "# of pts that have overlap in Medtable and Notes in start dates: 0\n",
    "# of pts that have overlap in Medtable and Notes in end dates: 0"
   ]
  },
  {
   "cell_type": "code",
   "execution_count": null,
   "metadata": {},
   "outputs": [],
   "source": [
    "#build sub dataframe to get the infor on the pt level\n",
    "df_med=df1[(df1[\"end_date_source\"] == \"MedTable\")]\n",
    "\n",
    "df_med1=df_med[(df_med[\"cancer_drug\"]==\"Degarelix\")]\n",
    "df_med2=df_med[(df_med[\"cancer_drug\"]==\"Goserelin\")]\n",
    "df_med3=df_med[(df_med[\"cancer_drug\"]==\"Histrelin\")]\n",
    "df_med4=df_med[(df_med[\"cancer_drug\"]==\"Leuprolide\")]\n",
    "df_med5=df_med[(df_med[\"cancer_drug\"]==\"Triptorelin\")]"
   ]
  },
  {
   "cell_type": "code",
   "execution_count": null,
   "metadata": {},
   "outputs": [],
   "source": [
    "len(df_med2)"
   ]
  },
  {
   "cell_type": "code",
   "execution_count": null,
   "metadata": {},
   "outputs": [],
   "source": [
    "ADT_lib=[\"Leuprolide\",\"Degarelix\",\"Goserelin\",\"Triptorelin\",\"Histrelin\"]"
   ]
  },
  {
   "cell_type": "code",
   "execution_count": null,
   "metadata": {},
   "outputs": [],
   "source": [
    "i = [*range(0,5,1)]\n",
    "df_names=[]\n",
    "for i in [*range(0,5,1)]:\n",
    "    name=\"df_med_\"+str(i)\n",
    "    df_names.append(name)\n",
    "df_names[0]"
   ]
  },
  {
   "cell_type": "code",
   "execution_count": null,
   "metadata": {},
   "outputs": [],
   "source": [
    "ADT_lib"
   ]
  },
  {
   "cell_type": "code",
   "execution_count": null,
   "metadata": {
    "scrolled": true
   },
   "outputs": [],
   "source": [
    "for adt in ['Leuprolide', 'Degarelix', 'Goserelin', 'Triptorelin', 'Histrelin']:\n",
    "    for source in [\"MedTable\", \"Notes\"]:\n",
    "        for date in [\"start\", \"end\"]:\n",
    "            print(adt,source,date)\n",
    "            dftemp=df1[(df1[\"cancer_drug\"]==adt)]\n",
    "            df_med=dftemp[(dftemp[str(date)+\"_date_source\"] == source)]\n",
    "            \n",
    "            print(\"row #: \" +str(len(dftemp[(dftemp[str(date)+\"_date_source\"] == source)])))\n",
    "            print(\"pt #: \" +str(len(dftemp[(dftemp[str(date)+\"_date_source\"] == source)].groupby([\"person_id\"]).size().reset_index(name='counts'))))\n",
    "            list_A_pt=A.groupby([\"person_id\"]).size().reset_index(name='counts')[\"person_id\"].to_list()\n",
    "            print(len(list_A_pt))\n",
    "            print(\"\" )"
   ]
  },
  {
   "cell_type": "code",
   "execution_count": null,
   "metadata": {},
   "outputs": [],
   "source": [
    "#start medtable\n",
    "print(\"start med stat\")\n",
    "dfstart_med=df1[(df1[\"start_date_source\"] == \"MedTable\")]\n",
    "A=dfstart_med\n",
    "\n",
    "A_pt=A.groupby([\"person_id\"]).size().reset_index(name='counts')\n",
    "print(\"row #: \" +str(len(A)))\n",
    "print(\"pt #: \" +str(len(A_pt)))\n",
    "list_A_pt=A.groupby([\"person_id\"]).size().reset_index(name='counts')[\"person_id\"].to_list()"
   ]
  },
  {
   "cell_type": "code",
   "execution_count": null,
   "metadata": {},
   "outputs": [],
   "source": [
    "df_pt_med1=df_med1.groupby([\"person_id\"]).size().reset_index(name='counts')\n",
    "print(len(df_pt_med1))\n",
    "\n",
    "df_pt_med2=df_med2.groupby([\"person_id\"]).size().reset_index(name='counts')\n",
    "print(len(df_pt_med2))\n",
    "df_pt_med3=df_med3.groupby([\"person_id\"]).size().reset_index(name='counts')\n",
    "print(len(df_pt_med3))\n",
    "df_pt_med4=df_med4.groupby([\"person_id\"]).size().reset_index(name='counts')\n",
    "print(len(df_pt_med4))\n",
    "df_pt_med5=df_med5.groupby([\"person_id\"]).size().reset_index(name='counts')\n",
    "print(len(df_pt_med5))"
   ]
  },
  {
   "cell_type": "code",
   "execution_count": null,
   "metadata": {},
   "outputs": [],
   "source": [
    "df_pt_med1"
   ]
  },
  {
   "cell_type": "code",
   "execution_count": null,
   "metadata": {},
   "outputs": [],
   "source": [
    "df_pt_med2=df_med2.groupby([\"person_id\"]).size().reset_index(name='counts')\n",
    "print(df_pt_med1[\"counts\"].max())\n",
    "print(df_pt_med2[\"counts\"].max())\n",
    "print(df_pt_med3[\"counts\"].max())\n",
    "print(df_pt_med4[\"counts\"].max())\n",
    "print(df_pt_med5[\"counts\"].max())"
   ]
  },
  {
   "cell_type": "code",
   "execution_count": null,
   "metadata": {},
   "outputs": [],
   "source": [
    "#build sub dataframe to get the infor on the pt level\n",
    "df_notes=df1[(df1[\"end_date_source\"] == \"Notes\")]\n",
    "\n",
    "df_notes1=df_notes[(df_notes[\"cancer_drug\"]==\"Degarelix\")]\n",
    "df_notes2=df_notes[(df_notes[\"cancer_drug\"]==\"Goserelin\")]\n",
    "df_notes3=df_notes[(df_notes[\"cancer_drug\"]==\"Histrelin\")]\n",
    "df_notes4=df_notes[(df_notes[\"cancer_drug\"]==\"Leuprolide\")]\n",
    "df_notes5=df_notes[(df_notes[\"cancer_drug\"]==\"Triptorelin\")]\n",
    "\n",
    "df_pt_notes1=df_notes1.groupby([\"person_id\"]).size().reset_index(name='counts')\n",
    "print(len(df_pt_notes1))\n",
    "df_pt_notes2=df_notes2.groupby([\"person_id\"]).size().reset_index(name='counts')\n",
    "print(len(df_pt_notes2))\n",
    "df_pt_notes3=df_notes3.groupby([\"person_id\"]).size().reset_index(name='counts')\n",
    "print(len(df_pt_notes3))\n",
    "df_pt_notes4=df_notes4.groupby([\"person_id\"]).size().reset_index(name='counts')\n",
    "print(len(df_pt_notes4))\n",
    "df_pt_notes5=df_notes5.groupby([\"person_id\"]).size().reset_index(name='counts')\n",
    "print(len(df_pt_notes5))\n",
    "print(\"\")\n",
    "print(df_pt_notes1[\"counts\"].max())\n",
    "print(df_pt_notes2[\"counts\"].max())\n",
    "print(df_pt_notes3[\"counts\"].max())\n",
    "print(df_pt_notes4[\"counts\"].max())\n",
    "print(df_pt_notes5[\"counts\"].max())"
   ]
  },
  {
   "cell_type": "code",
   "execution_count": null,
   "metadata": {},
   "outputs": [],
   "source": []
  },
  {
   "cell_type": "code",
   "execution_count": null,
   "metadata": {},
   "outputs": [],
   "source": [
    "df_notes=df1[(df1[\"end_date_source\"] == \"Notes\")]"
   ]
  },
  {
   "cell_type": "code",
   "execution_count": null,
   "metadata": {},
   "outputs": [],
   "source": [
    "df_endmed_group=df_med.groupby([\"cancer_drug\",\"person_id\"]).size()"
   ]
  },
  {
   "cell_type": "code",
   "execution_count": null,
   "metadata": {},
   "outputs": [],
   "source": [
    "df_endmed_group"
   ]
  },
  {
   "cell_type": "code",
   "execution_count": null,
   "metadata": {},
   "outputs": [],
   "source": [
    "#plot row counts chart for end date grouped by drugs\n",
    "\n",
    "labels =[\"Degarelix\",\"Goserelin\",\"Histrelin\",\"Leuprolide\",\"Triporelin\"]\n",
    "end_med = [112,79,0,682,6]\n",
    "end_note = [88,25,0,186,8]\n",
    "\n",
    "x = np.arange(len(labels))  # the label locations\n",
    "width = 0.35  # the width of the bars\n",
    "sns.set_context(\"poster\", font_scale=0.6, rc={\"lines.linewidth\": 2})\n",
    "sns.set_style(\"darkgrid\")\n",
    "fig, ax = plt.subplots()\n",
    "\n",
    "rects1 = ax.bar(x - width/2, end_med, width, label='MedTable', alpha=0.6)\n",
    "rects2 = ax.bar(x + width/2, end_note, width, label='Notes', alpha=0.6)\n",
    "\n",
    "# Add some text for labels, title and custom x-axis tick labels, etc.\n",
    "ax.set_ylabel('Counts')\n",
    "ax.set_title('Row counts by source for end dates')\n",
    "ax.set_xticks(x)\n",
    "ax.set_xticklabels(labels, rotation=45)\n",
    "ax.legend(ncol=1, bbox_to_anchor=(1.2, 0.5),loc='lower center', fontsize='small')\n",
    "\n",
    "def autolabel(rects):\n",
    "    \"\"\"Attach a text label above each bar in *rects*, displaying its height.\"\"\"\n",
    "    for rect in rects:\n",
    "        height = rect.get_height()\n",
    "        ax.annotate('{}'.format(height),\n",
    "                    xy=(rect.get_x() + rect.get_width() / 2, height),\n",
    "                    xytext=(0, 3),  # 3 points vertical offset\n",
    "                    textcoords=\"offset points\",\n",
    "                    ha='center', va='bottom')\n",
    "\n",
    "\n",
    "autolabel(rects1)\n",
    "autolabel(rects2)\n",
    "\n",
    "fig.tight_layout()"
   ]
  },
  {
   "cell_type": "code",
   "execution_count": null,
   "metadata": {},
   "outputs": [],
   "source": [
    "category_names = ['MedTable', 'Notes']\n",
    "results = {\n",
    "    \"Leuprolide\": [682,186],\n",
    "    \"Degarelix\": [112,88],\n",
    "    \"Goserelin\": [79,25],\n",
    "    \"Triptorelin\": [6,8],\n",
    "    \"Histrelin\": [0,0]\n",
    "}\n",
    "\n",
    "def survey(results, category_names):\n",
    "    \"\"\"\n",
    "    Parameters\n",
    "    ----------\n",
    "    results : dict\n",
    "        A mapping from question labels to a list of answers per category.\n",
    "        It is assumed all lists contain the same number of entries and that\n",
    "        it matches the length of *category_names*.\n",
    "    category_names : list of str\n",
    "        The category labels.\n",
    "    \"\"\"\n",
    "    labels = list(results.keys())\n",
    "    data = np.array(list(results.values()))\n",
    "    data_cum = data.cumsum(axis=1)\n",
    "    category_colors = plt.get_cmap('plasma')(\n",
    "        np.linspace(0.15, 0.85, data.shape[1]))\n",
    "\n",
    "    sns.set_context(\"poster\", font_scale=0.6, rc={\"lines.linewidth\": 2})\n",
    "    fig, ax = plt.subplots(figsize=(9.2, 5))\n",
    "    ax.invert_yaxis()\n",
    "    ax.xaxis.set_visible(False)\n",
    "    ax.set_xlim(0, np.sum(data, axis=1).max())\n",
    "    ax.set_title('Patient counts by source for end dates')\n",
    "\n",
    "    for i, (colname, color) in enumerate(zip(category_names, category_colors)):\n",
    "        widths = data[:, i]\n",
    "        starts = data_cum[:, i] - widths\n",
    "        ax.barh(labels, widths, left=starts, height=0.5,\n",
    "                label=colname, color=color)\n",
    "        xcenters = starts + widths / 2\n",
    "\n",
    "        r, g, b, _ = color\n",
    "        text_color = 'white' if r * g * b < 0.5 else 'darkgrey'\n",
    "        for y, (x, c) in enumerate(zip(xcenters, widths)):\n",
    "            ax.text(x, y, str(int(c)), ha='center', va='center',\n",
    "                    color=text_color)\n",
    "    ax.legend(ncol=len(category_names), bbox_to_anchor=(0.4, 0),\n",
    "              loc='lower left', fontsize='medium')\n",
    "\n",
    "    return fig, ax\n",
    "\n",
    "\n",
    "survey(results, category_names)"
   ]
  },
  {
   "cell_type": "markdown",
   "metadata": {},
   "source": [
    "# Get data into shape and run through the Step B pipeline"
   ]
  },
  {
   "cell_type": "code",
   "execution_count": null,
   "metadata": {},
   "outputs": [],
   "source": [
    "##step 3.1. fill in the empty cells in day if the month is not empty\n",
    "##step 3.2. combine year, month and day into date and convert into python datetime format\n",
    "## step 3.3. make sure they take nan or blank lines\n",
    "## step 3.4. groupby person id\n",
    "df2[:5]"
   ]
  },
  {
   "cell_type": "code",
   "execution_count": null,
   "metadata": {},
   "outputs": [],
   "source": [
    "df2"
   ]
  },
  {
   "cell_type": "code",
   "execution_count": null,
   "metadata": {},
   "outputs": [],
   "source": [
    "df2['start_date_source'].replace('', np.nan, inplace=True)\n",
    "df2['start_date_year'].replace('', np.nan, inplace=True)\n",
    "df2['start_date_month'].replace('', np.nan, inplace=True)\n",
    "df2['start_date_day'].replace('', np.nan, inplace=True)\n",
    "\n",
    "df2['end_date_source'].replace('', np.nan, inplace=True)\n",
    "df2['end_date_year'].replace('', np.nan, inplace=True)\n",
    "df2['end_date_month'].replace('', np.nan, inplace=True)\n",
    "df2['end_date_day'].replace('', np.nan, inplace=True)"
   ]
  },
  {
   "cell_type": "code",
   "execution_count": null,
   "metadata": {},
   "outputs": [],
   "source": [
    "start_day_fill_list=[]\n",
    "end_day_fill_list=[]\n",
    "\n",
    "\n",
    "for ind in df2.index:\n",
    "    if (pd.isnull(df2.loc[ind,'start_date_day']) and pd.notnull(df2.loc[ind,'start_date_month'])): \n",
    "        start_day_fill_list.append(ind)\n",
    "        df2.at[ind,'start_date_day']=1\n",
    "\n",
    "for ind in df2.index:\n",
    "    if (pd.isnull(df2.loc[ind,'end_date_day']) and pd.notnull(df2.loc[ind,'end_date_month'])): \n",
    "        end_day_fill_list.append(ind) \n",
    "        df2.at[ind,'end_date_day']=1"
   ]
  },
  {
   "cell_type": "code",
   "execution_count": null,
   "metadata": {},
   "outputs": [],
   "source": [
    "start_day_fill_list[:5]"
   ]
  },
  {
   "cell_type": "code",
   "execution_count": null,
   "metadata": {},
   "outputs": [],
   "source": [
    "dftest=df2"
   ]
  },
  {
   "cell_type": "code",
   "execution_count": null,
   "metadata": {
    "scrolled": false
   },
   "outputs": [],
   "source": [
    "##combine the date year, mon, and day columns into one date in the right format\n",
    "dftest[\"start_date\"]=pd.to_datetime((dftest.start_date_year*10000 + dftest.start_date_month*100+dftest.start_date_day).apply(str),format='%Y%m%d')\n",
    "dftest[\"end_date\"]=pd.to_datetime((dftest.end_date_year*10000 + dftest.end_date_month*100+dftest.end_date_day).apply(str),format='%Y%m%d')"
   ]
  },
  {
   "cell_type": "code",
   "execution_count": null,
   "metadata": {},
   "outputs": [],
   "source": [
    "#define a subtable \n",
    "df3=dftest[['person_id', 'cancer_drug', 'start_date', 'end_date']]"
   ]
  },
  {
   "cell_type": "code",
   "execution_count": null,
   "metadata": {},
   "outputs": [],
   "source": [
    "##before put it through the pipeline, get the stats of empty cells\n",
    "start_not_end_empty_list=[]\n",
    "end_not_start_empty_list=[]\n",
    "both_start_end_empty_list=[]\n",
    "for ind in df3.index:\n",
    "    if (pd.isnull(df3.loc[ind,'start_date']) and pd.notnull(df3.loc[ind,'end_date'])): \n",
    "        start_not_end_empty_list.append(ind) \n",
    "    if (pd.isnull(df3.loc[ind,'end_date']) and pd.notnull(df3.loc[ind,'start_date'])): \n",
    "        end_not_start_empty_list.append(ind) \n",
    "    if (pd.isnull(df3.loc[ind,'start_date']) and pd.isnull(df3.loc[ind,'end_date'])): \n",
    "        both_start_end_empty_list.append(ind) \n",
    "print(\"total row of info: \" +str(len(df3)))\n",
    "print(len(start_not_end_empty_list))\n",
    "print(len(end_not_start_empty_list))\n",
    "print(len(both_start_end_empty_list))"
   ]
  },
  {
   "cell_type": "code",
   "execution_count": null,
   "metadata": {},
   "outputs": [],
   "source": [
    "#df4 is a groupby person_id table\n",
    "df4=df3.groupby([\"person_id\"]).size().reset_index(name='counts')"
   ]
  },
  {
   "cell_type": "code",
   "execution_count": null,
   "metadata": {},
   "outputs": [],
   "source": [
    "df4[\"counts\"].max()\n",
    "df4[(df4[\"counts\"] == 4)]"
   ]
  },
  {
   "cell_type": "code",
   "execution_count": null,
   "metadata": {},
   "outputs": [],
   "source": [
    "#get the list of pt ids\n",
    "list_pts=df4[\"person_id\"].to_list()\n",
    "list_pts\n",
    "print(\"number of patients is:\")\n",
    "len(list_pts)"
   ]
  },
  {
   "cell_type": "code",
   "execution_count": null,
   "metadata": {},
   "outputs": [],
   "source": [
    "df_ptcheck=df3[(df3[\"person_id\"] == 9533)]\n",
    "df_ptcheck"
   ]
  },
  {
   "cell_type": "code",
   "execution_count": null,
   "metadata": {},
   "outputs": [],
   "source": [
    "list_pts"
   ]
  },
  {
   "cell_type": "code",
   "execution_count": null,
   "metadata": {},
   "outputs": [],
   "source": [
    "result_list=[]\n",
    "\n",
    "for y in list_pts:      \n",
    "#for y in [2,12,13,18,22]:\n",
    "#for y in [12,13]:\n",
    "\n",
    "    #subset the dataframe to each pt\n",
    "    #get start dates and end dates to lists\n",
    "    df_pt=df3[(df3[\"person_id\"] == y)]\n",
    "    \n",
    "    each_pt_drug_start = df_pt['start_date'].to_list()\n",
    "    each_pt_drug_end = df_pt['end_date'].to_list()\n",
    "\n",
    "    ##get rid of nan\n",
    "    cleaned_a=[]\n",
    "    cleaned_a= [x for x in each_pt_drug_start if str(x) != 'NaN']\n",
    "    cleaned_aa= [x for x in cleaned_a if str(x) != 'nan']\n",
    "    cleaned_aaa= [x for x in cleaned_aa if str(x) != 'NaT']\n",
    "    cleaned_b=[]\n",
    "    cleaned_b= [x for x in each_pt_drug_end if str(x) != 'NaN']\n",
    "    cleaned_bb= [x for x in cleaned_b if str(x) != 'nan']\n",
    "    cleaned_bbb= [x for x in cleaned_bb if str(x) != 'NaT']\n",
    "\n",
    "    ##get the date format right\n",
    "    #startdatebin=[datetime.fromisoformat(str(x)) for x in cleaned_aa]\n",
    "    #enddatebin=[datetime.fromisoformat(str(x)) for x in cleaned_bb]\n",
    "\n",
    "    #sort \n",
    "    start_sorted_bin=sorted(cleaned_aaa)\n",
    "    end_sorted_bin=sorted(cleaned_bbb)\n",
    "    \n",
    "    start_with_2round=[]\n",
    "    start_with_1round=[]\n",
    "    \n",
    "    if(len(start_sorted_bin)==0):\n",
    "        startdate='NaN'  \n",
    "        \n",
    "    if(len(start_sorted_bin)>0):\n",
    "        a=start_sorted_bin[0]\n",
    "        \n",
    "        for b in start_sorted_bin:\n",
    "        #find all adt starting dates after 6months of inital starting    \n",
    "            if float(abs(a-b).days)>182.5:\n",
    "                start_with_2round.append(a)\n",
    "                start_with_2round.append(b)\n",
    "            else:\n",
    "                start_with_1round.append(a) \n",
    "        #cleanup \n",
    "        start_with_2round=start_with_2round[:2]\n",
    "\n",
    "        #get rid of repeated capturing for one round\n",
    "        cleanlist = []\n",
    "        for i in start_with_1round:\n",
    "            if i not in cleanlist:\n",
    "                cleanlist.append(i)\n",
    "        start_with_1round=cleanlist\n",
    "        #print(cleanlist)\n",
    "        enddateall=[]\n",
    "\n",
    "    if len(end_sorted_bin)==0:\n",
    "        enddate='NaN'\n",
    "        if(len(start_sorted_bin)==0):\n",
    "            startdate='NaN' \n",
    "        if(len(start_sorted_bin)>0):    \n",
    "            startdate=start_with_1round[0]\n",
    "        \n",
    "    if len(end_sorted_bin)>0:\n",
    "        for i in end_sorted_bin:\n",
    "        #at least two rounds of ADTs\n",
    "            if len(start_with_2round)==2:\n",
    "                if(i>=sorted(start_with_2round)[0]) and (i<=sorted(start_with_2round)[1]):\n",
    "                    startdate=sorted(start_with_2round)[0]\n",
    "                    enddateall.append(i)\n",
    "                    #print(enddateall)\n",
    "                #pick the one that is most close to the 2nd adt starting date\n",
    "                    if len(enddateall) == 0:\n",
    "                        enddate='NaN' \n",
    "                    else:\n",
    "                        enddate=enddateall[-1]\n",
    "\n",
    "                if(i>sorted(start_with_2round)[0]) and (i>sorted(start_with_2round)[1]) and (len(enddateall) == 0):\n",
    "                    startdate=sorted(start_with_2round)[0]\n",
    "                    enddate='NaN'\n",
    "                    #leave it as empty\n",
    "        \n",
    "        #only one round           \n",
    "            if (len(start_with_2round)<2) and (len(start_with_1round)==1):\n",
    "                if(i>=sorted(start_with_1round)[0]):\n",
    "                    startdate=start_with_1round[0]\n",
    "                    enddateall.append(i)\n",
    "                    if len(enddateall) == 0:\n",
    "                        enddate='NaN' \n",
    "                    else:\n",
    "                        enddate=enddateall[-1]\n",
    "                           \n",
    "    print(y, startdate, enddate)\n",
    "    result_per_pt=[y,startdate, enddate]\n",
    "    result_list.append(result_per_pt)"
   ]
  },
  {
   "cell_type": "code",
   "execution_count": null,
   "metadata": {},
   "outputs": [],
   "source": [
    "df_results=pd.DataFrame(result_list)\n",
    "df_results.columns=(['person_id', 'inital_ADT_start_date', 'inital_ADT_end_date'])\n",
    "#create a column for the time window \n",
    "df_results['Inital_ADT_timewindow'] = df_results['inital_ADT_end_date'] - df_results['inital_ADT_start_date']\n",
    "#create a column for the inital adt use window as days\n",
    "df_results['Inital_ADT_time_window_days']=df_results['Inital_ADT_timewindow'].dt.days\n",
    "print(shape(df_results))"
   ]
  },
  {
   "cell_type": "code",
   "execution_count": null,
   "metadata": {},
   "outputs": [],
   "source": [
    "df_results\n",
    "df_results['index1'] = df_results.index\n",
    "df_results"
   ]
  },
  {
   "cell_type": "code",
   "execution_count": null,
   "metadata": {},
   "outputs": [],
   "source": [
    "## sns.set_style(\"darkgrid\")\n",
    "sns.set_context(\"poster\", font_scale=0.8, rc={\"lines.linewidth\": 2})\n",
    "binsize=180\n",
    "\n",
    "bins=np.arange(0, 1500, binsize)\n",
    "fig, ax = plt.subplots(figsize = (8,5))\n",
    "\n",
    "#n=df_results['Inital_ADT_time_window_days'].plot(kind = \"hist\", bins=bins, color=\"purple\", alpha=0.5)\n",
    "(n, bins, patches) = plt.hist(df_results['Inital_ADT_time_window_days'], bins=bins,color=\"green\", alpha=0.4)\n",
    "\n",
    "#decorate\n",
    "plt.title(\"Bin Size=\"+ str(binsize) +\" days\")\n",
    "plt.xlabel(\"Days\", fontsize=20, fontweight=\"bold\",color=\"gray\")\n",
    "plt.ylabel(\"Population\", fontsize=20,fontweight=\"bold\", color=\"gray\")\n",
    "\n",
    "ax.set_xticks(np.arange(0, 1501, 180))\n",
    "ax.set_xticklabels(np.arange(0, 1501, 180))\n",
    "\n",
    "# plot the label/text to each bin\n",
    "for i in range(0, len(n)):\n",
    "    x_pos = (bins[i + 1] - bins[i])/4 + bins[i]\n",
    "    y_pos = n[i] + 0.5\n",
    "    label = str(int(n[i])) # relative frequency of each bin\n",
    "    ax.text(x_pos, y_pos, label,fontsize=16,fontweight=\"bold\",color=\"gray\" )\n",
    "    ax.xaxis.tick_bottom()"
   ]
  },
  {
   "cell_type": "code",
   "execution_count": null,
   "metadata": {},
   "outputs": [],
   "source": [
    "## sns.set_style(\"darkgrid\")\n",
    "sns.set_context(\"poster\", font_scale=0.8, rc={\"lines.linewidth\": 2})\n",
    "binsize=180\n",
    "\n",
    "bins=np.arange(0, 1500, binsize)\n",
    "fig, ax = plt.subplots(figsize = (8,5))\n",
    "\n",
    "#n=df_results['Inital_ADT_time_window_days'].plot(kind = \"hist\", bins=bins, color=\"purple\", alpha=0.5)\n",
    "(n, bins, patches) = plt.hist(df_results['Inital_ADT_time_window_days'], bins=bins,color=\"green\", alpha=0.4)\n",
    "\n",
    "#decorate\n",
    "plt.title(\"Bin Size=\"+ str(int(binsize/30)) +\" months\")\n",
    "plt.xlabel(\"Months\", fontsize=20, fontweight=\"bold\",color=\"gray\")\n",
    "plt.ylabel(\"Population\", fontsize=20,fontweight=\"bold\", color=\"gray\")\n",
    "\n",
    "ax.set_xticks(np.arange(0, 1501, 180))\n",
    "ax.set_xticklabels(np.arange(0, 50, 6))\n",
    "\n",
    "# plot the label/text to each bin\n",
    "for i in range(0, len(n)):\n",
    "    x_pos = (bins[i + 1] - bins[i])/4 + bins[i]\n",
    "    y_pos = n[i] + 0.5\n",
    "    label = str(int(n[i])) # relative frequency of each bin\n",
    "    ax.text(x_pos, y_pos, label,fontsize=16,fontweight=\"bold\",color=\"gray\" )\n",
    "    ax.xaxis.tick_bottom()"
   ]
  },
  {
   "cell_type": "code",
   "execution_count": null,
   "metadata": {},
   "outputs": [],
   "source": [
    "#pt statistics\n",
    "\n",
    "df_start_empty=df_results[df_results.inital_ADT_start_date.isnull()]\n",
    "df_end_empty=df_results[df_results.inital_ADT_end_date.isnull()]\n",
    "df_both_empty1=df_results[df_results.inital_ADT_end_date.isnull()][df_results.inital_ADT_start_date.isnull()]\n",
    "#df_onlystartempty=df_results[df_results.inital_ADT_start_date.isnull()][df_results.inital_ADT_end_date.notnull()]\n",
    "#df_onlyendempty=df_results[df_results.inital_ADT_end_date.isnull()][df_results.inital_ADT_start_date.notnull()]\n",
    "df_both=df_results[df_results.inital_ADT_end_date.notnull()][df_results.inital_ADT_start_date.notnull()]\n",
    "#df_ADT_window_zero=df_results[df_results.Inital_ADT_time_window_days==0]\n",
    "\n",
    "print(\"Number of pts with start dates empty is: \" + str(len(df_start_empty)))\n",
    "print(\"Number of pts with end dates empty is: \" + str(len(df_end_empty)))  \n",
    "print(\"Number of pts with both dates empty is: \" + str(len(df_both_empty1)))\n",
    "print(\"Number of pts with both dates: \" + str(len(df_both)))"
   ]
  },
  {
   "cell_type": "code",
   "execution_count": null,
   "metadata": {},
   "outputs": [],
   "source": [
    "df_just_start_empty=df_results[df_results.inital_ADT_start_date.isnull()][df_results.inital_ADT_end_date.notnull()]\n",
    "df_just_end_empty=df_results[df_results.inital_ADT_end_date.isnull()][df_results.inital_ADT_start_date.notnull()]\n",
    "df_both_empty=df_results[df_results.inital_ADT_end_date.isnull()][df_results.inital_ADT_start_date.isnull()]\n",
    "df_both=df_results[df_results.inital_ADT_end_date.notnull()][df_results.inital_ADT_start_date.notnull()]"
   ]
  },
  {
   "cell_type": "code",
   "execution_count": null,
   "metadata": {},
   "outputs": [],
   "source": [
    "df_start_empty"
   ]
  },
  {
   "cell_type": "code",
   "execution_count": null,
   "metadata": {},
   "outputs": [],
   "source": [
    "554-303"
   ]
  },
  {
   "cell_type": "code",
   "execution_count": null,
   "metadata": {},
   "outputs": [],
   "source": [
    "323-303\n",
    "20\n",
    "251\n",
    "303\n",
    "940"
   ]
  },
  {
   "cell_type": "code",
   "execution_count": null,
   "metadata": {},
   "outputs": [],
   "source": [
    "# Pie chart, where the slices will be ordered and plotted counter-clockwise:\n",
    "labels = '#1', '#2','#3','#4'\n",
    "sizes = [940,251,303,20]\n",
    "explode = (0.05, 0.0, 0,0)  #\n",
    "colors = ['#ff9999','#66b3ff','#99ff99','#ffcc99']\n",
    "\n",
    "fig1, ax1 = plt.subplots(figsize = (5,5))\n",
    "ax1.pie(sizes, explode=explode, labels=labels, autopct='%1.1f%%', colors=colors, shadow=False, startangle=60)\n",
    "ax1.axis('equal')  # Equal aspect ratio ensures that pie is drawn as a circle.\n",
    "print(str(940+251+303+20))"
   ]
  },
  {
   "cell_type": "code",
   "execution_count": null,
   "metadata": {},
   "outputs": [],
   "source": [
    "window_empty_list=[]\n",
    "for ind in df_results.index:\n",
    "    if (pd.isnull(df_results.loc[ind,'Inital_ADT_timewindow'])): \n",
    "        window_empty_list.append(ind) \n",
    "        \n",
    "print(\"pt # without intial ADT window\")\n",
    "print(str(a))\n",
    "a=len(window_empty_list)\n",
    "print(\"pt # with intial ADT window\")\n",
    "print(str(1514 -a))\n",
    "\n",
    "dftemp=df_results\n",
    "\n",
    "for ind in window_empty_list:\n",
    "    dftemp.drop(index=ind)\n",
    "shape(df_results)\n",
    "shape(dftemp)"
   ]
  },
  {
   "cell_type": "code",
   "execution_count": null,
   "metadata": {},
   "outputs": [],
   "source": [
    "df_results.to_csv(\"pca_bigcohort_results_adtwindow_1514pts.csv\", encoding='utf-8', index=False)"
   ]
  },
  {
   "cell_type": "code",
   "execution_count": null,
   "metadata": {},
   "outputs": [],
   "source": [
    "df_start_empty.to_csv(\"bigcohort_startempty.csv\", encoding='utf-8', index=False)\n",
    "df_end_empty.to_csv(\"bigcohort_endempty.csv\", encoding='utf-8', index=False)\n",
    "df_both_empty1.to_csv(\"bigcohort_bothempty.csv\", encoding='utf-8', index=False)\n",
    "df_both.to_csv(\"bigcohort_bothavail.csv\", encoding='utf-8', index=False)"
   ]
  },
  {
   "cell_type": "code",
   "execution_count": null,
   "metadata": {},
   "outputs": [],
   "source": [
    "df_just_start_empty.to_csv(\"bigcohort_just_startempty.csv\", encoding='utf-8', index=False)\n",
    "df_just_end_empty.to_csv(\"bigcohort_just_endempty.csv\", encoding='utf-8', index=False)\n",
    "df_both_empty.to_csv(\"bigcohort_bothempty.csv\", encoding='utf-8', index=False)"
   ]
  },
  {
   "cell_type": "code",
   "execution_count": null,
   "metadata": {},
   "outputs": [],
   "source": [
    "#df_both=df_results[df_results.inital_ADT_end_date.notnull()][df_results.inital_ADT_start_date.notnull()]\n",
    "#df_both.to_csv(\"bigcohort_bothok_check.csv\", encoding='utf-8', index=False)\n",
    "df_both1=df_results[df_results.inital_ADT_end_date.notnull()]\n",
    "df_both2=df_both1[df_both1.inital_ADT_start_date.notnull()]\n",
    "#df_both=df_results[df_results.inital_ADT_end_date.notnull()][df_results.inital_ADT_start_date.notnull()]\n",
    "df_both2.to_csv(\"bigcohort_bothok_new.csv\", encoding='utf-8', index=False)"
   ]
  },
  {
   "cell_type": "code",
   "execution_count": null,
   "metadata": {},
   "outputs": [],
   "source": [
    "print(str(len(df_just_start_empty)))\n",
    "print(str(len(df_just_end_empty)))\n",
    "print(str(len(df_both_empty)))\n",
    "print(str(len(df_both2)))"
   ]
  },
  {
   "cell_type": "code",
   "execution_count": null,
   "metadata": {},
   "outputs": [],
   "source": []
  }
 ],
 "metadata": {
  "kernelspec": {
   "display_name": "Python 3",
   "language": "python",
   "name": "python3"
  },
  "language_info": {
   "codemirror_mode": {
    "name": "ipython",
    "version": 3
   },
   "file_extension": ".py",
   "mimetype": "text/x-python",
   "name": "python",
   "nbconvert_exporter": "python",
   "pygments_lexer": "ipython3",
   "version": "3.7.4"
  }
 },
 "nbformat": 4,
 "nbformat_minor": 2
}
