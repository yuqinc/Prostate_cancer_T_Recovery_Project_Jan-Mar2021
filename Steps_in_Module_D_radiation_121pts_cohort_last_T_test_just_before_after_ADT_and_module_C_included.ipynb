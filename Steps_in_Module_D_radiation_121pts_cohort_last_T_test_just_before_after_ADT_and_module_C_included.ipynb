{
 "cells": [
  {
   "cell_type": "markdown",
   "metadata": {},
   "source": [
    "# README.md\n",
    "\n",
    "# Research question: What are the T dates and values for the recovery group and non recovery group just before and immediately after the initial ADT use? \n",
    "\n",
    "\n",
    "## Table of Contents\n",
    "* [Read data, clean up and get stats](#first-bullet)\n",
    "* [T test dates and values before ADT](#second-bullet)\n",
    "* [T test dates and values immediately after ADT](#third-bullet)\n",
    "* [Output data](#fouth-bullet)\n",
    "* [Baseline Total Testosterone Histogram](#fifth-bullet)\n",
    "* [Delta Total Testosterone just before and after ADT](#six-bullet)\n",
    "* [Time to Recovery Histogram](#seventh-bullet)"
   ]
  },
  {
   "cell_type": "code",
   "execution_count": 4,
   "metadata": {},
   "outputs": [],
   "source": [
    "import numpy as np\n",
    "import pandas as pd\n",
    "import sys, getopt\n",
    "import csv\n",
    "from datetime import datetime\n",
    "from datetime import timedelta, date\n",
    "import itertools\n",
    "\n",
    "from matplotlib import pyplot\n",
    "from pylab import *\n",
    "import matplotlib.pyplot as plt\n",
    "%matplotlib inline  \n",
    "import seaborn as sns"
   ]
  },
  {
   "cell_type": "markdown",
   "metadata": {},
   "source": [
    "# Read data, clean up and get stats <a class=\"anchor\" id=\"first-bullet\"></a>"
   ]
  },
  {
   "cell_type": "code",
   "execution_count": 5,
   "metadata": {},
   "outputs": [],
   "source": [
    "df_adt=pd.read_excel(\"./data/Inital_ADT_use_time_window_121pts_updated_Jan28.xls\", header=0)\n",
    "#df_adt=pd.read_csv(\"Inital_ADT_use_time_window_121pts_updated_Jan27.csv\", header=0)\n",
    "#Inital_ADT_use_time_window_121pts_updated_Jan27.csv\n",
    "df_adt.fillna('', inplace=True)\n",
    "\n",
    "#t results for 4490 pts\n",
    "df_tvalue=pd.read_excel(\"./data/pca_tresults_20210119_BP_fixed.xlsx\", header=0)\n",
    "#df_tvalue=pd.read_excel(\"Radiation_T_test.xlsx\", header=0)"
   ]
  },
  {
   "cell_type": "code",
   "execution_count": 6,
   "metadata": {},
   "outputs": [
    {
     "data": {
      "text/html": [
       "<div>\n",
       "<style scoped>\n",
       "    .dataframe tbody tr th:only-of-type {\n",
       "        vertical-align: middle;\n",
       "    }\n",
       "\n",
       "    .dataframe tbody tr th {\n",
       "        vertical-align: top;\n",
       "    }\n",
       "\n",
       "    .dataframe thead th {\n",
       "        text-align: right;\n",
       "    }\n",
       "</style>\n",
       "<table border=\"1\" class=\"dataframe\">\n",
       "  <thead>\n",
       "    <tr style=\"text-align: right;\">\n",
       "      <th></th>\n",
       "      <th>person_id</th>\n",
       "      <th>inital_ADT_start_date</th>\n",
       "      <th>inital_ADT_end_date</th>\n",
       "      <th>Inital_ADT_timewindow</th>\n",
       "      <th>Inital_ADT_time_window_days</th>\n",
       "      <th>index1</th>\n",
       "    </tr>\n",
       "  </thead>\n",
       "  <tbody>\n",
       "    <tr>\n",
       "      <td>0</td>\n",
       "      <td>12</td>\n",
       "      <td>2013-05-06 00:00:00</td>\n",
       "      <td>2013-05-06 00:00:00</td>\n",
       "      <td>0 days 00:00:00.000000000</td>\n",
       "      <td>0</td>\n",
       "      <td>0</td>\n",
       "    </tr>\n",
       "    <tr>\n",
       "      <td>1</td>\n",
       "      <td>18</td>\n",
       "      <td>2013-11-12 00:00:00</td>\n",
       "      <td>2014-03-13 00:00:00</td>\n",
       "      <td>121 days 00:00:00.000000000</td>\n",
       "      <td>121</td>\n",
       "      <td>1</td>\n",
       "    </tr>\n",
       "    <tr>\n",
       "      <td>2</td>\n",
       "      <td>25</td>\n",
       "      <td>2013-08-01 00:00:00</td>\n",
       "      <td>2014-02-18 00:00:00</td>\n",
       "      <td>201 days 00:00:00.000000000</td>\n",
       "      <td>201</td>\n",
       "      <td>2</td>\n",
       "    </tr>\n",
       "  </tbody>\n",
       "</table>\n",
       "</div>"
      ],
      "text/plain": [
       "   person_id inital_ADT_start_date  inital_ADT_end_date  \\\n",
       "0         12   2013-05-06 00:00:00  2013-05-06 00:00:00   \n",
       "1         18   2013-11-12 00:00:00  2014-03-13 00:00:00   \n",
       "2         25   2013-08-01 00:00:00  2014-02-18 00:00:00   \n",
       "\n",
       "         Inital_ADT_timewindow Inital_ADT_time_window_days  index1  \n",
       "0    0 days 00:00:00.000000000                           0       0  \n",
       "1  121 days 00:00:00.000000000                         121       1  \n",
       "2  201 days 00:00:00.000000000                         201       2  "
      ]
     },
     "execution_count": 6,
     "metadata": {},
     "output_type": "execute_result"
    }
   ],
   "source": [
    "df_adt[:3]"
   ]
  },
  {
   "cell_type": "code",
   "execution_count": 7,
   "metadata": {},
   "outputs": [],
   "source": [
    "adt_pt_list=df_adt[\"person_id\"].to_list()"
   ]
  },
  {
   "cell_type": "code",
   "execution_count": 8,
   "metadata": {},
   "outputs": [
    {
     "data": {
      "text/html": [
       "<div>\n",
       "<style scoped>\n",
       "    .dataframe tbody tr th:only-of-type {\n",
       "        vertical-align: middle;\n",
       "    }\n",
       "\n",
       "    .dataframe tbody tr th {\n",
       "        vertical-align: top;\n",
       "    }\n",
       "\n",
       "    .dataframe thead th {\n",
       "        text-align: right;\n",
       "    }\n",
       "</style>\n",
       "<table border=\"1\" class=\"dataframe\">\n",
       "  <thead>\n",
       "    <tr style=\"text-align: right;\">\n",
       "      <th></th>\n",
       "      <th>person_id</th>\n",
       "      <th>cancer_type_id</th>\n",
       "      <th>year_of_diagnosis</th>\n",
       "      <th>month_of_diagnosis</th>\n",
       "      <th>day_of_diagnosis</th>\n",
       "      <th>dx_date</th>\n",
       "      <th>result_date</th>\n",
       "      <th>loinc_code</th>\n",
       "      <th>source_test_name</th>\n",
       "      <th>test_results</th>\n",
       "    </tr>\n",
       "  </thead>\n",
       "  <tbody>\n",
       "    <tr>\n",
       "      <td>0</td>\n",
       "      <td>2</td>\n",
       "      <td>2</td>\n",
       "      <td>2003</td>\n",
       "      <td>1.0</td>\n",
       "      <td>7.0</td>\n",
       "      <td>2003-01-07</td>\n",
       "      <td>2006-09-05</td>\n",
       "      <td>49041-7</td>\n",
       "      <td>TESTOSTERONE</td>\n",
       "      <td>351.0</td>\n",
       "    </tr>\n",
       "    <tr>\n",
       "      <td>1</td>\n",
       "      <td>2</td>\n",
       "      <td>2</td>\n",
       "      <td>2003</td>\n",
       "      <td>1.0</td>\n",
       "      <td>7.0</td>\n",
       "      <td>2003-01-07</td>\n",
       "      <td>2007-01-09</td>\n",
       "      <td>49041-7</td>\n",
       "      <td>TESTOSTERONE</td>\n",
       "      <td>304.0</td>\n",
       "    </tr>\n",
       "    <tr>\n",
       "      <td>2</td>\n",
       "      <td>2</td>\n",
       "      <td>2</td>\n",
       "      <td>2003</td>\n",
       "      <td>1.0</td>\n",
       "      <td>7.0</td>\n",
       "      <td>2003-01-07</td>\n",
       "      <td>2007-05-17</td>\n",
       "      <td>49041-7</td>\n",
       "      <td>TESTOSTERONE</td>\n",
       "      <td>259.0</td>\n",
       "    </tr>\n",
       "  </tbody>\n",
       "</table>\n",
       "</div>"
      ],
      "text/plain": [
       "   person_id  cancer_type_id  year_of_diagnosis  month_of_diagnosis  \\\n",
       "0          2               2               2003                 1.0   \n",
       "1          2               2               2003                 1.0   \n",
       "2          2               2               2003                 1.0   \n",
       "\n",
       "   day_of_diagnosis    dx_date result_date loinc_code source_test_name  \\\n",
       "0               7.0 2003-01-07  2006-09-05    49041-7     TESTOSTERONE   \n",
       "1               7.0 2003-01-07  2007-01-09    49041-7     TESTOSTERONE   \n",
       "2               7.0 2003-01-07  2007-05-17    49041-7     TESTOSTERONE   \n",
       "\n",
       "   test_results  \n",
       "0         351.0  \n",
       "1         304.0  \n",
       "2         259.0  "
      ]
     },
     "execution_count": 8,
     "metadata": {},
     "output_type": "execute_result"
    }
   ],
   "source": [
    "df_tvalue[:3]"
   ]
  },
  {
   "cell_type": "code",
   "execution_count": 9,
   "metadata": {},
   "outputs": [
    {
     "name": "stdout",
     "output_type": "stream",
     "text": [
      "list of pt ids with t test results\n",
      "4490\n",
      "\n",
      "121\n",
      "121\n"
     ]
    }
   ],
   "source": [
    "df_tvalue_grouped=df_tvalue.groupby([\"person_id\"]).size().reset_index(name='counts')\n",
    "list_pt_test=df_tvalue_grouped[\"person_id\"].to_list()\n",
    "print(\"list of pt ids with t test results\")\n",
    "print(len(list_pt_test))\n",
    "print(\"\")\n",
    "\n",
    "overlap_list=[x for x in adt_pt_list if x in  list_pt_test]\n",
    "print(len(overlap_list))\n",
    "print(len(adt_pt_list))"
   ]
  },
  {
   "cell_type": "code",
   "execution_count": 10,
   "metadata": {},
   "outputs": [
    {
     "name": "stdout",
     "output_type": "stream",
     "text": [
      "(18643, 10)\n",
      "(18643, 10)\n"
     ]
    }
   ],
   "source": [
    "deleted_list=[]\n",
    "for ind in df_tvalue.index:\n",
    "    if (df_tvalue['test_results'][ind]=='CANCELED'): \n",
    "        deleted_list.append(ind) \n",
    "       \n",
    "print(df_tvalue.shape)\n",
    "for ind in deleted_list:\n",
    "    df_tvalue.drop(index=ind,inplace=True)\n",
    "print(df_tvalue.shape)"
   ]
  },
  {
   "cell_type": "code",
   "execution_count": 11,
   "metadata": {},
   "outputs": [
    {
     "data": {
      "text/html": [
       "<div>\n",
       "<style scoped>\n",
       "    .dataframe tbody tr th:only-of-type {\n",
       "        vertical-align: middle;\n",
       "    }\n",
       "\n",
       "    .dataframe tbody tr th {\n",
       "        vertical-align: top;\n",
       "    }\n",
       "\n",
       "    .dataframe thead th {\n",
       "        text-align: right;\n",
       "    }\n",
       "</style>\n",
       "<table border=\"1\" class=\"dataframe\">\n",
       "  <thead>\n",
       "    <tr style=\"text-align: right;\">\n",
       "      <th></th>\n",
       "      <th>person_id</th>\n",
       "      <th>inital_ADT_start_date</th>\n",
       "      <th>inital_ADT_end_date</th>\n",
       "      <th>Inital_ADT_timewindow</th>\n",
       "      <th>Inital_ADT_time_window_days</th>\n",
       "      <th>index1</th>\n",
       "    </tr>\n",
       "  </thead>\n",
       "  <tbody>\n",
       "    <tr>\n",
       "      <td>0</td>\n",
       "      <td>12</td>\n",
       "      <td>2013-05-06 00:00:00</td>\n",
       "      <td>2013-05-06 00:00:00</td>\n",
       "      <td>0 days 00:00:00.000000000</td>\n",
       "      <td>0</td>\n",
       "      <td>0</td>\n",
       "    </tr>\n",
       "    <tr>\n",
       "      <td>1</td>\n",
       "      <td>18</td>\n",
       "      <td>2013-11-12 00:00:00</td>\n",
       "      <td>2014-03-13 00:00:00</td>\n",
       "      <td>121 days 00:00:00.000000000</td>\n",
       "      <td>121</td>\n",
       "      <td>1</td>\n",
       "    </tr>\n",
       "    <tr>\n",
       "      <td>2</td>\n",
       "      <td>25</td>\n",
       "      <td>2013-08-01 00:00:00</td>\n",
       "      <td>2014-02-18 00:00:00</td>\n",
       "      <td>201 days 00:00:00.000000000</td>\n",
       "      <td>201</td>\n",
       "      <td>2</td>\n",
       "    </tr>\n",
       "  </tbody>\n",
       "</table>\n",
       "</div>"
      ],
      "text/plain": [
       "   person_id inital_ADT_start_date  inital_ADT_end_date  \\\n",
       "0         12   2013-05-06 00:00:00  2013-05-06 00:00:00   \n",
       "1         18   2013-11-12 00:00:00  2014-03-13 00:00:00   \n",
       "2         25   2013-08-01 00:00:00  2014-02-18 00:00:00   \n",
       "\n",
       "         Inital_ADT_timewindow Inital_ADT_time_window_days  index1  \n",
       "0    0 days 00:00:00.000000000                           0       0  \n",
       "1  121 days 00:00:00.000000000                         121       1  \n",
       "2  201 days 00:00:00.000000000                         201       2  "
      ]
     },
     "execution_count": 11,
     "metadata": {},
     "output_type": "execute_result"
    }
   ],
   "source": [
    "df_adt[:3]"
   ]
  },
  {
   "cell_type": "code",
   "execution_count": 12,
   "metadata": {},
   "outputs": [],
   "source": [
    "df_adt_pt=df_adt[(df_adt[\"person_id\"] == 36062)]"
   ]
  },
  {
   "cell_type": "code",
   "execution_count": 13,
   "metadata": {},
   "outputs": [],
   "source": [
    "#get the list of pt ids\n",
    "list_pts=df_adt[\"person_id\"].to_list()"
   ]
  },
  {
   "cell_type": "code",
   "execution_count": 15,
   "metadata": {},
   "outputs": [
    {
     "data": {
      "text/plain": [
       "[12, 18, 25]"
      ]
     },
     "execution_count": 15,
     "metadata": {},
     "output_type": "execute_result"
    }
   ],
   "source": [
    "list_pts[:3]"
   ]
  },
  {
   "cell_type": "code",
   "execution_count": 16,
   "metadata": {},
   "outputs": [
    {
     "data": {
      "text/plain": [
       "121"
      ]
     },
     "execution_count": 16,
     "metadata": {},
     "output_type": "execute_result"
    }
   ],
   "source": [
    "len(list_pts)"
   ]
  },
  {
   "cell_type": "markdown",
   "metadata": {},
   "source": [
    "\n",
    "\n",
    "\n",
    "\n",
    "\n"
   ]
  },
  {
   "cell_type": "code",
   "execution_count": 17,
   "metadata": {},
   "outputs": [
    {
     "data": {
      "text/html": [
       "<div>\n",
       "<style scoped>\n",
       "    .dataframe tbody tr th:only-of-type {\n",
       "        vertical-align: middle;\n",
       "    }\n",
       "\n",
       "    .dataframe tbody tr th {\n",
       "        vertical-align: top;\n",
       "    }\n",
       "\n",
       "    .dataframe thead th {\n",
       "        text-align: right;\n",
       "    }\n",
       "</style>\n",
       "<table border=\"1\" class=\"dataframe\">\n",
       "  <thead>\n",
       "    <tr style=\"text-align: right;\">\n",
       "      <th></th>\n",
       "      <th>person_id</th>\n",
       "      <th>cancer_type_id</th>\n",
       "      <th>year_of_diagnosis</th>\n",
       "      <th>month_of_diagnosis</th>\n",
       "      <th>day_of_diagnosis</th>\n",
       "      <th>dx_date</th>\n",
       "      <th>result_date</th>\n",
       "      <th>loinc_code</th>\n",
       "      <th>source_test_name</th>\n",
       "      <th>test_results</th>\n",
       "    </tr>\n",
       "  </thead>\n",
       "  <tbody>\n",
       "    <tr>\n",
       "      <td>0</td>\n",
       "      <td>2</td>\n",
       "      <td>2</td>\n",
       "      <td>2003</td>\n",
       "      <td>1.0</td>\n",
       "      <td>7.0</td>\n",
       "      <td>2003-01-07</td>\n",
       "      <td>2006-09-05</td>\n",
       "      <td>49041-7</td>\n",
       "      <td>TESTOSTERONE</td>\n",
       "      <td>351.00</td>\n",
       "    </tr>\n",
       "    <tr>\n",
       "      <td>1</td>\n",
       "      <td>2</td>\n",
       "      <td>2</td>\n",
       "      <td>2003</td>\n",
       "      <td>1.0</td>\n",
       "      <td>7.0</td>\n",
       "      <td>2003-01-07</td>\n",
       "      <td>2007-01-09</td>\n",
       "      <td>49041-7</td>\n",
       "      <td>TESTOSTERONE</td>\n",
       "      <td>304.00</td>\n",
       "    </tr>\n",
       "    <tr>\n",
       "      <td>2</td>\n",
       "      <td>2</td>\n",
       "      <td>2</td>\n",
       "      <td>2003</td>\n",
       "      <td>1.0</td>\n",
       "      <td>7.0</td>\n",
       "      <td>2003-01-07</td>\n",
       "      <td>2007-05-17</td>\n",
       "      <td>49041-7</td>\n",
       "      <td>TESTOSTERONE</td>\n",
       "      <td>259.00</td>\n",
       "    </tr>\n",
       "    <tr>\n",
       "      <td>3</td>\n",
       "      <td>2</td>\n",
       "      <td>2</td>\n",
       "      <td>2003</td>\n",
       "      <td>1.0</td>\n",
       "      <td>7.0</td>\n",
       "      <td>2003-01-07</td>\n",
       "      <td>2007-06-12</td>\n",
       "      <td>49041-7</td>\n",
       "      <td>TESTOSTERONE</td>\n",
       "      <td>382.00</td>\n",
       "    </tr>\n",
       "    <tr>\n",
       "      <td>4</td>\n",
       "      <td>2</td>\n",
       "      <td>2</td>\n",
       "      <td>2003</td>\n",
       "      <td>1.0</td>\n",
       "      <td>7.0</td>\n",
       "      <td>2003-01-07</td>\n",
       "      <td>2007-06-28</td>\n",
       "      <td>49041-7</td>\n",
       "      <td>TESTOSTERONE</td>\n",
       "      <td>439.00</td>\n",
       "    </tr>\n",
       "    <tr>\n",
       "      <td>...</td>\n",
       "      <td>...</td>\n",
       "      <td>...</td>\n",
       "      <td>...</td>\n",
       "      <td>...</td>\n",
       "      <td>...</td>\n",
       "      <td>...</td>\n",
       "      <td>...</td>\n",
       "      <td>...</td>\n",
       "      <td>...</td>\n",
       "      <td>...</td>\n",
       "    </tr>\n",
       "    <tr>\n",
       "      <td>18638</td>\n",
       "      <td>208953</td>\n",
       "      <td>2</td>\n",
       "      <td>2020</td>\n",
       "      <td>9.0</td>\n",
       "      <td>22.0</td>\n",
       "      <td>2020-09-22</td>\n",
       "      <td>2020-06-30</td>\n",
       "      <td>49041-7</td>\n",
       "      <td>TESTOSTERONE</td>\n",
       "      <td>557.28</td>\n",
       "    </tr>\n",
       "    <tr>\n",
       "      <td>18639</td>\n",
       "      <td>209160</td>\n",
       "      <td>2</td>\n",
       "      <td>2020</td>\n",
       "      <td>8.0</td>\n",
       "      <td>11.0</td>\n",
       "      <td>2020-08-11</td>\n",
       "      <td>2012-07-19</td>\n",
       "      <td>49041-7</td>\n",
       "      <td>TESTOSTERONE</td>\n",
       "      <td>219.10</td>\n",
       "    </tr>\n",
       "    <tr>\n",
       "      <td>18640</td>\n",
       "      <td>209416</td>\n",
       "      <td>2</td>\n",
       "      <td>2019</td>\n",
       "      <td>5.0</td>\n",
       "      <td>10.0</td>\n",
       "      <td>2019-05-10</td>\n",
       "      <td>2013-06-11</td>\n",
       "      <td>49041-7</td>\n",
       "      <td>TESTOSTERONE</td>\n",
       "      <td>211.15</td>\n",
       "    </tr>\n",
       "    <tr>\n",
       "      <td>18641</td>\n",
       "      <td>209416</td>\n",
       "      <td>2</td>\n",
       "      <td>2019</td>\n",
       "      <td>5.0</td>\n",
       "      <td>10.0</td>\n",
       "      <td>2019-05-10</td>\n",
       "      <td>2013-07-02</td>\n",
       "      <td>49041-7</td>\n",
       "      <td>TESTOSTERONE</td>\n",
       "      <td>150.70</td>\n",
       "    </tr>\n",
       "    <tr>\n",
       "      <td>18642</td>\n",
       "      <td>209416</td>\n",
       "      <td>2</td>\n",
       "      <td>2019</td>\n",
       "      <td>5.0</td>\n",
       "      <td>10.0</td>\n",
       "      <td>2019-05-10</td>\n",
       "      <td>2013-09-10</td>\n",
       "      <td>49041-7</td>\n",
       "      <td>TESTOSTERONE</td>\n",
       "      <td>156.07</td>\n",
       "    </tr>\n",
       "  </tbody>\n",
       "</table>\n",
       "<p>18643 rows × 10 columns</p>\n",
       "</div>"
      ],
      "text/plain": [
       "       person_id  cancer_type_id  year_of_diagnosis  month_of_diagnosis  \\\n",
       "0              2               2               2003                 1.0   \n",
       "1              2               2               2003                 1.0   \n",
       "2              2               2               2003                 1.0   \n",
       "3              2               2               2003                 1.0   \n",
       "4              2               2               2003                 1.0   \n",
       "...          ...             ...                ...                 ...   \n",
       "18638     208953               2               2020                 9.0   \n",
       "18639     209160               2               2020                 8.0   \n",
       "18640     209416               2               2019                 5.0   \n",
       "18641     209416               2               2019                 5.0   \n",
       "18642     209416               2               2019                 5.0   \n",
       "\n",
       "       day_of_diagnosis    dx_date result_date loinc_code source_test_name  \\\n",
       "0                   7.0 2003-01-07  2006-09-05    49041-7     TESTOSTERONE   \n",
       "1                   7.0 2003-01-07  2007-01-09    49041-7     TESTOSTERONE   \n",
       "2                   7.0 2003-01-07  2007-05-17    49041-7     TESTOSTERONE   \n",
       "3                   7.0 2003-01-07  2007-06-12    49041-7     TESTOSTERONE   \n",
       "4                   7.0 2003-01-07  2007-06-28    49041-7     TESTOSTERONE   \n",
       "...                 ...        ...         ...        ...              ...   \n",
       "18638              22.0 2020-09-22  2020-06-30    49041-7     TESTOSTERONE   \n",
       "18639              11.0 2020-08-11  2012-07-19    49041-7     TESTOSTERONE   \n",
       "18640              10.0 2019-05-10  2013-06-11    49041-7     TESTOSTERONE   \n",
       "18641              10.0 2019-05-10  2013-07-02    49041-7     TESTOSTERONE   \n",
       "18642              10.0 2019-05-10  2013-09-10    49041-7     TESTOSTERONE   \n",
       "\n",
       "       test_results  \n",
       "0            351.00  \n",
       "1            304.00  \n",
       "2            259.00  \n",
       "3            382.00  \n",
       "4            439.00  \n",
       "...             ...  \n",
       "18638        557.28  \n",
       "18639        219.10  \n",
       "18640        211.15  \n",
       "18641        150.70  \n",
       "18642        156.07  \n",
       "\n",
       "[18643 rows x 10 columns]"
      ]
     },
     "execution_count": 17,
     "metadata": {},
     "output_type": "execute_result"
    }
   ],
   "source": [
    "df_tvalue"
   ]
  },
  {
   "cell_type": "code",
   "execution_count": 18,
   "metadata": {},
   "outputs": [
    {
     "data": {
      "text/html": [
       "<div>\n",
       "<style scoped>\n",
       "    .dataframe tbody tr th:only-of-type {\n",
       "        vertical-align: middle;\n",
       "    }\n",
       "\n",
       "    .dataframe tbody tr th {\n",
       "        vertical-align: top;\n",
       "    }\n",
       "\n",
       "    .dataframe thead th {\n",
       "        text-align: right;\n",
       "    }\n",
       "</style>\n",
       "<table border=\"1\" class=\"dataframe\">\n",
       "  <thead>\n",
       "    <tr style=\"text-align: right;\">\n",
       "      <th></th>\n",
       "      <th>person_id</th>\n",
       "      <th>cancer_type_id</th>\n",
       "      <th>year_of_diagnosis</th>\n",
       "      <th>month_of_diagnosis</th>\n",
       "      <th>day_of_diagnosis</th>\n",
       "      <th>dx_date</th>\n",
       "      <th>result_date</th>\n",
       "      <th>loinc_code</th>\n",
       "      <th>source_test_name</th>\n",
       "      <th>test_results</th>\n",
       "    </tr>\n",
       "  </thead>\n",
       "  <tbody>\n",
       "    <tr>\n",
       "      <td>84</td>\n",
       "      <td>12</td>\n",
       "      <td>2</td>\n",
       "      <td>2012</td>\n",
       "      <td>10.0</td>\n",
       "      <td>24.0</td>\n",
       "      <td>2012-10-24</td>\n",
       "      <td>2012-11-01</td>\n",
       "      <td>49041-7</td>\n",
       "      <td>TESTOSTERONE</td>\n",
       "      <td>237.44</td>\n",
       "    </tr>\n",
       "    <tr>\n",
       "      <td>85</td>\n",
       "      <td>12</td>\n",
       "      <td>2</td>\n",
       "      <td>2012</td>\n",
       "      <td>10.0</td>\n",
       "      <td>24.0</td>\n",
       "      <td>2012-10-24</td>\n",
       "      <td>2013-05-06</td>\n",
       "      <td>49041-7</td>\n",
       "      <td>TESTOSTERONE</td>\n",
       "      <td>15.15</td>\n",
       "    </tr>\n",
       "    <tr>\n",
       "      <td>86</td>\n",
       "      <td>12</td>\n",
       "      <td>2</td>\n",
       "      <td>2012</td>\n",
       "      <td>10.0</td>\n",
       "      <td>24.0</td>\n",
       "      <td>2012-10-24</td>\n",
       "      <td>2014-01-28</td>\n",
       "      <td>49041-7</td>\n",
       "      <td>TESTOSTERONE</td>\n",
       "      <td>10.89</td>\n",
       "    </tr>\n",
       "  </tbody>\n",
       "</table>\n",
       "</div>"
      ],
      "text/plain": [
       "    person_id  cancer_type_id  year_of_diagnosis  month_of_diagnosis  \\\n",
       "84         12               2               2012                10.0   \n",
       "85         12               2               2012                10.0   \n",
       "86         12               2               2012                10.0   \n",
       "\n",
       "    day_of_diagnosis    dx_date result_date loinc_code source_test_name  \\\n",
       "84              24.0 2012-10-24  2012-11-01    49041-7     TESTOSTERONE   \n",
       "85              24.0 2012-10-24  2013-05-06    49041-7     TESTOSTERONE   \n",
       "86              24.0 2012-10-24  2014-01-28    49041-7     TESTOSTERONE   \n",
       "\n",
       "    test_results  \n",
       "84        237.44  \n",
       "85         15.15  \n",
       "86         10.89  "
      ]
     },
     "execution_count": 18,
     "metadata": {},
     "output_type": "execute_result"
    }
   ],
   "source": [
    "i=12\n",
    "df_tvalue_pt=df_tvalue[(df_tvalue[\"person_id\"]==i)]\n",
    "df_tvalue_pt[:3]"
   ]
  },
  {
   "cell_type": "code",
   "execution_count": 19,
   "metadata": {},
   "outputs": [
    {
     "data": {
      "text/plain": [
       "True"
      ]
     },
     "execution_count": 19,
     "metadata": {},
     "output_type": "execute_result"
    }
   ],
   "source": [
    "check=df_adt_pt['inital_ADT_start_date']\n",
    "check=df_adt_pt['inital_ADT_start_date'].to_list()\n",
    "#df1_pt.fillna('', inplace=True)\n",
    "df_adt_pt.replace('', np.NaN)\n",
    "df_adt_pt['inital_ADT_start_date'].notnull().values.any()"
   ]
  },
  {
   "cell_type": "code",
   "execution_count": 20,
   "metadata": {},
   "outputs": [
    {
     "data": {
      "text/plain": [
       "1"
      ]
     },
     "execution_count": 20,
     "metadata": {},
     "output_type": "execute_result"
    }
   ],
   "source": [
    "len(check)"
   ]
  },
  {
   "cell_type": "code",
   "execution_count": 21,
   "metadata": {},
   "outputs": [],
   "source": [
    "def closest(lst, K): \n",
    "      return lst[min(range(len(lst)), key = lambda i: abs(lst[i] - K))] "
   ]
  },
  {
   "cell_type": "code",
   "execution_count": 22,
   "metadata": {},
   "outputs": [
    {
     "data": {
      "text/plain": [
       "[Timestamp('2014-04-23 00:00:00'),\n",
       " Timestamp('2014-07-02 00:00:00'),\n",
       " Timestamp('2014-07-31 00:00:00'),\n",
       " Timestamp('2016-09-06 00:00:00'),\n",
       " Timestamp('2016-09-06 00:00:00'),\n",
       " Timestamp('2016-12-13 00:00:00'),\n",
       " Timestamp('2017-04-25 00:00:00'),\n",
       " Timestamp('2017-08-08 00:00:00'),\n",
       " Timestamp('2017-12-12 00:00:00'),\n",
       " Timestamp('2018-02-20 00:00:00'),\n",
       " Timestamp('2018-03-13 00:00:00'),\n",
       " Timestamp('2018-04-10 00:00:00'),\n",
       " Timestamp('2018-07-10 00:00:00'),\n",
       " Timestamp('2018-10-09 00:00:00'),\n",
       " Timestamp('2019-07-11 00:00:00'),\n",
       " Timestamp('2019-09-10 00:00:00'),\n",
       " Timestamp('2019-10-17 00:00:00'),\n",
       " Timestamp('2019-12-12 00:00:00'),\n",
       " Timestamp('2020-01-09 00:00:00'),\n",
       " Timestamp('2020-02-06 00:00:00'),\n",
       " Timestamp('2020-03-12 00:00:00')]"
      ]
     },
     "execution_count": 22,
     "metadata": {},
     "output_type": "execute_result"
    }
   ],
   "source": [
    "df1=df_adt\n",
    "df2=df_tvalue\n",
    "\n",
    "list_pts_adt_table=df1[\"person_id\"].to_list()\n",
    "df2_pt=df2[(df2[\"person_id\"] == 36062)]  \n",
    "each_pt_tdates=df2_pt['result_date'].to_list()\n",
    "each_pt_tdates"
   ]
  },
  {
   "cell_type": "code",
   "execution_count": 23,
   "metadata": {},
   "outputs": [
    {
     "data": {
      "text/html": [
       "<div>\n",
       "<style scoped>\n",
       "    .dataframe tbody tr th:only-of-type {\n",
       "        vertical-align: middle;\n",
       "    }\n",
       "\n",
       "    .dataframe tbody tr th {\n",
       "        vertical-align: top;\n",
       "    }\n",
       "\n",
       "    .dataframe thead th {\n",
       "        text-align: right;\n",
       "    }\n",
       "</style>\n",
       "<table border=\"1\" class=\"dataframe\">\n",
       "  <thead>\n",
       "    <tr style=\"text-align: right;\">\n",
       "      <th></th>\n",
       "      <th>person_id</th>\n",
       "      <th>inital_ADT_start_date</th>\n",
       "      <th>inital_ADT_end_date</th>\n",
       "      <th>Inital_ADT_timewindow</th>\n",
       "      <th>Inital_ADT_time_window_days</th>\n",
       "      <th>index1</th>\n",
       "    </tr>\n",
       "  </thead>\n",
       "  <tbody>\n",
       "    <tr>\n",
       "      <td>7</td>\n",
       "      <td>323</td>\n",
       "      <td>2015-06-18 00:00:00</td>\n",
       "      <td>2016-09-07 00:00:00</td>\n",
       "      <td>447 days 00:00:00.000000000</td>\n",
       "      <td>447</td>\n",
       "      <td>7</td>\n",
       "    </tr>\n",
       "  </tbody>\n",
       "</table>\n",
       "</div>"
      ],
      "text/plain": [
       "   person_id inital_ADT_start_date  inital_ADT_end_date  \\\n",
       "7        323   2015-06-18 00:00:00  2016-09-07 00:00:00   \n",
       "\n",
       "         Inital_ADT_timewindow Inital_ADT_time_window_days  index1  \n",
       "7  447 days 00:00:00.000000000                         447       7  "
      ]
     },
     "execution_count": 23,
     "metadata": {},
     "output_type": "execute_result"
    }
   ],
   "source": [
    "df1_pt=df1[(df1[\"person_id\"] == 323)]  \n",
    "df1_pt"
   ]
  },
  {
   "cell_type": "code",
   "execution_count": 24,
   "metadata": {},
   "outputs": [
    {
     "data": {
      "text/html": [
       "<div>\n",
       "<style scoped>\n",
       "    .dataframe tbody tr th:only-of-type {\n",
       "        vertical-align: middle;\n",
       "    }\n",
       "\n",
       "    .dataframe tbody tr th {\n",
       "        vertical-align: top;\n",
       "    }\n",
       "\n",
       "    .dataframe thead th {\n",
       "        text-align: right;\n",
       "    }\n",
       "</style>\n",
       "<table border=\"1\" class=\"dataframe\">\n",
       "  <thead>\n",
       "    <tr style=\"text-align: right;\">\n",
       "      <th></th>\n",
       "      <th>person_id</th>\n",
       "      <th>cancer_type_id</th>\n",
       "      <th>year_of_diagnosis</th>\n",
       "      <th>month_of_diagnosis</th>\n",
       "      <th>day_of_diagnosis</th>\n",
       "      <th>dx_date</th>\n",
       "      <th>result_date</th>\n",
       "      <th>loinc_code</th>\n",
       "      <th>source_test_name</th>\n",
       "      <th>test_results</th>\n",
       "    </tr>\n",
       "  </thead>\n",
       "  <tbody>\n",
       "    <tr>\n",
       "      <td>473</td>\n",
       "      <td>323</td>\n",
       "      <td>2</td>\n",
       "      <td>2015</td>\n",
       "      <td>6.0</td>\n",
       "      <td>9.0</td>\n",
       "      <td>2015-06-09</td>\n",
       "      <td>2015-07-22</td>\n",
       "      <td>49041-7</td>\n",
       "      <td>TESTOSTERONE</td>\n",
       "      <td>26.74</td>\n",
       "    </tr>\n",
       "    <tr>\n",
       "      <td>474</td>\n",
       "      <td>323</td>\n",
       "      <td>2</td>\n",
       "      <td>2015</td>\n",
       "      <td>6.0</td>\n",
       "      <td>9.0</td>\n",
       "      <td>2015-06-09</td>\n",
       "      <td>2015-09-09</td>\n",
       "      <td>49041-7</td>\n",
       "      <td>TESTOSTERONE</td>\n",
       "      <td>15.82</td>\n",
       "    </tr>\n",
       "    <tr>\n",
       "      <td>475</td>\n",
       "      <td>323</td>\n",
       "      <td>2</td>\n",
       "      <td>2015</td>\n",
       "      <td>6.0</td>\n",
       "      <td>9.0</td>\n",
       "      <td>2015-06-09</td>\n",
       "      <td>2015-11-30</td>\n",
       "      <td>49041-7</td>\n",
       "      <td>TESTOSTERONE</td>\n",
       "      <td>10.00</td>\n",
       "    </tr>\n",
       "    <tr>\n",
       "      <td>476</td>\n",
       "      <td>323</td>\n",
       "      <td>2</td>\n",
       "      <td>2015</td>\n",
       "      <td>6.0</td>\n",
       "      <td>9.0</td>\n",
       "      <td>2015-06-09</td>\n",
       "      <td>2016-02-29</td>\n",
       "      <td>49041-7</td>\n",
       "      <td>TESTOSTERONE</td>\n",
       "      <td>15.02</td>\n",
       "    </tr>\n",
       "    <tr>\n",
       "      <td>477</td>\n",
       "      <td>323</td>\n",
       "      <td>2</td>\n",
       "      <td>2015</td>\n",
       "      <td>6.0</td>\n",
       "      <td>9.0</td>\n",
       "      <td>2015-06-09</td>\n",
       "      <td>2016-03-09</td>\n",
       "      <td>49041-7</td>\n",
       "      <td>TESTOSTERONE</td>\n",
       "      <td>14.17</td>\n",
       "    </tr>\n",
       "    <tr>\n",
       "      <td>478</td>\n",
       "      <td>323</td>\n",
       "      <td>2</td>\n",
       "      <td>2015</td>\n",
       "      <td>6.0</td>\n",
       "      <td>9.0</td>\n",
       "      <td>2015-06-09</td>\n",
       "      <td>2016-06-01</td>\n",
       "      <td>49041-7</td>\n",
       "      <td>TESTOSTERONE</td>\n",
       "      <td>15.93</td>\n",
       "    </tr>\n",
       "    <tr>\n",
       "      <td>479</td>\n",
       "      <td>323</td>\n",
       "      <td>2</td>\n",
       "      <td>2015</td>\n",
       "      <td>6.0</td>\n",
       "      <td>9.0</td>\n",
       "      <td>2015-06-09</td>\n",
       "      <td>2016-08-26</td>\n",
       "      <td>49041-7</td>\n",
       "      <td>TESTOSTERONE</td>\n",
       "      <td>18.49</td>\n",
       "    </tr>\n",
       "  </tbody>\n",
       "</table>\n",
       "</div>"
      ],
      "text/plain": [
       "     person_id  cancer_type_id  year_of_diagnosis  month_of_diagnosis  \\\n",
       "473        323               2               2015                 6.0   \n",
       "474        323               2               2015                 6.0   \n",
       "475        323               2               2015                 6.0   \n",
       "476        323               2               2015                 6.0   \n",
       "477        323               2               2015                 6.0   \n",
       "478        323               2               2015                 6.0   \n",
       "479        323               2               2015                 6.0   \n",
       "\n",
       "     day_of_diagnosis    dx_date result_date loinc_code source_test_name  \\\n",
       "473               9.0 2015-06-09  2015-07-22    49041-7     TESTOSTERONE   \n",
       "474               9.0 2015-06-09  2015-09-09    49041-7     TESTOSTERONE   \n",
       "475               9.0 2015-06-09  2015-11-30    49041-7     TESTOSTERONE   \n",
       "476               9.0 2015-06-09  2016-02-29    49041-7     TESTOSTERONE   \n",
       "477               9.0 2015-06-09  2016-03-09    49041-7     TESTOSTERONE   \n",
       "478               9.0 2015-06-09  2016-06-01    49041-7     TESTOSTERONE   \n",
       "479               9.0 2015-06-09  2016-08-26    49041-7     TESTOSTERONE   \n",
       "\n",
       "     test_results  \n",
       "473         26.74  \n",
       "474         15.82  \n",
       "475         10.00  \n",
       "476         15.02  \n",
       "477         14.17  \n",
       "478         15.93  \n",
       "479         18.49  "
      ]
     },
     "execution_count": 24,
     "metadata": {},
     "output_type": "execute_result"
    }
   ],
   "source": [
    "df2_pt=df2[(df2[\"person_id\"] == 323)]  \n",
    "df2_pt"
   ]
  },
  {
   "cell_type": "code",
   "execution_count": 25,
   "metadata": {},
   "outputs": [],
   "source": [
    "#pd.to_datetime(df1_pt['inital_ADT_end_date'], utc=False)\n",
    "a=df1_pt['inital_ADT_start_date'].to_list()[0]\n",
    "#df.dates.values.astype('M8[D]')"
   ]
  },
  {
   "cell_type": "code",
   "execution_count": 26,
   "metadata": {},
   "outputs": [
    {
     "data": {
      "text/plain": [
       "Timestamp('2015-06-18 00:00:00')"
      ]
     },
     "execution_count": 26,
     "metadata": {},
     "output_type": "execute_result"
    }
   ],
   "source": [
    "a"
   ]
  },
  {
   "cell_type": "code",
   "execution_count": 27,
   "metadata": {},
   "outputs": [],
   "source": [
    "#df_tvalue_pt=df2[(df2[\"person_id\"] ==12)]    \n",
    "#df2_pt_T_75more=df2_pt.loc[df2_pt['test_results']>=75]"
   ]
  },
  {
   "cell_type": "code",
   "execution_count": 28,
   "metadata": {},
   "outputs": [],
   "source": [
    "#list_pts_adt_table"
   ]
  },
  {
   "cell_type": "code",
   "execution_count": 29,
   "metadata": {},
   "outputs": [],
   "source": [
    "a=df1_pt['inital_ADT_start_date'].to_list()[0]"
   ]
  },
  {
   "cell_type": "code",
   "execution_count": 30,
   "metadata": {},
   "outputs": [
    {
     "data": {
      "text/plain": [
       "Timestamp('2015-06-18 00:00:00')"
      ]
     },
     "execution_count": 30,
     "metadata": {},
     "output_type": "execute_result"
    }
   ],
   "source": [
    "a"
   ]
  },
  {
   "cell_type": "markdown",
   "metadata": {},
   "source": [
    "# Match T test date and value just before ADT <a class=\"anchor\" id=\"second-bullet\"></a>"
   ]
  },
  {
   "cell_type": "code",
   "execution_count": 31,
   "metadata": {},
   "outputs": [
    {
     "ename": "TypeError",
     "evalue": "'<=' not supported between instances of 'Timestamp' and 'str'",
     "output_type": "error",
     "traceback": [
      "\u001b[0;31m---------------------------------------------------------------------------\u001b[0m",
      "\u001b[0;31mTypeError\u001b[0m                                 Traceback (most recent call last)",
      "\u001b[0;32m<ipython-input-31-b9218dfe8bc5>\u001b[0m in \u001b[0;36m<module>\u001b[0;34m\u001b[0m\n\u001b[1;32m     39\u001b[0m \u001b[0;34m\u001b[0m\u001b[0m\n\u001b[1;32m     40\u001b[0m         \u001b[0;31m#only keep the ones before ADT start date, including on the day\u001b[0m\u001b[0;34m\u001b[0m\u001b[0;34m\u001b[0m\u001b[0;34m\u001b[0m\u001b[0m\n\u001b[0;32m---> 41\u001b[0;31m         \u001b[0mcleaned_aaaa\u001b[0m\u001b[0;34m=\u001b[0m \u001b[0;34m[\u001b[0m\u001b[0mx\u001b[0m \u001b[0;32mfor\u001b[0m \u001b[0mx\u001b[0m \u001b[0;32min\u001b[0m \u001b[0mcleaned_aaa\u001b[0m \u001b[0;32mif\u001b[0m \u001b[0mx\u001b[0m \u001b[0;34m<=\u001b[0m\u001b[0ma\u001b[0m\u001b[0;34m]\u001b[0m\u001b[0;34m\u001b[0m\u001b[0;34m\u001b[0m\u001b[0m\n\u001b[0m\u001b[1;32m     42\u001b[0m \u001b[0;34m\u001b[0m\u001b[0m\n\u001b[1;32m     43\u001b[0m         \u001b[0mstart_sorted_bin\u001b[0m\u001b[0;34m=\u001b[0m\u001b[0msorted\u001b[0m\u001b[0;34m(\u001b[0m\u001b[0mcleaned_aaaa\u001b[0m\u001b[0;34m)\u001b[0m\u001b[0;34m\u001b[0m\u001b[0;34m\u001b[0m\u001b[0m\n",
      "\u001b[0;32m<ipython-input-31-b9218dfe8bc5>\u001b[0m in \u001b[0;36m<listcomp>\u001b[0;34m(.0)\u001b[0m\n\u001b[1;32m     39\u001b[0m \u001b[0;34m\u001b[0m\u001b[0m\n\u001b[1;32m     40\u001b[0m         \u001b[0;31m#only keep the ones before ADT start date, including on the day\u001b[0m\u001b[0;34m\u001b[0m\u001b[0;34m\u001b[0m\u001b[0;34m\u001b[0m\u001b[0m\n\u001b[0;32m---> 41\u001b[0;31m         \u001b[0mcleaned_aaaa\u001b[0m\u001b[0;34m=\u001b[0m \u001b[0;34m[\u001b[0m\u001b[0mx\u001b[0m \u001b[0;32mfor\u001b[0m \u001b[0mx\u001b[0m \u001b[0;32min\u001b[0m \u001b[0mcleaned_aaa\u001b[0m \u001b[0;32mif\u001b[0m \u001b[0mx\u001b[0m \u001b[0;34m<=\u001b[0m\u001b[0ma\u001b[0m\u001b[0;34m]\u001b[0m\u001b[0;34m\u001b[0m\u001b[0;34m\u001b[0m\u001b[0m\n\u001b[0m\u001b[1;32m     42\u001b[0m \u001b[0;34m\u001b[0m\u001b[0m\n\u001b[1;32m     43\u001b[0m         \u001b[0mstart_sorted_bin\u001b[0m\u001b[0;34m=\u001b[0m\u001b[0msorted\u001b[0m\u001b[0;34m(\u001b[0m\u001b[0mcleaned_aaaa\u001b[0m\u001b[0;34m)\u001b[0m\u001b[0;34m\u001b[0m\u001b[0;34m\u001b[0m\u001b[0m\n",
      "\u001b[0;31mTypeError\u001b[0m: '<=' not supported between instances of 'Timestamp' and 'str'"
     ]
    }
   ],
   "source": [
    "result_list=[]\n",
    "\n",
    "#for y in list_pts:      \n",
    "#for y in list_pts_adt_table:\n",
    "#for y in [12427]:\n",
    "for y in list_pts_adt_table: \n",
    "    \n",
    "    df1_pt=df1[(df1[\"person_id\"] == y)]\n",
    "    \n",
    "    if len(df1_pt.inital_ADT_start_date)==0:    \n",
    "    #if(df1_pt.inital_ADT_start_date.values.any()==\"\"):        \n",
    "        a='NaN'\n",
    "        gap='NaN'\n",
    "        tdate='NaN'\n",
    "        tvalue='NaN'\n",
    "        N_t_dates='NaN'\n",
    "        N_t_dates_beforeADT='NaN'\n",
    "        adt_end=df1_pt['inital_ADT_end_date'].to_list()[0] \n",
    "\n",
    "    if len(df1_pt.inital_ADT_start_date)!=0:    \n",
    "    #if(df1_pt.inital_ADT_start_date.values.any()!=\"\"):\n",
    "        a=df1_pt['inital_ADT_start_date'].to_list()[0]\n",
    "        \n",
    "        #add 6 months to the inital ADT end date\n",
    "        #a_plus_6mons=a + timedelta(days=180)\n",
    "        adt_end=df1_pt['inital_ADT_end_date'].to_list()[0] \n",
    "        #pick up initial ADT window \n",
    "        gap=df1_pt['Inital_ADT_time_window_days'].to_list()[0] \n",
    "    \n",
    "        df2_pt=df2[(df2[\"person_id\"] == y)]    \n",
    "        each_pt_tdates = df2_pt['result_date'].to_list()\n",
    "\n",
    "        ##get rid of nan\n",
    "        cleaned_a=[]\n",
    "        cleaned_a= [x for x in each_pt_tdates if str(x) != 'NaN']\n",
    "        cleaned_aa= [x for x in cleaned_a if str(x) != 'nan']\n",
    "        cleaned_aaa= [x for x in cleaned_aa if str(x) != 'NaT']\n",
    "        N_t_dates=len(cleaned_aaa)\n",
    "\n",
    "        #only keep the ones before ADT start date, including on the day\n",
    "        cleaned_aaaa= [x for x in cleaned_aaa if x <=a]\n",
    "        \n",
    "        start_sorted_bin=sorted(cleaned_aaaa)\n",
    "        N_t_dates_beforeADT=len(cleaned_aaaa)\n",
    "    \n",
    "        if(len(start_sorted_bin)==0):\n",
    "            tdate='NaN' \n",
    "            tvalue=\"NaN\"\n",
    "\n",
    "        if(len(start_sorted_bin)>0):\n",
    "            #apply the closet function\n",
    "            #tdate=closest(start_sorted_bin,a_plus_6mons)\n",
    "            tdate=closest(start_sorted_bin,a)\n",
    "            #tvalue=df2_pt.loc[df['result_date'] == tdate].test_result\n",
    "    \n",
    "            #pick up T-value for T-date\n",
    "            df2_pt_pick=df2_pt[(df2_pt['result_date']==tdate)]\n",
    "            tvalue=df2_pt_pick.test_results.values[0]\n",
    "    \n",
    "    #print(y, a, gap,tdate, tvalue,N_t_dates,N_t_dates_beforeADT)\n",
    "    result_per_pt=[y, a, adt_end, gap, tdate, tvalue,N_t_dates,N_t_dates_beforeADT]\n",
    "    result_list.append(result_per_pt)"
   ]
  },
  {
   "cell_type": "code",
   "execution_count": null,
   "metadata": {},
   "outputs": [],
   "source": [
    "df_results_before_adt=pd.DataFrame(result_list)\n",
    "df_results_before_adt.columns=(['person_id', 'inital_ADT_start_date', 'inital_ADT_end_date', 'Inital_ADT_time_window_days', 'Tdate_justbeforeADT', 'Tvalue_justbeforeADT', \"N_T_dates\",\"N_T_dates_beforeADT\"])"
   ]
  },
  {
   "cell_type": "code",
   "execution_count": null,
   "metadata": {},
   "outputs": [],
   "source": [
    "df_results_before_adt[:3]"
   ]
  },
  {
   "cell_type": "code",
   "execution_count": null,
   "metadata": {},
   "outputs": [],
   "source": [
    "shape(df_results_before_adt)"
   ]
  },
  {
   "cell_type": "markdown",
   "metadata": {},
   "source": [
    "# Output data <a class=\"anchor\" id=\"third-bullet\"></a>"
   ]
  },
  {
   "cell_type": "code",
   "execution_count": null,
   "metadata": {},
   "outputs": [],
   "source": [
    "df_results_before_adt.to_csv(\"radiation_tdate_tvalue_beforeADT_all_121pts_results_new.csv\", encoding='utf-8', index=False)"
   ]
  },
  {
   "cell_type": "markdown",
   "metadata": {},
   "source": [
    "# Match T test date and value Immediately after ADT <a class=\"anchor\" id=\"third-bullet\"></a>"
   ]
  },
  {
   "cell_type": "code",
   "execution_count": 32,
   "metadata": {},
   "outputs": [],
   "source": [
    "result_after_list=[]\n",
    "\n",
    "#for y in list_pts:      \n",
    "for y in list_pts:\n",
    "#for y in [12427]:\n",
    "#for y in list_pts_adt_table: \n",
    "    \n",
    "    df1_pt=df1[(df1[\"person_id\"] == y)]\n",
    "    \n",
    "    if(df1_pt.inital_ADT_end_date.values.any()==\"\"):        \n",
    "        b='NaN'\n",
    "        gap='NaN'\n",
    "        tdate='NaN'\n",
    "        tvalue='NaN'\n",
    "        N_t_dates='NaN'\n",
    "        N_t_dates_afterADT='NaN'\n",
    "\n",
    "    if(df1_pt.inital_ADT_end_date.values.any()!=\"\"):\n",
    "        b=df1_pt['inital_ADT_end_date'].to_list()[0]\n",
    "        \n",
    "        df2_pt=df2[(df2[\"person_id\"] == y)]    \n",
    "        each_pt_tdates = df2_pt['result_date'].to_list()\n",
    "\n",
    "        ##get rid of nan\n",
    "        cleaned_a=[]\n",
    "        cleaned_a= [x for x in each_pt_tdates if str(x) != 'NaN']\n",
    "        cleaned_aa= [x for x in cleaned_a if str(x) != 'nan']\n",
    "        cleaned_aaa= [x for x in cleaned_aa if str(x) != 'NaT']\n",
    "        N_t_dates=len(cleaned_aaa)\n",
    "\n",
    "        #only keep the ones after ADT end date including on the day\n",
    "        cleaned_aaaa= [x for x in cleaned_aaa if x >=b]\n",
    "        start_sorted_bin=sorted(cleaned_aaaa)\n",
    "        N_t_dates_afterADT=len(cleaned_aaaa)\n",
    "    \n",
    "        if(len(start_sorted_bin)==0):\n",
    "            tdate='NaN' \n",
    "            tvalue=\"NaN\"\n",
    "\n",
    "        if(len(start_sorted_bin)>0):\n",
    "            #apply the closet function\n",
    "            #tdate=closest(start_sorted_bin,a_plus_6mons)\n",
    "            tdate=closest(start_sorted_bin,b)\n",
    "            #tvalue=df2_pt.loc[df['result_date'] == tdate].test_result\n",
    "    \n",
    "            #pick up T-value for T-date\n",
    "            df2_pt_pick=df2_pt[(df2_pt['result_date']==tdate)]\n",
    "            tvalue=df2_pt_pick.test_results.values[0]\n",
    "    \n",
    "    #print(y, b, tdate, tvalue ,N_t_dates,N_t_dates_afterADT)\n",
    "    result_after_per_pt=[y, a, tdate, tvalue ,N_t_dates,N_t_dates_afterADT]\n",
    "    result_after_list.append(result_after_per_pt)"
   ]
  },
  {
   "cell_type": "code",
   "execution_count": 33,
   "metadata": {},
   "outputs": [],
   "source": [
    "df_results_after_adt=pd.DataFrame(result_after_list)\n",
    "df_results_after_adt.columns=(['person_id', 'inital_ADT_end_date', 'Tdate_justafterADT', 'Tvalue_justafterADT', \"N_T_dates\",\"N_T_dates_afterADT\"])"
   ]
  },
  {
   "cell_type": "code",
   "execution_count": 34,
   "metadata": {},
   "outputs": [],
   "source": [
    "df_results_after_adt.to_csv(\"radiation_tdate_tvalue_afterADT_all_121pts_results_new.csv\", encoding='utf-8', index=False)"
   ]
  },
  {
   "cell_type": "markdown",
   "metadata": {},
   "source": [
    "# Compute for the delta against the baseline "
   ]
  },
  {
   "cell_type": "code",
   "execution_count": 35,
   "metadata": {},
   "outputs": [
    {
     "ename": "FileNotFoundError",
     "evalue": "[Errno 2] No such file or directory: 'Results_radiation_cohort_121pts_Inital_ADT_windows_with_Tvalues_before_and_after_ADT_Feb1_2021.xls'",
     "output_type": "error",
     "traceback": [
      "\u001b[0;31m---------------------------------------------------------------------------\u001b[0m",
      "\u001b[0;31mFileNotFoundError\u001b[0m                         Traceback (most recent call last)",
      "\u001b[0;32m<ipython-input-35-0a4f12126bc9>\u001b[0m in \u001b[0;36m<module>\u001b[0;34m\u001b[0m\n\u001b[0;32m----> 1\u001b[0;31m \u001b[0mdf_delta\u001b[0m\u001b[0;34m=\u001b[0m\u001b[0mpd\u001b[0m\u001b[0;34m.\u001b[0m\u001b[0mread_excel\u001b[0m\u001b[0;34m(\u001b[0m\u001b[0;34m\"Results_radiation_cohort_121pts_Inital_ADT_windows_with_Tvalues_before_and_after_ADT_Feb1_2021.xls\"\u001b[0m\u001b[0;34m,\u001b[0m \u001b[0mheader\u001b[0m\u001b[0;34m=\u001b[0m\u001b[0;36m0\u001b[0m\u001b[0;34m)\u001b[0m\u001b[0;34m\u001b[0m\u001b[0;34m\u001b[0m\u001b[0m\n\u001b[0m",
      "\u001b[0;32m~/opt/anaconda3/lib/python3.7/site-packages/pandas/util/_decorators.py\u001b[0m in \u001b[0;36mwrapper\u001b[0;34m(*args, **kwargs)\u001b[0m\n\u001b[1;32m    206\u001b[0m                 \u001b[0;32melse\u001b[0m\u001b[0;34m:\u001b[0m\u001b[0;34m\u001b[0m\u001b[0;34m\u001b[0m\u001b[0m\n\u001b[1;32m    207\u001b[0m                     \u001b[0mkwargs\u001b[0m\u001b[0;34m[\u001b[0m\u001b[0mnew_arg_name\u001b[0m\u001b[0;34m]\u001b[0m \u001b[0;34m=\u001b[0m \u001b[0mnew_arg_value\u001b[0m\u001b[0;34m\u001b[0m\u001b[0;34m\u001b[0m\u001b[0m\n\u001b[0;32m--> 208\u001b[0;31m             \u001b[0;32mreturn\u001b[0m \u001b[0mfunc\u001b[0m\u001b[0;34m(\u001b[0m\u001b[0;34m*\u001b[0m\u001b[0margs\u001b[0m\u001b[0;34m,\u001b[0m \u001b[0;34m**\u001b[0m\u001b[0mkwargs\u001b[0m\u001b[0;34m)\u001b[0m\u001b[0;34m\u001b[0m\u001b[0;34m\u001b[0m\u001b[0m\n\u001b[0m\u001b[1;32m    209\u001b[0m \u001b[0;34m\u001b[0m\u001b[0m\n\u001b[1;32m    210\u001b[0m         \u001b[0;32mreturn\u001b[0m \u001b[0mwrapper\u001b[0m\u001b[0;34m\u001b[0m\u001b[0;34m\u001b[0m\u001b[0m\n",
      "\u001b[0;32m~/opt/anaconda3/lib/python3.7/site-packages/pandas/io/excel/_base.py\u001b[0m in \u001b[0;36mread_excel\u001b[0;34m(io, sheet_name, header, names, index_col, usecols, squeeze, dtype, engine, converters, true_values, false_values, skiprows, nrows, na_values, keep_default_na, verbose, parse_dates, date_parser, thousands, comment, skip_footer, skipfooter, convert_float, mangle_dupe_cols, **kwds)\u001b[0m\n\u001b[1;32m    308\u001b[0m \u001b[0;34m\u001b[0m\u001b[0m\n\u001b[1;32m    309\u001b[0m     \u001b[0;32mif\u001b[0m \u001b[0;32mnot\u001b[0m \u001b[0misinstance\u001b[0m\u001b[0;34m(\u001b[0m\u001b[0mio\u001b[0m\u001b[0;34m,\u001b[0m \u001b[0mExcelFile\u001b[0m\u001b[0;34m)\u001b[0m\u001b[0;34m:\u001b[0m\u001b[0;34m\u001b[0m\u001b[0;34m\u001b[0m\u001b[0m\n\u001b[0;32m--> 310\u001b[0;31m         \u001b[0mio\u001b[0m \u001b[0;34m=\u001b[0m \u001b[0mExcelFile\u001b[0m\u001b[0;34m(\u001b[0m\u001b[0mio\u001b[0m\u001b[0;34m,\u001b[0m \u001b[0mengine\u001b[0m\u001b[0;34m=\u001b[0m\u001b[0mengine\u001b[0m\u001b[0;34m)\u001b[0m\u001b[0;34m\u001b[0m\u001b[0;34m\u001b[0m\u001b[0m\n\u001b[0m\u001b[1;32m    311\u001b[0m     \u001b[0;32melif\u001b[0m \u001b[0mengine\u001b[0m \u001b[0;32mand\u001b[0m \u001b[0mengine\u001b[0m \u001b[0;34m!=\u001b[0m \u001b[0mio\u001b[0m\u001b[0;34m.\u001b[0m\u001b[0mengine\u001b[0m\u001b[0;34m:\u001b[0m\u001b[0;34m\u001b[0m\u001b[0;34m\u001b[0m\u001b[0m\n\u001b[1;32m    312\u001b[0m         raise ValueError(\n",
      "\u001b[0;32m~/opt/anaconda3/lib/python3.7/site-packages/pandas/io/excel/_base.py\u001b[0m in \u001b[0;36m__init__\u001b[0;34m(self, io, engine)\u001b[0m\n\u001b[1;32m    817\u001b[0m         \u001b[0mself\u001b[0m\u001b[0;34m.\u001b[0m\u001b[0m_io\u001b[0m \u001b[0;34m=\u001b[0m \u001b[0m_stringify_path\u001b[0m\u001b[0;34m(\u001b[0m\u001b[0mio\u001b[0m\u001b[0;34m)\u001b[0m\u001b[0;34m\u001b[0m\u001b[0;34m\u001b[0m\u001b[0m\n\u001b[1;32m    818\u001b[0m \u001b[0;34m\u001b[0m\u001b[0m\n\u001b[0;32m--> 819\u001b[0;31m         \u001b[0mself\u001b[0m\u001b[0;34m.\u001b[0m\u001b[0m_reader\u001b[0m \u001b[0;34m=\u001b[0m \u001b[0mself\u001b[0m\u001b[0;34m.\u001b[0m\u001b[0m_engines\u001b[0m\u001b[0;34m[\u001b[0m\u001b[0mengine\u001b[0m\u001b[0;34m]\u001b[0m\u001b[0;34m(\u001b[0m\u001b[0mself\u001b[0m\u001b[0;34m.\u001b[0m\u001b[0m_io\u001b[0m\u001b[0;34m)\u001b[0m\u001b[0;34m\u001b[0m\u001b[0;34m\u001b[0m\u001b[0m\n\u001b[0m\u001b[1;32m    820\u001b[0m \u001b[0;34m\u001b[0m\u001b[0m\n\u001b[1;32m    821\u001b[0m     \u001b[0;32mdef\u001b[0m \u001b[0m__fspath__\u001b[0m\u001b[0;34m(\u001b[0m\u001b[0mself\u001b[0m\u001b[0;34m)\u001b[0m\u001b[0;34m:\u001b[0m\u001b[0;34m\u001b[0m\u001b[0;34m\u001b[0m\u001b[0m\n",
      "\u001b[0;32m~/opt/anaconda3/lib/python3.7/site-packages/pandas/io/excel/_xlrd.py\u001b[0m in \u001b[0;36m__init__\u001b[0;34m(self, filepath_or_buffer)\u001b[0m\n\u001b[1;32m     19\u001b[0m         \u001b[0merr_msg\u001b[0m \u001b[0;34m=\u001b[0m \u001b[0;34m\"Install xlrd >= 1.0.0 for Excel support\"\u001b[0m\u001b[0;34m\u001b[0m\u001b[0;34m\u001b[0m\u001b[0m\n\u001b[1;32m     20\u001b[0m         \u001b[0mimport_optional_dependency\u001b[0m\u001b[0;34m(\u001b[0m\u001b[0;34m\"xlrd\"\u001b[0m\u001b[0;34m,\u001b[0m \u001b[0mextra\u001b[0m\u001b[0;34m=\u001b[0m\u001b[0merr_msg\u001b[0m\u001b[0;34m)\u001b[0m\u001b[0;34m\u001b[0m\u001b[0;34m\u001b[0m\u001b[0m\n\u001b[0;32m---> 21\u001b[0;31m         \u001b[0msuper\u001b[0m\u001b[0;34m(\u001b[0m\u001b[0;34m)\u001b[0m\u001b[0;34m.\u001b[0m\u001b[0m__init__\u001b[0m\u001b[0;34m(\u001b[0m\u001b[0mfilepath_or_buffer\u001b[0m\u001b[0;34m)\u001b[0m\u001b[0;34m\u001b[0m\u001b[0;34m\u001b[0m\u001b[0m\n\u001b[0m\u001b[1;32m     22\u001b[0m \u001b[0;34m\u001b[0m\u001b[0m\n\u001b[1;32m     23\u001b[0m     \u001b[0;34m@\u001b[0m\u001b[0mproperty\u001b[0m\u001b[0;34m\u001b[0m\u001b[0;34m\u001b[0m\u001b[0m\n",
      "\u001b[0;32m~/opt/anaconda3/lib/python3.7/site-packages/pandas/io/excel/_base.py\u001b[0m in \u001b[0;36m__init__\u001b[0;34m(self, filepath_or_buffer)\u001b[0m\n\u001b[1;32m    357\u001b[0m             \u001b[0mself\u001b[0m\u001b[0;34m.\u001b[0m\u001b[0mbook\u001b[0m \u001b[0;34m=\u001b[0m \u001b[0mself\u001b[0m\u001b[0;34m.\u001b[0m\u001b[0mload_workbook\u001b[0m\u001b[0;34m(\u001b[0m\u001b[0mfilepath_or_buffer\u001b[0m\u001b[0;34m)\u001b[0m\u001b[0;34m\u001b[0m\u001b[0;34m\u001b[0m\u001b[0m\n\u001b[1;32m    358\u001b[0m         \u001b[0;32melif\u001b[0m \u001b[0misinstance\u001b[0m\u001b[0;34m(\u001b[0m\u001b[0mfilepath_or_buffer\u001b[0m\u001b[0;34m,\u001b[0m \u001b[0mstr\u001b[0m\u001b[0;34m)\u001b[0m\u001b[0;34m:\u001b[0m\u001b[0;34m\u001b[0m\u001b[0;34m\u001b[0m\u001b[0m\n\u001b[0;32m--> 359\u001b[0;31m             \u001b[0mself\u001b[0m\u001b[0;34m.\u001b[0m\u001b[0mbook\u001b[0m \u001b[0;34m=\u001b[0m \u001b[0mself\u001b[0m\u001b[0;34m.\u001b[0m\u001b[0mload_workbook\u001b[0m\u001b[0;34m(\u001b[0m\u001b[0mfilepath_or_buffer\u001b[0m\u001b[0;34m)\u001b[0m\u001b[0;34m\u001b[0m\u001b[0;34m\u001b[0m\u001b[0m\n\u001b[0m\u001b[1;32m    360\u001b[0m         \u001b[0;32melse\u001b[0m\u001b[0;34m:\u001b[0m\u001b[0;34m\u001b[0m\u001b[0;34m\u001b[0m\u001b[0m\n\u001b[1;32m    361\u001b[0m             raise ValueError(\n",
      "\u001b[0;32m~/opt/anaconda3/lib/python3.7/site-packages/pandas/io/excel/_xlrd.py\u001b[0m in \u001b[0;36mload_workbook\u001b[0;34m(self, filepath_or_buffer)\u001b[0m\n\u001b[1;32m     34\u001b[0m             \u001b[0;32mreturn\u001b[0m \u001b[0mopen_workbook\u001b[0m\u001b[0;34m(\u001b[0m\u001b[0mfile_contents\u001b[0m\u001b[0;34m=\u001b[0m\u001b[0mdata\u001b[0m\u001b[0;34m)\u001b[0m\u001b[0;34m\u001b[0m\u001b[0;34m\u001b[0m\u001b[0m\n\u001b[1;32m     35\u001b[0m         \u001b[0;32melse\u001b[0m\u001b[0;34m:\u001b[0m\u001b[0;34m\u001b[0m\u001b[0;34m\u001b[0m\u001b[0m\n\u001b[0;32m---> 36\u001b[0;31m             \u001b[0;32mreturn\u001b[0m \u001b[0mopen_workbook\u001b[0m\u001b[0;34m(\u001b[0m\u001b[0mfilepath_or_buffer\u001b[0m\u001b[0;34m)\u001b[0m\u001b[0;34m\u001b[0m\u001b[0;34m\u001b[0m\u001b[0m\n\u001b[0m\u001b[1;32m     37\u001b[0m \u001b[0;34m\u001b[0m\u001b[0m\n\u001b[1;32m     38\u001b[0m     \u001b[0;34m@\u001b[0m\u001b[0mproperty\u001b[0m\u001b[0;34m\u001b[0m\u001b[0;34m\u001b[0m\u001b[0m\n",
      "\u001b[0;32m~/opt/anaconda3/lib/python3.7/site-packages/xlrd/__init__.py\u001b[0m in \u001b[0;36mopen_workbook\u001b[0;34m(filename, logfile, verbosity, use_mmap, file_contents, encoding_override, formatting_info, on_demand, ragged_rows)\u001b[0m\n\u001b[1;32m    109\u001b[0m     \u001b[0;32melse\u001b[0m\u001b[0;34m:\u001b[0m\u001b[0;34m\u001b[0m\u001b[0;34m\u001b[0m\u001b[0m\n\u001b[1;32m    110\u001b[0m         \u001b[0mfilename\u001b[0m \u001b[0;34m=\u001b[0m \u001b[0mos\u001b[0m\u001b[0;34m.\u001b[0m\u001b[0mpath\u001b[0m\u001b[0;34m.\u001b[0m\u001b[0mexpanduser\u001b[0m\u001b[0;34m(\u001b[0m\u001b[0mfilename\u001b[0m\u001b[0;34m)\u001b[0m\u001b[0;34m\u001b[0m\u001b[0;34m\u001b[0m\u001b[0m\n\u001b[0;32m--> 111\u001b[0;31m         \u001b[0;32mwith\u001b[0m \u001b[0mopen\u001b[0m\u001b[0;34m(\u001b[0m\u001b[0mfilename\u001b[0m\u001b[0;34m,\u001b[0m \u001b[0;34m\"rb\"\u001b[0m\u001b[0;34m)\u001b[0m \u001b[0;32mas\u001b[0m \u001b[0mf\u001b[0m\u001b[0;34m:\u001b[0m\u001b[0;34m\u001b[0m\u001b[0;34m\u001b[0m\u001b[0m\n\u001b[0m\u001b[1;32m    112\u001b[0m             \u001b[0mpeek\u001b[0m \u001b[0;34m=\u001b[0m \u001b[0mf\u001b[0m\u001b[0;34m.\u001b[0m\u001b[0mread\u001b[0m\u001b[0;34m(\u001b[0m\u001b[0mpeeksz\u001b[0m\u001b[0;34m)\u001b[0m\u001b[0;34m\u001b[0m\u001b[0;34m\u001b[0m\u001b[0m\n\u001b[1;32m    113\u001b[0m     \u001b[0;32mif\u001b[0m \u001b[0mpeek\u001b[0m \u001b[0;34m==\u001b[0m \u001b[0;34mb\"PK\\x03\\x04\"\u001b[0m\u001b[0;34m:\u001b[0m \u001b[0;31m# a ZIP file\u001b[0m\u001b[0;34m\u001b[0m\u001b[0;34m\u001b[0m\u001b[0m\n",
      "\u001b[0;31mFileNotFoundError\u001b[0m: [Errno 2] No such file or directory: 'Results_radiation_cohort_121pts_Inital_ADT_windows_with_Tvalues_before_and_after_ADT_Feb1_2021.xls'"
     ]
    }
   ],
   "source": [
    "df_delta=pd.read_excel(\"Results_radiation_cohort_121pts_Inital_ADT_windows_with_Tvalues_before_and_after_ADT_Feb1_2021.xls\", header=0)"
   ]
  },
  {
   "cell_type": "code",
   "execution_count": 36,
   "metadata": {},
   "outputs": [
    {
     "ename": "NameError",
     "evalue": "name 'df_delta' is not defined",
     "output_type": "error",
     "traceback": [
      "\u001b[0;31m---------------------------------------------------------------------------\u001b[0m",
      "\u001b[0;31mNameError\u001b[0m                                 Traceback (most recent call last)",
      "\u001b[0;32m<ipython-input-36-5be98bdcd3a9>\u001b[0m in \u001b[0;36m<module>\u001b[0;34m\u001b[0m\n\u001b[0;32m----> 1\u001b[0;31m \u001b[0mdf_delta\u001b[0m\u001b[0;34m[\u001b[0m\u001b[0;34m:\u001b[0m\u001b[0;36m3\u001b[0m\u001b[0;34m]\u001b[0m\u001b[0;34m\u001b[0m\u001b[0;34m\u001b[0m\u001b[0m\n\u001b[0m",
      "\u001b[0;31mNameError\u001b[0m: name 'df_delta' is not defined"
     ]
    }
   ],
   "source": [
    "df_delta[:3]"
   ]
  },
  {
   "cell_type": "code",
   "execution_count": null,
   "metadata": {},
   "outputs": [],
   "source": [
    "list(df_delta.columns.values)"
   ]
  },
  {
   "cell_type": "code",
   "execution_count": null,
   "metadata": {},
   "outputs": [],
   "source": [
    "#for the pts with T value avai before ADT, get delta T values\n",
    "df_delta.fillna('', inplace=True)\n",
    "df_delta[df_delta['Tvalue_justbeforeADT'] == ''].index"
   ]
  },
  {
   "cell_type": "code",
   "execution_count": null,
   "metadata": {},
   "outputs": [],
   "source": [
    "df_with_tbeforeadt=df_delta[df_delta['Tdate_justbeforeADT'] != '']\n",
    "shape(df_with_tbeforeadt)"
   ]
  },
  {
   "cell_type": "code",
   "execution_count": null,
   "metadata": {},
   "outputs": [],
   "source": [
    "df_with_tbeforeadt_and_after=df_with_tbeforeadt[df_with_tbeforeadt['Tvalue_justafterADT'] != '']\n",
    "shape(df_with_tbeforeadt_and_after)"
   ]
  },
  {
   "cell_type": "code",
   "execution_count": null,
   "metadata": {},
   "outputs": [],
   "source": [
    "df_with_tbeforeadt_and_after[:5]"
   ]
  },
  {
   "cell_type": "code",
   "execution_count": null,
   "metadata": {},
   "outputs": [],
   "source": [
    "#create a column for the delta \n",
    "df_with_tbeforeadt_and_after['delta_Tvalue'] =df_with_tbeforeadt_and_after['Tvalue_justafterADT'] -df_with_tbeforeadt_and_after['Tvalue_justbeforeADT']\n",
    "#create a column for the delta \n",
    "#df_with_tbeforeadt_and_after['delta_Tvalue_recovery'] =df_with_tbeforeadt_and_after['Tvalue_justafterADT'] -df_with_tbeforeadt_and_after['Tvalue_justbeforeADT']"
   ]
  },
  {
   "cell_type": "code",
   "execution_count": null,
   "metadata": {},
   "outputs": [],
   "source": [
    "df_with_tbeforeadt_and_after.mean()"
   ]
  },
  {
   "cell_type": "code",
   "execution_count": null,
   "metadata": {},
   "outputs": [],
   "source": [
    "df_with_tbeforeadt_and_after.Tvalue_justbeforeADT.std()"
   ]
  },
  {
   "cell_type": "markdown",
   "metadata": {},
   "source": [
    "# Match T test date and value after ADT and assign T Recovery status "
   ]
  },
  {
   "cell_type": "code",
   "execution_count": null,
   "metadata": {},
   "outputs": [],
   "source": [
    "y=12\n",
    "df1_pt=df1[(df1[\"person_id\"] == y)]\n",
    "df2_pt=df2[(df2[\"person_id\"] == y)]\n",
    "b=df1_pt['inital_ADT_end_date'].to_list()[0]\n",
    "df3_pt=df2_pt[df2_pt.test_results > 75][df2_pt.result_date >=b]\n",
    "#df4_pt=df3_pt[df3_pt.result_date>=b]\n",
    "# and df2_pt.result_date >=b"
   ]
  },
  {
   "cell_type": "code",
   "execution_count": null,
   "metadata": {},
   "outputs": [],
   "source": [
    "b"
   ]
  },
  {
   "cell_type": "code",
   "execution_count": null,
   "metadata": {},
   "outputs": [],
   "source": [
    "df2_pt=df2[(df2[\"person_id\"] == 12)] \n",
    "df2_pt "
   ]
  },
  {
   "cell_type": "code",
   "execution_count": null,
   "metadata": {},
   "outputs": [],
   "source": [
    "result_status_list=[]\n",
    "\n",
    "for y in list_pts:     \n",
    "#for y in list_pts_adt_table:\n",
    "#for y in [12427]:\n",
    "#for y in list_pts_adt_table: \n",
    "    \n",
    "    df1_pt=df1[(df1[\"person_id\"] == y)]\n",
    "    \n",
    "    if(df1_pt.inital_ADT_end_date.values.any()==\"\"):        \n",
    "        b='NaN'\n",
    "        #gap='NaN'\n",
    "        tdate='NaN'\n",
    "        tvalue='NaN'\n",
    "        status=\"NaN\"\n",
    "        N_t_dates='NaN'\n",
    "        N_t_dates_afterADT='NaN'\n",
    "\n",
    "    if(df1_pt.inital_ADT_end_date.values.any()!=\"\"):\n",
    "        b=df1_pt['inital_ADT_end_date'].to_list()[0]\n",
    "        \n",
    "        df2_pt=df2[(df2[\"person_id\"] == y)]    \n",
    "        each_pt_tdates = df2_pt['result_date'].to_list()\n",
    "\n",
    "        ##get rid of nan\n",
    "        cleaned_a=[]\n",
    "        cleaned_a= [x for x in each_pt_tdates if str(x) != 'NaN']\n",
    "        cleaned_aa= [x for x in cleaned_a if str(x) != 'nan']\n",
    "        cleaned_aaa= [x for x in cleaned_aa if str(x) != 'NaT']\n",
    "        N_t_dates=len(cleaned_aaa)\n",
    "\n",
    "        #only keep the ones after ADT end date including on the day\n",
    "        cleaned_aaaa= [x for x in cleaned_aaa if x >=b]\n",
    "        start_sorted_bin=sorted(cleaned_aaaa)\n",
    "        N_t_dates_afterADT=len(cleaned_aaaa)\n",
    "   \n",
    "        if(len(start_sorted_bin)==0):\n",
    "            tdate='NaN' \n",
    "            tvalue=\"NaN\"\n",
    "            status=\"NaN\"\n",
    "#get the 75 \n",
    "#get the 300\n",
    "        if(len(start_sorted_bin)>0):\n",
    "            df3_pt=df2_pt[df2_pt.test_results >=75][df2_pt.result_date >=b]\n",
    "            df4_pt=df2_pt[df2_pt.test_results <75][df2_pt.result_date >=b]\n",
    "\n",
    "            if not df3_pt.empty:\n",
    "                status =\"Y\"\n",
    "                tdate=df3_pt['result_date'].to_list()[0]\n",
    "                tvalue=df3_pt['test_results'].to_list()[0]\n",
    "            \n",
    "            #if not df4_pt.empty:\n",
    "            if df3_pt.empty:\n",
    "                status =\"N\"\n",
    "                tdate=df4_pt['result_date'].to_list()[-1]\n",
    "                tvalue=df4_pt['test_results'].to_list()[-1]\n",
    "    \n",
    "    print(y, b, tdate, tvalue,status, N_t_dates,N_t_dates_afterADT)\n",
    "    result_status_per_pt=[y,b,tdate, tvalue, status,N_t_dates,N_t_dates_afterADT]\n",
    "    result_status_list.append(result_status_per_pt)"
   ]
  },
  {
   "cell_type": "code",
   "execution_count": null,
   "metadata": {},
   "outputs": [],
   "source": [
    "df_result_status=pd.DataFrame(result_status_list)\n",
    "df_result_status.columns=(['person_id', 'inital_ADT_end_date', 'Tdate_rec_norec', 'Tvalue_rec_norec', 'Status',\"N_T_dates\",\"N_T_dates_afterADT\"])"
   ]
  },
  {
   "cell_type": "code",
   "execution_count": null,
   "metadata": {
    "scrolled": true
   },
   "outputs": [],
   "source": [
    "df_result_status"
   ]
  },
  {
   "cell_type": "code",
   "execution_count": null,
   "metadata": {},
   "outputs": [],
   "source": [
    "df_result_status.to_csv(\"radiation_tdate_tvalue_recovery_status_all_121pts_results_new.csv\", encoding='utf-8', index=False)"
   ]
  },
  {
   "cell_type": "markdown",
   "metadata": {},
   "source": [
    "# use T value >=300 as a critrion"
   ]
  },
  {
   "cell_type": "code",
   "execution_count": null,
   "metadata": {},
   "outputs": [],
   "source": [
    "result_status_list=[]\n",
    "\n",
    "for y in list_pts:     \n",
    "#for y in list_pts_adt_table:\n",
    "#for y in [12427]:\n",
    "#for y in list_pts_adt_table: \n",
    "    \n",
    "    df1_pt=df1[(df1[\"person_id\"] == y)]\n",
    "    \n",
    "    if(df1_pt.inital_ADT_end_date.values.any()==\"\"):        \n",
    "        b='NaN'\n",
    "        #gap='NaN'\n",
    "        tdate='NaN'\n",
    "        tvalue='NaN'\n",
    "        status=\"NaN\"\n",
    "        N_t_dates='NaN'\n",
    "        N_t_dates_afterADT='NaN'\n",
    "\n",
    "    if(df1_pt.inital_ADT_end_date.values.any()!=\"\"):\n",
    "        b=df1_pt['inital_ADT_end_date'].to_list()[0]\n",
    "        \n",
    "        df2_pt=df2[(df2[\"person_id\"] == y)]    \n",
    "        each_pt_tdates = df2_pt['result_date'].to_list()\n",
    "\n",
    "        ##get rid of nan\n",
    "        cleaned_a=[]\n",
    "        cleaned_a= [x for x in each_pt_tdates if str(x) != 'NaN']\n",
    "        cleaned_aa= [x for x in cleaned_a if str(x) != 'nan']\n",
    "        cleaned_aaa= [x for x in cleaned_aa if str(x) != 'NaT']\n",
    "        N_t_dates=len(cleaned_aaa)\n",
    "\n",
    "        #only keep the ones after ADT end date including on the day\n",
    "        cleaned_aaaa= [x for x in cleaned_aaa if x >=b]\n",
    "        start_sorted_bin=sorted(cleaned_aaaa)\n",
    "        N_t_dates_afterADT=len(cleaned_aaaa)\n",
    "   \n",
    "        if(len(start_sorted_bin)==0):\n",
    "            tdate='NaN' \n",
    "            tvalue=\"NaN\"\n",
    "            status=\"NaN\"\n",
    "#get the 75 \n",
    "#get the 300\n",
    "        if(len(start_sorted_bin)>0):\n",
    "            df3_pt=df2_pt[df2_pt.test_results >=300][df2_pt.result_date >=b]\n",
    "            df4_pt=df2_pt[df2_pt.test_results <300][df2_pt.result_date >=b]\n",
    "\n",
    "            if not df3_pt.empty:\n",
    "                status =\"Y\"\n",
    "                tdate=df3_pt['result_date'].to_list()[0]\n",
    "                tvalue=df3_pt['test_results'].to_list()[0]\n",
    "            \n",
    "            #if not df4_pt.empty:\n",
    "            if df3_pt.empty:\n",
    "                status =\"N\"\n",
    "                tdate=df4_pt['result_date'].to_list()[-1]\n",
    "                tvalue=df4_pt['test_results'].to_list()[-1]\n",
    "    \n",
    "    #print(y, b, tdate, tvalue,status, N_t_dates,N_t_dates_afterADT)\n",
    "    result_status_per_pt=[y,b,tdate, tvalue, status,N_t_dates,N_t_dates_afterADT]\n",
    "    result_status_list.append(result_status_per_pt)"
   ]
  },
  {
   "cell_type": "code",
   "execution_count": null,
   "metadata": {},
   "outputs": [],
   "source": [
    "df_result_status300=pd.DataFrame(result_status_list)\n",
    "df_result_status300.columns=(['person_id', 'inital_ADT_end_date', 'Tdate_rec_norec', 'Tvalue_rec_norec', 'Status',\"N_T_dates\",\"N_T_dates_afterADT\"])\n",
    "df_result_status300"
   ]
  },
  {
   "cell_type": "code",
   "execution_count": null,
   "metadata": {},
   "outputs": [],
   "source": [
    "df_rec_pt300=df_result_status300[df_result_status300.Status==\"Y\"]\n",
    "df_nonrec_pt300=df_result_status300[df_result_status300.Status==\"N\"]"
   ]
  },
  {
   "cell_type": "code",
   "execution_count": null,
   "metadata": {},
   "outputs": [],
   "source": [
    "print(len(df_rec_pt300))\n",
    "print(len(df_nonrec_pt300))"
   ]
  },
  {
   "cell_type": "code",
   "execution_count": null,
   "metadata": {},
   "outputs": [],
   "source": [
    "df_result_status300.to_csv(\"radiation_tdate_tvalue300_recovery_status_all_121pts_results_new.csv\", encoding='utf-8', index=False)"
   ]
  },
  {
   "cell_type": "code",
   "execution_count": null,
   "metadata": {},
   "outputs": [],
   "source": [
    "df_result_status300['Time_to_rec/nonrec']=df_result_status300['Tdate_rec_norec']-df_result_status300['inital_ADT_end_date']"
   ]
  },
  {
   "cell_type": "code",
   "execution_count": null,
   "metadata": {},
   "outputs": [],
   "source": [
    "#create a column for the inital adt use window as days\n",
    "df_result_status300['Time_to_rec/nonrec_days']=df_result_status300['Time_to_rec/nonrec'].dt.days"
   ]
  },
  {
   "cell_type": "code",
   "execution_count": null,
   "metadata": {
    "scrolled": true
   },
   "outputs": [],
   "source": [
    "df_result_status300"
   ]
  },
  {
   "cell_type": "code",
   "execution_count": null,
   "metadata": {},
   "outputs": [],
   "source": [
    "df_rec_pt300=df_result_status300[df_result_status300.Status==\"Y\"]\n",
    "df_nonrec_pt300=df_result_status300[df_result_status300.Status==\"N\"]"
   ]
  },
  {
   "cell_type": "markdown",
   "metadata": {},
   "source": [
    "# plot"
   ]
  },
  {
   "cell_type": "code",
   "execution_count": null,
   "metadata": {},
   "outputs": [],
   "source": [
    "Time_to_rec= df_rec_pt300[[\"Time_to_rec/nonrec_days\"]].reset_index()\n",
    "Time_to_rec.fillna('', inplace=True)\n",
    "ax=Time_to_rec.plot.scatter(x= \"index\", y=\"Time_to_rec/nonrec_days\", c='DarkBlue')\n",
    "print(Time_to_rec.mean())\n",
    "print(Time_to_rec.median())"
   ]
  },
  {
   "cell_type": "code",
   "execution_count": null,
   "metadata": {},
   "outputs": [],
   "source": [
    "###plot the T value histogram\n",
    "\n",
    "sns.set_style(\"darkgrid\")\n",
    "sns.set_context(\"poster\", font_scale=0.6, rc={\"lines.linewidth\": 2})\n",
    "binsize=180\n",
    "\n",
    "bins=np.arange(0, 1500, binsize)\n",
    "fig, ax = plt.subplots(figsize = (8,5))\n",
    "\n",
    "(n, bins, patches) = plt.hist(Time_to_rec[\"Time_to_rec/nonrec_days\"], bins=bins,color=\"green\", alpha=0.4)\n",
    "\n",
    "#decorate\n",
    "\n",
    "plt.title(\"Time to Recovery, Bin Size=\"+ str(int(binsize)),fontsize=18)\n",
    "plt.xlabel(\"Time in Days\", fontsize=16, fontweight=\"bold\",color=\"gray\")\n",
    "plt.ylabel(\"Population\", fontsize=16,fontweight=\"bold\", color=\"gray\")\n",
    "\n",
    "ax.set_xticks(np.arange(0, 1500, 180))\n",
    "ax.set_xticklabels(np.arange(0, 1500, 180))\n",
    "\n",
    "# plot the label/text to each bin\n",
    "for i in range(0, len(n)):\n",
    "    x_pos = (bins[i + 1] - bins[i])/4 + bins[i]\n",
    "    y_pos = n[i] + 0.2\n",
    "    label = str(int(n[i])) # relative frequency of each bin\n",
    "    ax.text(x_pos, y_pos, label,fontsize=16,fontweight=\"bold\",color=\"gray\" )\n",
    "    ax.xaxis.tick_bottom()"
   ]
  },
  {
   "cell_type": "markdown",
   "metadata": {},
   "source": [
    "# Baseline Total Testosterone Histogram<a class=\"anchor\" id=\"fifth-bullet\"></a>"
   ]
  },
  {
   "cell_type": "code",
   "execution_count": null,
   "metadata": {},
   "outputs": [],
   "source": [
    "baseline_tt= df_with_tbeforeadt_and_after[[\"Tvalue_justbeforeADT\"]].reset_index()\n",
    "baseline_tt.fillna('', inplace=True)\n",
    "ax=baseline_tt.plot.scatter(x= \"index\", y=\"Tvalue_justbeforeADT\", c='DarkBlue')"
   ]
  },
  {
   "cell_type": "code",
   "execution_count": null,
   "metadata": {},
   "outputs": [],
   "source": [
    "###plot the T value histogram\n",
    "\n",
    "sns.set_style(\"darkgrid\")\n",
    "sns.set_context(\"poster\", font_scale=0.6, rc={\"lines.linewidth\": 2})\n",
    "binsize=75\n",
    "\n",
    "bins=np.arange(0, 800, binsize)\n",
    "fig, ax = plt.subplots(figsize = (8,5))\n",
    "\n",
    "(n, bins, patches) = plt.hist(baseline_tt[\"Tvalue_justbeforeADT\"], bins=bins,color=\"green\", alpha=0.4)\n",
    "\n",
    "#decorate\n",
    "\n",
    "plt.title(\"Baseline Total Testosterone, Bin Size=\"+ str(int(binsize)),fontsize=18)\n",
    "plt.xlabel(\"T-value\", fontsize=16, fontweight=\"bold\",color=\"gray\")\n",
    "plt.ylabel(\"Population\", fontsize=16,fontweight=\"bold\", color=\"gray\")\n",
    "\n",
    "ax.set_xticks(np.arange(0, 800, 100))\n",
    "ax.set_xticklabels(np.arange(0, 800, 100))\n",
    "\n",
    "# plot the label/text to each bin\n",
    "for i in range(0, len(n)):\n",
    "    x_pos = (bins[i + 1] - bins[i])/4 + bins[i]\n",
    "    y_pos = n[i] + 0.2\n",
    "    label = str(int(n[i])) # relative frequency of each bin\n",
    "    ax.text(x_pos, y_pos, label,fontsize=16,fontweight=\"bold\",color=\"gray\" )\n",
    "    ax.xaxis.tick_bottom()"
   ]
  },
  {
   "cell_type": "code",
   "execution_count": null,
   "metadata": {},
   "outputs": [],
   "source": [
    "afterADT_tt= df_with_tbeforeadt_and_after[[\"Tvalue_justafterADT\"]].reset_index()\n",
    "afterADT_tt.fillna('', inplace=True)\n",
    "ax=afterADT_tt.plot.scatter(x= \"index\", y=\"Tvalue_justafterADT\", c='DarkBlue')"
   ]
  },
  {
   "cell_type": "code",
   "execution_count": null,
   "metadata": {},
   "outputs": [],
   "source": [
    "recovery_baseline=df_with_tbeforeadt_and_after[df_with_tbeforeadt_and_after['delta_Tvalue']>= 0]"
   ]
  },
  {
   "cell_type": "code",
   "execution_count": null,
   "metadata": {},
   "outputs": [],
   "source": [
    "recovery_baseline"
   ]
  },
  {
   "cell_type": "code",
   "execution_count": null,
   "metadata": {},
   "outputs": [],
   "source": [
    "recovery_baseline"
   ]
  },
  {
   "cell_type": "code",
   "execution_count": null,
   "metadata": {},
   "outputs": [],
   "source": [
    "###plot the T value histogram\n",
    "\n",
    "sns.set_style(\"darkgrid\")\n",
    "sns.set_context(\"poster\", font_scale=0.6, rc={\"lines.linewidth\": 2})\n",
    "binsize=75\n",
    "\n",
    "bins=np.arange(0, 800, binsize)\n",
    "fig, ax = plt.subplots(figsize = (8,5))\n",
    "\n",
    "(n, bins, patches) = plt.hist(afterADT_tt[\"Tvalue_justafterADT\"], bins=bins,color=\"green\", alpha=0.4)\n",
    "\n",
    "#decorate\n",
    "\n",
    "plt.title(\"Just After ADT Total Testosterone, Bin Size=\"+ str(int(binsize)),fontsize=18)\n",
    "plt.xlabel(\"T-value\", fontsize=16, fontweight=\"bold\",color=\"gray\")\n",
    "plt.ylabel(\"Population\", fontsize=16,fontweight=\"bold\", color=\"gray\")\n",
    "\n",
    "ax.set_xticks(np.arange(0, 800, 100))\n",
    "ax.set_xticklabels(np.arange(0, 800, 100))\n",
    "\n",
    "# plot the label/text to each bin\n",
    "for i in range(0, len(n)):\n",
    "    x_pos = (bins[i + 1] - bins[i])/4 + bins[i]\n",
    "    y_pos = n[i] + 0.2\n",
    "    label = str(int(n[i])) # relative frequency of each bin\n",
    "    ax.text(x_pos, y_pos, label,fontsize=16,fontweight=\"bold\",color=\"gray\" )\n",
    "    ax.xaxis.tick_bottom()"
   ]
  },
  {
   "cell_type": "code",
   "execution_count": null,
   "metadata": {},
   "outputs": [],
   "source": [
    "delta_tt= df_with_tbeforeadt_and_after[['delta_Tvalue']].reset_index()\n",
    "delta_tt.fillna('', inplace=True)\n",
    "ax=delta_tt.plot.scatter(x= \"index\", y='delta_Tvalue', c='DarkBlue')\n",
    "print(delta_tt.max())\n",
    "print(delta_tt.min())\n",
    "print(delta_tt.mean())"
   ]
  },
  {
   "cell_type": "markdown",
   "metadata": {},
   "source": [
    "# Delta Total Testosterone Just Before and After ADT  <a class=\"anchor\" id=\"sixth-bullet\"></a>"
   ]
  },
  {
   "cell_type": "code",
   "execution_count": null,
   "metadata": {
    "scrolled": true
   },
   "outputs": [],
   "source": [
    "###plot the T value histogram\n",
    "\n",
    "sns.set_style(\"darkgrid\")\n",
    "sns.set_context(\"poster\", font_scale=0.6, rc={\"lines.linewidth\": 2})\n",
    "binsize=75\n",
    "\n",
    "bins=np.arange(-800, 50, binsize)\n",
    "fig, ax = plt.subplots(figsize = (8,5))\n",
    "\n",
    "(n, bins, patches) = plt.hist(delta_tt['delta_Tvalue'], bins=bins,color=\"green\", alpha=0.4)\n",
    "\n",
    "#decorate\n",
    "\n",
    "plt.title(\"Delta Total Testosterone, Bin Size=\"+ str(int(binsize)),fontsize=18)\n",
    "plt.xlabel(\"T-value\", fontsize=16, fontweight=\"bold\",color=\"gray\")\n",
    "plt.ylabel(\"Population\", fontsize=16,fontweight=\"bold\", color=\"gray\")\n",
    "\n",
    "ax.set_xticks(np.arange(-800, 50, 100))\n",
    "ax.set_xticklabels(np.arange(-800, 50, 100))\n",
    "\n",
    "# plot the label/text to each bin\n",
    "for i in range(0, len(n)):\n",
    "    x_pos = (bins[i + 1] - bins[i])/4 + bins[i]\n",
    "    y_pos = n[i] + 0.2\n",
    "    label = str(int(n[i])) # relative frequency of each bin\n",
    "    ax.text(x_pos, y_pos, label,fontsize=16,fontweight=\"bold\",color=\"gray\" )\n",
    "    ax.xaxis.tick_bottom()"
   ]
  },
  {
   "cell_type": "code",
   "execution_count": null,
   "metadata": {},
   "outputs": [],
   "source": [
    "# df_with_tbeforeadt_and_trecov=df_with_tbeforeadt[df_with_tbeforeadt['T recovery/nonrecovery value'] != '']\n",
    "#shape(df_with_tbeforeadt_and_trecov)"
   ]
  },
  {
   "cell_type": "code",
   "execution_count": null,
   "metadata": {},
   "outputs": [],
   "source": [
    "df_with_tbeforeadt_and_trecov"
   ]
  },
  {
   "cell_type": "code",
   "execution_count": null,
   "metadata": {},
   "outputs": [],
   "source": [
    "list(df_with_tbeforeadt_and_trecov.columns.values)"
   ]
  },
  {
   "cell_type": "code",
   "execution_count": null,
   "metadata": {},
   "outputs": [],
   "source": [
    "df_with_tbeforeadt_and_trecov['delta_Tvalue_rec_NEW']=df_with_tbeforeadt_and_trecov['T recovery/nonrecovery value']-df_with_tbeforeadt_and_trecov['Tvalue_justbeforeADT']"
   ]
  },
  {
   "cell_type": "code",
   "execution_count": null,
   "metadata": {},
   "outputs": [],
   "source": [
    "df_with_tbeforeadt_and_trecov"
   ]
  },
  {
   "cell_type": "code",
   "execution_count": null,
   "metadata": {},
   "outputs": [],
   "source": [
    "delta_tt_rec= df_with_tbeforeadt_and_trecov[['delta_Tvalue_rec_NEW']].reset_index()\n",
    "delta_tt_rec.fillna('', inplace=True)\n",
    "ax=delta_tt_rec.plot.scatter(x= \"index\", y='delta_Tvalue_rec_NEW', c='DarkBlue')\n",
    "print(delta_tt_rec.min())\n",
    "print(delta_tt_rec.max())\n",
    "print(delta_tt_rec.mean())\n",
    "print(shape(delta_tt_rec))"
   ]
  },
  {
   "cell_type": "code",
   "execution_count": null,
   "metadata": {},
   "outputs": [],
   "source": [
    "###plot the T value histogram\n",
    "\n",
    "sns.set_style(\"darkgrid\")\n",
    "sns.set_context(\"poster\", font_scale=0.6, rc={\"lines.linewidth\": 2})\n",
    "binsize=75\n",
    "\n",
    "bins=np.arange(-800, 50, binsize)\n",
    "fig, ax = plt.subplots(figsize = (8,5))\n",
    "\n",
    "(n, bins, patches) = plt.hist(delta_tt_rec['delta_Tvalue_rec_NEW'], bins=bins,color=\"green\", alpha=0.4)\n",
    "\n",
    "#decorate\n",
    "\n",
    "plt.title(\"T Recovery or Last Test T Value - Baseline T Value, Bin Size=\"+ str(int(binsize)),fontsize=18)\n",
    "plt.xlabel(\"T-value\", fontsize=16, fontweight=\"bold\",color=\"gray\")\n",
    "plt.ylabel(\"Population\", fontsize=16,fontweight=\"bold\", color=\"gray\")\n",
    "\n",
    "ax.set_xticks(np.arange(-800, 50, 100))\n",
    "ax.set_xticklabels(np.arange(-800, 50, 100))\n",
    "\n",
    "# plot the label/text to each bin\n",
    "for i in range(0, len(n)):\n",
    "    x_pos = (bins[i + 1] - bins[i])/4 + bins[i]\n",
    "    y_pos = n[i] + 0.2\n",
    "    label = str(int(n[i])) # relative frequency of each bin\n",
    "    ax.text(x_pos, y_pos, label,fontsize=16,fontweight=\"bold\",color=\"gray\" )\n",
    "    ax.xaxis.tick_bottom()"
   ]
  },
  {
   "cell_type": "code",
   "execution_count": null,
   "metadata": {},
   "outputs": [],
   "source": [
    "recovery_baseline_final=df_with_tbeforeadt_and_trecov[df_with_tbeforeadt_and_trecov['delta_Tvalue_rec_NEW']>= 0]\n",
    "recovery_baseline_final\n",
    "list(recovery_baseline_final.columns.values)\n",
    "\n",
    "del_col=['last note date',\n",
    " 'Gleasson score',\n",
    " 'race',\n",
    " 'age ',\n",
    " 'dx_date',\n",
    " 'DOB',\n",
    " 'date_of_death',\n",
    " 'age from dx_date',\n",
    " 'age from last note date']\n",
    "\n",
    "for col in del_col:\n",
    "    del recovery_baseline_final[col]\n",
    "print(recovery_baseline_final.shape)"
   ]
  },
  {
   "cell_type": "code",
   "execution_count": null,
   "metadata": {},
   "outputs": [],
   "source": [
    "del recovery_baseline_final[\"Inital_ADT_timewindow\"]"
   ]
  },
  {
   "cell_type": "code",
   "execution_count": null,
   "metadata": {},
   "outputs": [],
   "source": [
    "recovery_baseline_final"
   ]
  },
  {
   "cell_type": "markdown",
   "metadata": {},
   "source": [
    "# Time to Recovery <a class=\"anchor\" id=\"seventh-bullet\"></a>"
   ]
  },
  {
   "cell_type": "code",
   "execution_count": null,
   "metadata": {
    "scrolled": true
   },
   "outputs": [],
   "source": [
    "df_delta_notempty=df_delta[df_delta['ADT_end_to_T_testdate'] != '']\n",
    "#recovery group\n",
    "#df_recovery=df_delta_notempty[df_delta_notempty['Staus']=='Y']\n",
    "df_recovery=df_delta_notempty[df_delta_notempty['Staus']=='Y']\n",
    "\n",
    "df_delta_notemptyfix=df_recovery[df_recovery['ADT_end_to_T_testdate']>= 0]\n",
    "\n",
    "adt_to_t_gap_rec=df_delta_notemptyfix[['ADT_end_to_T_testdate']].reset_index()\n",
    "adt_to_t_gap_rec.fillna('', inplace=True)\n",
    "\n",
    "print(shape(adt_to_t_gap_rec))\n",
    "\n",
    "ax= adt_to_t_gap_rec.plot.scatter(x= \"index\", y='ADT_end_to_T_testdate', c='DarkBlue')\n",
    "print(adt_to_t_gap.min())\n",
    "print(adt_to_t_gap.max())\n",
    "print(adt_to_t_gap.mean())\n",
    "\n",
    "print(\"median()\")\n",
    "print(adt_to_t_gap.median())"
   ]
  },
  {
   "cell_type": "code",
   "execution_count": null,
   "metadata": {},
   "outputs": [],
   "source": [
    "#mean value for the recovery group ADT end to T recovery time \n",
    "###plot the T value histogram\n",
    "\n",
    "sns.set_style(\"darkgrid\")\n",
    "sns.set_context(\"poster\", font_scale=0.6, rc={\"lines.linewidth\": 2})\n",
    "binsize=60\n",
    "\n",
    "bins=np.arange(0, 800, binsize)\n",
    "fig, ax = plt.subplots(figsize = (8,5))\n",
    "\n",
    "(n, bins, patches) = plt.hist(adt_to_t_gap_rec['ADT_end_to_T_testdate'], bins=bins,color=\"green\", alpha=0.4)\n",
    "\n",
    "#decorate\n",
    "\n",
    "plt.title(\"Time to Recovery, Bin Size=\"+ str(int(binsize)),fontsize=18)\n",
    "plt.xlabel(\"Days\", fontsize=16, fontweight=\"bold\",color=\"gray\")\n",
    "plt.ylabel(\"Population\", fontsize=16,fontweight=\"bold\", color=\"gray\")\n",
    "\n",
    "ax.set_xticks(np.arange(0, 800, 60))\n",
    "ax.set_xticklabels(np.arange(0, 800, 60))\n",
    "\n",
    "# plot the label/text to each bin\n",
    "for i in range(0, len(n)):\n",
    "    x_pos = (bins[i + 1] - bins[i])/4 + bins[i]\n",
    "    y_pos = n[i] + 0.2\n",
    "    label = str(int(n[i])) # relative frequency of each bin\n",
    "    ax.text(x_pos, y_pos, label,fontsize=16,fontweight=\"bold\",color=\"gray\" )\n",
    "    ax.xaxis.tick_bottom()"
   ]
  },
  {
   "cell_type": "code",
   "execution_count": null,
   "metadata": {
    "scrolled": true
   },
   "outputs": [],
   "source": [
    "#a different T recovery critera \n",
    "\n",
    "df_delta_notempty=df_delta[df_delta['ADT_end_to_T_testdate'] != '']\n",
    "#recovery group\n",
    "#df_recovery=df_delta_notempty[df_delta_notempty['Staus']=='Y']\n",
    "df_recovery=df_delta_notempty[df_delta_notempty['Staus']=='Y']\n",
    "df_delta_notemptyfix=df_recovery[df_recovery['T recovery/nonrecovery value']>= 300]\n",
    "\n",
    "adt_to_t_gap_rec=df_delta_notemptyfix[['ADT_end_to_T_testdate']].reset_index()\n",
    "adt_to_t_gap_rec.fillna('', inplace=True)\n",
    "\n",
    "print(shape(adt_to_t_gap_rec))\n",
    "\n",
    "ax= adt_to_t_gap_rec.plot.scatter(x= \"index\", y='ADT_end_to_T_testdate', c='DarkBlue')\n",
    "print(adt_to_t_gap_rec.min())\n",
    "print(adt_to_t_gap_rec.max())\n",
    "print(adt_to_t_gap_rec.mean())\n",
    "print(\"median()\")\n",
    "print(adt_to_t_gap_rec.median())"
   ]
  },
  {
   "cell_type": "code",
   "execution_count": null,
   "metadata": {
    "scrolled": true
   },
   "outputs": [],
   "source": [
    "#mean value for the recovery group ADT end to T recovery time \n",
    "###plot the T value histogram\n",
    "\n",
    "sns.set_style(\"darkgrid\")\n",
    "sns.set_context(\"poster\", font_scale=0.6, rc={\"lines.linewidth\": 2})\n",
    "binsize=60\n",
    "\n",
    "bins=np.arange(0, 800, binsize)\n",
    "fig, ax = plt.subplots(figsize = (8,5))\n",
    "\n",
    "(n, bins, patches) = plt.hist(adt_to_t_gap_rec['ADT_end_to_T_testdate'], bins=bins,color=\"green\", alpha=0.4)\n",
    "\n",
    "#decorate\n",
    "\n",
    "plt.title(\"Time to Recovery, Bin Size=\"+ str(int(binsize)),fontsize=18)\n",
    "plt.xlabel(\"Days\", fontsize=16, fontweight=\"bold\",color=\"gray\")\n",
    "plt.ylabel(\"Population\", fontsize=16,fontweight=\"bold\", color=\"gray\")\n",
    "\n",
    "ax.set_xticks(np.arange(0, 800, 60))\n",
    "ax.set_xticklabels(np.arange(0, 800, 60))\n",
    "\n",
    "# plot the label/text to each bin\n",
    "for i in range(0, len(n)):\n",
    "    x_pos = (bins[i + 1] - bins[i])/4 + bins[i]\n",
    "    y_pos = n[i] + 0.2\n",
    "    label = str(int(n[i])) # relative frequency of each bin\n",
    "    ax.text(x_pos, y_pos, label,fontsize=16,fontweight=\"bold\",color=\"gray\" )\n",
    "    ax.xaxis.tick_bottom()"
   ]
  },
  {
   "cell_type": "code",
   "execution_count": null,
   "metadata": {},
   "outputs": [],
   "source": [
    "df_non_reco=pd.read_excel(\"non_recovery_group_with_last_note_date.xlsx\", header=0)\n",
    "df_reco=pd.read_excel(\"recovery_group_with_last_note_date.xlsx\", header=0)"
   ]
  },
  {
   "cell_type": "code",
   "execution_count": null,
   "metadata": {},
   "outputs": [],
   "source": [
    "df_non_reco[:5]"
   ]
  },
  {
   "cell_type": "code",
   "execution_count": null,
   "metadata": {},
   "outputs": [],
   "source": [
    "df_non_reco.columns"
   ]
  },
  {
   "cell_type": "code",
   "execution_count": null,
   "metadata": {
    "scrolled": true
   },
   "outputs": [],
   "source": [
    "df_reco['T recovery/nonrecovery value']"
   ]
  },
  {
   "cell_type": "code",
   "execution_count": null,
   "metadata": {},
   "outputs": [],
   "source": [
    "df_non_reco['followup_time']=df_non_reco['last note date']-df_non_reco['inital_ADT_end_date']\n",
    "df_non_reco['followup_time_in_days']=df_non_reco['followup_time'].dt.days"
   ]
  },
  {
   "cell_type": "code",
   "execution_count": null,
   "metadata": {},
   "outputs": [],
   "source": [
    "df_reco['followup_time']=df_reco['last note date']-df_reco['inital_ADT_end_date']\n",
    "df_reco['followup_time_in_days']=df_reco['followup_time'].dt.days"
   ]
  },
  {
   "cell_type": "code",
   "execution_count": null,
   "metadata": {},
   "outputs": [],
   "source": [
    "df_non_reco['followup_time_in_days']\n",
    "df_non_reco_notempty=df_non_reco[df_non_reco['followup_time_in_days'].notnull()]\n",
    "df_non_reco_notempty['followup_time_in_days']"
   ]
  },
  {
   "cell_type": "code",
   "execution_count": null,
   "metadata": {},
   "outputs": [],
   "source": [
    "#df_non_reco_notempty2['followup_time']\n",
    "#df_non_reco_notempty2['followup_time_in_days']"
   ]
  },
  {
   "cell_type": "code",
   "execution_count": null,
   "metadata": {},
   "outputs": [],
   "source": [
    "#df_non_reco_notempty=df_non_reco[df_non_reco['followup_time']!= '']\n",
    "df_non_reco_notempty=df_non_reco[df_non_reco['followup_time_in_days'].notnull()]\n",
    "#df_non_reco_notempty2=df_non_reco_notempty[df_non_reco_notempty['followup_time_in_days']!='NaT']\n",
    "\n",
    "non_rec_followup_time=df_non_reco_notempty[['followup_time_in_days']].reset_index()\n",
    "print(shape(non_rec_followup_time))\n",
    "\n",
    "ax=non_rec_followup_time.plot.scatter(x= \"index\", y='followup_time_in_days', c='DarkBlue')\n",
    "print(non_rec_followup_time.min())\n",
    "print(non_rec_followup_time.max())\n",
    "print(non_rec_followup_time.mean())\n",
    "print(\"median()\")\n",
    "print(non_rec_followup_time.median())"
   ]
  },
  {
   "cell_type": "code",
   "execution_count": null,
   "metadata": {},
   "outputs": [],
   "source": [
    "#mean value for the recovery group ADT end to T recovery time \n",
    "###plot the T value histogram\n",
    "\n",
    "sns.set_style(\"darkgrid\")\n",
    "sns.set_context(\"poster\", font_scale=0.6, rc={\"lines.linewidth\": 2})\n",
    "binsize=360\n",
    "\n",
    "bins=np.arange(0, 2800, binsize)\n",
    "fig, ax = plt.subplots(figsize = (8,5))\n",
    "\n",
    "(n, bins, patches) = plt.hist(df_non_reco_notempty['followup_time_in_days'], bins=bins,color=\"green\", alpha=0.4)\n",
    "#decorate\n",
    "\n",
    "plt.title(\"Non-Recovery Follow-up Time, Bin Size=\"+ str(int(binsize)),fontsize=18)\n",
    "plt.xlabel(\"Days\", fontsize=16, fontweight=\"bold\",color=\"gray\")\n",
    "plt.ylabel(\"Population\", fontsize=16,fontweight=\"bold\", color=\"gray\")\n",
    "\n",
    "ax.set_xticks(np.arange(0, 2800, 360))\n",
    "ax.set_xticklabels(np.arange(0, 2800, 360))\n",
    "\n",
    "# plot the label/text to each bin\n",
    "for i in range(0, len(n)):\n",
    "    x_pos = (bins[i + 1] - bins[i])/4 + bins[i]\n",
    "    y_pos = n[i] + 0.05\n",
    "    label = str(int(n[i])) # relative frequency of each bin\n",
    "    ax.text(x_pos, y_pos, label,fontsize=16,fontweight=\"bold\",color=\"gray\" )\n",
    "    ax.xaxis.tick_bottom()"
   ]
  },
  {
   "cell_type": "code",
   "execution_count": null,
   "metadata": {},
   "outputs": [],
   "source": [
    "#df_reco['followup_time_in_days']=df_reco['followup_time'].dt.days\n",
    "\n",
    "#df_reco_notempty=df_reco[df_reco['followup_time_in_days']!= '']\n",
    "df_reco_notempty=df_reco[df_reco['followup_time_in_days'].notnull()]\n",
    "#df_non_reco_notempty2=df_non_reco_notempty[df_non_reco_notempty['followup_time_in_days']!='NaT']\n",
    "\n",
    "rec_followup_time=df_reco_notempty[['followup_time_in_days']].reset_index()\n",
    "print(shape(rec_followup_time))\n",
    "\n",
    "ax=rec_followup_time.plot.scatter(x= \"index\", y='followup_time_in_days', c='DarkBlue')\n",
    "print(rec_followup_time.min())\n",
    "print(rec_followup_time.max())\n",
    "print(rec_followup_time.mean())\n",
    "print(\"median()\")\n",
    "print(rec_followup_time.median())"
   ]
  },
  {
   "cell_type": "code",
   "execution_count": null,
   "metadata": {},
   "outputs": [],
   "source": [
    "df_reco_notempty['followup_time_in_days'][15:30]"
   ]
  },
  {
   "cell_type": "code",
   "execution_count": null,
   "metadata": {},
   "outputs": [],
   "source": [
    "#mean value for the recovery group ADT end to T recovery time \n",
    "###plot the T value histogram\n",
    "\n",
    "sns.set_style(\"darkgrid\")\n",
    "sns.set_context(\"poster\", font_scale=0.6, rc={\"lines.linewidth\": 2})\n",
    "binsize=360\n",
    "\n",
    "bins=np.arange(0, 2800, binsize)\n",
    "fig, ax = plt.subplots(figsize = (8,5))\n",
    "\n",
    "(n, bins, patches) = plt.hist(df_reco_notempty['followup_time_in_days'], bins=bins,color=\"green\", alpha=0.4)\n",
    "#decorate\n",
    "\n",
    "plt.title(\"Recovery Group Follow-up Time, Bin Size=\"+ str(int(binsize)),fontsize=18)\n",
    "plt.xlabel(\"Days\", fontsize=16, fontweight=\"bold\",color=\"gray\")\n",
    "plt.ylabel(\"Population\", fontsize=16,fontweight=\"bold\", color=\"gray\")\n",
    "\n",
    "ax.set_xticks(np.arange(0, 2800, 360))\n",
    "ax.set_xticklabels(np.arange(0, 2800, 360))\n",
    "\n",
    "# plot the label/text to each bin\n",
    "for i in range(0, len(n)):\n",
    "    x_pos = (bins[i + 1] - bins[i])/4 + bins[i]\n",
    "    y_pos = n[i] + 0.05\n",
    "    label = str(int(n[i])) # relative frequency of each bin\n",
    "    ax.text(x_pos, y_pos, label,fontsize=16,fontweight=\"bold\",color=\"gray\" )\n",
    "    ax.xaxis.tick_bottom()"
   ]
  },
  {
   "cell_type": "code",
   "execution_count": null,
   "metadata": {},
   "outputs": [],
   "source": [
    "rec_followup_time"
   ]
  },
  {
   "cell_type": "code",
   "execution_count": null,
   "metadata": {},
   "outputs": [],
   "source": [
    "#Merge two dataframes\n",
    "\n",
    "merged_df = pd.concat([rec_followup_time, non_rec_followup_time])"
   ]
  },
  {
   "cell_type": "code",
   "execution_count": null,
   "metadata": {},
   "outputs": [],
   "source": [
    "merged_df.followup_time_in_days.median()"
   ]
  }
 ],
 "metadata": {
  "kernelspec": {
   "display_name": "Python 3",
   "language": "python",
   "name": "python3"
  },
  "language_info": {
   "codemirror_mode": {
    "name": "ipython",
    "version": 3
   },
   "file_extension": ".py",
   "mimetype": "text/x-python",
   "name": "python",
   "nbconvert_exporter": "python",
   "pygments_lexer": "ipython3",
   "version": "3.7.4"
  }
 },
 "nbformat": 4,
 "nbformat_minor": 2
}
