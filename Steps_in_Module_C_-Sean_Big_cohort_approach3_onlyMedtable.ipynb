{
 "cells": [
  {
   "cell_type": "markdown",
   "metadata": {},
   "source": [
    "# README.md\n",
    "\n",
    "\n",
    "# approach #3; just use the Medtable info from Sean's table"
   ]
  },
  {
   "cell_type": "code",
   "execution_count": 2,
   "metadata": {},
   "outputs": [],
   "source": [
    "## Research question: For the approach #2 big cohort, how many have ADT window assgined, \n",
    "## with T baseline, and have T recovery and non-recovery status? \n",
    "\n",
    "## Table of Contents (Feb23)\n",
    "\n",
    "# clean up data; fix dates, get stats\n",
    "# get ADT windows\n",
    "# T baseline avail\n",
    "# T recovery non recovery \n",
    "#input files-covari-plot TR curves"
   ]
  },
  {
   "cell_type": "markdown",
   "metadata": {},
   "source": [
    "# Step1, read from spreadsheet, clean up, and get statistics"
   ]
  },
  {
   "cell_type": "code",
   "execution_count": 7,
   "metadata": {},
   "outputs": [],
   "source": [
    "import pandas as pd\n",
    "from pandas import DataFrame\n",
    "\n",
    "import numpy as np\n",
    "\n",
    "import sys, getopt\n",
    "import csv\n",
    "from datetime import datetime, timedelta, date\n",
    "import itertools\n",
    "\n",
    "from matplotlib import pyplot\n",
    "from pylab import *\n",
    "import matplotlib.pyplot as plt\n",
    "\n",
    "%matplotlib inline  \n",
    "import seaborn as sns"
   ]
  },
  {
   "cell_type": "code",
   "execution_count": 8,
   "metadata": {},
   "outputs": [
    {
     "data": {
      "text/html": [
       "<div>\n",
       "<style scoped>\n",
       "    .dataframe tbody tr th:only-of-type {\n",
       "        vertical-align: middle;\n",
       "    }\n",
       "\n",
       "    .dataframe tbody tr th {\n",
       "        vertical-align: top;\n",
       "    }\n",
       "\n",
       "    .dataframe thead th {\n",
       "        text-align: right;\n",
       "    }\n",
       "</style>\n",
       "<table border=\"1\" class=\"dataframe\">\n",
       "  <thead>\n",
       "    <tr style=\"text-align: right;\">\n",
       "      <th></th>\n",
       "      <th>person_id</th>\n",
       "      <th>cancer_type_id</th>\n",
       "      <th>year_of_diagnosis</th>\n",
       "      <th>month_of_diagnosis</th>\n",
       "      <th>day_of_diagnosis</th>\n",
       "      <th>dx_date</th>\n",
       "      <th>result_date</th>\n",
       "      <th>loinc_code</th>\n",
       "      <th>source_test_name</th>\n",
       "      <th>test_results</th>\n",
       "    </tr>\n",
       "  </thead>\n",
       "  <tbody>\n",
       "    <tr>\n",
       "      <td>0</td>\n",
       "      <td>2</td>\n",
       "      <td>2</td>\n",
       "      <td>2003</td>\n",
       "      <td>1.0</td>\n",
       "      <td>7.0</td>\n",
       "      <td>2003-01-07</td>\n",
       "      <td>2006-09-05</td>\n",
       "      <td>49041-7</td>\n",
       "      <td>TESTOSTERONE</td>\n",
       "      <td>351.0</td>\n",
       "    </tr>\n",
       "    <tr>\n",
       "      <td>1</td>\n",
       "      <td>2</td>\n",
       "      <td>2</td>\n",
       "      <td>2003</td>\n",
       "      <td>1.0</td>\n",
       "      <td>7.0</td>\n",
       "      <td>2003-01-07</td>\n",
       "      <td>2007-01-09</td>\n",
       "      <td>49041-7</td>\n",
       "      <td>TESTOSTERONE</td>\n",
       "      <td>304.0</td>\n",
       "    </tr>\n",
       "    <tr>\n",
       "      <td>2</td>\n",
       "      <td>2</td>\n",
       "      <td>2</td>\n",
       "      <td>2003</td>\n",
       "      <td>1.0</td>\n",
       "      <td>7.0</td>\n",
       "      <td>2003-01-07</td>\n",
       "      <td>2007-05-17</td>\n",
       "      <td>49041-7</td>\n",
       "      <td>TESTOSTERONE</td>\n",
       "      <td>259.0</td>\n",
       "    </tr>\n",
       "  </tbody>\n",
       "</table>\n",
       "</div>"
      ],
      "text/plain": [
       "   person_id  cancer_type_id  year_of_diagnosis  month_of_diagnosis  \\\n",
       "0          2               2               2003                 1.0   \n",
       "1          2               2               2003                 1.0   \n",
       "2          2               2               2003                 1.0   \n",
       "\n",
       "   day_of_diagnosis    dx_date result_date loinc_code source_test_name  \\\n",
       "0               7.0 2003-01-07  2006-09-05    49041-7     TESTOSTERONE   \n",
       "1               7.0 2003-01-07  2007-01-09    49041-7     TESTOSTERONE   \n",
       "2               7.0 2003-01-07  2007-05-17    49041-7     TESTOSTERONE   \n",
       "\n",
       "   test_results  \n",
       "0         351.0  \n",
       "1         304.0  \n",
       "2         259.0  "
      ]
     },
     "execution_count": 8,
     "metadata": {},
     "output_type": "execute_result"
    }
   ],
   "source": [
    "df1=pd.read_excel(\"./data/sean_table_feb10_approch3_just_from_medtable.xlsx\", header=0)\n",
    "df1.replace(r'', np.NaN)\n",
    "#df1.fillna('', inplace=True)\n",
    "#df1['inital_ADT_end_date'] = pd.to_datetime(df1['inital_ADT_end_date'])\n",
    "\n",
    "df_test=pd.read_excel(\"./data/pca_tresults_20210119_BP_fixed.xlsx\", header=0)\n",
    "#df3=pd.read_csv(\"just_start_empty.csv\", header=0)\n",
    "df_test.replace(r'', np.NaN)\n",
    "df_test[:3]"
   ]
  },
  {
   "cell_type": "code",
   "execution_count": 9,
   "metadata": {},
   "outputs": [
    {
     "name": "stdout",
     "output_type": "stream",
     "text": [
      "(12250, 12)\n",
      "(18643, 10)\n"
     ]
    }
   ],
   "source": [
    "print(shape(df1))\n",
    "print(shape(df_test))"
   ]
  },
  {
   "cell_type": "code",
   "execution_count": 10,
   "metadata": {},
   "outputs": [
    {
     "data": {
      "text/html": [
       "<div>\n",
       "<style scoped>\n",
       "    .dataframe tbody tr th:only-of-type {\n",
       "        vertical-align: middle;\n",
       "    }\n",
       "\n",
       "    .dataframe tbody tr th {\n",
       "        vertical-align: top;\n",
       "    }\n",
       "\n",
       "    .dataframe thead th {\n",
       "        text-align: right;\n",
       "    }\n",
       "</style>\n",
       "<table border=\"1\" class=\"dataframe\">\n",
       "  <thead>\n",
       "    <tr style=\"text-align: right;\">\n",
       "      <th></th>\n",
       "      <th>person_id</th>\n",
       "      <th>dxdate</th>\n",
       "      <th>dx_year</th>\n",
       "      <th>source_from</th>\n",
       "      <th>evidence</th>\n",
       "      <th>hormone_therapy</th>\n",
       "      <th>cancer_drug</th>\n",
       "      <th>matched_text</th>\n",
       "      <th>category</th>\n",
       "      <th>date_year</th>\n",
       "      <th>date_month</th>\n",
       "      <th>date_day</th>\n",
       "    </tr>\n",
       "  </thead>\n",
       "  <tbody>\n",
       "    <tr>\n",
       "      <td>20</td>\n",
       "      <td>13</td>\n",
       "      <td>2007-03-15</td>\n",
       "      <td>2007</td>\n",
       "      <td>Medtable</td>\n",
       "      <td>GOSERELIN 10.8 MG SUBQ IMPLANT</td>\n",
       "      <td>ADT</td>\n",
       "      <td>Goserelin</td>\n",
       "      <td>goserelin</td>\n",
       "      <td>Hormone Therapy</td>\n",
       "      <td>2010.0</td>\n",
       "      <td>12.0</td>\n",
       "      <td>16.0</td>\n",
       "    </tr>\n",
       "    <tr>\n",
       "      <td>21</td>\n",
       "      <td>13</td>\n",
       "      <td>2007-03-15</td>\n",
       "      <td>2007</td>\n",
       "      <td>Medtable</td>\n",
       "      <td>GOSERELIN 10.8 MG SUBQ IMPLANT</td>\n",
       "      <td>ADT</td>\n",
       "      <td>Goserelin</td>\n",
       "      <td>goserelin</td>\n",
       "      <td>Hormone Therapy</td>\n",
       "      <td>2011.0</td>\n",
       "      <td>3.0</td>\n",
       "      <td>24.0</td>\n",
       "    </tr>\n",
       "    <tr>\n",
       "      <td>22</td>\n",
       "      <td>13</td>\n",
       "      <td>2007-03-15</td>\n",
       "      <td>2007</td>\n",
       "      <td>Medtable</td>\n",
       "      <td>GOSERELIN 10.8 MG SUBQ IMPLANT</td>\n",
       "      <td>ADT</td>\n",
       "      <td>Goserelin</td>\n",
       "      <td>goserelin</td>\n",
       "      <td>Hormone Therapy</td>\n",
       "      <td>2011.0</td>\n",
       "      <td>8.0</td>\n",
       "      <td>12.0</td>\n",
       "    </tr>\n",
       "    <tr>\n",
       "      <td>23</td>\n",
       "      <td>13</td>\n",
       "      <td>2007-03-15</td>\n",
       "      <td>2007</td>\n",
       "      <td>Medtable</td>\n",
       "      <td>GOSERELIN 10.8 MG SUBQ IMPLANT</td>\n",
       "      <td>ADT</td>\n",
       "      <td>Goserelin</td>\n",
       "      <td>goserelin</td>\n",
       "      <td>Hormone Therapy</td>\n",
       "      <td>2011.0</td>\n",
       "      <td>11.0</td>\n",
       "      <td>10.0</td>\n",
       "    </tr>\n",
       "    <tr>\n",
       "      <td>24</td>\n",
       "      <td>13</td>\n",
       "      <td>2007-03-15</td>\n",
       "      <td>2007</td>\n",
       "      <td>Medtable</td>\n",
       "      <td>GOSERELIN 10.8 MG SUBQ IMPLANT</td>\n",
       "      <td>ADT</td>\n",
       "      <td>Goserelin</td>\n",
       "      <td>goserelin</td>\n",
       "      <td>Hormone Therapy</td>\n",
       "      <td>2012.0</td>\n",
       "      <td>2.0</td>\n",
       "      <td>2.0</td>\n",
       "    </tr>\n",
       "  </tbody>\n",
       "</table>\n",
       "</div>"
      ],
      "text/plain": [
       "    person_id     dxdate  dx_year source_from                        evidence  \\\n",
       "20         13 2007-03-15     2007    Medtable  GOSERELIN 10.8 MG SUBQ IMPLANT   \n",
       "21         13 2007-03-15     2007    Medtable  GOSERELIN 10.8 MG SUBQ IMPLANT   \n",
       "22         13 2007-03-15     2007    Medtable  GOSERELIN 10.8 MG SUBQ IMPLANT   \n",
       "23         13 2007-03-15     2007    Medtable  GOSERELIN 10.8 MG SUBQ IMPLANT   \n",
       "24         13 2007-03-15     2007    Medtable  GOSERELIN 10.8 MG SUBQ IMPLANT   \n",
       "\n",
       "   hormone_therapy cancer_drug matched_text         category  date_year  \\\n",
       "20             ADT   Goserelin    goserelin  Hormone Therapy     2010.0   \n",
       "21             ADT   Goserelin    goserelin  Hormone Therapy     2011.0   \n",
       "22             ADT   Goserelin    goserelin  Hormone Therapy     2011.0   \n",
       "23             ADT   Goserelin    goserelin  Hormone Therapy     2011.0   \n",
       "24             ADT   Goserelin    goserelin  Hormone Therapy     2012.0   \n",
       "\n",
       "    date_month  date_day  \n",
       "20        12.0      16.0  \n",
       "21         3.0      24.0  \n",
       "22         8.0      12.0  \n",
       "23        11.0      10.0  \n",
       "24         2.0       2.0  "
      ]
     },
     "execution_count": 10,
     "metadata": {},
     "output_type": "execute_result"
    }
   ],
   "source": [
    "df1[20:25]"
   ]
  },
  {
   "cell_type": "code",
   "execution_count": 11,
   "metadata": {},
   "outputs": [
    {
     "name": "stdout",
     "output_type": "stream",
     "text": [
      "\n",
      "Total number of pts\n",
      "2120\n"
     ]
    }
   ],
   "source": [
    "df1_pt_grouped=df1.groupby([\"person_id\"]).size().reset_index(name='counts')\n",
    "list_pt=df1_pt_grouped[\"person_id\"].to_list()\n",
    "print(\"\")\n",
    "print(\"Total number of pts\")\n",
    "print(len(list_pt))"
   ]
  },
  {
   "cell_type": "code",
   "execution_count": 12,
   "metadata": {},
   "outputs": [
    {
     "data": {
      "text/plain": [
       "[2, 12, 13, 18, 22, 25, 26, 37, 38, 53]"
      ]
     },
     "execution_count": 12,
     "metadata": {},
     "output_type": "execute_result"
    }
   ],
   "source": [
    "list_pt[:10]"
   ]
  },
  {
   "cell_type": "code",
   "execution_count": 13,
   "metadata": {},
   "outputs": [
    {
     "name": "stdout",
     "output_type": "stream",
     "text": [
      "list of pt ids with t test results\n",
      "4490\n",
      "\n",
      "2120\n",
      "1099\n"
     ]
    }
   ],
   "source": [
    "###make sure all pts are included in the T test result table\n",
    "\n",
    "df_tvalue_grouped=df_test.groupby([\"person_id\"]).size().reset_index(name='counts')\n",
    "list_pt_test=df_tvalue_grouped[\"person_id\"].to_list()\n",
    "print(\"list of pt ids with t test results\")\n",
    "print(len(list_pt_test))\n",
    "print(\"\")\n",
    "print(len(list_pt))\n",
    "\n",
    "overlap_list=[x for x in list_pt if x in  list_pt_test]\n",
    "print(len(overlap_list))"
   ]
  },
  {
   "cell_type": "code",
   "execution_count": 14,
   "metadata": {},
   "outputs": [],
   "source": [
    "#get the subtable with date_month empty\n",
    "#get the subtable with data_month\n",
    "#get the overlap\n",
    "#get the pts stats"
   ]
  },
  {
   "cell_type": "code",
   "execution_count": 15,
   "metadata": {},
   "outputs": [
    {
     "name": "stdout",
     "output_type": "stream",
     "text": [
      "pts with year not empty:\n",
      "2067\n",
      "pts with month not empty:\n",
      "2067\n",
      "pts with day not empty:\n",
      "2067\n"
     ]
    }
   ],
   "source": [
    "#subgroup of pt with data year not empty\n",
    "df_notempty_date_year=df1[df1.date_year.notnull()]\n",
    "\n",
    "df_notempty_grouped_year=df_notempty_date_year.groupby([\"person_id\"]).size().reset_index(name='counts')\n",
    "list_notempty_pt_year=df_notempty_grouped_year[\"person_id\"].to_list()\n",
    "print(\"pts with year not empty:\")\n",
    "print(len(list_notempty_pt_year))\n",
    "\n",
    "\n",
    "#subgroup of pt with data month not empty\n",
    "df_notempty_date_month=df1[df1.date_month.notnull()]\n",
    "\n",
    "df_notempty_grouped_month=df_notempty_date_month.groupby([\"person_id\"]).size().reset_index(name='counts')\n",
    "list_notempty_pt_month=df_notempty_grouped_month[\"person_id\"].to_list()\n",
    "\n",
    "print(\"pts with month not empty:\")\n",
    "print(len(list_notempty_pt_month))\n",
    "\n",
    "\n",
    "#subgroup of pt with data day not empty\n",
    "df_notempty_date_day=df1[df1.date_day.notnull()]\n",
    "\n",
    "df_notempty_grouped_day=df_notempty_date_day.groupby([\"person_id\"]).size().reset_index(name='counts')\n",
    "list_notempty_pt_day=df_notempty_grouped_day[\"person_id\"].to_list()\n",
    "print(\"pts with day not empty:\")\n",
    "print(len(list_notempty_pt_day))"
   ]
  },
  {
   "cell_type": "markdown",
   "metadata": {},
   "source": [
    "# List of pts with both year and month date"
   ]
  },
  {
   "cell_type": "code",
   "execution_count": 16,
   "metadata": {},
   "outputs": [
    {
     "data": {
      "text/plain": [
       "2067"
      ]
     },
     "execution_count": 16,
     "metadata": {},
     "output_type": "execute_result"
    }
   ],
   "source": [
    "pts_with_both_year_month=[x for x in list_notempty_pt_year if x in list_notempty_pt_month]\n",
    "len(pts_with_both_year_month)"
   ]
  },
  {
   "cell_type": "markdown",
   "metadata": {},
   "source": [
    "# How many of these have T test results "
   ]
  },
  {
   "cell_type": "code",
   "execution_count": 17,
   "metadata": {},
   "outputs": [
    {
     "name": "stdout",
     "output_type": "stream",
     "text": [
      "1083\n"
     ]
    }
   ],
   "source": [
    "pts_have_yearmonth_with_test_list=[x for x in pts_with_both_year_month if x in  list_pt_test]\n",
    "print(len(pts_have_yearmonth_with_test_list))"
   ]
  },
  {
   "cell_type": "code",
   "execution_count": 18,
   "metadata": {},
   "outputs": [
    {
     "name": "stdout",
     "output_type": "stream",
     "text": [
      "pts with empty year:\n",
      "656\n",
      "pts with empty month:\n",
      "656\n",
      "pts with empty day:\n",
      "656\n"
     ]
    }
   ],
   "source": [
    "#subgroup of pt with data year empty\n",
    "df_empty_year=df1[df1.date_year.isnull()]\n",
    "\n",
    "df_empty_year_grouped=df_empty_year.groupby([\"person_id\"]).size().reset_index(name='counts')\n",
    "list_empty_year_pt=df_empty_year_grouped[\"person_id\"].to_list()\n",
    "print(\"pts with empty year:\")\n",
    "print(len(list_empty_year_pt))\n",
    "\n",
    "#subgroup of pt with data month empty\n",
    "df_empty_month=df1[df1.date_month.isnull()]\n",
    "\n",
    "df_empty_month_grouped=df_empty_month.groupby([\"person_id\"]).size().reset_index(name='counts')\n",
    "list_empty_month_pt=df_empty_month_grouped[\"person_id\"].to_list()\n",
    "print(\"pts with empty month:\")\n",
    "print(len(list_empty_month_pt))\n",
    "\n",
    "#subgroup of pt with data month empty\n",
    "df_empty_day=df1[df1.date_day.isnull()]\n",
    "\n",
    "df_empty_day_grouped=df_empty_day.groupby([\"person_id\"]).size().reset_index(name='counts')\n",
    "list_empty_day_pt=df_empty_day_grouped[\"person_id\"].to_list()\n",
    "len(list_empty_day_pt)\n",
    "print(\"pts with empty day:\")\n",
    "print(len(list_empty_day_pt))"
   ]
  },
  {
   "cell_type": "code",
   "execution_count": 19,
   "metadata": {},
   "outputs": [
    {
     "name": "stdout",
     "output_type": "stream",
     "text": [
      "pt with year missing for all drugs and hence useless\n",
      "53\n",
      "pt with year missing for all drugs and hence useless\n",
      "53\n"
     ]
    }
   ],
   "source": [
    "pt_with_missingyear_useless_list=[x for x in list_empty_year_pt if x not in list_notempty_pt_year]\n",
    "\n",
    "print(\"pt with year missing for all drugs and hence useless\")\n",
    "print(len(pt_with_missingyear_useless_list))\n",
    "\n",
    "pt_with_missingmonth_useless_list=[x for x in list_empty_month_pt if x not in list_notempty_pt_month]\n",
    "\n",
    "print(\"pt with year missing for all drugs and hence useless\")\n",
    "print(len(pt_with_missingmonth_useless_list)) "
   ]
  },
  {
   "cell_type": "markdown",
   "metadata": {},
   "source": [
    "# Useless pts due to missing year or month; enssentially no ADT info captured 53"
   ]
  },
  {
   "cell_type": "code",
   "execution_count": 20,
   "metadata": {},
   "outputs": [
    {
     "name": "stdout",
     "output_type": "stream",
     "text": [
      "0\n",
      "0\n",
      "53\n",
      "53\n"
     ]
    }
   ],
   "source": [
    "#useless due to missing year or month\n",
    "\n",
    "a_list=[x for x in pt_with_missingyear_useless_list if x not in pt_with_missingmonth_useless_list]\n",
    "b_list=[x for x in pt_with_missingmonth_useless_list if x not in pt_with_missingyear_useless_list]\n",
    "c_list=[x for x in  pt_with_missingyear_useless_list if x in pt_with_missingmonth_useless_list]\n",
    "\n",
    "pt_with_emptymonthoryear_list=a_list+b_list+c_list\n",
    "print(len(a_list))\n",
    "print(len(b_list))\n",
    "print(len(c_list))\n",
    "print(len(pt_with_emptymonthoryear_list))"
   ]
  },
  {
   "cell_type": "code",
   "execution_count": 21,
   "metadata": {
    "scrolled": true
   },
   "outputs": [
    {
     "data": {
      "text/plain": [
       "[300, 2113, 7167]"
      ]
     },
     "execution_count": 21,
     "metadata": {},
     "output_type": "execute_result"
    }
   ],
   "source": [
    "pt_with_emptymonthoryear_list[:3]"
   ]
  },
  {
   "cell_type": "code",
   "execution_count": 22,
   "metadata": {},
   "outputs": [],
   "source": [
    "#overlap_list=[x for x in list_notempty_pt if x not in list_empty_pt]\n",
    "\n",
    "#len(overlap_list)"
   ]
  },
  {
   "cell_type": "code",
   "execution_count": 23,
   "metadata": {},
   "outputs": [
    {
     "data": {
      "text/html": [
       "<div>\n",
       "<style scoped>\n",
       "    .dataframe tbody tr th:only-of-type {\n",
       "        vertical-align: middle;\n",
       "    }\n",
       "\n",
       "    .dataframe tbody tr th {\n",
       "        vertical-align: top;\n",
       "    }\n",
       "\n",
       "    .dataframe thead th {\n",
       "        text-align: right;\n",
       "    }\n",
       "</style>\n",
       "<table border=\"1\" class=\"dataframe\">\n",
       "  <thead>\n",
       "    <tr style=\"text-align: right;\">\n",
       "      <th></th>\n",
       "      <th>person_id</th>\n",
       "      <th>dxdate</th>\n",
       "      <th>dx_year</th>\n",
       "      <th>source_from</th>\n",
       "      <th>evidence</th>\n",
       "      <th>hormone_therapy</th>\n",
       "      <th>cancer_drug</th>\n",
       "      <th>matched_text</th>\n",
       "      <th>category</th>\n",
       "      <th>date_year</th>\n",
       "      <th>date_month</th>\n",
       "      <th>date_day</th>\n",
       "    </tr>\n",
       "  </thead>\n",
       "  <tbody>\n",
       "    <tr>\n",
       "      <td>0</td>\n",
       "      <td>2</td>\n",
       "      <td>2003-01-07</td>\n",
       "      <td>2003</td>\n",
       "      <td>Medtable</td>\n",
       "      <td>LEUPROLIDE (3 MONTH) 22.5 MG IM SYRINGE KIT</td>\n",
       "      <td>ADT</td>\n",
       "      <td>Leuprolide</td>\n",
       "      <td>leuprolide</td>\n",
       "      <td>Hormone Therapy</td>\n",
       "      <td>2013.0</td>\n",
       "      <td>5.0</td>\n",
       "      <td>20.0</td>\n",
       "    </tr>\n",
       "    <tr>\n",
       "      <td>1</td>\n",
       "      <td>2</td>\n",
       "      <td>2003-01-07</td>\n",
       "      <td>2003</td>\n",
       "      <td>Medtable</td>\n",
       "      <td>LEUPROLIDE (3 MONTH) 22.5 MG IM SYRINGE KIT</td>\n",
       "      <td>ADT</td>\n",
       "      <td>Leuprolide</td>\n",
       "      <td>leuprolide</td>\n",
       "      <td>Hormone Therapy</td>\n",
       "      <td>2013.0</td>\n",
       "      <td>5.0</td>\n",
       "      <td>23.0</td>\n",
       "    </tr>\n",
       "    <tr>\n",
       "      <td>2</td>\n",
       "      <td>2</td>\n",
       "      <td>2003-01-07</td>\n",
       "      <td>2003</td>\n",
       "      <td>Medtable</td>\n",
       "      <td>LEUPROLIDE (6 MONTH) 45 MG IM SYRINGE KIT</td>\n",
       "      <td>ADT</td>\n",
       "      <td>Leuprolide</td>\n",
       "      <td>leuprolide</td>\n",
       "      <td>Hormone Therapy</td>\n",
       "      <td>2013.0</td>\n",
       "      <td>5.0</td>\n",
       "      <td>23.0</td>\n",
       "    </tr>\n",
       "  </tbody>\n",
       "</table>\n",
       "</div>"
      ],
      "text/plain": [
       "   person_id     dxdate  dx_year source_from  \\\n",
       "0          2 2003-01-07     2003    Medtable   \n",
       "1          2 2003-01-07     2003    Medtable   \n",
       "2          2 2003-01-07     2003    Medtable   \n",
       "\n",
       "                                      evidence hormone_therapy cancer_drug  \\\n",
       "0  LEUPROLIDE (3 MONTH) 22.5 MG IM SYRINGE KIT             ADT  Leuprolide   \n",
       "1  LEUPROLIDE (3 MONTH) 22.5 MG IM SYRINGE KIT             ADT  Leuprolide   \n",
       "2    LEUPROLIDE (6 MONTH) 45 MG IM SYRINGE KIT             ADT  Leuprolide   \n",
       "\n",
       "  matched_text         category  date_year  date_month  date_day  \n",
       "0   leuprolide  Hormone Therapy     2013.0         5.0      20.0  \n",
       "1   leuprolide  Hormone Therapy     2013.0         5.0      23.0  \n",
       "2   leuprolide  Hormone Therapy     2013.0         5.0      23.0  "
      ]
     },
     "execution_count": 23,
     "metadata": {},
     "output_type": "execute_result"
    }
   ],
   "source": [
    "df1[:3]"
   ]
  },
  {
   "cell_type": "code",
   "execution_count": 24,
   "metadata": {},
   "outputs": [],
   "source": [
    "df1_copy=df1"
   ]
  },
  {
   "cell_type": "markdown",
   "metadata": {},
   "source": [
    "# Filling the missing day with 1"
   ]
  },
  {
   "cell_type": "code",
   "execution_count": 25,
   "metadata": {},
   "outputs": [],
   "source": [
    "df1_copy['date_day'].mask(df1_copy.date_day.isnull(), '1', inplace=True)\n",
    "df1_copy.date_day=df1_copy.date_day.astype(float)"
   ]
  },
  {
   "cell_type": "code",
   "execution_count": 26,
   "metadata": {},
   "outputs": [
    {
     "data": {
      "text/html": [
       "<div>\n",
       "<style scoped>\n",
       "    .dataframe tbody tr th:only-of-type {\n",
       "        vertical-align: middle;\n",
       "    }\n",
       "\n",
       "    .dataframe tbody tr th {\n",
       "        vertical-align: top;\n",
       "    }\n",
       "\n",
       "    .dataframe thead th {\n",
       "        text-align: right;\n",
       "    }\n",
       "</style>\n",
       "<table border=\"1\" class=\"dataframe\">\n",
       "  <thead>\n",
       "    <tr style=\"text-align: right;\">\n",
       "      <th></th>\n",
       "      <th>person_id</th>\n",
       "      <th>dxdate</th>\n",
       "      <th>dx_year</th>\n",
       "      <th>source_from</th>\n",
       "      <th>evidence</th>\n",
       "      <th>hormone_therapy</th>\n",
       "      <th>cancer_drug</th>\n",
       "      <th>matched_text</th>\n",
       "      <th>category</th>\n",
       "      <th>date_year</th>\n",
       "      <th>date_month</th>\n",
       "      <th>date_day</th>\n",
       "    </tr>\n",
       "  </thead>\n",
       "  <tbody>\n",
       "    <tr>\n",
       "      <td>0</td>\n",
       "      <td>2</td>\n",
       "      <td>2003-01-07</td>\n",
       "      <td>2003</td>\n",
       "      <td>Medtable</td>\n",
       "      <td>LEUPROLIDE (3 MONTH) 22.5 MG IM SYRINGE KIT</td>\n",
       "      <td>ADT</td>\n",
       "      <td>Leuprolide</td>\n",
       "      <td>leuprolide</td>\n",
       "      <td>Hormone Therapy</td>\n",
       "      <td>2013.0</td>\n",
       "      <td>5.0</td>\n",
       "      <td>20.0</td>\n",
       "    </tr>\n",
       "    <tr>\n",
       "      <td>1</td>\n",
       "      <td>2</td>\n",
       "      <td>2003-01-07</td>\n",
       "      <td>2003</td>\n",
       "      <td>Medtable</td>\n",
       "      <td>LEUPROLIDE (3 MONTH) 22.5 MG IM SYRINGE KIT</td>\n",
       "      <td>ADT</td>\n",
       "      <td>Leuprolide</td>\n",
       "      <td>leuprolide</td>\n",
       "      <td>Hormone Therapy</td>\n",
       "      <td>2013.0</td>\n",
       "      <td>5.0</td>\n",
       "      <td>23.0</td>\n",
       "    </tr>\n",
       "    <tr>\n",
       "      <td>2</td>\n",
       "      <td>2</td>\n",
       "      <td>2003-01-07</td>\n",
       "      <td>2003</td>\n",
       "      <td>Medtable</td>\n",
       "      <td>LEUPROLIDE (6 MONTH) 45 MG IM SYRINGE KIT</td>\n",
       "      <td>ADT</td>\n",
       "      <td>Leuprolide</td>\n",
       "      <td>leuprolide</td>\n",
       "      <td>Hormone Therapy</td>\n",
       "      <td>2013.0</td>\n",
       "      <td>5.0</td>\n",
       "      <td>23.0</td>\n",
       "    </tr>\n",
       "  </tbody>\n",
       "</table>\n",
       "</div>"
      ],
      "text/plain": [
       "   person_id     dxdate  dx_year source_from  \\\n",
       "0          2 2003-01-07     2003    Medtable   \n",
       "1          2 2003-01-07     2003    Medtable   \n",
       "2          2 2003-01-07     2003    Medtable   \n",
       "\n",
       "                                      evidence hormone_therapy cancer_drug  \\\n",
       "0  LEUPROLIDE (3 MONTH) 22.5 MG IM SYRINGE KIT             ADT  Leuprolide   \n",
       "1  LEUPROLIDE (3 MONTH) 22.5 MG IM SYRINGE KIT             ADT  Leuprolide   \n",
       "2    LEUPROLIDE (6 MONTH) 45 MG IM SYRINGE KIT             ADT  Leuprolide   \n",
       "\n",
       "  matched_text         category  date_year  date_month  date_day  \n",
       "0   leuprolide  Hormone Therapy     2013.0         5.0      20.0  \n",
       "1   leuprolide  Hormone Therapy     2013.0         5.0      23.0  \n",
       "2   leuprolide  Hormone Therapy     2013.0         5.0      23.0  "
      ]
     },
     "execution_count": 26,
     "metadata": {},
     "output_type": "execute_result"
    }
   ],
   "source": [
    "df1_copy[0:3]"
   ]
  },
  {
   "cell_type": "code",
   "execution_count": 27,
   "metadata": {
    "scrolled": true
   },
   "outputs": [],
   "source": [
    "#m = df1.date_day.isnull()\n",
    "#df1.where(~m,other='1')"
   ]
  },
  {
   "cell_type": "code",
   "execution_count": 28,
   "metadata": {},
   "outputs": [
    {
     "data": {
      "text/plain": [
       "0       2013-05-20\n",
       "1       2013-05-23\n",
       "2       2013-05-23\n",
       "3       2013-12-04\n",
       "4       2014-04-09\n",
       "           ...    \n",
       "12245   2020-11-13\n",
       "12246   2020-07-29\n",
       "12247   2020-08-25\n",
       "12248   2020-10-02\n",
       "12249          NaT\n",
       "Name: full_date, Length: 12250, dtype: datetime64[ns]"
      ]
     },
     "execution_count": 28,
     "metadata": {},
     "output_type": "execute_result"
    }
   ],
   "source": [
    "df1_copy[\"full_date\"]=pd.to_datetime((df1_copy.date_year*10000 + df1_copy.date_month*100+df1_copy.date_day).apply(str),format='%Y%m%d')\n",
    "df1_copy[\"full_date\"]"
   ]
  },
  {
   "cell_type": "code",
   "execution_count": 29,
   "metadata": {},
   "outputs": [
    {
     "name": "stdout",
     "output_type": "stream",
     "text": [
      "12250\n",
      "11301\n"
     ]
    }
   ],
   "source": [
    "#get rid of rows where full_dates are NaT\n",
    "df1_fulldate_notna= df1_copy[df1_copy[\"full_date\"].notna()]\n",
    "print(shape(df1_copy)[0])\n",
    "print(shape(df1_fulldate_notna)[0])"
   ]
  },
  {
   "cell_type": "code",
   "execution_count": 30,
   "metadata": {},
   "outputs": [
    {
     "data": {
      "text/html": [
       "<div>\n",
       "<style scoped>\n",
       "    .dataframe tbody tr th:only-of-type {\n",
       "        vertical-align: middle;\n",
       "    }\n",
       "\n",
       "    .dataframe tbody tr th {\n",
       "        vertical-align: top;\n",
       "    }\n",
       "\n",
       "    .dataframe thead th {\n",
       "        text-align: right;\n",
       "    }\n",
       "</style>\n",
       "<table border=\"1\" class=\"dataframe\">\n",
       "  <thead>\n",
       "    <tr style=\"text-align: right;\">\n",
       "      <th></th>\n",
       "      <th>person_id</th>\n",
       "      <th>dxdate</th>\n",
       "      <th>dx_year</th>\n",
       "      <th>source_from</th>\n",
       "      <th>evidence</th>\n",
       "      <th>hormone_therapy</th>\n",
       "      <th>cancer_drug</th>\n",
       "      <th>matched_text</th>\n",
       "      <th>category</th>\n",
       "      <th>date_year</th>\n",
       "      <th>date_month</th>\n",
       "      <th>date_day</th>\n",
       "      <th>full_date</th>\n",
       "    </tr>\n",
       "  </thead>\n",
       "  <tbody>\n",
       "    <tr>\n",
       "      <td>0</td>\n",
       "      <td>2</td>\n",
       "      <td>2003-01-07</td>\n",
       "      <td>2003</td>\n",
       "      <td>Medtable</td>\n",
       "      <td>LEUPROLIDE (3 MONTH) 22.5 MG IM SYRINGE KIT</td>\n",
       "      <td>ADT</td>\n",
       "      <td>Leuprolide</td>\n",
       "      <td>leuprolide</td>\n",
       "      <td>Hormone Therapy</td>\n",
       "      <td>2013.0</td>\n",
       "      <td>5.0</td>\n",
       "      <td>20.0</td>\n",
       "      <td>2013-05-20</td>\n",
       "    </tr>\n",
       "    <tr>\n",
       "      <td>1</td>\n",
       "      <td>2</td>\n",
       "      <td>2003-01-07</td>\n",
       "      <td>2003</td>\n",
       "      <td>Medtable</td>\n",
       "      <td>LEUPROLIDE (3 MONTH) 22.5 MG IM SYRINGE KIT</td>\n",
       "      <td>ADT</td>\n",
       "      <td>Leuprolide</td>\n",
       "      <td>leuprolide</td>\n",
       "      <td>Hormone Therapy</td>\n",
       "      <td>2013.0</td>\n",
       "      <td>5.0</td>\n",
       "      <td>23.0</td>\n",
       "      <td>2013-05-23</td>\n",
       "    </tr>\n",
       "    <tr>\n",
       "      <td>2</td>\n",
       "      <td>2</td>\n",
       "      <td>2003-01-07</td>\n",
       "      <td>2003</td>\n",
       "      <td>Medtable</td>\n",
       "      <td>LEUPROLIDE (6 MONTH) 45 MG IM SYRINGE KIT</td>\n",
       "      <td>ADT</td>\n",
       "      <td>Leuprolide</td>\n",
       "      <td>leuprolide</td>\n",
       "      <td>Hormone Therapy</td>\n",
       "      <td>2013.0</td>\n",
       "      <td>5.0</td>\n",
       "      <td>23.0</td>\n",
       "      <td>2013-05-23</td>\n",
       "    </tr>\n",
       "  </tbody>\n",
       "</table>\n",
       "</div>"
      ],
      "text/plain": [
       "   person_id     dxdate  dx_year source_from  \\\n",
       "0          2 2003-01-07     2003    Medtable   \n",
       "1          2 2003-01-07     2003    Medtable   \n",
       "2          2 2003-01-07     2003    Medtable   \n",
       "\n",
       "                                      evidence hormone_therapy cancer_drug  \\\n",
       "0  LEUPROLIDE (3 MONTH) 22.5 MG IM SYRINGE KIT             ADT  Leuprolide   \n",
       "1  LEUPROLIDE (3 MONTH) 22.5 MG IM SYRINGE KIT             ADT  Leuprolide   \n",
       "2    LEUPROLIDE (6 MONTH) 45 MG IM SYRINGE KIT             ADT  Leuprolide   \n",
       "\n",
       "  matched_text         category  date_year  date_month  date_day  full_date  \n",
       "0   leuprolide  Hormone Therapy     2013.0         5.0      20.0 2013-05-20  \n",
       "1   leuprolide  Hormone Therapy     2013.0         5.0      23.0 2013-05-23  \n",
       "2   leuprolide  Hormone Therapy     2013.0         5.0      23.0 2013-05-23  "
      ]
     },
     "execution_count": 30,
     "metadata": {},
     "output_type": "execute_result"
    }
   ],
   "source": [
    "df1_fulldate_notna[:3]"
   ]
  },
  {
   "cell_type": "code",
   "execution_count": 31,
   "metadata": {},
   "outputs": [
    {
     "data": {
      "text/plain": [
       "11301"
      ]
     },
     "execution_count": 31,
     "metadata": {},
     "output_type": "execute_result"
    }
   ],
   "source": [
    "df3=df1_fulldate_notna[df1_fulldate_notna.hormone_therapy==\"ADT\"]\n",
    "len(df3)"
   ]
  },
  {
   "cell_type": "code",
   "execution_count": 32,
   "metadata": {},
   "outputs": [
    {
     "name": "stdout",
     "output_type": "stream",
     "text": [
      "2067\n"
     ]
    }
   ],
   "source": [
    "#output this table \n",
    "df3_grouped=df3.groupby([\"person_id\"]).size().reset_index(name='counts')\n",
    "list_pt_with_ADT_fulldate=df3_grouped[\"person_id\"].to_list()\n",
    "print(len(list_pt_with_ADT_fulldate))\n",
    "\n",
    "df3.to_csv(\"sean_big_cohort_cleanup_table_fixbugs_Feb22_approach#3.csv\",encoding='utf-8', index=False)"
   ]
  },
  {
   "cell_type": "markdown",
   "metadata": {},
   "source": [
    "# Pts with only one ADT use: 450 pts"
   ]
  },
  {
   "cell_type": "code",
   "execution_count": 33,
   "metadata": {},
   "outputs": [
    {
     "name": "stdout",
     "output_type": "stream",
     "text": [
      "450\n"
     ]
    }
   ],
   "source": [
    "df3_grouped_pt_adtcount=df3.groupby([\"person_id\"]).size().reset_index(name='counts')\n",
    "df3_grouped_pt_adtcount\n",
    "#pick pts with just one ADT\n",
    "\n",
    "df_one_adt=df3_grouped_pt_adtcount[(df3_grouped_pt_adtcount[\"counts\"] == 1)]\n",
    "df_one_adt\n",
    "\n",
    "list_one_adt_pt=df_one_adt[\"person_id\"].to_list()\n",
    "print(len(list_one_adt_pt))"
   ]
  },
  {
   "cell_type": "code",
   "execution_count": 34,
   "metadata": {},
   "outputs": [
    {
     "data": {
      "text/html": [
       "<div>\n",
       "<style scoped>\n",
       "    .dataframe tbody tr th:only-of-type {\n",
       "        vertical-align: middle;\n",
       "    }\n",
       "\n",
       "    .dataframe tbody tr th {\n",
       "        vertical-align: top;\n",
       "    }\n",
       "\n",
       "    .dataframe thead th {\n",
       "        text-align: right;\n",
       "    }\n",
       "</style>\n",
       "<table border=\"1\" class=\"dataframe\">\n",
       "  <thead>\n",
       "    <tr style=\"text-align: right;\">\n",
       "      <th></th>\n",
       "      <th>person_id</th>\n",
       "      <th>dxdate</th>\n",
       "      <th>dx_year</th>\n",
       "      <th>source_from</th>\n",
       "      <th>evidence</th>\n",
       "      <th>hormone_therapy</th>\n",
       "      <th>cancer_drug</th>\n",
       "      <th>matched_text</th>\n",
       "      <th>category</th>\n",
       "      <th>date_year</th>\n",
       "      <th>date_month</th>\n",
       "      <th>date_day</th>\n",
       "      <th>full_date</th>\n",
       "    </tr>\n",
       "  </thead>\n",
       "  <tbody>\n",
       "    <tr>\n",
       "      <td>0</td>\n",
       "      <td>2</td>\n",
       "      <td>2003-01-07</td>\n",
       "      <td>2003</td>\n",
       "      <td>Medtable</td>\n",
       "      <td>LEUPROLIDE (3 MONTH) 22.5 MG IM SYRINGE KIT</td>\n",
       "      <td>ADT</td>\n",
       "      <td>Leuprolide</td>\n",
       "      <td>leuprolide</td>\n",
       "      <td>Hormone Therapy</td>\n",
       "      <td>2013.0</td>\n",
       "      <td>5.0</td>\n",
       "      <td>20.0</td>\n",
       "      <td>2013-05-20</td>\n",
       "    </tr>\n",
       "    <tr>\n",
       "      <td>1</td>\n",
       "      <td>2</td>\n",
       "      <td>2003-01-07</td>\n",
       "      <td>2003</td>\n",
       "      <td>Medtable</td>\n",
       "      <td>LEUPROLIDE (3 MONTH) 22.5 MG IM SYRINGE KIT</td>\n",
       "      <td>ADT</td>\n",
       "      <td>Leuprolide</td>\n",
       "      <td>leuprolide</td>\n",
       "      <td>Hormone Therapy</td>\n",
       "      <td>2013.0</td>\n",
       "      <td>5.0</td>\n",
       "      <td>23.0</td>\n",
       "      <td>2013-05-23</td>\n",
       "    </tr>\n",
       "    <tr>\n",
       "      <td>2</td>\n",
       "      <td>2</td>\n",
       "      <td>2003-01-07</td>\n",
       "      <td>2003</td>\n",
       "      <td>Medtable</td>\n",
       "      <td>LEUPROLIDE (6 MONTH) 45 MG IM SYRINGE KIT</td>\n",
       "      <td>ADT</td>\n",
       "      <td>Leuprolide</td>\n",
       "      <td>leuprolide</td>\n",
       "      <td>Hormone Therapy</td>\n",
       "      <td>2013.0</td>\n",
       "      <td>5.0</td>\n",
       "      <td>23.0</td>\n",
       "      <td>2013-05-23</td>\n",
       "    </tr>\n",
       "  </tbody>\n",
       "</table>\n",
       "</div>"
      ],
      "text/plain": [
       "   person_id     dxdate  dx_year source_from  \\\n",
       "0          2 2003-01-07     2003    Medtable   \n",
       "1          2 2003-01-07     2003    Medtable   \n",
       "2          2 2003-01-07     2003    Medtable   \n",
       "\n",
       "                                      evidence hormone_therapy cancer_drug  \\\n",
       "0  LEUPROLIDE (3 MONTH) 22.5 MG IM SYRINGE KIT             ADT  Leuprolide   \n",
       "1  LEUPROLIDE (3 MONTH) 22.5 MG IM SYRINGE KIT             ADT  Leuprolide   \n",
       "2    LEUPROLIDE (6 MONTH) 45 MG IM SYRINGE KIT             ADT  Leuprolide   \n",
       "\n",
       "  matched_text         category  date_year  date_month  date_day  full_date  \n",
       "0   leuprolide  Hormone Therapy     2013.0         5.0      20.0 2013-05-20  \n",
       "1   leuprolide  Hormone Therapy     2013.0         5.0      23.0 2013-05-23  \n",
       "2   leuprolide  Hormone Therapy     2013.0         5.0      23.0 2013-05-23  "
      ]
     },
     "execution_count": 34,
     "metadata": {},
     "output_type": "execute_result"
    }
   ],
   "source": [
    "df3[:3]"
   ]
  },
  {
   "cell_type": "code",
   "execution_count": 35,
   "metadata": {},
   "outputs": [
    {
     "name": "stdout",
     "output_type": "stream",
     "text": [
      "pt_list\n",
      "2067\n"
     ]
    }
   ],
   "source": [
    "df3_grouped=df3.groupby([\"person_id\"]).size().reset_index(name='counts')\n",
    "df3_grouped_pt=df3_grouped.person_id.to_list()\n",
    "print(\"pt_list\")\n",
    "print(len(df3_grouped_pt))\n",
    "pt_list=df3_grouped_pt"
   ]
  },
  {
   "cell_type": "code",
   "execution_count": 36,
   "metadata": {},
   "outputs": [
    {
     "data": {
      "text/plain": [
       "[Timestamp('2015-11-18 00:00:00'),\n",
       " Timestamp('2016-02-24 00:00:00'),\n",
       " Timestamp('2016-07-18 00:00:00')]"
      ]
     },
     "execution_count": 36,
     "metadata": {},
     "output_type": "execute_result"
    }
   ],
   "source": [
    "df_pt=df3[(df3[\"person_id\"] ==38)]\n",
    "each_pt_dates= df_pt['full_date'].to_list()\n",
    "each_pt_dates"
   ]
  },
  {
   "cell_type": "code",
   "execution_count": 37,
   "metadata": {},
   "outputs": [
    {
     "data": {
      "text/plain": [
       "Timestamp('2015-11-18 00:00:00')"
      ]
     },
     "execution_count": 37,
     "metadata": {},
     "output_type": "execute_result"
    }
   ],
   "source": [
    "each_pt_dates[0]"
   ]
  },
  {
   "cell_type": "code",
   "execution_count": 38,
   "metadata": {},
   "outputs": [],
   "source": [
    "# define a function that group consecutive dates with a tolerate gap of 7 months\n",
    "\n",
    "def group_runs(li,tolerance=212.9):\n",
    "    out = []\n",
    "    last = li[0]\n",
    "    for x in li:\n",
    "        if float(abs(x-last).days) > tolerance:\n",
    "            yield out\n",
    "            out = []\n",
    "        out.append(x)\n",
    "        last = x\n",
    "    yield out"
   ]
  },
  {
   "cell_type": "code",
   "execution_count": 39,
   "metadata": {},
   "outputs": [
    {
     "data": {
      "text/plain": [
       "[Timestamp('2015-11-18 00:00:00'),\n",
       " Timestamp('2016-02-24 00:00:00'),\n",
       " Timestamp('2016-07-18 00:00:00')]"
      ]
     },
     "execution_count": 39,
     "metadata": {},
     "output_type": "execute_result"
    }
   ],
   "source": [
    "list(group_runs(each_pt_dates))[0]"
   ]
  },
  {
   "cell_type": "code",
   "execution_count": 40,
   "metadata": {},
   "outputs": [
    {
     "data": {
      "text/plain": [
       "Timestamp('2015-11-18 00:00:00')"
      ]
     },
     "execution_count": 40,
     "metadata": {},
     "output_type": "execute_result"
    }
   ],
   "source": [
    "list(group_runs(each_pt_dates))[0][0]"
   ]
  },
  {
   "cell_type": "code",
   "execution_count": 41,
   "metadata": {},
   "outputs": [
    {
     "data": {
      "text/plain": [
       "Timestamp('2016-07-18 00:00:00')"
      ]
     },
     "execution_count": 41,
     "metadata": {},
     "output_type": "execute_result"
    }
   ],
   "source": [
    "list(group_runs(each_pt_dates))[0][-1]"
   ]
  },
  {
   "cell_type": "code",
   "execution_count": 42,
   "metadata": {},
   "outputs": [],
   "source": [
    "#df4_grouped_bydrug=df3.groupby([\"cancer_drug\",\"person_id\"]).size().reset_index()\n",
    "#df4_grouped_bydrug"
   ]
  },
  {
   "cell_type": "code",
   "execution_count": 43,
   "metadata": {},
   "outputs": [
    {
     "data": {
      "text/plain": [
       "[2, 12, 13, 18, 22]"
      ]
     },
     "execution_count": 43,
     "metadata": {},
     "output_type": "execute_result"
    }
   ],
   "source": [
    "df3_grouped_pt[:5]"
   ]
  },
  {
   "cell_type": "markdown",
   "metadata": {},
   "source": [
    "# How many pts have ADT window assginable? And assign them "
   ]
  },
  {
   "cell_type": "code",
   "execution_count": 44,
   "metadata": {},
   "outputs": [],
   "source": [
    "result_list=[]\n",
    "empty_list=[]\n",
    "only_one_list=[]\n",
    "two_but_apart_list=[]\n",
    "threeandmore_but_apart_list=[]\n",
    "\n",
    "for y in df3_grouped_pt:\n",
    "#for y in [2,13,38]:  \n",
    "\n",
    "    #subset the dataframe to each pt\n",
    "    #get start dates and end dates to lists\n",
    "    df_pt=df3[(df3[\"person_id\"] == y)]\n",
    "    \n",
    "    #sort and get rid of redundancies\n",
    "    each_pt_info= sorted(df_pt['full_date'].to_list())\n",
    "    each_pt_dates=list(dict.fromkeys(each_pt_info))\n",
    "\n",
    "    if len(each_pt_dates)==0:\n",
    "        adt_start_date=\"NaN\"\n",
    "        adt_end_date=\"NaN\"\n",
    "        empty_list.append(y)\n",
    "        \n",
    "    if len(each_pt_dates)==1:\n",
    "        adt_start_date=each_pt_dates[0]\n",
    "        adt_end_date=\"NaN\"\n",
    "        only_one_list.append(y)\n",
    "        \n",
    "    if len(each_pt_dates)==2:\n",
    "        adt_start_date=each_pt_dates[0]\n",
    "        #less than 7 mons\n",
    "         \n",
    "        if float(abs(each_pt_dates[1]-each_pt_dates[0]).days)<212.9: \n",
    "            adt_start_date=each_pt_dates[0]\n",
    "            adt_end_date=each_pt_dates[1]\n",
    "        #larger than 7 mons            \n",
    "        if float(abs(each_pt_dates[1]-each_pt_dates[0]).days)>=212.9: \n",
    "            adt_start_date=each_pt_dates[0]\n",
    "            adt_end_date=\"NaN\"\n",
    "            two_but_apart_list.append(y)\n",
    "\n",
    "    if len(each_pt_dates)>=3:\n",
    "        \n",
    "        #Group consecutive dates with a tolerate gap of 7 months\n",
    "        #list(group_runs(each_pt_dates))[0]\n",
    "\n",
    "        \n",
    "        if len(list(group_runs(each_pt_dates))[0])>1:\n",
    "            adt_start_date=list(group_runs(each_pt_dates))[0][0]\n",
    "            adt_end_date=list(group_runs(each_pt_dates))[0][-1] \n",
    "        \n",
    "        if len(list(group_runs(each_pt_dates))[0])==1:\n",
    "            adt_start_date=list(group_runs(each_pt_dates))[0][0]\n",
    "            adt_end_date=\"NaN\"\n",
    "            threeandmore_but_apart_list.append(y)            \n",
    "                     \n",
    "    #print(y,adt_start_date,adt_end_date)\n",
    "    result_per_pt=[y,adt_start_date,adt_end_date]\n",
    "    result_list.append(result_per_pt)"
   ]
  },
  {
   "cell_type": "markdown",
   "metadata": {},
   "source": [
    "# How many have only one ADT result? 515 pts\n",
    "# How many have two but 7 months apart? 31 pts  \n",
    "# How many have three but the first two dates are 7 months apart? 69 pts\n",
    "# These are all have end dates as NaN: 615 pts"
   ]
  },
  {
   "cell_type": "code",
   "execution_count": 45,
   "metadata": {},
   "outputs": [
    {
     "data": {
      "text/plain": [
       "615"
      ]
     },
     "execution_count": 45,
     "metadata": {},
     "output_type": "execute_result"
    }
   ],
   "source": [
    "515+31+69"
   ]
  },
  {
   "cell_type": "code",
   "execution_count": 46,
   "metadata": {},
   "outputs": [
    {
     "name": "stdout",
     "output_type": "stream",
     "text": [
      "515\n",
      "31\n",
      "69\n"
     ]
    }
   ],
   "source": [
    "print(len(only_one_list))\n",
    "print(len(two_but_apart_list))\n",
    "print(len(threeandmore_but_apart_list))"
   ]
  },
  {
   "cell_type": "code",
   "execution_count": 47,
   "metadata": {},
   "outputs": [],
   "source": [
    "df_adt_results=pd.DataFrame(result_list)\n",
    "df_adt_results.columns=(['person_id', 'inital_ADT_start_date', 'inital_ADT_end_date'])"
   ]
  },
  {
   "cell_type": "code",
   "execution_count": 48,
   "metadata": {},
   "outputs": [],
   "source": [
    "df_adt_results['Inital_ADT_timewindow'] = df_adt_results['inital_ADT_end_date'] - df_adt_results['inital_ADT_start_date']\n",
    "df_adt_results['Inital_ADT_time_window_days']=df_adt_results['Inital_ADT_timewindow'].dt.days"
   ]
  },
  {
   "cell_type": "code",
   "execution_count": 49,
   "metadata": {},
   "outputs": [
    {
     "data": {
      "text/html": [
       "<div>\n",
       "<style scoped>\n",
       "    .dataframe tbody tr th:only-of-type {\n",
       "        vertical-align: middle;\n",
       "    }\n",
       "\n",
       "    .dataframe tbody tr th {\n",
       "        vertical-align: top;\n",
       "    }\n",
       "\n",
       "    .dataframe thead th {\n",
       "        text-align: right;\n",
       "    }\n",
       "</style>\n",
       "<table border=\"1\" class=\"dataframe\">\n",
       "  <thead>\n",
       "    <tr style=\"text-align: right;\">\n",
       "      <th></th>\n",
       "      <th>person_id</th>\n",
       "      <th>inital_ADT_start_date</th>\n",
       "      <th>inital_ADT_end_date</th>\n",
       "      <th>Inital_ADT_timewindow</th>\n",
       "      <th>Inital_ADT_time_window_days</th>\n",
       "    </tr>\n",
       "  </thead>\n",
       "  <tbody>\n",
       "    <tr>\n",
       "      <td>0</td>\n",
       "      <td>2</td>\n",
       "      <td>2013-05-20</td>\n",
       "      <td>2017-02-01</td>\n",
       "      <td>1353 days</td>\n",
       "      <td>1353.0</td>\n",
       "    </tr>\n",
       "    <tr>\n",
       "      <td>1</td>\n",
       "      <td>12</td>\n",
       "      <td>2013-05-06</td>\n",
       "      <td>NaT</td>\n",
       "      <td>NaT</td>\n",
       "      <td>NaN</td>\n",
       "    </tr>\n",
       "    <tr>\n",
       "      <td>2</td>\n",
       "      <td>13</td>\n",
       "      <td>2010-06-17</td>\n",
       "      <td>2015-03-17</td>\n",
       "      <td>1734 days</td>\n",
       "      <td>1734.0</td>\n",
       "    </tr>\n",
       "    <tr>\n",
       "      <td>3</td>\n",
       "      <td>18</td>\n",
       "      <td>2013-11-12</td>\n",
       "      <td>2014-03-13</td>\n",
       "      <td>121 days</td>\n",
       "      <td>121.0</td>\n",
       "    </tr>\n",
       "    <tr>\n",
       "      <td>4</td>\n",
       "      <td>22</td>\n",
       "      <td>2010-09-27</td>\n",
       "      <td>2014-08-04</td>\n",
       "      <td>1407 days</td>\n",
       "      <td>1407.0</td>\n",
       "    </tr>\n",
       "  </tbody>\n",
       "</table>\n",
       "</div>"
      ],
      "text/plain": [
       "   person_id inital_ADT_start_date inital_ADT_end_date Inital_ADT_timewindow  \\\n",
       "0          2            2013-05-20          2017-02-01             1353 days   \n",
       "1         12            2013-05-06                 NaT                   NaT   \n",
       "2         13            2010-06-17          2015-03-17             1734 days   \n",
       "3         18            2013-11-12          2014-03-13              121 days   \n",
       "4         22            2010-09-27          2014-08-04             1407 days   \n",
       "\n",
       "   Inital_ADT_time_window_days  \n",
       "0                       1353.0  \n",
       "1                          NaN  \n",
       "2                       1734.0  \n",
       "3                        121.0  \n",
       "4                       1407.0  "
      ]
     },
     "execution_count": 49,
     "metadata": {},
     "output_type": "execute_result"
    }
   ],
   "source": [
    "df_adt_results[:5]"
   ]
  },
  {
   "cell_type": "markdown",
   "metadata": {},
   "source": [
    "# Output results: 1452 pts with ADT usewindow not NaN"
   ]
  },
  {
   "cell_type": "code",
   "execution_count": 50,
   "metadata": {},
   "outputs": [
    {
     "name": "stdout",
     "output_type": "stream",
     "text": [
      "2067\n",
      "1452\n"
     ]
    }
   ],
   "source": [
    "df_adt_results_notna= df_adt_results[df_adt_results['Inital_ADT_timewindow'].notna()]\n",
    "df_adt_results_notna.to_csv(\"Sean_big_1452pts_approach3_cohort_ADT_window_table_Feb24_2021_fixbugs.csv\",encoding='utf-8',index=False)\n",
    "\n",
    "print(shape(df_adt_results)[0])\n",
    "print(shape(df_adt_results_notna)[0])"
   ]
  },
  {
   "cell_type": "markdown",
   "metadata": {},
   "source": [
    "# How many have ADT windows and T test results: 855 pts"
   ]
  },
  {
   "cell_type": "code",
   "execution_count": 51,
   "metadata": {},
   "outputs": [
    {
     "name": "stdout",
     "output_type": "stream",
     "text": [
      "855\n"
     ]
    }
   ],
   "source": [
    "list_adt_window_pt=df_adt_results_notna[\"person_id\"].to_list()\n",
    "pts_have_ADTwindow_with_test_list=[x for x in list_adt_window_pt if x in list_pt_test]\n",
    "print(len(pts_have_ADTwindow_with_test_list))"
   ]
  },
  {
   "cell_type": "markdown",
   "metadata": {},
   "source": [
    "# Compare the computed ADT windows for the current approach (#3) and previous appraoch (#1) for the shared patients "
   ]
  },
  {
   "cell_type": "code",
   "execution_count": 54,
   "metadata": {},
   "outputs": [
    {
     "data": {
      "text/html": [
       "<div>\n",
       "<style scoped>\n",
       "    .dataframe tbody tr th:only-of-type {\n",
       "        vertical-align: middle;\n",
       "    }\n",
       "\n",
       "    .dataframe tbody tr th {\n",
       "        vertical-align: top;\n",
       "    }\n",
       "\n",
       "    .dataframe thead th {\n",
       "        text-align: right;\n",
       "    }\n",
       "</style>\n",
       "<table border=\"1\" class=\"dataframe\">\n",
       "  <thead>\n",
       "    <tr style=\"text-align: right;\">\n",
       "      <th></th>\n",
       "      <th>person_id</th>\n",
       "      <th>inital_ADT_start_date</th>\n",
       "      <th>inital_ADT_end_date</th>\n",
       "      <th>Inital_ADT_timewindow</th>\n",
       "      <th>Inital_ADT_time_window_days</th>\n",
       "      <th>index1</th>\n",
       "    </tr>\n",
       "  </thead>\n",
       "  <tbody>\n",
       "    <tr>\n",
       "      <td>0</td>\n",
       "      <td>2</td>\n",
       "      <td>2009-02-26</td>\n",
       "      <td>2017-02-01</td>\n",
       "      <td>2897 days 00:00:00.000000000</td>\n",
       "      <td>2897.0</td>\n",
       "      <td>0</td>\n",
       "    </tr>\n",
       "    <tr>\n",
       "      <td>1</td>\n",
       "      <td>12</td>\n",
       "      <td>2013-05-06</td>\n",
       "      <td>NaN</td>\n",
       "      <td>NaN</td>\n",
       "      <td>NaN</td>\n",
       "      <td>1</td>\n",
       "    </tr>\n",
       "    <tr>\n",
       "      <td>2</td>\n",
       "      <td>13</td>\n",
       "      <td>2010-06-17</td>\n",
       "      <td>2018-05-17</td>\n",
       "      <td>2891 days 00:00:00.000000000</td>\n",
       "      <td>2891.0</td>\n",
       "      <td>2</td>\n",
       "    </tr>\n",
       "  </tbody>\n",
       "</table>\n",
       "</div>"
      ],
      "text/plain": [
       "   person_id inital_ADT_start_date inital_ADT_end_date  \\\n",
       "0          2            2009-02-26          2017-02-01   \n",
       "1         12            2013-05-06                 NaN   \n",
       "2         13            2010-06-17          2018-05-17   \n",
       "\n",
       "          Inital_ADT_timewindow  Inital_ADT_time_window_days  index1  \n",
       "0  2897 days 00:00:00.000000000                       2897.0       0  \n",
       "1                           NaN                          NaN       1  \n",
       "2  2891 days 00:00:00.000000000                       2891.0       2  "
      ]
     },
     "execution_count": 54,
     "metadata": {},
     "output_type": "execute_result"
    }
   ],
   "source": [
    "#find the pt list and adt window #940 in method 1 for the big cohort\n",
    "df_approach1=pd.read_csv(\"./data/pca_pt_940_cohort_with_ADT_both_dates.csv\", header=0)\n",
    "df_approach1[:3]"
   ]
  },
  {
   "cell_type": "code",
   "execution_count": 57,
   "metadata": {},
   "outputs": [
    {
     "data": {
      "text/html": [
       "<div>\n",
       "<style scoped>\n",
       "    .dataframe tbody tr th:only-of-type {\n",
       "        vertical-align: middle;\n",
       "    }\n",
       "\n",
       "    .dataframe tbody tr th {\n",
       "        vertical-align: top;\n",
       "    }\n",
       "\n",
       "    .dataframe thead th {\n",
       "        text-align: right;\n",
       "    }\n",
       "</style>\n",
       "<table border=\"1\" class=\"dataframe\">\n",
       "  <thead>\n",
       "    <tr style=\"text-align: right;\">\n",
       "      <th></th>\n",
       "      <th>person_id</th>\n",
       "      <th>inital_ADT_start_date</th>\n",
       "      <th>inital_ADT_end_date</th>\n",
       "      <th>Inital_ADT_timewindow</th>\n",
       "      <th>Inital_ADT_time_window_days</th>\n",
       "    </tr>\n",
       "  </thead>\n",
       "  <tbody>\n",
       "    <tr>\n",
       "      <td>0</td>\n",
       "      <td>2</td>\n",
       "      <td>2013-05-20</td>\n",
       "      <td>2017-02-01</td>\n",
       "      <td>1353 days</td>\n",
       "      <td>1353.0</td>\n",
       "    </tr>\n",
       "    <tr>\n",
       "      <td>2</td>\n",
       "      <td>13</td>\n",
       "      <td>2010-06-17</td>\n",
       "      <td>2015-03-17</td>\n",
       "      <td>1734 days</td>\n",
       "      <td>1734.0</td>\n",
       "    </tr>\n",
       "    <tr>\n",
       "      <td>3</td>\n",
       "      <td>18</td>\n",
       "      <td>2013-11-12</td>\n",
       "      <td>2014-03-13</td>\n",
       "      <td>121 days</td>\n",
       "      <td>121.0</td>\n",
       "    </tr>\n",
       "  </tbody>\n",
       "</table>\n",
       "</div>"
      ],
      "text/plain": [
       "   person_id inital_ADT_start_date inital_ADT_end_date Inital_ADT_timewindow  \\\n",
       "0          2            2013-05-20          2017-02-01             1353 days   \n",
       "2         13            2010-06-17          2015-03-17             1734 days   \n",
       "3         18            2013-11-12          2014-03-13              121 days   \n",
       "\n",
       "   Inital_ADT_time_window_days  \n",
       "0                       1353.0  \n",
       "2                       1734.0  \n",
       "3                        121.0  "
      ]
     },
     "execution_count": 57,
     "metadata": {},
     "output_type": "execute_result"
    }
   ],
   "source": [
    "df_adt_results_notna[:3]"
   ]
  },
  {
   "cell_type": "code",
   "execution_count": 58,
   "metadata": {},
   "outputs": [],
   "source": [
    "df_approach1_notna= df_approach1[df_approach1['Inital_ADT_time_window_days'].notna()]"
   ]
  },
  {
   "cell_type": "code",
   "execution_count": 59,
   "metadata": {},
   "outputs": [
    {
     "name": "stdout",
     "output_type": "stream",
     "text": [
      "940\n"
     ]
    }
   ],
   "source": [
    "df_approach1_pt=df_approach1_notna.groupby([\"person_id\"]).size().reset_index(name='counts')\n",
    "list_approach1_pt=df_approach1_pt[\"person_id\"].to_list()\n",
    "print(len(list_approach1_pt))"
   ]
  },
  {
   "cell_type": "markdown",
   "metadata": {},
   "source": [
    "### for this list of pts, get person id, adtstart1,adtend1,window1, adtstart2,adtend2,window2\n",
    "### person id list: list_approach1_pt\n",
    "### dataframe approach 1:df_df_approach1_notna\n",
    "### dataframe approach 2:df_adt_results_notna"
   ]
  },
  {
   "cell_type": "code",
   "execution_count": 60,
   "metadata": {},
   "outputs": [],
   "source": [
    "result=[]\n",
    "#previous 1514pt table version \n",
    "df_app1=df_approach1_notna\n",
    "#current sean 1902 version\n",
    "df_app2=df_adt_results_notna\n",
    "\n",
    "for y in list_approach1_pt:\n",
    "#for y in [2,13,38]:  \n",
    "    df_app1_pt=df_app1[(df_app1[\"person_id\"]== y)]\n",
    "    df_app2_pt=df_app2[(df_app2[\"person_id\"] == y)]\n",
    "    \n",
    "    if(len(df_app1_pt['inital_ADT_start_date'].to_list()))>0: \n",
    "        a1=df_app1_pt['inital_ADT_start_date'].to_list()[0]\n",
    "    else:\n",
    "        a1=\"NaN\"\n",
    "    \n",
    "    if(len(df_app1_pt['inital_ADT_end_date'].to_list()))>0: \n",
    "        b1=df_app1_pt['inital_ADT_end_date'].to_list()[0]\n",
    "    else:\n",
    "        b1=\"NaN\"\n",
    "\n",
    "    if(len(df_app1_pt[\"Inital_ADT_time_window_days\"].to_list()))>0: \n",
    "        c1=df_app1_pt[\"Inital_ADT_time_window_days\"].to_list()[0]\n",
    "    else:\n",
    "        c1=\"NaN\"         \n",
    "            \n",
    "    \n",
    "    if(len(df_app2_pt['inital_ADT_start_date'].to_list()))>0: \n",
    "        a2=df_app2_pt['inital_ADT_start_date'].to_list()[0]\n",
    "    else:\n",
    "        a2=\"NaN\"\n",
    "    \n",
    "    if(len(df_app2_pt['inital_ADT_end_date'].to_list()))>0: \n",
    "        b2=df_app2_pt['inital_ADT_end_date'].to_list()[0]\n",
    "    else:\n",
    "        b2=\"NaN\"\n",
    "\n",
    "    if(len(df_app2_pt[\"Inital_ADT_time_window_days\"].to_list()))>0: \n",
    "        c2=df_app2_pt[\"Inital_ADT_time_window_days\"].to_list()[0]\n",
    "    else:\n",
    "        c2=\"NaN\"                   \n",
    "\n",
    "    result_pt=[y,a1,b1,c1,a2,b2,c2]\n",
    "    result.append(result_pt)"
   ]
  },
  {
   "cell_type": "code",
   "execution_count": 61,
   "metadata": {},
   "outputs": [],
   "source": [
    "df_adt_results_two_appos=pd.DataFrame(result)\n",
    "df_adt_results_two_appos.columns=(['person_id', 'inital_ADT_start_date_#1', 'inital_ADT_end_date_#1','Inital_ADT_time_window_days_#1', 'inital_ADT_start_date_#3', 'inital_ADT_end_date_#3','Inital_ADT_time_window_days_#3'])"
   ]
  },
  {
   "cell_type": "code",
   "execution_count": null,
   "metadata": {},
   "outputs": [],
   "source": [
    "df_adt_results_two_appos[:5]"
   ]
  },
  {
   "cell_type": "markdown",
   "metadata": {},
   "source": [
    "# OUTput results"
   ]
  },
  {
   "cell_type": "code",
   "execution_count": 62,
   "metadata": {},
   "outputs": [],
   "source": [
    "df_adt_results_two_appos.to_csv(\"./data/Two_approaches_Compare_ADT_windows_table_fixbugs_Feb24_approach#3.csv\",encoding='utf-8', index=False)"
   ]
  },
  {
   "cell_type": "markdown",
   "metadata": {},
   "source": [
    "# How many pts have baseline T test results? 596/1452 pts"
   ]
  },
  {
   "cell_type": "code",
   "execution_count": 63,
   "metadata": {},
   "outputs": [],
   "source": [
    "#work with two dataframes, df4 (for the adt info) and df_test\n",
    "df4=df_adt_results_notna\n",
    "list_adt_pt=df4[\"person_id\"].to_list()"
   ]
  },
  {
   "cell_type": "code",
   "execution_count": 64,
   "metadata": {},
   "outputs": [],
   "source": [
    "##get the baseline T dates and values\n",
    "result_baseline_list=[]\n",
    "pt_list=list_adt_pt\n",
    "\n",
    "for y in pt_list:\n",
    "#for y in [125]:\n",
    "\n",
    "    #print(y)    \n",
    "    df4_pt=df4[(df4[\"person_id\"] == y)]\n",
    "    \n",
    "    if(pd.isnull(df4_pt['inital_ADT_start_date'].iloc[0])):\n",
    "        a='NaN'\n",
    "        b='NaN'\n",
    "        gap=\"NaN\"\n",
    "        status='NaN'\n",
    "        tdate='NaN'\n",
    "        tvalue='NaN'\n",
    "        N_t_dates='NaN'\n",
    "        N_t_dates_beforeADT='NaN'\n",
    "            \n",
    "    if(pd.notnull(df4_pt['inital_ADT_start_date'].iloc[0])):\n",
    "        a=df4_pt['inital_ADT_start_date'].to_list()[0]\n",
    "        b=df4_pt['inital_ADT_end_date'].to_list()[0]\n",
    "        gap=df4_pt['Inital_ADT_time_window_days'].to_list()[0]\n",
    "\n",
    "        df_test_pt=df_test[(df_test[\"person_id\"] == y)]    \n",
    "        each_pt_tdates =df_test_pt['result_date'].to_list()\n",
    "\n",
    "        ##get rid of nan\n",
    "        cleaned_a=[]\n",
    "        cleaned_a= [x for x in each_pt_tdates if str(x) != 'NaN']\n",
    "        cleaned_aa= [x for x in cleaned_a if str(x) != 'nan']\n",
    "        cleaned_aaa= [x for x in cleaned_aa if str(x) != 'NaT']\n",
    "        N_t_dates=len(cleaned_aaa)\n",
    "\n",
    "        #only keep the ones before ADT start date, including on the day\n",
    "        cleaned_aaaa= [x for x in cleaned_aaa if x <=a]\n",
    "        start_sorted_bin=sorted(cleaned_aaaa)\n",
    "        N_t_dates_beforeADT=len(cleaned_aaaa) #including the date when adt started\n",
    "    \n",
    "        if(len(start_sorted_bin)==0):\n",
    "            tdate='NaN' \n",
    "            tvalue=\"NaN\"\n",
    "            #status means no baseline TT avail\n",
    "            status=\"N\"\n",
    "        #print(tdate)\n",
    "        \n",
    "        if(len(start_sorted_bin)>0):\n",
    "            #apply the closet function\n",
    "            #tdate=closest(start_sorted_bin,a)   \n",
    "            df_test_qualify_pt=df_test_pt[df_test_pt.result_date <=a]\n",
    "            \n",
    "            if not df_test_qualify_pt.empty:\n",
    "                tdate=df_test_qualify_pt['result_date'].to_list()[-1]\n",
    "                tvalue=df_test_qualify_pt['test_results'].to_list()[-1]\n",
    "                #status means yes there are baseline TT avail\n",
    "                status=\"Y\"\n",
    "\n",
    "    #print(y,a,b,gap, tdate,tvalue,status,N_t_dates,N_t_dates_beforeADT)\n",
    "    result_per_pt=[y,a,b,gap, tdate,tvalue, status, N_t_dates, N_t_dates_beforeADT]\n",
    "    result_baseline_list.append(result_per_pt)\n",
    "    #validate "
   ]
  },
  {
   "cell_type": "code",
   "execution_count": 65,
   "metadata": {},
   "outputs": [],
   "source": [
    "df_results_baseline=pd.DataFrame(result_baseline_list)\n",
    "df_results_baseline.columns=(['person_id', 'inital_ADT_start_date', 'inital_ADT_end_date', 'inital_ADT_time_window_days', 'Tdate_justbeforeADT', 'Tvalue_justbeforeADT', \"baseline avail Status\", \"N_T_dates\",\"N_T_dates_beforeADT\"])"
   ]
  },
  {
   "cell_type": "code",
   "execution_count": 66,
   "metadata": {},
   "outputs": [
    {
     "data": {
      "text/html": [
       "<div>\n",
       "<style scoped>\n",
       "    .dataframe tbody tr th:only-of-type {\n",
       "        vertical-align: middle;\n",
       "    }\n",
       "\n",
       "    .dataframe tbody tr th {\n",
       "        vertical-align: top;\n",
       "    }\n",
       "\n",
       "    .dataframe thead th {\n",
       "        text-align: right;\n",
       "    }\n",
       "</style>\n",
       "<table border=\"1\" class=\"dataframe\">\n",
       "  <thead>\n",
       "    <tr style=\"text-align: right;\">\n",
       "      <th></th>\n",
       "      <th>person_id</th>\n",
       "      <th>inital_ADT_start_date</th>\n",
       "      <th>inital_ADT_end_date</th>\n",
       "      <th>inital_ADT_time_window_days</th>\n",
       "      <th>Tdate_justbeforeADT</th>\n",
       "      <th>Tvalue_justbeforeADT</th>\n",
       "      <th>baseline avail Status</th>\n",
       "      <th>N_T_dates</th>\n",
       "      <th>N_T_dates_beforeADT</th>\n",
       "    </tr>\n",
       "  </thead>\n",
       "  <tbody>\n",
       "    <tr>\n",
       "      <td>0</td>\n",
       "      <td>2</td>\n",
       "      <td>2013-05-20</td>\n",
       "      <td>2017-02-01</td>\n",
       "      <td>1353.0</td>\n",
       "      <td>2013-02-27</td>\n",
       "      <td>10</td>\n",
       "      <td>Y</td>\n",
       "      <td>82</td>\n",
       "      <td>40</td>\n",
       "    </tr>\n",
       "    <tr>\n",
       "      <td>1</td>\n",
       "      <td>13</td>\n",
       "      <td>2010-06-17</td>\n",
       "      <td>2015-03-17</td>\n",
       "      <td>1734.0</td>\n",
       "      <td>2009-09-18</td>\n",
       "      <td>23.72</td>\n",
       "      <td>Y</td>\n",
       "      <td>23</td>\n",
       "      <td>2</td>\n",
       "    </tr>\n",
       "    <tr>\n",
       "      <td>2</td>\n",
       "      <td>18</td>\n",
       "      <td>2013-11-12</td>\n",
       "      <td>2014-03-13</td>\n",
       "      <td>121.0</td>\n",
       "      <td>NaT</td>\n",
       "      <td>NaN</td>\n",
       "      <td>N</td>\n",
       "      <td>5</td>\n",
       "      <td>0</td>\n",
       "    </tr>\n",
       "    <tr>\n",
       "      <td>3</td>\n",
       "      <td>22</td>\n",
       "      <td>2010-09-27</td>\n",
       "      <td>2014-08-04</td>\n",
       "      <td>1407.0</td>\n",
       "      <td>NaT</td>\n",
       "      <td>NaN</td>\n",
       "      <td>N</td>\n",
       "      <td>3</td>\n",
       "      <td>0</td>\n",
       "    </tr>\n",
       "    <tr>\n",
       "      <td>4</td>\n",
       "      <td>25</td>\n",
       "      <td>2013-11-12</td>\n",
       "      <td>2014-02-18</td>\n",
       "      <td>98.0</td>\n",
       "      <td>2013-10-15</td>\n",
       "      <td>31.54</td>\n",
       "      <td>Y</td>\n",
       "      <td>12</td>\n",
       "      <td>1</td>\n",
       "    </tr>\n",
       "  </tbody>\n",
       "</table>\n",
       "</div>"
      ],
      "text/plain": [
       "   person_id inital_ADT_start_date inital_ADT_end_date  \\\n",
       "0          2            2013-05-20          2017-02-01   \n",
       "1         13            2010-06-17          2015-03-17   \n",
       "2         18            2013-11-12          2014-03-13   \n",
       "3         22            2010-09-27          2014-08-04   \n",
       "4         25            2013-11-12          2014-02-18   \n",
       "\n",
       "   inital_ADT_time_window_days Tdate_justbeforeADT Tvalue_justbeforeADT  \\\n",
       "0                       1353.0          2013-02-27                   10   \n",
       "1                       1734.0          2009-09-18                23.72   \n",
       "2                        121.0                 NaT                  NaN   \n",
       "3                       1407.0                 NaT                  NaN   \n",
       "4                         98.0          2013-10-15                31.54   \n",
       "\n",
       "  baseline avail Status  N_T_dates  N_T_dates_beforeADT  \n",
       "0                     Y         82                   40  \n",
       "1                     Y         23                    2  \n",
       "2                     N          5                    0  \n",
       "3                     N          3                    0  \n",
       "4                     Y         12                    1  "
      ]
     },
     "execution_count": 66,
     "metadata": {},
     "output_type": "execute_result"
    }
   ],
   "source": [
    "df_results_baseline[:5]"
   ]
  },
  {
   "cell_type": "code",
   "execution_count": 67,
   "metadata": {},
   "outputs": [
    {
     "name": "stdout",
     "output_type": "stream",
     "text": [
      "1452\n",
      "596\n"
     ]
    }
   ],
   "source": [
    "#output this table \n",
    "df_results_baseline_avail=df_results_baseline[df_results_baseline[\"baseline avail Status\"]==\"Y\"]\n",
    "print(shape(df_results_baseline)[0])\n",
    "print(shape(df_results_baseline_avail)[0])\n",
    "\n",
    "df_results_baseline.to_csv(\"./data/sean_big_cohort_approach#3_pts_with_adt_window_and_baseline_info_fixbugs_Feb23_2021.csv\",encoding='utf-8', index=False)\n",
    "df_results_baseline_avail.to_csv(\"./data/sean_big_cohort_approach#3_pts_with_adt_window_and_baseline_T_fixbugs_Feb23_2021.csv\",encoding='utf-8', index=False)"
   ]
  },
  {
   "cell_type": "markdown",
   "metadata": {},
   "source": [
    "# How many have recovery and non recovery status?"
   ]
  },
  {
   "cell_type": "code",
   "execution_count": 68,
   "metadata": {},
   "outputs": [
    {
     "name": "stderr",
     "output_type": "stream",
     "text": [
      "/Users/yuqincai/opt/anaconda3/lib/python3.7/site-packages/ipykernel_launcher.py:44: UserWarning: Boolean Series key will be reindexed to match DataFrame index.\n",
      "/Users/yuqincai/opt/anaconda3/lib/python3.7/site-packages/ipykernel_launcher.py:45: UserWarning: Boolean Series key will be reindexed to match DataFrame index.\n"
     ]
    }
   ],
   "source": [
    "#work with two dataframes, df4 (for the adt info) and df_test\n",
    "#df4=df_adt_results_notna\n",
    "#list_adt_pt=df4[\"person_id\"].to_list()\n",
    "\n",
    "recovery_result_status75_list=[]\n",
    "for y in list_adt_pt:     \n",
    "\n",
    "    df4_pt=df4[(df4[\"person_id\"] == y)]\n",
    "\n",
    "    if len(df4_pt[\"inital_ADT_end_date\"]==0):        \n",
    "        b='NaN'\n",
    "        #gap='NaN'\n",
    "        tdate='NaN'\n",
    "        tvalue='NaN'\n",
    "        status=\"NaN\"\n",
    "        N_t_dates='NaN'\n",
    "        N_t_dates_afterADT='NaN'\n",
    "        \n",
    "    if len(df4_pt[\"inital_ADT_end_date\"]!=0):\n",
    "        b=df4_pt['inital_ADT_end_date'].to_list()[0]\n",
    "        \n",
    "        df_test_pt=df_test[(df_test[\"person_id\"] == y)]    \n",
    "        each_pt_tdates=df_test_pt['result_date'].to_list()\n",
    "\n",
    "        ##get rid of nan\n",
    "        cleaned_a=[]\n",
    "        cleaned_a= [x for x in each_pt_tdates if str(x) != 'NaN']\n",
    "        cleaned_aa= [x for x in cleaned_a if str(x) != 'nan']\n",
    "        cleaned_aaa= [x for x in cleaned_aa if str(x) != 'NaT']\n",
    "        N_t_dates=len(cleaned_aaa)\n",
    "\n",
    "        #only keep the ones after ADT end date including on the day\n",
    "        cleaned_aaaa= [x for x in cleaned_aaa if x >=b]\n",
    "        start_sorted_bin=sorted(cleaned_aaaa)\n",
    "        N_t_dates_afterADT=len(cleaned_aaaa) #including on the adt end date\n",
    "   \n",
    "        if(len(start_sorted_bin)==0):\n",
    "            tdate='NaN' \n",
    "            tvalue=\"NaN\"\n",
    "            status=\"NaN\"\n",
    "#get the 75 \n",
    "\n",
    "        if(len(start_sorted_bin)>0):\n",
    "            dftemp3_pt=df_test[df_test.test_results >=75][df_test.result_date >=b]\n",
    "            dftemp4_pt=df_test[df_test.test_results <75][df_test.result_date >=b]\n",
    "\n",
    "            if not dftemp3_pt.empty:\n",
    "                status =\"Y\"\n",
    "                tdate=dftemp3_pt['result_date'].to_list()[0]\n",
    "                tvalue=dftemp3_pt['test_results'].to_list()[0]\n",
    "            \n",
    "            #if not df4_pt.empty:\n",
    "            if dftemp3_pt.empty:\n",
    "                status =\"N\"\n",
    "                tdate=dftemp4_pt['result_date'].to_list()[-1]\n",
    "                tvalue=dftemp4_pt['test_results'].to_list()[-1]\n",
    "    \n",
    "    #print(y, b, tdate, tvalue,status, N_t_dates,N_t_dates_afterADT)\n",
    "    recovery_status_per_pt=[y,b,tdate, tvalue,status,N_t_dates,N_t_dates_afterADT]\n",
    "    recovery_result_status75_list.append(recovery_status_per_pt)"
   ]
  },
  {
   "cell_type": "code",
   "execution_count": 69,
   "metadata": {},
   "outputs": [
    {
     "name": "stderr",
     "output_type": "stream",
     "text": [
      "/Users/yuqincai/opt/anaconda3/lib/python3.7/site-packages/ipykernel_launcher.py:51: UserWarning: Boolean Series key will be reindexed to match DataFrame index.\n",
      "/Users/yuqincai/opt/anaconda3/lib/python3.7/site-packages/ipykernel_launcher.py:52: UserWarning: Boolean Series key will be reindexed to match DataFrame index.\n"
     ]
    }
   ],
   "source": [
    "##test test test: non recovery pts count should not be zero\n",
    "\n",
    "#work with two dataframes, df4 (for the adt info) and df_test\n",
    "#df4=df_adt_results_notna\n",
    "#list_adt_pt=df4[\"person_id\"].to_list()\n",
    "df1=df_adt_results_notna\n",
    "df2=df_test\n",
    "result_status_list=[]\n",
    "\n",
    "for y in list_adt_pt:     \n",
    "\n",
    "    \n",
    "    df1_pt=df1[(df1[\"person_id\"] == y)]\n",
    "        \n",
    "    if(pd.isnull(df1_pt['inital_ADT_end_date'].iloc[0])):\n",
    "        b='NaN'\n",
    "        #gap='NaN'\n",
    "        tdate='NaN'\n",
    "        tvalue='NaN'\n",
    "        status=\"NaN\"\n",
    "        N_t_dates='NaN'\n",
    "        N_t_dates_afterADT='NaN'\n",
    "\n",
    "    #if(df1_pt.inital_ADT_end_date.values.any()!=\"\"):\n",
    "    if(pd.notnull(df1_pt['inital_ADT_end_date'].iloc[0])):\n",
    "\n",
    "        b=df1_pt['inital_ADT_end_date'].to_list()[0]\n",
    "        \n",
    "        df2_pt=df2[(df2[\"person_id\"] == y)]    \n",
    "        each_pt_tdates = df2_pt['result_date'].to_list()\n",
    "\n",
    "        ##get rid of nan\n",
    "        cleaned_a=[]\n",
    "        cleaned_a= [x for x in each_pt_tdates if str(x) != 'NaN']\n",
    "        cleaned_aa= [x for x in cleaned_a if str(x) != 'nan']\n",
    "        cleaned_aaa= [x for x in cleaned_aa if str(x) != 'NaT']\n",
    "        N_t_dates=len(cleaned_aaa)\n",
    "\n",
    "        #only keep the ones after ADT end date including on the day\n",
    "        cleaned_aaaa= [x for x in cleaned_aaa if x >=b]\n",
    "        start_sorted_bin=sorted(cleaned_aaaa)\n",
    "        N_t_dates_afterADT=len(cleaned_aaaa)\n",
    "   \n",
    "        if(len(start_sorted_bin)==0):\n",
    "            tdate='NaN' \n",
    "            tvalue=\"NaN\"\n",
    "            status=\"NaN\"\n",
    "#get the 75 \n",
    "\n",
    "        if(len(start_sorted_bin)>0):\n",
    "            df3_pt=df2_pt[df2_pt.test_results >=75][df2_pt.result_date >=b]\n",
    "            df4_pt=df2_pt[df2_pt.test_results <75][df2_pt.result_date >=b]\n",
    "\n",
    "            if not df3_pt.empty:\n",
    "                status =\"Y\"\n",
    "                tdate=df3_pt['result_date'].to_list()[0]\n",
    "                tvalue=df3_pt['test_results'].to_list()[0]\n",
    "            \n",
    "            #if not df4_pt.empty:\n",
    "            if df3_pt.empty:\n",
    "                status =\"N\"\n",
    "                tdate=df4_pt['result_date'].to_list()[-1]\n",
    "                tvalue=df4_pt['test_results'].to_list()[-1]\n",
    "    \n",
    "    #print(y, b, tdate, tvalue,status, N_t_dates,N_t_dates_afterADT)\n",
    "    result_status_per_pt=[y,b,tdate, tvalue, status,N_t_dates,N_t_dates_afterADT]\n",
    "    result_status_list.append(result_status_per_pt)"
   ]
  },
  {
   "cell_type": "code",
   "execution_count": 70,
   "metadata": {},
   "outputs": [],
   "source": [
    "df_recovery_result75=pd.DataFrame(result_status_list)\n",
    "df_recovery_result75.columns=(['person_id', 'inital_ADT_end_date', 'Tdate_rec_norec75', 'Tvalue_rec_norec75', 'Status75',\"N_T_dates\",\"N_T_dates_afterADT\"])\n",
    "\n",
    "df_recovery_result75_recovery= df_recovery_result75[df_recovery_result75[\"Status75\"]==\"Y\"]\n",
    "df_recovery_result75_nonrecovery= df_recovery_result75[df_recovery_result75[\"Status75\"]==\"N\"]\n",
    "df_recovery_result75_NaN= df_recovery_result75[df_recovery_result75[\"Status75\"]==\"NaN\"]\n",
    "test_after_adt_zero=df_recovery_result75[df_recovery_result75[\"N_T_dates_afterADT\"]==0]"
   ]
  },
  {
   "cell_type": "code",
   "execution_count": 71,
   "metadata": {},
   "outputs": [
    {
     "data": {
      "text/html": [
       "<div>\n",
       "<style scoped>\n",
       "    .dataframe tbody tr th:only-of-type {\n",
       "        vertical-align: middle;\n",
       "    }\n",
       "\n",
       "    .dataframe tbody tr th {\n",
       "        vertical-align: top;\n",
       "    }\n",
       "\n",
       "    .dataframe thead th {\n",
       "        text-align: right;\n",
       "    }\n",
       "</style>\n",
       "<table border=\"1\" class=\"dataframe\">\n",
       "  <thead>\n",
       "    <tr style=\"text-align: right;\">\n",
       "      <th></th>\n",
       "      <th>person_id</th>\n",
       "      <th>inital_ADT_end_date</th>\n",
       "      <th>Tdate_rec_norec75</th>\n",
       "      <th>Tvalue_rec_norec75</th>\n",
       "      <th>Status75</th>\n",
       "      <th>N_T_dates</th>\n",
       "      <th>N_T_dates_afterADT</th>\n",
       "    </tr>\n",
       "  </thead>\n",
       "  <tbody>\n",
       "    <tr>\n",
       "      <td>35</td>\n",
       "      <td>907</td>\n",
       "      <td>2020-04-12</td>\n",
       "      <td>NaT</td>\n",
       "      <td>NaN</td>\n",
       "      <td>NaN</td>\n",
       "      <td>0</td>\n",
       "      <td>0</td>\n",
       "    </tr>\n",
       "    <tr>\n",
       "      <td>36</td>\n",
       "      <td>955</td>\n",
       "      <td>2020-01-15</td>\n",
       "      <td>NaT</td>\n",
       "      <td>NaN</td>\n",
       "      <td>NaN</td>\n",
       "      <td>1</td>\n",
       "      <td>0</td>\n",
       "    </tr>\n",
       "    <tr>\n",
       "      <td>37</td>\n",
       "      <td>956</td>\n",
       "      <td>2018-03-29</td>\n",
       "      <td>NaT</td>\n",
       "      <td>NaN</td>\n",
       "      <td>NaN</td>\n",
       "      <td>0</td>\n",
       "      <td>0</td>\n",
       "    </tr>\n",
       "    <tr>\n",
       "      <td>38</td>\n",
       "      <td>1178</td>\n",
       "      <td>2020-10-05</td>\n",
       "      <td>NaT</td>\n",
       "      <td>NaN</td>\n",
       "      <td>NaN</td>\n",
       "      <td>0</td>\n",
       "      <td>0</td>\n",
       "    </tr>\n",
       "    <tr>\n",
       "      <td>39</td>\n",
       "      <td>1229</td>\n",
       "      <td>2012-08-01</td>\n",
       "      <td>NaT</td>\n",
       "      <td>NaN</td>\n",
       "      <td>NaN</td>\n",
       "      <td>3</td>\n",
       "      <td>0</td>\n",
       "    </tr>\n",
       "  </tbody>\n",
       "</table>\n",
       "</div>"
      ],
      "text/plain": [
       "    person_id inital_ADT_end_date Tdate_rec_norec75 Tvalue_rec_norec75  \\\n",
       "35        907          2020-04-12               NaT                NaN   \n",
       "36        955          2020-01-15               NaT                NaN   \n",
       "37        956          2018-03-29               NaT                NaN   \n",
       "38       1178          2020-10-05               NaT                NaN   \n",
       "39       1229          2012-08-01               NaT                NaN   \n",
       "\n",
       "   Status75  N_T_dates  N_T_dates_afterADT  \n",
       "35      NaN          0                   0  \n",
       "36      NaN          1                   0  \n",
       "37      NaN          0                   0  \n",
       "38      NaN          0                   0  \n",
       "39      NaN          3                   0  "
      ]
     },
     "execution_count": 71,
     "metadata": {},
     "output_type": "execute_result"
    }
   ],
   "source": [
    "df_recovery_result75[35:40]"
   ]
  },
  {
   "cell_type": "code",
   "execution_count": 72,
   "metadata": {},
   "outputs": [
    {
     "name": "stdout",
     "output_type": "stream",
     "text": [
      "1452\n",
      "278\n",
      "260\n",
      "914\n",
      "914\n"
     ]
    }
   ],
   "source": [
    "df_recovery_result75[:5]\n",
    "\n",
    "print(shape(df_recovery_result75)[0])\n",
    "print(shape(df_recovery_result75_recovery)[0])\n",
    "print(shape(df_recovery_result75_nonrecovery)[0])\n",
    "print(shape(df_recovery_result75_NaN)[0])\n",
    "print(shape(test_after_adt_zero)[0])"
   ]
  },
  {
   "cell_type": "markdown",
   "metadata": {},
   "source": [
    "# use T value >=300 as a critrion"
   ]
  },
  {
   "cell_type": "code",
   "execution_count": 73,
   "metadata": {},
   "outputs": [
    {
     "name": "stderr",
     "output_type": "stream",
     "text": [
      "/Users/yuqincai/opt/anaconda3/lib/python3.7/site-packages/ipykernel_launcher.py:51: UserWarning: Boolean Series key will be reindexed to match DataFrame index.\n",
      "/Users/yuqincai/opt/anaconda3/lib/python3.7/site-packages/ipykernel_launcher.py:52: UserWarning: Boolean Series key will be reindexed to match DataFrame index.\n"
     ]
    }
   ],
   "source": [
    "##test test test: non recovery pts count should not be zero\n",
    "\n",
    "#work with two dataframes, df4 (for the adt info) and df_test\n",
    "#df4=df_adt_results_notna\n",
    "#list_adt_pt=df4[\"person_id\"].to_list()\n",
    "df1=df_adt_results_notna\n",
    "df2=df_test\n",
    "result_status300_list=[]\n",
    "\n",
    "for y in list_adt_pt:     \n",
    "\n",
    "    \n",
    "    df1_pt=df1[(df1[\"person_id\"] == y)]\n",
    "        \n",
    "    if(pd.isnull(df1_pt['inital_ADT_end_date'].iloc[0])):\n",
    "        b='NaN'\n",
    "        #gap='NaN'\n",
    "        tdate='NaN'\n",
    "        tvalue='NaN'\n",
    "        status=\"NaN\"\n",
    "        N_t_dates='NaN'\n",
    "        N_t_dates_afterADT='NaN'\n",
    "\n",
    "    #if(df1_pt.inital_ADT_end_date.values.any()!=\"\"):\n",
    "    if(pd.notnull(df1_pt['inital_ADT_end_date'].iloc[0])):\n",
    "\n",
    "        b=df1_pt['inital_ADT_end_date'].to_list()[0]\n",
    "        \n",
    "        df2_pt=df2[(df2[\"person_id\"] == y)]    \n",
    "        each_pt_tdates = df2_pt['result_date'].to_list()\n",
    "\n",
    "        ##get rid of nan\n",
    "        cleaned_a=[]\n",
    "        cleaned_a= [x for x in each_pt_tdates if str(x) != 'NaN']\n",
    "        cleaned_aa= [x for x in cleaned_a if str(x) != 'nan']\n",
    "        cleaned_aaa= [x for x in cleaned_aa if str(x) != 'NaT']\n",
    "        N_t_dates=len(cleaned_aaa)\n",
    "\n",
    "        #only keep the ones after ADT end date including on the day\n",
    "        cleaned_aaaa= [x for x in cleaned_aaa if x >=b]\n",
    "        start_sorted_bin=sorted(cleaned_aaaa)\n",
    "        N_t_dates_afterADT=len(cleaned_aaaa)\n",
    "   \n",
    "        if(len(start_sorted_bin)==0):\n",
    "            tdate='NaN' \n",
    "            tvalue=\"NaN\"\n",
    "            status=\"NaN\"\n",
    "#get the 75 \n",
    "#get the 300\n",
    "        if(len(start_sorted_bin)>0):\n",
    "            df3_pt=df2_pt[df2_pt.test_results >=300][df2_pt.result_date >=b]\n",
    "            df4_pt=df2_pt[df2_pt.test_results <300][df2_pt.result_date >=b]\n",
    "\n",
    "            if not df3_pt.empty:\n",
    "                status =\"Y\"\n",
    "                tdate=df3_pt['result_date'].to_list()[0]\n",
    "                tvalue=df3_pt['test_results'].to_list()[0]\n",
    "            \n",
    "            #if not df4_pt.empty:\n",
    "            if df3_pt.empty:\n",
    "                status =\"N\"\n",
    "                tdate=df4_pt['result_date'].to_list()[-1]\n",
    "                tvalue=df4_pt['test_results'].to_list()[-1]\n",
    "    \n",
    "    #print(y, b, tdate, tvalue,status, N_t_dates,N_t_dates_afterADT)\n",
    "    result_status_per_pt=[y,b,tdate, tvalue, status,N_t_dates,N_t_dates_afterADT]\n",
    "    result_status300_list.append(result_status_per_pt)"
   ]
  },
  {
   "cell_type": "code",
   "execution_count": 74,
   "metadata": {},
   "outputs": [],
   "source": [
    "df_recovery_result300=pd.DataFrame(result_status300_list)\n",
    "df_recovery_result300.columns=(['person_id', 'inital_ADT_end_date', 'Tdate_rec_norec300', 'Tvalue_rec_norec300', 'Status300',\"N_T_dates\",\"N_T_dates_afterADT\"])\n",
    "\n",
    "df_recovery_result300_recovery= df_recovery_result300[df_recovery_result300[\"Status300\"]==\"Y\"]\n",
    "df_recovery_result300_nonrecovery= df_recovery_result300[df_recovery_result300[\"Status300\"]==\"N\"]"
   ]
  },
  {
   "cell_type": "code",
   "execution_count": 75,
   "metadata": {},
   "outputs": [
    {
     "name": "stdout",
     "output_type": "stream",
     "text": [
      "1452\n",
      "173\n",
      "365\n"
     ]
    }
   ],
   "source": [
    "df_recovery_result300=pd.DataFrame(result_status300_list)\n",
    "df_recovery_result300.columns=(['person_id', 'inital_ADT_end_date', 'Tdate_rec_norec300', 'Tvalue_rec_norec300', 'Status300',\"N_T_dates\",\"N_T_dates_afterADT\"])\n",
    "\n",
    "df_recovery_result300_recovery= df_recovery_result300[df_recovery_result300[\"Status300\"]==\"Y\"]\n",
    "df_recovery_result300_nonrecovery= df_recovery_result300[df_recovery_result300[\"Status300\"]==\"N\"]\n",
    "\n",
    "df_recovery_result300[:5]\n",
    "\n",
    "print(shape(df_recovery_result300)[0])\n",
    "print(shape(df_recovery_result300_recovery)[0])\n",
    "print(shape(df_recovery_result300_nonrecovery)[0])"
   ]
  },
  {
   "cell_type": "code",
   "execution_count": 76,
   "metadata": {},
   "outputs": [
    {
     "name": "stdout",
     "output_type": "stream",
     "text": [
      "1452\n",
      "173\n",
      "365\n"
     ]
    }
   ],
   "source": [
    "df_recovery_result300[:5]\n",
    "\n",
    "print(shape(df_recovery_result300)[0])\n",
    "print(shape(df_recovery_result300_recovery)[0])\n",
    "print(shape(df_recovery_result300_nonrecovery)[0])"
   ]
  },
  {
   "cell_type": "code",
   "execution_count": 77,
   "metadata": {},
   "outputs": [
    {
     "data": {
      "text/plain": [
       "538"
      ]
     },
     "execution_count": 77,
     "metadata": {},
     "output_type": "execute_result"
    }
   ],
   "source": [
    "173+365"
   ]
  },
  {
   "cell_type": "markdown",
   "metadata": {},
   "source": [
    "# For pts with T baseline, how many recovery how many non recovery? #df_results_baseline"
   ]
  },
  {
   "cell_type": "markdown",
   "metadata": {},
   "source": [
    "# T recovery threshold = 75.0 ng/dL"
   ]
  },
  {
   "cell_type": "code",
   "execution_count": 78,
   "metadata": {},
   "outputs": [
    {
     "name": "stderr",
     "output_type": "stream",
     "text": [
      "/Users/yuqincai/opt/anaconda3/lib/python3.7/site-packages/ipykernel_launcher.py:49: UserWarning: Boolean Series key will be reindexed to match DataFrame index.\n",
      "/Users/yuqincai/opt/anaconda3/lib/python3.7/site-packages/ipykernel_launcher.py:50: UserWarning: Boolean Series key will be reindexed to match DataFrame index.\n"
     ]
    }
   ],
   "source": [
    "#work with two dataframes, df4 (for the adt info) and df_test\n",
    "#df4=df_adt_results_notna\n",
    "#list_adt_pt=df4[\"person_id\"].to_list()\n",
    "df1=df_results_baseline_avail\n",
    "df2=df_test\n",
    "result_status_list_baseline75=[]\n",
    "\n",
    "list_adt_pt_baselineavail=df_results_baseline_avail['person_id'].to_list()\n",
    "\n",
    "for y in list_adt_pt_baselineavail:     \n",
    "    df1_pt=df1[(df1[\"person_id\"] == y)]\n",
    "\n",
    "    if(pd.isnull(df1_pt['inital_ADT_end_date'].iloc[0])):\n",
    "        b='NaN'\n",
    "        #gap='NaN'\n",
    "        tdate='NaN'\n",
    "        tvalue='NaN'\n",
    "        status=\"NaN\"\n",
    "        N_t_dates='NaN'\n",
    "        N_t_dates_afterADT='NaN'\n",
    "\n",
    "    #if(df1_pt.inital_ADT_end_date.values.any()!=\"\"):\n",
    "    if(pd.notnull(df1_pt['inital_ADT_end_date'].iloc[0])):\n",
    "\n",
    "        b=df1_pt['inital_ADT_end_date'].to_list()[0]\n",
    "        \n",
    "        df2_pt=df2[(df2[\"person_id\"] == y)]    \n",
    "        each_pt_tdates = df2_pt['result_date'].to_list()\n",
    "\n",
    "        ##get rid of nan\n",
    "        cleaned_a=[]\n",
    "        cleaned_a= [x for x in each_pt_tdates if str(x) != 'NaN']\n",
    "        cleaned_aa= [x for x in cleaned_a if str(x) != 'nan']\n",
    "        cleaned_aaa= [x for x in cleaned_aa if str(x) != 'NaT']\n",
    "        N_t_dates=len(cleaned_aaa)\n",
    "\n",
    "        #only keep the ones after ADT end date including on the day\n",
    "        cleaned_aaaa= [x for x in cleaned_aaa if x >=b]\n",
    "        start_sorted_bin=sorted(cleaned_aaaa)\n",
    "        N_t_dates_afterADT=len(cleaned_aaaa)\n",
    "   \n",
    "        if(len(start_sorted_bin)==0):\n",
    "            tdate='NaN' \n",
    "            tvalue=\"NaN\"\n",
    "            status=\"NaN\"\n",
    "\n",
    "#get the 75\n",
    "        if(len(start_sorted_bin)>0):\n",
    "            df3_pt=df2_pt[df2_pt.test_results >=75][df2_pt.result_date >=b]\n",
    "            df4_pt=df2_pt[df2_pt.test_results <75][df2_pt.result_date >=b]\n",
    "\n",
    "            if not df3_pt.empty:\n",
    "                status =\"Y\"\n",
    "                tdate=df3_pt['result_date'].to_list()[0]\n",
    "                tvalue=df3_pt['test_results'].to_list()[0]\n",
    "            \n",
    "            #if not df4_pt.empty:\n",
    "            if df3_pt.empty:\n",
    "                status =\"N\"\n",
    "                tdate=df4_pt['result_date'].to_list()[-1]\n",
    "                tvalue=df4_pt['test_results'].to_list()[-1]\n",
    "    \n",
    "    #print(y, b, tdate, tvalue,status, N_t_dates,N_t_dates_afterADT)\n",
    "    result_status_per_pt=[y,b,tdate, tvalue, status,N_t_dates,N_t_dates_afterADT]\n",
    "    result_status_list_baseline75.append(result_status_per_pt)"
   ]
  },
  {
   "cell_type": "code",
   "execution_count": 80,
   "metadata": {},
   "outputs": [
    {
     "name": "stdout",
     "output_type": "stream",
     "text": [
      "596\n",
      "168\n",
      "167\n",
      "261\n"
     ]
    }
   ],
   "source": [
    "dfbaseline_recovery_result75=pd.DataFrame(result_status_list_baseline75)\n",
    "dfbaseline_recovery_result75.columns=(['person_id', 'inital_ADT_end_date', 'Tdate_rec_norec75', 'Tvalue_rec_norec75', 'Status75',\"N_T_dates\",\"N_T_dates_afterADT\"])\n",
    "\n",
    "dfbaseline_recovery_result75_recovery=dfbaseline_recovery_result75[dfbaseline_recovery_result75[\"Status75\"]==\"Y\"]\n",
    "dfbaseline_recovery_result75_nonrecovery=dfbaseline_recovery_result75[dfbaseline_recovery_result75[\"Status75\"]==\"N\"]\n",
    "dfbaseline_recovery_result75_nan=dfbaseline_recovery_result75[dfbaseline_recovery_result75[\"Status75\"]==\"NaN\"]\n",
    "\n",
    "dfbaseline_recovery_result75[:5]\n",
    "\n",
    "print(shape(dfbaseline_recovery_result75)[0])\n",
    "\n",
    "print(shape(dfbaseline_recovery_result75_recovery)[0])\n",
    "print(shape(dfbaseline_recovery_result75_nonrecovery)[0])\n",
    "\n",
    "print(shape(dfbaseline_recovery_result75_nan)[0])\n",
    "\n",
    "dfbaseline_recovery_result75.to_csv(\"./data/sean_big_cohort_approach3_pts_with_adt_window_and_baseline_T_and_recovery_status75ngdL_fixbugs_Feb22_2021.csv\",encoding='utf-8', index=False)"
   ]
  },
  {
   "cell_type": "code",
   "execution_count": 81,
   "metadata": {},
   "outputs": [],
   "source": [
    "#get the pt list for sql input\n",
    "\n",
    "recovery75_pt_list=dfbaseline_recovery_result75_recovery['person_id'].to_list()\n",
    "nonrecovery75_pt_list=dfbaseline_recovery_result75_nonrecovery['person_id'].to_list()\n",
    "\n",
    "df_recovery75_pt_list= DataFrame(recovery75_pt_list,columns=['pt_id'])\n",
    "df_nonrecovery75_pt_list= DataFrame(nonrecovery75_pt_list,columns=['pt_id'])\n",
    "\n",
    "df_recovery75_pt_list.to_csv(\"rec75_fixbug_approach#3.csv\",encoding='utf-8', index=False)\n",
    "df_nonrecovery75_pt_list.to_csv(\"nonrec75_fixbug_approach#3.csv\",encoding='utf-8', index=False)"
   ]
  },
  {
   "cell_type": "markdown",
   "metadata": {},
   "source": [
    "# T recovery threshold = 300.0 ng/dL"
   ]
  },
  {
   "cell_type": "code",
   "execution_count": 82,
   "metadata": {},
   "outputs": [
    {
     "name": "stderr",
     "output_type": "stream",
     "text": [
      "/Users/yuqincai/opt/anaconda3/lib/python3.7/site-packages/ipykernel_launcher.py:51: UserWarning: Boolean Series key will be reindexed to match DataFrame index.\n",
      "/Users/yuqincai/opt/anaconda3/lib/python3.7/site-packages/ipykernel_launcher.py:52: UserWarning: Boolean Series key will be reindexed to match DataFrame index.\n"
     ]
    }
   ],
   "source": [
    "##test test test: non recovery pts count should not be zero\n",
    "\n",
    "#work with two dataframes, df4 (for the adt info) and df_test\n",
    "#df4=df_adt_results_notna\n",
    "#list_adt_pt=df4[\"person_id\"].to_list()\n",
    "df1=df_results_baseline_avail\n",
    "df2=df_test\n",
    "result_status_list_baseline300=[]\n",
    "\n",
    "list_adt_pt_baselineavail=df_results_baseline_avail['person_id'].to_list()\n",
    "\n",
    "for y in list_adt_pt_baselineavail:     \n",
    "    df1_pt=df1[(df1[\"person_id\"] == y)]\n",
    "\n",
    "    if(pd.isnull(df1_pt['inital_ADT_end_date'].iloc[0])):\n",
    "        b='NaN'\n",
    "        #gap='NaN'\n",
    "        tdate='NaN'\n",
    "        tvalue='NaN'\n",
    "        status=\"NaN\"\n",
    "        N_t_dates='NaN'\n",
    "        N_t_dates_afterADT='NaN'\n",
    "\n",
    "    #if(df1_pt.inital_ADT_end_date.values.any()!=\"\"):\n",
    "    if(pd.notnull(df1_pt['inital_ADT_end_date'].iloc[0])):\n",
    "\n",
    "        b=df1_pt['inital_ADT_end_date'].to_list()[0]\n",
    "        \n",
    "        df2_pt=df2[(df2[\"person_id\"] == y)]    \n",
    "        each_pt_tdates = df2_pt['result_date'].to_list()\n",
    "\n",
    "        ##get rid of nan\n",
    "        cleaned_a=[]\n",
    "        cleaned_a= [x for x in each_pt_tdates if str(x) != 'NaN']\n",
    "        cleaned_aa= [x for x in cleaned_a if str(x) != 'nan']\n",
    "        cleaned_aaa= [x for x in cleaned_aa if str(x) != 'NaT']\n",
    "        N_t_dates=len(cleaned_aaa)\n",
    "\n",
    "        #only keep the ones after ADT end date including on the day\n",
    "        cleaned_aaaa= [x for x in cleaned_aaa if x >=b]\n",
    "        start_sorted_bin=sorted(cleaned_aaaa)\n",
    "        N_t_dates_afterADT=len(cleaned_aaaa)\n",
    "   \n",
    "        if(len(start_sorted_bin)==0):\n",
    "            tdate='NaN' \n",
    "            tvalue=\"NaN\"\n",
    "            status=\"NaN\"\n",
    "\n",
    "#get the 300\n",
    "        if(len(start_sorted_bin)>0):\n",
    "            df3_pt=df2_pt[df2_pt.test_results >=300][df2_pt.result_date >=b]\n",
    "            df4_pt=df2_pt[df2_pt.test_results <300][df2_pt.result_date >=b]\n",
    "\n",
    "            if not df3_pt.empty:\n",
    "                status =\"Y\"\n",
    "                tdate=df3_pt['result_date'].to_list()[0]\n",
    "                tvalue=df3_pt['test_results'].to_list()[0]\n",
    "            \n",
    "            #if not df4_pt.empty:\n",
    "            if df3_pt.empty:\n",
    "                status =\"N\"\n",
    "                tdate=df4_pt['result_date'].to_list()[-1]\n",
    "                tvalue=df4_pt['test_results'].to_list()[-1]\n",
    "    \n",
    "    #print(y, b, tdate, tvalue,status, N_t_dates,N_t_dates_afterADT)\n",
    "    result_status_per_pt=[y,b,tdate, tvalue, status,N_t_dates,N_t_dates_afterADT]\n",
    "    result_status_list_baseline300.append(result_status_per_pt)"
   ]
  },
  {
   "cell_type": "code",
   "execution_count": 83,
   "metadata": {},
   "outputs": [
    {
     "name": "stdout",
     "output_type": "stream",
     "text": [
      "596\n",
      "106\n",
      "229\n"
     ]
    }
   ],
   "source": [
    "dfbaseline_recovery_result300=pd.DataFrame(result_status_list_baseline300)\n",
    "dfbaseline_recovery_result300.columns=(['person_id', 'inital_ADT_end_date', 'Tdate_rec_norec300', 'Tvalue_rec_norec300', 'Status300',\"N_T_dates\",\"N_T_dates_afterADT\"])\n",
    "\n",
    "dfbaseline_recovery_result300_recovery=dfbaseline_recovery_result300[dfbaseline_recovery_result300[\"Status300\"]==\"Y\"]\n",
    "dfbaseline_recovery_result300_nonrecovery=dfbaseline_recovery_result300[dfbaseline_recovery_result300[\"Status300\"]==\"N\"]\n",
    "\n",
    "dfbaseline_recovery_result300[:5]\n",
    "\n",
    "print(shape(dfbaseline_recovery_result300)[0])\n",
    "print(shape(dfbaseline_recovery_result300_recovery)[0])\n",
    "print(shape(dfbaseline_recovery_result300_nonrecovery)[0])\n",
    "\n",
    "dfbaseline_recovery_result300.to_csv(\"sean_big_cohort_approach#3_pts_with_adt_window_and_baseline_T_and_recovery_status300ngdL_fixbugs_Feb23_2021.csv\",encoding='utf-8', index=False)"
   ]
  },
  {
   "cell_type": "code",
   "execution_count": 86,
   "metadata": {},
   "outputs": [],
   "source": [
    "#get the pt list for sql input\n",
    "recovery300_pt_list=dfbaseline_recovery_result300_recovery['person_id'].to_list()\n",
    "nonrecovery300_pt_list=dfbaseline_recovery_result300_nonrecovery['person_id'].to_list()\n",
    "\n",
    "df_recovery300_pt_list= DataFrame(recovery300_pt_list,columns=['pt_id'])\n",
    "df_nonrecovery300_pt_list= DataFrame(nonrecovery300_pt_list,columns=['pt_id'])\n",
    "\n",
    "df_recovery300_pt_list.to_csv(\"rec300_fixbugs_approach#3.csv\",encoding='utf-8', index=False)\n",
    "df_nonrecovery300_pt_list.to_csv(\"nonrec300_fixbugs_approach#3.csv\",encoding='utf-8', index=False)"
   ]
  },
  {
   "cell_type": "code",
   "execution_count": 87,
   "metadata": {},
   "outputs": [
    {
     "data": {
      "text/plain": [
       "[2, 13, 25]"
      ]
     },
     "execution_count": 87,
     "metadata": {},
     "output_type": "execute_result"
    }
   ],
   "source": [
    "nonrecovery300_pt_list[:3]"
   ]
  },
  {
   "cell_type": "code",
   "execution_count": 88,
   "metadata": {},
   "outputs": [],
   "source": [
    "dfbaseline_recovery_result300.to_csv(\"./data/sean_big_cohort_approach#3_pts_with_adt_window_and_baseline_T_and_recovery_status300ngdL_fixbugs_Feb23_5PM_2021.csv\",encoding='utf-8', index=False)\n",
    "df_results_baseline_avail.to_csv(\"./data/sean_big_cohort_approach#3_pts_with_adt_window_and_baseline_T_fixbugs_Feb23_5PM_2021.csv\",encoding='utf-8', index=False)"
   ]
  },
  {
   "cell_type": "code",
   "execution_count": 89,
   "metadata": {},
   "outputs": [
    {
     "data": {
      "text/html": [
       "<div>\n",
       "<style scoped>\n",
       "    .dataframe tbody tr th:only-of-type {\n",
       "        vertical-align: middle;\n",
       "    }\n",
       "\n",
       "    .dataframe tbody tr th {\n",
       "        vertical-align: top;\n",
       "    }\n",
       "\n",
       "    .dataframe thead th {\n",
       "        text-align: right;\n",
       "    }\n",
       "</style>\n",
       "<table border=\"1\" class=\"dataframe\">\n",
       "  <thead>\n",
       "    <tr style=\"text-align: right;\">\n",
       "      <th></th>\n",
       "      <th>person_id</th>\n",
       "      <th>inital_ADT_end_date</th>\n",
       "      <th>Tdate_rec_norec300</th>\n",
       "      <th>Tvalue_rec_norec300</th>\n",
       "      <th>Status300</th>\n",
       "      <th>N_T_dates</th>\n",
       "      <th>N_T_dates_afterADT</th>\n",
       "    </tr>\n",
       "  </thead>\n",
       "  <tbody>\n",
       "    <tr>\n",
       "      <td>0</td>\n",
       "      <td>2</td>\n",
       "      <td>2017-02-01</td>\n",
       "      <td>2017-04-11</td>\n",
       "      <td>4.8</td>\n",
       "      <td>N</td>\n",
       "      <td>82</td>\n",
       "      <td>5</td>\n",
       "    </tr>\n",
       "    <tr>\n",
       "      <td>1</td>\n",
       "      <td>13</td>\n",
       "      <td>2015-03-17</td>\n",
       "      <td>2017-12-14</td>\n",
       "      <td>4.33</td>\n",
       "      <td>N</td>\n",
       "      <td>23</td>\n",
       "      <td>15</td>\n",
       "    </tr>\n",
       "    <tr>\n",
       "      <td>2</td>\n",
       "      <td>25</td>\n",
       "      <td>2014-02-18</td>\n",
       "      <td>2020-01-21</td>\n",
       "      <td>238.49</td>\n",
       "      <td>N</td>\n",
       "      <td>12</td>\n",
       "      <td>11</td>\n",
       "    </tr>\n",
       "    <tr>\n",
       "      <td>3</td>\n",
       "      <td>38</td>\n",
       "      <td>2016-07-18</td>\n",
       "      <td>2018-04-16</td>\n",
       "      <td>317.16</td>\n",
       "      <td>Y</td>\n",
       "      <td>20</td>\n",
       "      <td>13</td>\n",
       "    </tr>\n",
       "    <tr>\n",
       "      <td>4</td>\n",
       "      <td>53</td>\n",
       "      <td>2016-10-03</td>\n",
       "      <td>NaT</td>\n",
       "      <td>NaN</td>\n",
       "      <td>NaN</td>\n",
       "      <td>26</td>\n",
       "      <td>0</td>\n",
       "    </tr>\n",
       "    <tr>\n",
       "      <td>...</td>\n",
       "      <td>...</td>\n",
       "      <td>...</td>\n",
       "      <td>...</td>\n",
       "      <td>...</td>\n",
       "      <td>...</td>\n",
       "      <td>...</td>\n",
       "      <td>...</td>\n",
       "    </tr>\n",
       "    <tr>\n",
       "      <td>591</td>\n",
       "      <td>197945</td>\n",
       "      <td>2020-09-09</td>\n",
       "      <td>NaT</td>\n",
       "      <td>NaN</td>\n",
       "      <td>NaN</td>\n",
       "      <td>1</td>\n",
       "      <td>0</td>\n",
       "    </tr>\n",
       "    <tr>\n",
       "      <td>592</td>\n",
       "      <td>198103</td>\n",
       "      <td>2020-09-21</td>\n",
       "      <td>NaT</td>\n",
       "      <td>NaN</td>\n",
       "      <td>NaN</td>\n",
       "      <td>2</td>\n",
       "      <td>0</td>\n",
       "    </tr>\n",
       "    <tr>\n",
       "      <td>593</td>\n",
       "      <td>201026</td>\n",
       "      <td>2020-10-01</td>\n",
       "      <td>NaT</td>\n",
       "      <td>NaN</td>\n",
       "      <td>NaN</td>\n",
       "      <td>1</td>\n",
       "      <td>0</td>\n",
       "    </tr>\n",
       "    <tr>\n",
       "      <td>594</td>\n",
       "      <td>201343</td>\n",
       "      <td>2020-09-01</td>\n",
       "      <td>2020-09-15</td>\n",
       "      <td>4.33</td>\n",
       "      <td>N</td>\n",
       "      <td>3</td>\n",
       "      <td>1</td>\n",
       "    </tr>\n",
       "    <tr>\n",
       "      <td>595</td>\n",
       "      <td>205144</td>\n",
       "      <td>2020-10-12</td>\n",
       "      <td>NaT</td>\n",
       "      <td>NaN</td>\n",
       "      <td>NaN</td>\n",
       "      <td>1</td>\n",
       "      <td>0</td>\n",
       "    </tr>\n",
       "  </tbody>\n",
       "</table>\n",
       "<p>596 rows × 7 columns</p>\n",
       "</div>"
      ],
      "text/plain": [
       "     person_id inital_ADT_end_date Tdate_rec_norec300 Tvalue_rec_norec300  \\\n",
       "0            2          2017-02-01         2017-04-11                 4.8   \n",
       "1           13          2015-03-17         2017-12-14                4.33   \n",
       "2           25          2014-02-18         2020-01-21              238.49   \n",
       "3           38          2016-07-18         2018-04-16              317.16   \n",
       "4           53          2016-10-03                NaT                 NaN   \n",
       "..         ...                 ...                ...                 ...   \n",
       "591     197945          2020-09-09                NaT                 NaN   \n",
       "592     198103          2020-09-21                NaT                 NaN   \n",
       "593     201026          2020-10-01                NaT                 NaN   \n",
       "594     201343          2020-09-01         2020-09-15                4.33   \n",
       "595     205144          2020-10-12                NaT                 NaN   \n",
       "\n",
       "    Status300  N_T_dates  N_T_dates_afterADT  \n",
       "0           N         82                   5  \n",
       "1           N         23                  15  \n",
       "2           N         12                  11  \n",
       "3           Y         20                  13  \n",
       "4         NaN         26                   0  \n",
       "..        ...        ...                 ...  \n",
       "591       NaN          1                   0  \n",
       "592       NaN          2                   0  \n",
       "593       NaN          1                   0  \n",
       "594         N          3                   1  \n",
       "595       NaN          1                   0  \n",
       "\n",
       "[596 rows x 7 columns]"
      ]
     },
     "execution_count": 89,
     "metadata": {},
     "output_type": "execute_result"
    }
   ],
   "source": [
    "dfbaseline_recovery_result300"
   ]
  },
  {
   "cell_type": "markdown",
   "metadata": {},
   "source": [
    "# How many ADT to T is not zero"
   ]
  },
  {
   "cell_type": "code",
   "execution_count": 90,
   "metadata": {},
   "outputs": [
    {
     "name": "stdout",
     "output_type": "stream",
     "text": [
      "279\n"
     ]
    }
   ],
   "source": [
    "dfbaseline_recovery_result300['ADT_to_T'] =dfbaseline_recovery_result300['Tdate_rec_norec300'] - dfbaseline_recovery_result300['inital_ADT_end_date']\n",
    "dfbaseline_recovery_result300['ADT_to_T_days']=dfbaseline_recovery_result300['ADT_to_T'].dt.days\n",
    "\n",
    "dfbaseline_result300_valid=dfbaseline_recovery_result300[dfbaseline_recovery_result300[\"Status300\"]!=\"NaN\"]\n",
    "dfbaseline_result300_valid_adt_t_notzero=dfbaseline_result300_valid[dfbaseline_result300_valid['ADT_to_T_days']!=0]\n",
    "print(len(dfbaseline_result300_valid_adt_t_notzero))"
   ]
  },
  {
   "cell_type": "code",
   "execution_count": 91,
   "metadata": {},
   "outputs": [
    {
     "data": {
      "text/html": [
       "<div>\n",
       "<style scoped>\n",
       "    .dataframe tbody tr th:only-of-type {\n",
       "        vertical-align: middle;\n",
       "    }\n",
       "\n",
       "    .dataframe tbody tr th {\n",
       "        vertical-align: top;\n",
       "    }\n",
       "\n",
       "    .dataframe thead th {\n",
       "        text-align: right;\n",
       "    }\n",
       "</style>\n",
       "<table border=\"1\" class=\"dataframe\">\n",
       "  <thead>\n",
       "    <tr style=\"text-align: right;\">\n",
       "      <th></th>\n",
       "      <th>person_id</th>\n",
       "      <th>inital_ADT_end_date</th>\n",
       "      <th>Tdate_rec_norec300</th>\n",
       "      <th>Tvalue_rec_norec300</th>\n",
       "      <th>Status300</th>\n",
       "      <th>N_T_dates</th>\n",
       "      <th>N_T_dates_afterADT</th>\n",
       "      <th>ADT_to_T</th>\n",
       "      <th>ADT_to_T_days</th>\n",
       "    </tr>\n",
       "  </thead>\n",
       "  <tbody>\n",
       "    <tr>\n",
       "      <td>0</td>\n",
       "      <td>2</td>\n",
       "      <td>2017-02-01</td>\n",
       "      <td>2017-04-11</td>\n",
       "      <td>4.8</td>\n",
       "      <td>N</td>\n",
       "      <td>82</td>\n",
       "      <td>5</td>\n",
       "      <td>69 days</td>\n",
       "      <td>69.0</td>\n",
       "    </tr>\n",
       "    <tr>\n",
       "      <td>1</td>\n",
       "      <td>13</td>\n",
       "      <td>2015-03-17</td>\n",
       "      <td>2017-12-14</td>\n",
       "      <td>4.33</td>\n",
       "      <td>N</td>\n",
       "      <td>23</td>\n",
       "      <td>15</td>\n",
       "      <td>1003 days</td>\n",
       "      <td>1003.0</td>\n",
       "    </tr>\n",
       "    <tr>\n",
       "      <td>2</td>\n",
       "      <td>25</td>\n",
       "      <td>2014-02-18</td>\n",
       "      <td>2020-01-21</td>\n",
       "      <td>238.49</td>\n",
       "      <td>N</td>\n",
       "      <td>12</td>\n",
       "      <td>11</td>\n",
       "      <td>2163 days</td>\n",
       "      <td>2163.0</td>\n",
       "    </tr>\n",
       "  </tbody>\n",
       "</table>\n",
       "</div>"
      ],
      "text/plain": [
       "   person_id inital_ADT_end_date Tdate_rec_norec300 Tvalue_rec_norec300  \\\n",
       "0          2          2017-02-01         2017-04-11                 4.8   \n",
       "1         13          2015-03-17         2017-12-14                4.33   \n",
       "2         25          2014-02-18         2020-01-21              238.49   \n",
       "\n",
       "  Status300  N_T_dates  N_T_dates_afterADT  ADT_to_T  ADT_to_T_days  \n",
       "0         N         82                   5   69 days           69.0  \n",
       "1         N         23                  15 1003 days         1003.0  \n",
       "2         N         12                  11 2163 days         2163.0  "
      ]
     },
     "execution_count": 91,
     "metadata": {},
     "output_type": "execute_result"
    }
   ],
   "source": [
    "dfbaseline_recovery_result300[:3]"
   ]
  },
  {
   "cell_type": "code",
   "execution_count": 93,
   "metadata": {},
   "outputs": [],
   "source": [
    "dfbaseline_result300_valid_adt_t_notzero.to_csv(\"./data/sean_big_cohort_approach#3_pts_ADT_T_notzero_ptlist.csv\",encoding='utf-8', index=False)"
   ]
  }
 ],
 "metadata": {
  "kernelspec": {
   "display_name": "Python 3",
   "language": "python",
   "name": "python3"
  },
  "language_info": {
   "codemirror_mode": {
    "name": "ipython",
    "version": 3
   },
   "file_extension": ".py",
   "mimetype": "text/x-python",
   "name": "python",
   "nbconvert_exporter": "python",
   "pygments_lexer": "ipython3",
   "version": "3.7.4"
  }
 },
 "nbformat": 4,
 "nbformat_minor": 2
}
