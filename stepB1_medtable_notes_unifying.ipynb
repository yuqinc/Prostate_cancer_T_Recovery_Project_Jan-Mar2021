{
 "cells": [
  {
   "cell_type": "markdown",
   "metadata": {},
   "source": [
    "### README.md\n",
    "####Step1, get rid of lines with NaN in both start and end dates; detele the lines with \"comment\" as \"deleted\"\n",
    "####Step2, unify Meditable and Notes\n",
    "####Step3, combine all 5 ADTs and get start and end dates"
   ]
  },
  {
   "cell_type": "code",
   "execution_count": 309,
   "metadata": {},
   "outputs": [],
   "source": [
    "import numpy as np\n",
    "import pandas as pd\n",
    "import sys, getopt\n",
    "import csv"
   ]
  },
  {
   "cell_type": "code",
   "execution_count": 310,
   "metadata": {
    "scrolled": true
   },
   "outputs": [],
   "source": [
    "df1=pd.read_csv(\"./temp4.csv\", header=0, delim_whitespace=False).reset_index()"
   ]
  },
  {
   "cell_type": "code",
   "execution_count": 311,
   "metadata": {
    "scrolled": true
   },
   "outputs": [
    {
     "data": {
      "text/html": [
       "<div>\n",
       "<style scoped>\n",
       "    .dataframe tbody tr th:only-of-type {\n",
       "        vertical-align: middle;\n",
       "    }\n",
       "\n",
       "    .dataframe tbody tr th {\n",
       "        vertical-align: top;\n",
       "    }\n",
       "\n",
       "    .dataframe thead th {\n",
       "        text-align: right;\n",
       "    }\n",
       "</style>\n",
       "<table border=\"1\" class=\"dataframe\">\n",
       "  <thead>\n",
       "    <tr style=\"text-align: right;\">\n",
       "      <th></th>\n",
       "      <th>index</th>\n",
       "      <th>person_id</th>\n",
       "      <th>generic_drug_name</th>\n",
       "      <th>source</th>\n",
       "      <th>start_date</th>\n",
       "      <th>end_date</th>\n",
       "      <th>comment</th>\n",
       "    </tr>\n",
       "  </thead>\n",
       "  <tbody>\n",
       "    <tr>\n",
       "      <td>0</td>\n",
       "      <td>0</td>\n",
       "      <td>12.0</td>\n",
       "      <td>Leuprolide</td>\n",
       "      <td>Medtable</td>\n",
       "      <td>5/6/13</td>\n",
       "      <td>Null</td>\n",
       "      <td>reviewed</td>\n",
       "    </tr>\n",
       "    <tr>\n",
       "      <td>1</td>\n",
       "      <td>1</td>\n",
       "      <td>12.0</td>\n",
       "      <td>Leuprolide</td>\n",
       "      <td>Notes</td>\n",
       "      <td>Null</td>\n",
       "      <td>8/6/13</td>\n",
       "      <td>added</td>\n",
       "    </tr>\n",
       "    <tr>\n",
       "      <td>2</td>\n",
       "      <td>2</td>\n",
       "      <td>18.0</td>\n",
       "      <td>Goserelin</td>\n",
       "      <td>Medtable</td>\n",
       "      <td>12/9/13</td>\n",
       "      <td>3/13/14</td>\n",
       "      <td>reviewed</td>\n",
       "    </tr>\n",
       "    <tr>\n",
       "      <td>3</td>\n",
       "      <td>3</td>\n",
       "      <td>18.0</td>\n",
       "      <td>Degarelix</td>\n",
       "      <td>Medtable</td>\n",
       "      <td>11/12/13</td>\n",
       "      <td>11/12/13</td>\n",
       "      <td>reviewed</td>\n",
       "    </tr>\n",
       "    <tr>\n",
       "      <td>4</td>\n",
       "      <td>4</td>\n",
       "      <td>25.0</td>\n",
       "      <td>Leuprolide</td>\n",
       "      <td>Medtable</td>\n",
       "      <td>Null</td>\n",
       "      <td>2/18/14</td>\n",
       "      <td>reviewed</td>\n",
       "    </tr>\n",
       "    <tr>\n",
       "      <td>5</td>\n",
       "      <td>5</td>\n",
       "      <td>25.0</td>\n",
       "      <td>Leuprolide</td>\n",
       "      <td>Notes</td>\n",
       "      <td>11/18/13</td>\n",
       "      <td>Null</td>\n",
       "      <td>added</td>\n",
       "    </tr>\n",
       "    <tr>\n",
       "      <td>6</td>\n",
       "      <td>6</td>\n",
       "      <td>25.0</td>\n",
       "      <td>Leuprolide</td>\n",
       "      <td>Notes</td>\n",
       "      <td>Null</td>\n",
       "      <td>Null</td>\n",
       "      <td>deleted</td>\n",
       "    </tr>\n",
       "    <tr>\n",
       "      <td>7</td>\n",
       "      <td>7</td>\n",
       "      <td>25.0</td>\n",
       "      <td>Bicalutamide</td>\n",
       "      <td>Notes</td>\n",
       "      <td>Null</td>\n",
       "      <td>Null</td>\n",
       "      <td>reviewed</td>\n",
       "    </tr>\n",
       "    <tr>\n",
       "      <td>8</td>\n",
       "      <td>8</td>\n",
       "      <td>26.0</td>\n",
       "      <td>Bicalutamide</td>\n",
       "      <td>Medtable</td>\n",
       "      <td>Null</td>\n",
       "      <td>10/15/14</td>\n",
       "      <td>reviewed</td>\n",
       "    </tr>\n",
       "    <tr>\n",
       "      <td>9</td>\n",
       "      <td>9</td>\n",
       "      <td>26.0</td>\n",
       "      <td>Bicalutamide</td>\n",
       "      <td>Notes</td>\n",
       "      <td>7/15/14</td>\n",
       "      <td>Null</td>\n",
       "      <td>reviewed</td>\n",
       "    </tr>\n",
       "    <tr>\n",
       "      <td>10</td>\n",
       "      <td>10</td>\n",
       "      <td>26.0</td>\n",
       "      <td>Leuprolide</td>\n",
       "      <td>Medtable</td>\n",
       "      <td>11/26/14</td>\n",
       "      <td>6/10/15</td>\n",
       "      <td>reviewed</td>\n",
       "    </tr>\n",
       "    <tr>\n",
       "      <td>11</td>\n",
       "      <td>11</td>\n",
       "      <td>NaN</td>\n",
       "      <td>NaN</td>\n",
       "      <td>NaN</td>\n",
       "      <td>NaN</td>\n",
       "      <td>NaN</td>\n",
       "      <td>NaN</td>\n",
       "    </tr>\n",
       "  </tbody>\n",
       "</table>\n",
       "</div>"
      ],
      "text/plain": [
       "    index  person_id generic_drug_name    source start_date  end_date  \\\n",
       "0       0       12.0        Leuprolide  Medtable     5/6/13      Null   \n",
       "1       1       12.0        Leuprolide     Notes       Null    8/6/13   \n",
       "2       2       18.0         Goserelin  Medtable    12/9/13   3/13/14   \n",
       "3       3       18.0         Degarelix  Medtable   11/12/13  11/12/13   \n",
       "4       4       25.0        Leuprolide  Medtable       Null   2/18/14   \n",
       "5       5       25.0        Leuprolide     Notes   11/18/13      Null   \n",
       "6       6       25.0        Leuprolide     Notes       Null      Null   \n",
       "7       7       25.0      Bicalutamide     Notes       Null      Null   \n",
       "8       8       26.0      Bicalutamide  Medtable       Null  10/15/14   \n",
       "9       9       26.0      Bicalutamide     Notes    7/15/14      Null   \n",
       "10     10       26.0        Leuprolide  Medtable   11/26/14   6/10/15   \n",
       "11     11        NaN               NaN       NaN        NaN       NaN   \n",
       "\n",
       "     comment  \n",
       "0   reviewed  \n",
       "1      added  \n",
       "2   reviewed  \n",
       "3   reviewed  \n",
       "4   reviewed  \n",
       "5      added  \n",
       "6    deleted  \n",
       "7   reviewed  \n",
       "8   reviewed  \n",
       "9   reviewed  \n",
       "10  reviewed  \n",
       "11       NaN  "
      ]
     },
     "execution_count": 311,
     "metadata": {},
     "output_type": "execute_result"
    }
   ],
   "source": [
    "df1[:12]"
   ]
  },
  {
   "cell_type": "code",
   "execution_count": 312,
   "metadata": {},
   "outputs": [
    {
     "data": {
      "text/plain": [
       "Index(['index', 'person_id', 'generic_drug_name', 'source', 'start_date',\n",
       "       'end_date', 'comment'],\n",
       "      dtype='object')"
      ]
     },
     "execution_count": 312,
     "metadata": {},
     "output_type": "execute_result"
    }
   ],
   "source": [
    "df1.columns"
   ]
  },
  {
   "cell_type": "code",
   "execution_count": 313,
   "metadata": {},
   "outputs": [],
   "source": [
    "#remove empty grits and NaNs\n",
    "df1['comment'].replace('', np.nan, inplace=True)\n",
    "df1.dropna(subset=['comment'], inplace=True)"
   ]
  },
  {
   "cell_type": "code",
   "execution_count": 314,
   "metadata": {},
   "outputs": [
    {
     "name": "stdout",
     "output_type": "stream",
     "text": [
      "(11, 7)\n"
     ]
    }
   ],
   "source": [
    "print(df1.shape)"
   ]
  },
  {
   "cell_type": "code",
   "execution_count": 315,
   "metadata": {},
   "outputs": [
    {
     "data": {
      "text/plain": [
       "0       5/6/13\n",
       "1         Null\n",
       "2      12/9/13\n",
       "3     11/12/13\n",
       "4         Null\n",
       "5     11/18/13\n",
       "6         Null\n",
       "7         Null\n",
       "8         Null\n",
       "9      7/15/14\n",
       "10    11/26/14\n",
       "Name: start_date, dtype: object"
      ]
     },
     "execution_count": 315,
     "metadata": {},
     "output_type": "execute_result"
    }
   ],
   "source": [
    "df1['start_date']"
   ]
  },
  {
   "cell_type": "code",
   "execution_count": 316,
   "metadata": {},
   "outputs": [
    {
     "data": {
      "text/html": [
       "<div>\n",
       "<style scoped>\n",
       "    .dataframe tbody tr th:only-of-type {\n",
       "        vertical-align: middle;\n",
       "    }\n",
       "\n",
       "    .dataframe tbody tr th {\n",
       "        vertical-align: top;\n",
       "    }\n",
       "\n",
       "    .dataframe thead th {\n",
       "        text-align: right;\n",
       "    }\n",
       "</style>\n",
       "<table border=\"1\" class=\"dataframe\">\n",
       "  <thead>\n",
       "    <tr style=\"text-align: right;\">\n",
       "      <th></th>\n",
       "      <th>index</th>\n",
       "      <th>person_id</th>\n",
       "      <th>generic_drug_name</th>\n",
       "      <th>source</th>\n",
       "      <th>start_date</th>\n",
       "      <th>end_date</th>\n",
       "      <th>comment</th>\n",
       "    </tr>\n",
       "  </thead>\n",
       "  <tbody>\n",
       "    <tr>\n",
       "      <td>0</td>\n",
       "      <td>0</td>\n",
       "      <td>12.0</td>\n",
       "      <td>Leuprolide</td>\n",
       "      <td>Medtable</td>\n",
       "      <td>5/6/13</td>\n",
       "      <td>Null</td>\n",
       "      <td>reviewed</td>\n",
       "    </tr>\n",
       "    <tr>\n",
       "      <td>1</td>\n",
       "      <td>1</td>\n",
       "      <td>12.0</td>\n",
       "      <td>Leuprolide</td>\n",
       "      <td>Notes</td>\n",
       "      <td>Null</td>\n",
       "      <td>8/6/13</td>\n",
       "      <td>added</td>\n",
       "    </tr>\n",
       "    <tr>\n",
       "      <td>2</td>\n",
       "      <td>2</td>\n",
       "      <td>18.0</td>\n",
       "      <td>Goserelin</td>\n",
       "      <td>Medtable</td>\n",
       "      <td>12/9/13</td>\n",
       "      <td>3/13/14</td>\n",
       "      <td>reviewed</td>\n",
       "    </tr>\n",
       "    <tr>\n",
       "      <td>3</td>\n",
       "      <td>3</td>\n",
       "      <td>18.0</td>\n",
       "      <td>Degarelix</td>\n",
       "      <td>Medtable</td>\n",
       "      <td>11/12/13</td>\n",
       "      <td>11/12/13</td>\n",
       "      <td>reviewed</td>\n",
       "    </tr>\n",
       "    <tr>\n",
       "      <td>4</td>\n",
       "      <td>4</td>\n",
       "      <td>25.0</td>\n",
       "      <td>Leuprolide</td>\n",
       "      <td>Medtable</td>\n",
       "      <td>Null</td>\n",
       "      <td>2/18/14</td>\n",
       "      <td>reviewed</td>\n",
       "    </tr>\n",
       "    <tr>\n",
       "      <td>5</td>\n",
       "      <td>5</td>\n",
       "      <td>25.0</td>\n",
       "      <td>Leuprolide</td>\n",
       "      <td>Notes</td>\n",
       "      <td>11/18/13</td>\n",
       "      <td>Null</td>\n",
       "      <td>added</td>\n",
       "    </tr>\n",
       "    <tr>\n",
       "      <td>6</td>\n",
       "      <td>6</td>\n",
       "      <td>25.0</td>\n",
       "      <td>Leuprolide</td>\n",
       "      <td>Notes</td>\n",
       "      <td>Null</td>\n",
       "      <td>Null</td>\n",
       "      <td>deleted</td>\n",
       "    </tr>\n",
       "    <tr>\n",
       "      <td>7</td>\n",
       "      <td>7</td>\n",
       "      <td>25.0</td>\n",
       "      <td>Bicalutamide</td>\n",
       "      <td>Notes</td>\n",
       "      <td>Null</td>\n",
       "      <td>Null</td>\n",
       "      <td>reviewed</td>\n",
       "    </tr>\n",
       "    <tr>\n",
       "      <td>8</td>\n",
       "      <td>8</td>\n",
       "      <td>26.0</td>\n",
       "      <td>Bicalutamide</td>\n",
       "      <td>Medtable</td>\n",
       "      <td>Null</td>\n",
       "      <td>10/15/14</td>\n",
       "      <td>reviewed</td>\n",
       "    </tr>\n",
       "    <tr>\n",
       "      <td>9</td>\n",
       "      <td>9</td>\n",
       "      <td>26.0</td>\n",
       "      <td>Bicalutamide</td>\n",
       "      <td>Notes</td>\n",
       "      <td>7/15/14</td>\n",
       "      <td>Null</td>\n",
       "      <td>reviewed</td>\n",
       "    </tr>\n",
       "    <tr>\n",
       "      <td>10</td>\n",
       "      <td>10</td>\n",
       "      <td>26.0</td>\n",
       "      <td>Leuprolide</td>\n",
       "      <td>Medtable</td>\n",
       "      <td>11/26/14</td>\n",
       "      <td>6/10/15</td>\n",
       "      <td>reviewed</td>\n",
       "    </tr>\n",
       "  </tbody>\n",
       "</table>\n",
       "</div>"
      ],
      "text/plain": [
       "    index  person_id generic_drug_name    source start_date  end_date  \\\n",
       "0       0       12.0        Leuprolide  Medtable     5/6/13      Null   \n",
       "1       1       12.0        Leuprolide     Notes       Null    8/6/13   \n",
       "2       2       18.0         Goserelin  Medtable    12/9/13   3/13/14   \n",
       "3       3       18.0         Degarelix  Medtable   11/12/13  11/12/13   \n",
       "4       4       25.0        Leuprolide  Medtable       Null   2/18/14   \n",
       "5       5       25.0        Leuprolide     Notes   11/18/13      Null   \n",
       "6       6       25.0        Leuprolide     Notes       Null      Null   \n",
       "7       7       25.0      Bicalutamide     Notes       Null      Null   \n",
       "8       8       26.0      Bicalutamide  Medtable       Null  10/15/14   \n",
       "9       9       26.0      Bicalutamide     Notes    7/15/14      Null   \n",
       "10     10       26.0        Leuprolide  Medtable   11/26/14   6/10/15   \n",
       "\n",
       "     comment  \n",
       "0   reviewed  \n",
       "1      added  \n",
       "2   reviewed  \n",
       "3   reviewed  \n",
       "4   reviewed  \n",
       "5      added  \n",
       "6    deleted  \n",
       "7   reviewed  \n",
       "8   reviewed  \n",
       "9   reviewed  \n",
       "10  reviewed  "
      ]
     },
     "execution_count": 316,
     "metadata": {},
     "output_type": "execute_result"
    }
   ],
   "source": [
    "df1"
   ]
  },
  {
   "cell_type": "code",
   "execution_count": 317,
   "metadata": {},
   "outputs": [
    {
     "data": {
      "text/html": [
       "<div>\n",
       "<style scoped>\n",
       "    .dataframe tbody tr th:only-of-type {\n",
       "        vertical-align: middle;\n",
       "    }\n",
       "\n",
       "    .dataframe tbody tr th {\n",
       "        vertical-align: top;\n",
       "    }\n",
       "\n",
       "    .dataframe thead th {\n",
       "        text-align: right;\n",
       "    }\n",
       "</style>\n",
       "<table border=\"1\" class=\"dataframe\">\n",
       "  <thead>\n",
       "    <tr style=\"text-align: right;\">\n",
       "      <th></th>\n",
       "      <th>index</th>\n",
       "      <th>person_id</th>\n",
       "      <th>generic_drug_name</th>\n",
       "      <th>source</th>\n",
       "      <th>start_date</th>\n",
       "      <th>end_date</th>\n",
       "      <th>comment</th>\n",
       "    </tr>\n",
       "  </thead>\n",
       "  <tbody>\n",
       "    <tr>\n",
       "      <td>6</td>\n",
       "      <td>6</td>\n",
       "      <td>25.0</td>\n",
       "      <td>Leuprolide</td>\n",
       "      <td>Notes</td>\n",
       "      <td>Null</td>\n",
       "      <td>Null</td>\n",
       "      <td>deleted</td>\n",
       "    </tr>\n",
       "  </tbody>\n",
       "</table>\n",
       "</div>"
      ],
      "text/plain": [
       "   index  person_id generic_drug_name source start_date end_date  comment\n",
       "6      6       25.0        Leuprolide  Notes       Null     Null  deleted"
      ]
     },
     "execution_count": 317,
     "metadata": {},
     "output_type": "execute_result"
    }
   ],
   "source": [
    "df1[df1['comment'].str.contains(\"deleted\")]"
   ]
  },
  {
   "cell_type": "code",
   "execution_count": 318,
   "metadata": {
    "scrolled": true
   },
   "outputs": [
    {
     "name": "stdout",
     "output_type": "stream",
     "text": [
      "line 6 contains 'deleted'\n"
     ]
    }
   ],
   "source": [
    "for ind in df1.index:\n",
    "    if (df1['comment'][ind]=='deleted'): \n",
    "        print('line '+str(ind) +' contains '+ \"'\" + 'deleted'+\"'\")\n",
    "        #df1.drop(index=ind)\n",
    "        df1.drop(df1.index[ind],inplace=True)"
   ]
  },
  {
   "cell_type": "code",
   "execution_count": 323,
   "metadata": {},
   "outputs": [],
   "source": [
    "df2=df1.reset_index()"
   ]
  },
  {
   "cell_type": "code",
   "execution_count": 320,
   "metadata": {},
   "outputs": [
    {
     "data": {
      "text/html": [
       "<div>\n",
       "<style scoped>\n",
       "    .dataframe tbody tr th:only-of-type {\n",
       "        vertical-align: middle;\n",
       "    }\n",
       "\n",
       "    .dataframe tbody tr th {\n",
       "        vertical-align: top;\n",
       "    }\n",
       "\n",
       "    .dataframe thead th {\n",
       "        text-align: right;\n",
       "    }\n",
       "</style>\n",
       "<table border=\"1\" class=\"dataframe\">\n",
       "  <thead>\n",
       "    <tr style=\"text-align: right;\">\n",
       "      <th></th>\n",
       "      <th>level_0</th>\n",
       "      <th>index</th>\n",
       "      <th>person_id</th>\n",
       "      <th>generic_drug_name</th>\n",
       "      <th>source</th>\n",
       "      <th>start_date</th>\n",
       "      <th>end_date</th>\n",
       "      <th>comment</th>\n",
       "    </tr>\n",
       "  </thead>\n",
       "  <tbody>\n",
       "    <tr>\n",
       "      <td>0</td>\n",
       "      <td>0</td>\n",
       "      <td>0</td>\n",
       "      <td>12.0</td>\n",
       "      <td>Leuprolide</td>\n",
       "      <td>Medtable</td>\n",
       "      <td>5/6/13</td>\n",
       "      <td>Null</td>\n",
       "      <td>reviewed</td>\n",
       "    </tr>\n",
       "    <tr>\n",
       "      <td>1</td>\n",
       "      <td>1</td>\n",
       "      <td>1</td>\n",
       "      <td>12.0</td>\n",
       "      <td>Leuprolide</td>\n",
       "      <td>Notes</td>\n",
       "      <td>Null</td>\n",
       "      <td>8/6/13</td>\n",
       "      <td>added</td>\n",
       "    </tr>\n",
       "    <tr>\n",
       "      <td>2</td>\n",
       "      <td>2</td>\n",
       "      <td>2</td>\n",
       "      <td>18.0</td>\n",
       "      <td>Goserelin</td>\n",
       "      <td>Medtable</td>\n",
       "      <td>12/9/13</td>\n",
       "      <td>3/13/14</td>\n",
       "      <td>reviewed</td>\n",
       "    </tr>\n",
       "    <tr>\n",
       "      <td>3</td>\n",
       "      <td>3</td>\n",
       "      <td>3</td>\n",
       "      <td>18.0</td>\n",
       "      <td>Degarelix</td>\n",
       "      <td>Medtable</td>\n",
       "      <td>11/12/13</td>\n",
       "      <td>11/12/13</td>\n",
       "      <td>reviewed</td>\n",
       "    </tr>\n",
       "    <tr>\n",
       "      <td>4</td>\n",
       "      <td>4</td>\n",
       "      <td>4</td>\n",
       "      <td>25.0</td>\n",
       "      <td>Leuprolide</td>\n",
       "      <td>Medtable</td>\n",
       "      <td>Null</td>\n",
       "      <td>2/18/14</td>\n",
       "      <td>reviewed</td>\n",
       "    </tr>\n",
       "    <tr>\n",
       "      <td>5</td>\n",
       "      <td>5</td>\n",
       "      <td>5</td>\n",
       "      <td>25.0</td>\n",
       "      <td>Leuprolide</td>\n",
       "      <td>Notes</td>\n",
       "      <td>11/18/13</td>\n",
       "      <td>Null</td>\n",
       "      <td>added</td>\n",
       "    </tr>\n",
       "    <tr>\n",
       "      <td>6</td>\n",
       "      <td>7</td>\n",
       "      <td>7</td>\n",
       "      <td>25.0</td>\n",
       "      <td>Bicalutamide</td>\n",
       "      <td>Notes</td>\n",
       "      <td>Null</td>\n",
       "      <td>Null</td>\n",
       "      <td>reviewed</td>\n",
       "    </tr>\n",
       "    <tr>\n",
       "      <td>7</td>\n",
       "      <td>8</td>\n",
       "      <td>8</td>\n",
       "      <td>26.0</td>\n",
       "      <td>Bicalutamide</td>\n",
       "      <td>Medtable</td>\n",
       "      <td>Null</td>\n",
       "      <td>10/15/14</td>\n",
       "      <td>reviewed</td>\n",
       "    </tr>\n",
       "    <tr>\n",
       "      <td>8</td>\n",
       "      <td>9</td>\n",
       "      <td>9</td>\n",
       "      <td>26.0</td>\n",
       "      <td>Bicalutamide</td>\n",
       "      <td>Notes</td>\n",
       "      <td>7/15/14</td>\n",
       "      <td>Null</td>\n",
       "      <td>reviewed</td>\n",
       "    </tr>\n",
       "    <tr>\n",
       "      <td>9</td>\n",
       "      <td>10</td>\n",
       "      <td>10</td>\n",
       "      <td>26.0</td>\n",
       "      <td>Leuprolide</td>\n",
       "      <td>Medtable</td>\n",
       "      <td>11/26/14</td>\n",
       "      <td>6/10/15</td>\n",
       "      <td>reviewed</td>\n",
       "    </tr>\n",
       "  </tbody>\n",
       "</table>\n",
       "</div>"
      ],
      "text/plain": [
       "   level_0  index  person_id generic_drug_name    source start_date  end_date  \\\n",
       "0        0      0       12.0        Leuprolide  Medtable     5/6/13      Null   \n",
       "1        1      1       12.0        Leuprolide     Notes       Null    8/6/13   \n",
       "2        2      2       18.0         Goserelin  Medtable    12/9/13   3/13/14   \n",
       "3        3      3       18.0         Degarelix  Medtable   11/12/13  11/12/13   \n",
       "4        4      4       25.0        Leuprolide  Medtable       Null   2/18/14   \n",
       "5        5      5       25.0        Leuprolide     Notes   11/18/13      Null   \n",
       "6        7      7       25.0      Bicalutamide     Notes       Null      Null   \n",
       "7        8      8       26.0      Bicalutamide  Medtable       Null  10/15/14   \n",
       "8        9      9       26.0      Bicalutamide     Notes    7/15/14      Null   \n",
       "9       10     10       26.0        Leuprolide  Medtable   11/26/14   6/10/15   \n",
       "\n",
       "    comment  \n",
       "0  reviewed  \n",
       "1     added  \n",
       "2  reviewed  \n",
       "3  reviewed  \n",
       "4  reviewed  \n",
       "5     added  \n",
       "6  reviewed  \n",
       "7  reviewed  \n",
       "8  reviewed  \n",
       "9  reviewed  "
      ]
     },
     "execution_count": 320,
     "metadata": {},
     "output_type": "execute_result"
    }
   ],
   "source": [
    "df2"
   ]
  },
  {
   "cell_type": "code",
   "execution_count": 321,
   "metadata": {},
   "outputs": [],
   "source": [
    "#df1[df1['comment'].str.contains(\"deleted\")]"
   ]
  },
  {
   "cell_type": "code",
   "execution_count": 324,
   "metadata": {
    "scrolled": true
   },
   "outputs": [
    {
     "name": "stdout",
     "output_type": "stream",
     "text": [
      "6 n\n",
      "7 n\n"
     ]
    },
    {
     "ename": "KeyError",
     "evalue": "8",
     "output_type": "error",
     "traceback": [
      "\u001b[0;31m---------------------------------------------------------------------------\u001b[0m",
      "\u001b[0;31mKeyError\u001b[0m                                  Traceback (most recent call last)",
      "\u001b[0;32m<ipython-input-324-16c09708cbe8>\u001b[0m in \u001b[0;36m<module>\u001b[0;34m\u001b[0m\n\u001b[1;32m      3\u001b[0m \u001b[0;34m\u001b[0m\u001b[0m\n\u001b[1;32m      4\u001b[0m \u001b[0;32mfor\u001b[0m \u001b[0mind\u001b[0m \u001b[0;32min\u001b[0m \u001b[0mdf2\u001b[0m\u001b[0;34m.\u001b[0m\u001b[0mindex\u001b[0m\u001b[0;34m:\u001b[0m\u001b[0;34m\u001b[0m\u001b[0;34m\u001b[0m\u001b[0m\n\u001b[0;32m----> 5\u001b[0;31m     \u001b[0;32mif\u001b[0m \u001b[0;34m(\u001b[0m\u001b[0mdf2\u001b[0m\u001b[0;34m[\u001b[0m\u001b[0;34m'generic_drug_name'\u001b[0m\u001b[0;34m]\u001b[0m\u001b[0;34m[\u001b[0m\u001b[0mind\u001b[0m\u001b[0;34m]\u001b[0m \u001b[0;32mnot\u001b[0m \u001b[0;32min\u001b[0m \u001b[0mADT_lib\u001b[0m\u001b[0;34m)\u001b[0m\u001b[0;34m:\u001b[0m\u001b[0;34m\u001b[0m\u001b[0;34m\u001b[0m\u001b[0m\n\u001b[0m\u001b[1;32m      6\u001b[0m         \u001b[0mprint\u001b[0m\u001b[0;34m(\u001b[0m\u001b[0mind\u001b[0m\u001b[0;34m,\u001b[0m\u001b[0;34m'n'\u001b[0m\u001b[0;34m)\u001b[0m\u001b[0;34m\u001b[0m\u001b[0;34m\u001b[0m\u001b[0m\n\u001b[1;32m      7\u001b[0m         \u001b[0mdf2\u001b[0m\u001b[0;34m.\u001b[0m\u001b[0mdrop\u001b[0m\u001b[0;34m(\u001b[0m\u001b[0mdf2\u001b[0m\u001b[0;34m.\u001b[0m\u001b[0mindex\u001b[0m\u001b[0;34m[\u001b[0m\u001b[0mind\u001b[0m\u001b[0;34m]\u001b[0m\u001b[0;34m,\u001b[0m\u001b[0minplace\u001b[0m\u001b[0;34m=\u001b[0m\u001b[0;32mTrue\u001b[0m\u001b[0;34m)\u001b[0m\u001b[0;34m\u001b[0m\u001b[0;34m\u001b[0m\u001b[0m\n",
      "\u001b[0;32m~/opt/anaconda3/lib/python3.7/site-packages/pandas/core/series.py\u001b[0m in \u001b[0;36m__getitem__\u001b[0;34m(self, key)\u001b[0m\n\u001b[1;32m   1066\u001b[0m         \u001b[0mkey\u001b[0m \u001b[0;34m=\u001b[0m \u001b[0mcom\u001b[0m\u001b[0;34m.\u001b[0m\u001b[0mapply_if_callable\u001b[0m\u001b[0;34m(\u001b[0m\u001b[0mkey\u001b[0m\u001b[0;34m,\u001b[0m \u001b[0mself\u001b[0m\u001b[0;34m)\u001b[0m\u001b[0;34m\u001b[0m\u001b[0;34m\u001b[0m\u001b[0m\n\u001b[1;32m   1067\u001b[0m         \u001b[0;32mtry\u001b[0m\u001b[0;34m:\u001b[0m\u001b[0;34m\u001b[0m\u001b[0;34m\u001b[0m\u001b[0m\n\u001b[0;32m-> 1068\u001b[0;31m             \u001b[0mresult\u001b[0m \u001b[0;34m=\u001b[0m \u001b[0mself\u001b[0m\u001b[0;34m.\u001b[0m\u001b[0mindex\u001b[0m\u001b[0;34m.\u001b[0m\u001b[0mget_value\u001b[0m\u001b[0;34m(\u001b[0m\u001b[0mself\u001b[0m\u001b[0;34m,\u001b[0m \u001b[0mkey\u001b[0m\u001b[0;34m)\u001b[0m\u001b[0;34m\u001b[0m\u001b[0;34m\u001b[0m\u001b[0m\n\u001b[0m\u001b[1;32m   1069\u001b[0m \u001b[0;34m\u001b[0m\u001b[0m\n\u001b[1;32m   1070\u001b[0m             \u001b[0;32mif\u001b[0m \u001b[0;32mnot\u001b[0m \u001b[0mis_scalar\u001b[0m\u001b[0;34m(\u001b[0m\u001b[0mresult\u001b[0m\u001b[0;34m)\u001b[0m\u001b[0;34m:\u001b[0m\u001b[0;34m\u001b[0m\u001b[0;34m\u001b[0m\u001b[0m\n",
      "\u001b[0;32m~/opt/anaconda3/lib/python3.7/site-packages/pandas/core/indexes/base.py\u001b[0m in \u001b[0;36mget_value\u001b[0;34m(self, series, key)\u001b[0m\n\u001b[1;32m   4728\u001b[0m         \u001b[0mk\u001b[0m \u001b[0;34m=\u001b[0m \u001b[0mself\u001b[0m\u001b[0;34m.\u001b[0m\u001b[0m_convert_scalar_indexer\u001b[0m\u001b[0;34m(\u001b[0m\u001b[0mk\u001b[0m\u001b[0;34m,\u001b[0m \u001b[0mkind\u001b[0m\u001b[0;34m=\u001b[0m\u001b[0;34m\"getitem\"\u001b[0m\u001b[0;34m)\u001b[0m\u001b[0;34m\u001b[0m\u001b[0;34m\u001b[0m\u001b[0m\n\u001b[1;32m   4729\u001b[0m         \u001b[0;32mtry\u001b[0m\u001b[0;34m:\u001b[0m\u001b[0;34m\u001b[0m\u001b[0;34m\u001b[0m\u001b[0m\n\u001b[0;32m-> 4730\u001b[0;31m             \u001b[0;32mreturn\u001b[0m \u001b[0mself\u001b[0m\u001b[0;34m.\u001b[0m\u001b[0m_engine\u001b[0m\u001b[0;34m.\u001b[0m\u001b[0mget_value\u001b[0m\u001b[0;34m(\u001b[0m\u001b[0ms\u001b[0m\u001b[0;34m,\u001b[0m \u001b[0mk\u001b[0m\u001b[0;34m,\u001b[0m \u001b[0mtz\u001b[0m\u001b[0;34m=\u001b[0m\u001b[0mgetattr\u001b[0m\u001b[0;34m(\u001b[0m\u001b[0mseries\u001b[0m\u001b[0;34m.\u001b[0m\u001b[0mdtype\u001b[0m\u001b[0;34m,\u001b[0m \u001b[0;34m\"tz\"\u001b[0m\u001b[0;34m,\u001b[0m \u001b[0;32mNone\u001b[0m\u001b[0;34m)\u001b[0m\u001b[0;34m)\u001b[0m\u001b[0;34m\u001b[0m\u001b[0;34m\u001b[0m\u001b[0m\n\u001b[0m\u001b[1;32m   4731\u001b[0m         \u001b[0;32mexcept\u001b[0m \u001b[0mKeyError\u001b[0m \u001b[0;32mas\u001b[0m \u001b[0me1\u001b[0m\u001b[0;34m:\u001b[0m\u001b[0;34m\u001b[0m\u001b[0;34m\u001b[0m\u001b[0m\n\u001b[1;32m   4732\u001b[0m             \u001b[0;32mif\u001b[0m \u001b[0mlen\u001b[0m\u001b[0;34m(\u001b[0m\u001b[0mself\u001b[0m\u001b[0;34m)\u001b[0m \u001b[0;34m>\u001b[0m \u001b[0;36m0\u001b[0m \u001b[0;32mand\u001b[0m \u001b[0;34m(\u001b[0m\u001b[0mself\u001b[0m\u001b[0;34m.\u001b[0m\u001b[0mholds_integer\u001b[0m\u001b[0;34m(\u001b[0m\u001b[0;34m)\u001b[0m \u001b[0;32mor\u001b[0m \u001b[0mself\u001b[0m\u001b[0;34m.\u001b[0m\u001b[0mis_boolean\u001b[0m\u001b[0;34m(\u001b[0m\u001b[0;34m)\u001b[0m\u001b[0;34m)\u001b[0m\u001b[0;34m:\u001b[0m\u001b[0;34m\u001b[0m\u001b[0;34m\u001b[0m\u001b[0m\n",
      "\u001b[0;32mpandas/_libs/index.pyx\u001b[0m in \u001b[0;36mpandas._libs.index.IndexEngine.get_value\u001b[0;34m()\u001b[0m\n",
      "\u001b[0;32mpandas/_libs/index.pyx\u001b[0m in \u001b[0;36mpandas._libs.index.IndexEngine.get_value\u001b[0;34m()\u001b[0m\n",
      "\u001b[0;32mpandas/_libs/index.pyx\u001b[0m in \u001b[0;36mpandas._libs.index.IndexEngine.get_loc\u001b[0;34m()\u001b[0m\n",
      "\u001b[0;32mpandas/_libs/hashtable_class_helper.pxi\u001b[0m in \u001b[0;36mpandas._libs.hashtable.Int64HashTable.get_item\u001b[0;34m()\u001b[0m\n",
      "\u001b[0;32mpandas/_libs/hashtable_class_helper.pxi\u001b[0m in \u001b[0;36mpandas._libs.hashtable.Int64HashTable.get_item\u001b[0;34m()\u001b[0m\n",
      "\u001b[0;31mKeyError\u001b[0m: 8"
     ]
    }
   ],
   "source": [
    "#clean up dataframe with just ADTs\n",
    "ADT_lib=[\"Leuprolide\",\"Degarelix\",\"Goserelin\",\"Triptorelin\",\"Histrelin\"]\n",
    "\n",
    "for ind in df2.index:\n",
    "    if (df2['generic_drug_name'][ind] not in ADT_lib): \n",
    "        print(ind,'n')\n",
    "        df2.drop(df2.index[ind],inplace=True)"
   ]
  },
  {
   "cell_type": "code",
   "execution_count": null,
   "metadata": {},
   "outputs": [],
   "source": [
    "for ind in df2.index:\n",
    "    if (df2['generic_drug_name'][ind] not in ADT_lib): \n",
    "        print(ind,'n')\n",
    "        df2.drop(df2.index[ind],inplace=True)"
   ]
  },
  {
   "cell_type": "code",
   "execution_count": null,
   "metadata": {},
   "outputs": [],
   "source": [
    "df2.drop(df2.index[6],inplace=True)"
   ]
  },
  {
   "cell_type": "code",
   "execution_count": 325,
   "metadata": {},
   "outputs": [
    {
     "data": {
      "text/plain": [
       "Int64Index([0, 1, 2, 3, 4, 5, 7, 9], dtype='int64')"
      ]
     },
     "execution_count": 325,
     "metadata": {},
     "output_type": "execute_result"
    }
   ],
   "source": [
    "df2.index"
   ]
  },
  {
   "cell_type": "code",
   "execution_count": null,
   "metadata": {},
   "outputs": [],
   "source": [
    "ADT_lib=[\"Leuprolide\",\"Degarelix\",\"Goserelin\",\"Triptorelin\",\"Histrelin\"]"
   ]
  },
  {
   "cell_type": "code",
   "execution_count": null,
   "metadata": {},
   "outputs": [],
   "source": [
    "df2['generic_drug_name'][0] in ADT_lib"
   ]
  },
  {
   "cell_type": "code",
   "execution_count": null,
   "metadata": {},
   "outputs": [],
   "source": [
    "#for each pt, each drug, put all \n",
    "#step1,\n",
    "\n",
    "#merge for each pt, each use of drug, medtable and notes records for start and end dates\n",
    "df2 = pd.DataFrame() \n",
    "for ind in df1.index:\n",
    "    if (df1['source'][ind]=='Medtable' and df1['start_date'][ind] !='Null'): \n",
    "        #df1.drop(index=ind)\n",
    "        startDay= df1['start_date'][ind]\n",
    "        else \n",
    "\n"
   ]
  },
  {
   "cell_type": "code",
   "execution_count": null,
   "metadata": {},
   "outputs": [],
   "source": [
    "start"
   ]
  },
  {
   "cell_type": "code",
   "execution_count": null,
   "metadata": {},
   "outputs": [],
   "source": [
    "s1.str.isnumeric()"
   ]
  }
 ],
 "metadata": {
  "kernelspec": {
   "display_name": "Python 3",
   "language": "python",
   "name": "python3"
  },
  "language_info": {
   "codemirror_mode": {
    "name": "ipython",
    "version": 3
   },
   "file_extension": ".py",
   "mimetype": "text/x-python",
   "name": "python",
   "nbconvert_exporter": "python",
   "pygments_lexer": "ipython3",
   "version": "3.7.4"
  }
 },
 "nbformat": 4,
 "nbformat_minor": 2
}
