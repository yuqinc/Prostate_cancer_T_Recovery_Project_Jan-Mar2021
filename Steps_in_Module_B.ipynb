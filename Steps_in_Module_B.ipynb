{
 "cells": [
  {
   "cell_type": "markdown",
   "metadata": {},
   "source": [
    "# README.md\n",
    "\n",
    "# Research question: What’s the initial ADT use time window for each pt? "
   ]
  },
  {
   "cell_type": "markdown",
   "metadata": {},
   "source": [
    "## Table of Contents\n",
    "* [Read data, clean up and get stats](#first-bullet)\n",
    "* [#Get the numbers of deleted, reviewed and added lines from the chart review](#second-bullet)\n",
    "* [# Grouped by person Id](#third-bullet)\n",
    "* [#Iterate, plot windows, save csv](#fourth-bullet)\n",
    "* [# plot start date; plot inital adt window](#fifth-bullet)"
   ]
  },
  {
   "cell_type": "code",
   "execution_count": null,
   "metadata": {},
   "outputs": [],
   "source": [
    "import numpy as np\n",
    "import pandas as pd\n",
    "import sys, getopt\n",
    "import csv\n",
    "from datetime import datetime\n",
    "import itertools\n",
    "\n",
    "from matplotlib import pyplot\n",
    "from pylab import *\n",
    "import matplotlib.pyplot as plt\n",
    "\n",
    "%matplotlib inline  \n",
    "import seaborn as sns"
   ]
  },
  {
   "cell_type": "markdown",
   "metadata": {},
   "source": [
    "# Read data, clean up and get stats <a class=\"anchor\" id=\"first-bullet\"></a>"
   ]
  },
  {
   "cell_type": "code",
   "execution_count": null,
   "metadata": {
    "scrolled": true
   },
   "outputs": [],
   "source": [
    "df1=pd.read_excel(\"../A3test.xls\", header=0)"
   ]
  },
  {
   "cell_type": "code",
   "execution_count": null,
   "metadata": {
    "scrolled": true
   },
   "outputs": [],
   "source": [
    "df1[:5]"
   ]
  },
  {
   "cell_type": "code",
   "execution_count": null,
   "metadata": {
    "scrolled": true
   },
   "outputs": [],
   "source": [
    "index_list=df1.columns\n",
    "index_list"
   ]
  },
  {
   "cell_type": "code",
   "execution_count": null,
   "metadata": {},
   "outputs": [],
   "source": [
    "#delete empty columns\n",
    "\n",
    "print(df1.shape)\n",
    "del_col=['evidence', 'match_string',\n",
    "       'start_year', 'start_month', 'start_day', 'end_year', 'end_month',\n",
    "       'end_day', 'imputed_stage','reason', 'Unnamed: 16', 'Unnamed: 17', 'Unnamed: 18', 'Unnamed: 19']\n",
    "\n",
    "for col in del_col:\n",
    "    del df1[col]\n",
    "print(df1.shape)"
   ]
  },
  {
   "cell_type": "code",
   "execution_count": null,
   "metadata": {},
   "outputs": [],
   "source": [
    "#change person_id to int\n",
    "df1['person_id']=df1['person_id'].values.astype(int)"
   ]
  },
  {
   "cell_type": "code",
   "execution_count": null,
   "metadata": {},
   "outputs": [],
   "source": [
    "#df_test=df1[(df1[\"start_date\"] == \"may-2014\")]\n",
    "#df_test"
   ]
  },
  {
   "cell_type": "code",
   "execution_count": null,
   "metadata": {},
   "outputs": [],
   "source": [
    "#value=df1.at[483,\"start_date\"]\n",
    "#print(value)\n",
    "#df1.at[483,\"start_date\"]=\"2014-05-01 00:00:00\"\n",
    "#value=df1.at[483,\"start_date\"]\n",
    "#print(value)"
   ]
  },
  {
   "cell_type": "code",
   "execution_count": null,
   "metadata": {
    "scrolled": true
   },
   "outputs": [],
   "source": [
    "df1[:5]"
   ]
  },
  {
   "cell_type": "code",
   "execution_count": null,
   "metadata": {},
   "outputs": [],
   "source": [
    "#remove empty cells \n",
    "df1['comment'].replace('', np.nan, inplace=True)\n",
    "df1.dropna(subset=['comment'], inplace=True)\n",
    "df1['start_date'].replace(u'\\xa0', u'', inplace=True)\n",
    "df1['end_date'].replace(u'\\xa0', u'', inplace=True)\n",
    "df1['start_date'].replace('', np.nan, inplace=True)\n",
    "df1['end_date'].replace('', np.nan, inplace=True)"
   ]
  },
  {
   "cell_type": "code",
   "execution_count": null,
   "metadata": {},
   "outputs": [],
   "source": [
    "#print(df1.shape)\n",
    "#df1.to_csv(r'check.csv', index = False)"
   ]
  },
  {
   "cell_type": "code",
   "execution_count": null,
   "metadata": {},
   "outputs": [],
   "source": [
    "#found out the number of pts\n",
    "df_ptinfo=df1.groupby([\"person_id\"]).size().reset_index(name='counts')\n",
    "print(df_ptinfo.shape)"
   ]
  },
  {
   "cell_type": "markdown",
   "metadata": {},
   "source": [
    "# Get the numbers of deleted, reviewed and added lines from the chart review <a class=\"anchor\" id=\"second-bullet\"></a> "
   ]
  },
  {
   "cell_type": "code",
   "execution_count": null,
   "metadata": {},
   "outputs": [],
   "source": [
    "deleted_list=[]\n",
    "reviewed_list=[]\n",
    "added_list=[]\n",
    "\n",
    "for ind in df1.index:\n",
    "    if (df1['comment'][ind]=='deleted'): \n",
    "        deleted_list.append(ind)  \n",
    "    if (df1['comment'][ind]=='reviewed'): \n",
    "        reviewed_list.append(ind)  \n",
    "    if (df1['comment'][ind]=='added'): \n",
    "        added_list.append(ind)  "
   ]
  },
  {
   "cell_type": "code",
   "execution_count": null,
   "metadata": {
    "scrolled": true
   },
   "outputs": [],
   "source": [
    "total_lines=len(deleted_list)+len(reviewed_list)+len(added_list)\n",
    "\n",
    "print(\"Total number lines is: \" +str(total_lines))\n",
    "print(\"Number of deleted lines is: \" +str(len(deleted_list)),  \"; Percentage is \"  +str(100*round(len(deleted_list)/total_lines,3)))\n",
    "print(\"Number of reviewed lines is: \" +str(len(reviewed_list)), \"; Percentage is \" +str(100*round(len(reviewed_list)/total_lines,1)))\n",
    "print(\"Number of added lines is: \" +str(len(added_list)),   \"; Percentage is \"     +str(100*round(len(added_list)/total_lines,3)))"
   ]
  },
  {
   "cell_type": "code",
   "execution_count": null,
   "metadata": {
    "scrolled": true
   },
   "outputs": [],
   "source": [
    "###delete the lines that has deleted in the column \"comment\"\n",
    "print(df1.shape)\n",
    "for ind in deleted_list:\n",
    "    df1.drop(index=ind,inplace=True)\n",
    "print(df1.shape)"
   ]
  },
  {
   "cell_type": "code",
   "execution_count": null,
   "metadata": {},
   "outputs": [],
   "source": [
    "###Keep only the ones that are ADTs\n",
    "ADT_lib=[\"Leuprolide\", \"Degarelix\", \"Goserelin\", \"Triptorelin\", \"Histrelin\"]\n",
    "not_adt_list=[]\n",
    "\n",
    "#get the list\n",
    "for ind in df1.index:\n",
    "    if (df1['generic_drug_name'][ind] not in ADT_lib): \n",
    "        not_adt_list.append(ind) \n",
    "        \n",
    "#delete the lines in the list\n",
    "for ind in not_adt_list:\n",
    "    df1.drop(index=ind,inplace=True)\n",
    "    \n",
    "print(\"Number of lines with a non ADT drug is \", len(not_adt_list))\n",
    "print(\"shape of cleaned dataframe\")\n",
    "print(df1.shape)\n",
    "df1.reset_index()"
   ]
  },
  {
   "cell_type": "code",
   "execution_count": null,
   "metadata": {},
   "outputs": [],
   "source": [
    "##check column start_date, end_date time format is correct\n",
    "#for i in df1.index:\n",
    "    #print(pd.to_datetime(df1['start_date'][i], format='%d-%b-%Y'))"
   ]
  },
  {
   "cell_type": "code",
   "execution_count": null,
   "metadata": {},
   "outputs": [],
   "source": [
    "###crosscheck\n",
    "#not_adt_list\n",
    "###spotcheck \n",
    "test2 = df1[(df1[\"person_id\"] == 36062)]\n",
    "test2"
   ]
  },
  {
   "cell_type": "code",
   "execution_count": null,
   "metadata": {},
   "outputs": [],
   "source": [
    "df1[240:250]"
   ]
  },
  {
   "cell_type": "markdown",
   "metadata": {},
   "source": [
    "# Group by person_id<a class=\"anchor\" id=\"third-bullet\"></a>"
   ]
  },
  {
   "cell_type": "code",
   "execution_count": null,
   "metadata": {},
   "outputs": [],
   "source": [
    "df2=df1.groupby([\"person_id\"]).size().reset_index(name='counts')"
   ]
  },
  {
   "cell_type": "code",
   "execution_count": null,
   "metadata": {},
   "outputs": [],
   "source": [
    "df2"
   ]
  },
  {
   "cell_type": "code",
   "execution_count": null,
   "metadata": {},
   "outputs": [],
   "source": [
    "df2.reset_index\n",
    "df2.shape"
   ]
  },
  {
   "cell_type": "code",
   "execution_count": null,
   "metadata": {},
   "outputs": [],
   "source": [
    "df2.index\n",
    "df2['index1'] = df2.index"
   ]
  },
  {
   "cell_type": "code",
   "execution_count": null,
   "metadata": {},
   "outputs": [],
   "source": [
    "df2.columns"
   ]
  },
  {
   "cell_type": "code",
   "execution_count": null,
   "metadata": {},
   "outputs": [],
   "source": [
    "df2[['index1','counts']]"
   ]
  },
  {
   "cell_type": "code",
   "execution_count": null,
   "metadata": {},
   "outputs": [],
   "source": [
    "sns.set_style(\"darkgrid\")\n",
    "sns.set_context(\"poster\", font_scale=1.2, rc={\"lines.linewidth\": 2})\n",
    "\n",
    "ax = df2.plot.bar(x='index1', y='counts', width=0.8, color='grey', rot=90, title =\"LoT\", figsize=(35, 5), legend=True, fontsize=12)\n",
    "\n",
    "plt.tick_params(axis='x', labelsize=25)\n",
    "plt.tick_params(axis='y', labelsize=25)\n",
    "ax.set_xticks(np.arange(0, len(df2.index)+1, 5))\n",
    "ax.set_xticklabels(np.arange(0, len(df2.index)+1, 5))\n",
    "plt.xlabel(\"Person ID\", fontsize=30, fontweight=\"bold\")\n",
    "plt.ylabel(\"Counts\", fontsize=30,fontweight=\"bold\")\n",
    "plt.legend(\"\")\n",
    "plt.title(\"Rows of info per pt\",fontsize=30,fontweight=\"bold\")\n",
    "#ax = df2[['index1'],['counts']].plot(kind='bar', title =\"LoT\", figsize=(30, 10), legend=True, fontsize=12)"
   ]
  },
  {
   "cell_type": "code",
   "execution_count": null,
   "metadata": {},
   "outputs": [],
   "source": [
    "#get the list of pts with max numbers of entries recording ADT usage\n",
    "df2[\"counts\"].max()\n",
    "df2[(df2[\"counts\"] == 6)]"
   ]
  },
  {
   "cell_type": "code",
   "execution_count": null,
   "metadata": {},
   "outputs": [],
   "source": [
    "df2[(df2[\"counts\"] == 6)]"
   ]
  },
  {
   "cell_type": "code",
   "execution_count": null,
   "metadata": {},
   "outputs": [],
   "source": [
    "##check\n",
    "df1[(df1[\"person_id\"] == 27966)]"
   ]
  },
  {
   "cell_type": "code",
   "execution_count": null,
   "metadata": {},
   "outputs": [],
   "source": [
    "y=27966\n",
    "\n",
    "df_pt=df1[(df1[\"person_id\"] == y)]\n",
    "each_pt_drug_start = df_pt['start_date'].to_list()\n",
    "each_pt_drug_end = df_pt['end_date'].to_list()"
   ]
  },
  {
   "cell_type": "code",
   "execution_count": null,
   "metadata": {},
   "outputs": [],
   "source": [
    "each_pt_drug_start"
   ]
  },
  {
   "cell_type": "code",
   "execution_count": null,
   "metadata": {},
   "outputs": [],
   "source": [
    "##get rid of nan\n",
    "cleaned_a= [x for x in each_pt_drug_start if str(x) != 'NaN']\n",
    "cleaned_aa= [x for x in cleaned_a if str(x) != 'nan']\n",
    "\n",
    "cleaned_b= [x for x in each_pt_drug_end if str(x) != 'NaN']\n",
    "cleaned_bb= [x for x in cleaned_b if str(x) != 'nan']\n",
    "\n",
    "##get the date format right\n",
    "#startdatebin=[datetime.fromisoformat(str(x)) for x in cleaned_aa]\n",
    "#enddatebin=[datetime.fromisoformat(str(x)) for x in cleaned_bb]\n",
    "\n",
    "#sort \n",
    "#start_sorted_bin=sorted(startdatebin)\n",
    "#end_sorted_bin=sorted(enddatebin)\n",
    "start_sorted_bin=sorted(cleaned_aa)\n",
    "end_sorted_bin=sorted(cleaned_bb)"
   ]
  },
  {
   "cell_type": "code",
   "execution_count": null,
   "metadata": {},
   "outputs": [],
   "source": [
    "start_with_2round=[]\n",
    "start_with_1round=[]\n",
    "\n",
    "#for a,b in itertools.combinations(list, 2):\n",
    "    #print((str(a),str(b)))\n",
    "a=start_sorted_bin[0]\n",
    "\n",
    "for b in start_sorted_bin:\n",
    "#find all adt starting dates after 6months of inital starting    \n",
    "    if float(abs(a-b).days)>182.5:\n",
    "        start_with_2round.append(a)\n",
    "        start_with_2round.append(b)\n",
    "    else:\n",
    "        start_with_1round.append(a) \n",
    "#cleanup \n",
    "start_with_2round=start_with_2round[:2]\n",
    "\n",
    "#get rid of repeated capturing for one round\n",
    "cleanlist = []\n",
    "for i in start_with_1round:\n",
    "    if i not in cleanlist:\n",
    "        cleanlist.append(i)\n",
    "start_with_1round=cleanlist"
   ]
  },
  {
   "cell_type": "code",
   "execution_count": null,
   "metadata": {},
   "outputs": [],
   "source": [
    "if len(start_with_2round)==2:\n",
    "    print(start_with_2round)\n",
    "if (len(start_with_2round)<2) and (len(start_with_1round)==1):\n",
    "    print(start_with_1round)"
   ]
  },
  {
   "cell_type": "code",
   "execution_count": null,
   "metadata": {},
   "outputs": [],
   "source": [
    "enddateall=[]\n",
    "enddate=[]\n",
    "\n",
    "for i in end_sorted_bin:\n",
    "#at least two rounds of ADTs\n",
    "    if len(start_with_2round)==2:\n",
    "        if(i>sorted(start_with_2round)[0]) and (i<sorted(start_with_2round)[1]):\n",
    "            startdate=sorted(start_with_2round)[0]\n",
    "            enddateall.append(i)\n",
    "        #pick the one that is most close to the 2nd adt starting date\n",
    "        enddate=enddateall[-1]\n",
    "        \n",
    "#only one round           \n",
    "    if (len(start_with_2round)<2) and (len(start_with_1round)==1):\n",
    "        if(i>sorted(start_with_1round)[0]):\n",
    "            startdate=start_with_1round[0]\n",
    "            enddateall.append(i)  \n",
    "        enddate=enddateall[0]\n",
    "\n",
    "print(y, startdate, enddate, enddate-startdate)"
   ]
  },
  {
   "cell_type": "markdown",
   "metadata": {},
   "source": [
    "# iterate, plot windows, save csv <a class=\"anchor\" id=\"fourth-bullet\"></a>"
   ]
  },
  {
   "cell_type": "code",
   "execution_count": null,
   "metadata": {},
   "outputs": [],
   "source": [
    "#get the list of pt ids\n",
    "list_pts=df2[\"person_id\"].to_list()\n",
    "#list_pts"
   ]
  },
  {
   "cell_type": "code",
   "execution_count": null,
   "metadata": {},
   "outputs": [],
   "source": [
    "#for i in list_pts:\n",
    "for y in [27966,30455,19566,36062]:    \n",
    "    #subset the dataframe to each pt\n",
    "    #get start dates and end dates to lists\n",
    "    df_pt=df1[(df1[\"person_id\"] == y)]\n",
    "    \n",
    "    each_pt_drug_start = df_pt['start_date'].to_list()\n",
    "    each_pt_drug_end = df_pt['end_date'].to_list()\n",
    "\n",
    "    ##get rid of nan\n",
    "    cleaned_a= [x for x in each_pt_drug_start if str(x) != 'NaN']\n",
    "    cleaned_aa= [x for x in cleaned_a if str(x) != 'nan']\n",
    "\n",
    "    cleaned_b= [x for x in each_pt_drug_end if str(x) != 'NaN']\n",
    "    cleaned_bb= [x for x in cleaned_b if str(x) != 'nan']\n",
    "\n",
    "    ##get the date format right\n",
    "    #startdatebin=[datetime.fromisoformat(str(x)) for x in cleaned_aa]\n",
    "    #enddatebin=[datetime.fromisoformat(str(x)) for x in cleaned_bb]\n",
    "\n",
    "    #sort \n",
    "    start_sorted_bin=sorted(cleaned_aa)\n",
    "    end_sorted_bin=sorted(cleaned_bb)\n",
    "    \n",
    "    start_with_2round=[]\n",
    "    start_with_1round=[]\n",
    "    a=start_sorted_bin[0]\n",
    "\n",
    "    for b in start_sorted_bin:\n",
    "    #find all adt starting dates after 6months of inital starting    \n",
    "        if float(abs(a-b).days)>182.5:\n",
    "            start_with_2round.append(a)\n",
    "            start_with_2round.append(b)\n",
    "        else:\n",
    "            start_with_1round.append(a) \n",
    "    #cleanup \n",
    "    start_with_2round=start_with_2round[:2]\n",
    "\n",
    "    #get rid of repeated capturing for one round\n",
    "    cleanlist = []\n",
    "    for i in start_with_1round:\n",
    "        if i not in cleanlist:\n",
    "            cleanlist.append(i)\n",
    "    start_with_1round=cleanlist\n",
    "    \n",
    "    enddateall=[]\n",
    "    enddate=[]\n",
    "\n",
    "    for i in end_sorted_bin:\n",
    "    #at least two rounds of ADTs\n",
    "        if len(start_with_2round)==2:\n",
    "            if(i>sorted(start_with_2round)[0]) and (i<sorted(start_with_2round)[1]):\n",
    "                startdate=sorted(start_with_2round)[0]\n",
    "                enddateall.append(i)\n",
    "            #pick the one that is most close to the 2nd adt starting date\n",
    "            enddate=enddateall[-1]\n",
    "        \n",
    "    #only one round           \n",
    "        if (len(start_with_2round)<2) and (len(start_with_1round)==1):\n",
    "            if(i>sorted(start_with_1round)[0]):\n",
    "                startdate=start_with_1round[0]\n",
    "                enddateall.append(i)  \n",
    "            enddate=enddateall[0]\n",
    "\n",
    "    #print(y, startdate, enddate, enddate-startdate)"
   ]
  },
  {
   "cell_type": "markdown",
   "metadata": {},
   "source": [
    "# plot start date; plot inital adt window <a class=\"anchor\" id=\"fifth-bullet\"></a>"
   ]
  },
  {
   "cell_type": "code",
   "execution_count": null,
   "metadata": {},
   "outputs": [],
   "source": [
    "df_pt=df1[(df1[\"person_id\"]==18)]\n",
    "df_pt"
   ]
  },
  {
   "cell_type": "code",
   "execution_count": null,
   "metadata": {},
   "outputs": [],
   "source": [
    "result_list=[]\n",
    "for y in list_pts:    \n",
    "\n",
    "    #subset the dataframe to each pt\n",
    "    #get start dates and end dates to lists\n",
    "    df_pt=df1[(df1[\"person_id\"] == y)]\n",
    "    \n",
    "    each_pt_drug_start = df_pt['start_date'].to_list()\n",
    "    each_pt_drug_end = df_pt['end_date'].to_list()\n",
    "\n",
    "    ##get rid of nan\n",
    "    cleaned_a= [x for x in each_pt_drug_start if str(x) != 'NaN']\n",
    "    cleaned_aa= [x for x in cleaned_a if str(x) != 'nan']\n",
    "\n",
    "    cleaned_b= [x for x in each_pt_drug_end if str(x) != 'NaN']\n",
    "    cleaned_bb= [x for x in cleaned_b if str(x) != 'nan']\n",
    "    \n",
    "    ##get the date format right\n",
    "    #startdatebin=[datetime.fromisoformat(str(x)) for x in cleaned_aa]\n",
    "    #enddatebin=[datetime.fromisoformat(str(x)) for x in cleaned_bb]\n",
    "\n",
    "    #sort \n",
    "    start_sorted_bin=sorted(cleaned_aa)\n",
    "    end_sorted_bin=sorted(cleaned_bb)\n",
    "    \n",
    "    start_with_2round=[]\n",
    "    start_with_1round=[]\n",
    "    if(len(start_sorted_bin)>0):\n",
    "        a=start_sorted_bin[0]\n",
    "    else:\n",
    "        startdate='NaN'\n",
    "\n",
    "    for b in start_sorted_bin:\n",
    "    #find all adt starting dates after 6months of inital starting    \n",
    "        if float(abs(a-b).days)>182.5:\n",
    "            start_with_2round.append(a)\n",
    "            start_with_2round.append(b)\n",
    "        else:\n",
    "            start_with_1round.append(a) \n",
    "    #cleanup \n",
    "    start_with_2round=start_with_2round[:2]\n",
    "\n",
    "    #get rid of repeated capturing for one round\n",
    "    cleanlist = []\n",
    "    for i in start_with_1round:\n",
    "        if i not in cleanlist:\n",
    "            cleanlist.append(i)\n",
    "    start_with_1round=cleanlist\n",
    "    \n",
    "    enddateall=[]\n",
    "\n",
    "    for i in end_sorted_bin:\n",
    "    #at least two rounds of ADTs\n",
    "        if len(start_with_2round)==2:\n",
    "            if(i>=sorted(start_with_2round)[0]) and (i<=sorted(start_with_2round)[1]):\n",
    "                startdate=sorted(start_with_2round)[0]\n",
    "                enddateall.append(i)\n",
    "            #pick the one that is most close to the 2nd adt starting date\n",
    "            if len(enddateall) == 0:\n",
    "                enddate='NaN' \n",
    "            else:\n",
    "                enddate=enddateall[-1]\n",
    "            \n",
    "            #when there are end dates that are later than the end of the intial adt usage\n",
    "            if(i>sorted(start_with_2round)[0]) and (i>sorted(start_with_2round)[1]) and (len(enddateall) == 0):\n",
    "                startdate=sorted(start_with_2round)[0]\n",
    "                enddate='NaN'\n",
    "                #leave it as empty\n",
    "        \n",
    "    #only one round           \n",
    "        if (len(start_with_2round)<2) and (len(start_with_1round)==1):\n",
    "            if(i>=sorted(start_with_1round)[0]):\n",
    "                startdate=start_with_1round[0]\n",
    "                enddateall.append(i)\n",
    "            if len(enddateall) == 0:\n",
    "                enddate='NaN' \n",
    "            else:\n",
    "                enddate=enddateall[-1]\n",
    "    #print(y, startdate, enddate)\n",
    "    result_per_pt=[y,startdate, enddate]\n",
    "    result_list.append(result_per_pt)"
   ]
  },
  {
   "cell_type": "code",
   "execution_count": null,
   "metadata": {},
   "outputs": [],
   "source": [
    "df_results=pd.DataFrame(result_list)\n",
    "df_results.columns=(['person_id', 'inital_ADT_start_date', 'inital_ADT_end_date'])"
   ]
  },
  {
   "cell_type": "code",
   "execution_count": null,
   "metadata": {},
   "outputs": [],
   "source": [
    "df_results"
   ]
  },
  {
   "cell_type": "code",
   "execution_count": null,
   "metadata": {},
   "outputs": [],
   "source": [
    "#create a column for the time window \n",
    "df_results['Inital_ADT_timewindow'] = df_results['inital_ADT_end_date'] - df_results['inital_ADT_start_date']"
   ]
  },
  {
   "cell_type": "code",
   "execution_count": null,
   "metadata": {},
   "outputs": [],
   "source": [
    "#create a column for the time window \n",
    "df_results['Inital_ADT_timewindow'] = df_results['inital_ADT_end_date'] - df_results['inital_ADT_start_date']\n",
    "#create a column for the inital adt use window as days\n",
    "df_results['Inital_ADT_time_window_days']=df_results['Inital_ADT_timewindow'].dt.days"
   ]
  },
  {
   "cell_type": "code",
   "execution_count": null,
   "metadata": {},
   "outputs": [],
   "source": [
    "df_results\n",
    "df_results['index1'] = df_results.index\n",
    "df_results"
   ]
  },
  {
   "cell_type": "code",
   "execution_count": null,
   "metadata": {},
   "outputs": [],
   "source": [
    "sns.set_style(\"darkgrid\")\n",
    "sns.set_context(\"poster\", font_scale=1.2, rc={\"lines.linewidth\": 2})\n",
    "\n",
    "ax = df_results.plot.bar(x='index1', y='Inital_ADT_time_window_days', width=0.8, color='pink', rot=90, figsize=(35, 5), legend=True, fontsize=12)\n",
    "\n",
    "plt.tick_params(axis='x', labelsize=25)\n",
    "plt.tick_params(axis='y', labelsize=25)\n",
    "\n",
    "ax.set_xticks(np.arange(0, len(df_results.index)+1, 5))\n",
    "ax.set_xticklabels(np.arange(0, len(df_results.index)+1, 5))\n",
    "\n",
    "plt.xlabel(\"Patient count\", fontsize=30, fontweight=\"bold\")\n",
    "plt.ylabel(\"Time (days)\", fontsize=30,fontweight=\"bold\")\n",
    "plt.legend(\"\")\n",
    "plt.title(\"Inital ADT Use Duration\",fontsize=30,fontweight=\"bold\" )\n",
    "#ax = df2[['index1'],['counts']].plot(kind='bar', title =\"LoT\", figsize=(30, 10), legend=True, fontsize=12)"
   ]
  },
  {
   "cell_type": "code",
   "execution_count": null,
   "metadata": {},
   "outputs": [],
   "source": [
    "## sns.set_style(\"darkgrid\")\n",
    "sns.set_context(\"poster\", font_scale=0.8, rc={\"lines.linewidth\": 2})\n",
    "binsize=240\n",
    "\n",
    "bins=np.arange(0, 1500, binsize)\n",
    "fig, ax = plt.subplots(figsize = (15,5))\n",
    "\n",
    "#n=df_results['Inital_ADT_time_window_days'].plot(kind = \"hist\", bins=bins, color=\"purple\", alpha=0.5)\n",
    "(n, bins, patches) = plt.hist(df_results['Inital_ADT_time_window_days'], bins=bins,color=\"purple\", alpha=0.4)\n",
    "\n",
    "#decorate\n",
    "plt.title(\"Bin Size=\"+ str(binsize) +\" days\")\n",
    "plt.xlabel(\"Days\", fontsize=20, fontweight=\"bold\",color=\"gray\")\n",
    "plt.ylabel(\"Population\", fontsize=20,fontweight=\"bold\", color=\"gray\")\n",
    "\n",
    "ax.set_xticks(np.arange(0, 1501, 180))\n",
    "ax.set_xticklabels(np.arange(0, 1501, 180))\n",
    "\n",
    "# plot the label/text to each bin\n",
    "for i in range(0, len(n)):\n",
    "    x_pos = (bins[i + 1] - bins[i])/4 + bins[i]\n",
    "    y_pos = n[i] + 0.5\n",
    "    label = str(int(n[i])) # relative frequency of each bin\n",
    "    ax.text(x_pos, y_pos, label,fontsize=16,fontweight=\"bold\",color=\"gray\" )\n",
    "    ax.xaxis.tick_bottom()"
   ]
  },
  {
   "cell_type": "code",
   "execution_count": null,
   "metadata": {},
   "outputs": [],
   "source": [
    "#fig, axs = plt.subplots(1, 2, sharey=True, tight_layout=True)"
   ]
  },
  {
   "cell_type": "code",
   "execution_count": null,
   "metadata": {},
   "outputs": [],
   "source": [
    "bins=np.arange(0, 1500, 90)\n",
    "bins"
   ]
  },
  {
   "cell_type": "code",
   "execution_count": null,
   "metadata": {},
   "outputs": [],
   "source": [
    "n"
   ]
  },
  {
   "cell_type": "code",
   "execution_count": null,
   "metadata": {},
   "outputs": [],
   "source": [
    "df_results.to_csv(\"Inital_ADT_use_time_window.csv\", encoding='utf-8', index=False)"
   ]
  }
 ],
 "metadata": {
  "kernelspec": {
   "display_name": "Python 3",
   "language": "python",
   "name": "python3"
  },
  "language_info": {
   "codemirror_mode": {
    "name": "ipython",
    "version": 3
   },
   "file_extension": ".py",
   "mimetype": "text/x-python",
   "name": "python",
   "nbconvert_exporter": "python",
   "pygments_lexer": "ipython3",
   "version": "3.7.4"
  }
 },
 "nbformat": 4,
 "nbformat_minor": 2
}
